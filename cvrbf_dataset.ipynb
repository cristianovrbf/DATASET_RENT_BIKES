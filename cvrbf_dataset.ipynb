{
  "nbformat": 4,
  "nbformat_minor": 0,
  "metadata": {
    "colab": {
      "provenance": []
    },
    "kernelspec": {
      "name": "python3",
      "display_name": "Python 3"
    },
    "language_info": {
      "name": "python"
    }
  },
  "cells": [
    {
      "cell_type": "code",
      "execution_count": null,
      "metadata": {
        "id": "aM6abZXny9hC"
      },
      "outputs": [],
      "source": [
        "import pandas as pd\n",
        "import numpy as np\n"
      ]
    },
    {
      "cell_type": "code",
      "source": [
        "from google.colab import drive\n",
        "drive.mount('/content/drive')"
      ],
      "metadata": {
        "id": "EtSfkWaWpgFR"
      },
      "execution_count": null,
      "outputs": []
    },
    {
      "cell_type": "code",
      "source": [
        "from google.colab import files\n",
        "uploaded = files.upload()"
      ],
      "metadata": {
        "colab": {
          "resources": {
            "http://localhost:8080/nbextensions/google.colab/files.js": {
              "data": "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",
              "ok": true,
              "headers": [
                [
                  "content-type",
                  "application/javascript"
                ]
              ],
              "status": 200,
              "status_text": ""
            }
          },
          "base_uri": "https://localhost:8080/",
          "height": 73
        },
        "id": "u9TTUiAOz02W",
        "outputId": "49cf5188-157e-4804-caba-45214e231df0"
      },
      "execution_count": null,
      "outputs": [
        {
          "output_type": "display_data",
          "data": {
            "text/plain": [
              "<IPython.core.display.HTML object>"
            ],
            "text/html": [
              "\n",
              "     <input type=\"file\" id=\"files-201645cc-8c3f-4da1-add5-4f6a1b21e4d4\" name=\"files[]\" multiple disabled\n",
              "        style=\"border:none\" />\n",
              "     <output id=\"result-201645cc-8c3f-4da1-add5-4f6a1b21e4d4\">\n",
              "      Upload widget is only available when the cell has been executed in the\n",
              "      current browser session. Please rerun this cell to enable.\n",
              "      </output>\n",
              "      <script src=\"/nbextensions/google.colab/files.js\"></script> "
            ]
          },
          "metadata": {}
        },
        {
          "output_type": "stream",
          "name": "stdout",
          "text": [
            "Saving Bikes.csv to Bikes (1).csv\n"
          ]
        }
      ]
    },
    {
      "cell_type": "code",
      "source": [
        "import io\n",
        "dataset = pd.read_csv(io.BytesIO(uploaded['Bikes.csv']))"
      ],
      "metadata": {
        "id": "G1Ulo5jP0Eug"
      },
      "execution_count": null,
      "outputs": []
    },
    {
      "cell_type": "code",
      "source": [
        "dataset.columns"
      ],
      "metadata": {
        "colab": {
          "base_uri": "https://localhost:8080/"
        },
        "id": "i0rk67ly0WU-",
        "outputId": "33059426-956b-4f21-ebe7-aeaed2a9a31e"
      },
      "execution_count": null,
      "outputs": [
        {
          "output_type": "execute_result",
          "data": {
            "text/plain": [
              "Index(['datetime', 'season', 'holiday', 'workingday', 'weathersit', 'temp',\n",
              "       'atemp', 'hum', 'windspeed', 'casual', 'registered', 'cnt'],\n",
              "      dtype='object')"
            ]
          },
          "metadata": {},
          "execution_count": 23
        }
      ]
    },
    {
      "cell_type": "code",
      "source": [
        "dataset.head()"
      ],
      "metadata": {
        "colab": {
          "base_uri": "https://localhost:8080/",
          "height": 206
        },
        "id": "hL6gvkaCpPsd",
        "outputId": "0df5b73d-7839-4a70-c946-5abebff9cccd"
      },
      "execution_count": null,
      "outputs": [
        {
          "output_type": "execute_result",
          "data": {
            "text/plain": [
              "              datetime  season  holiday  workingday  weathersit  temp  atemp  \\\n",
              "0  2011-01-01 00:00:00       1        0           0           1  24.0  28.79   \n",
              "1  2011-01-01 01:00:00       1        0           0           1  22.0  27.27   \n",
              "2  2011-01-01 02:00:00       1        0           0           1  22.0  27.27   \n",
              "3  2011-01-01 03:00:00       1        0           0           1  24.0  28.79   \n",
              "4  2011-01-01 04:00:00       1        0           0           1  24.0  28.79   \n",
              "\n",
              "    hum  windspeed  casual  registered  cnt  \n",
              "0  81.0        0.0       3          13   16  \n",
              "1  80.0        0.0       8          32   40  \n",
              "2  80.0        0.0       5          27   32  \n",
              "3  75.0        0.0       3          10   13  \n",
              "4  75.0        0.0       0           1    1  "
            ],
            "text/html": [
              "\n",
              "  <div id=\"df-6a9f6bba-814a-46d1-a739-e9e2127af4a8\">\n",
              "    <div class=\"colab-df-container\">\n",
              "      <div>\n",
              "<style scoped>\n",
              "    .dataframe tbody tr th:only-of-type {\n",
              "        vertical-align: middle;\n",
              "    }\n",
              "\n",
              "    .dataframe tbody tr th {\n",
              "        vertical-align: top;\n",
              "    }\n",
              "\n",
              "    .dataframe thead th {\n",
              "        text-align: right;\n",
              "    }\n",
              "</style>\n",
              "<table border=\"1\" class=\"dataframe\">\n",
              "  <thead>\n",
              "    <tr style=\"text-align: right;\">\n",
              "      <th></th>\n",
              "      <th>datetime</th>\n",
              "      <th>season</th>\n",
              "      <th>holiday</th>\n",
              "      <th>workingday</th>\n",
              "      <th>weathersit</th>\n",
              "      <th>temp</th>\n",
              "      <th>atemp</th>\n",
              "      <th>hum</th>\n",
              "      <th>windspeed</th>\n",
              "      <th>casual</th>\n",
              "      <th>registered</th>\n",
              "      <th>cnt</th>\n",
              "    </tr>\n",
              "  </thead>\n",
              "  <tbody>\n",
              "    <tr>\n",
              "      <th>0</th>\n",
              "      <td>2011-01-01 00:00:00</td>\n",
              "      <td>1</td>\n",
              "      <td>0</td>\n",
              "      <td>0</td>\n",
              "      <td>1</td>\n",
              "      <td>24.0</td>\n",
              "      <td>28.79</td>\n",
              "      <td>81.0</td>\n",
              "      <td>0.0</td>\n",
              "      <td>3</td>\n",
              "      <td>13</td>\n",
              "      <td>16</td>\n",
              "    </tr>\n",
              "    <tr>\n",
              "      <th>1</th>\n",
              "      <td>2011-01-01 01:00:00</td>\n",
              "      <td>1</td>\n",
              "      <td>0</td>\n",
              "      <td>0</td>\n",
              "      <td>1</td>\n",
              "      <td>22.0</td>\n",
              "      <td>27.27</td>\n",
              "      <td>80.0</td>\n",
              "      <td>0.0</td>\n",
              "      <td>8</td>\n",
              "      <td>32</td>\n",
              "      <td>40</td>\n",
              "    </tr>\n",
              "    <tr>\n",
              "      <th>2</th>\n",
              "      <td>2011-01-01 02:00:00</td>\n",
              "      <td>1</td>\n",
              "      <td>0</td>\n",
              "      <td>0</td>\n",
              "      <td>1</td>\n",
              "      <td>22.0</td>\n",
              "      <td>27.27</td>\n",
              "      <td>80.0</td>\n",
              "      <td>0.0</td>\n",
              "      <td>5</td>\n",
              "      <td>27</td>\n",
              "      <td>32</td>\n",
              "    </tr>\n",
              "    <tr>\n",
              "      <th>3</th>\n",
              "      <td>2011-01-01 03:00:00</td>\n",
              "      <td>1</td>\n",
              "      <td>0</td>\n",
              "      <td>0</td>\n",
              "      <td>1</td>\n",
              "      <td>24.0</td>\n",
              "      <td>28.79</td>\n",
              "      <td>75.0</td>\n",
              "      <td>0.0</td>\n",
              "      <td>3</td>\n",
              "      <td>10</td>\n",
              "      <td>13</td>\n",
              "    </tr>\n",
              "    <tr>\n",
              "      <th>4</th>\n",
              "      <td>2011-01-01 04:00:00</td>\n",
              "      <td>1</td>\n",
              "      <td>0</td>\n",
              "      <td>0</td>\n",
              "      <td>1</td>\n",
              "      <td>24.0</td>\n",
              "      <td>28.79</td>\n",
              "      <td>75.0</td>\n",
              "      <td>0.0</td>\n",
              "      <td>0</td>\n",
              "      <td>1</td>\n",
              "      <td>1</td>\n",
              "    </tr>\n",
              "  </tbody>\n",
              "</table>\n",
              "</div>\n",
              "      <button class=\"colab-df-convert\" onclick=\"convertToInteractive('df-6a9f6bba-814a-46d1-a739-e9e2127af4a8')\"\n",
              "              title=\"Convert this dataframe to an interactive table.\"\n",
              "              style=\"display:none;\">\n",
              "        \n",
              "  <svg xmlns=\"http://www.w3.org/2000/svg\" height=\"24px\"viewBox=\"0 0 24 24\"\n",
              "       width=\"24px\">\n",
              "    <path d=\"M0 0h24v24H0V0z\" fill=\"none\"/>\n",
              "    <path d=\"M18.56 5.44l.94 2.06.94-2.06 2.06-.94-2.06-.94-.94-2.06-.94 2.06-2.06.94zm-11 1L8.5 8.5l.94-2.06 2.06-.94-2.06-.94L8.5 2.5l-.94 2.06-2.06.94zm10 10l.94 2.06.94-2.06 2.06-.94-2.06-.94-.94-2.06-.94 2.06-2.06.94z\"/><path d=\"M17.41 7.96l-1.37-1.37c-.4-.4-.92-.59-1.43-.59-.52 0-1.04.2-1.43.59L10.3 9.45l-7.72 7.72c-.78.78-.78 2.05 0 2.83L4 21.41c.39.39.9.59 1.41.59.51 0 1.02-.2 1.41-.59l7.78-7.78 2.81-2.81c.8-.78.8-2.07 0-2.86zM5.41 20L4 18.59l7.72-7.72 1.47 1.35L5.41 20z\"/>\n",
              "  </svg>\n",
              "      </button>\n",
              "      \n",
              "  <style>\n",
              "    .colab-df-container {\n",
              "      display:flex;\n",
              "      flex-wrap:wrap;\n",
              "      gap: 12px;\n",
              "    }\n",
              "\n",
              "    .colab-df-convert {\n",
              "      background-color: #E8F0FE;\n",
              "      border: none;\n",
              "      border-radius: 50%;\n",
              "      cursor: pointer;\n",
              "      display: none;\n",
              "      fill: #1967D2;\n",
              "      height: 32px;\n",
              "      padding: 0 0 0 0;\n",
              "      width: 32px;\n",
              "    }\n",
              "\n",
              "    .colab-df-convert:hover {\n",
              "      background-color: #E2EBFA;\n",
              "      box-shadow: 0px 1px 2px rgba(60, 64, 67, 0.3), 0px 1px 3px 1px rgba(60, 64, 67, 0.15);\n",
              "      fill: #174EA6;\n",
              "    }\n",
              "\n",
              "    [theme=dark] .colab-df-convert {\n",
              "      background-color: #3B4455;\n",
              "      fill: #D2E3FC;\n",
              "    }\n",
              "\n",
              "    [theme=dark] .colab-df-convert:hover {\n",
              "      background-color: #434B5C;\n",
              "      box-shadow: 0px 1px 3px 1px rgba(0, 0, 0, 0.15);\n",
              "      filter: drop-shadow(0px 1px 2px rgba(0, 0, 0, 0.3));\n",
              "      fill: #FFFFFF;\n",
              "    }\n",
              "  </style>\n",
              "\n",
              "      <script>\n",
              "        const buttonEl =\n",
              "          document.querySelector('#df-6a9f6bba-814a-46d1-a739-e9e2127af4a8 button.colab-df-convert');\n",
              "        buttonEl.style.display =\n",
              "          google.colab.kernel.accessAllowed ? 'block' : 'none';\n",
              "\n",
              "        async function convertToInteractive(key) {\n",
              "          const element = document.querySelector('#df-6a9f6bba-814a-46d1-a739-e9e2127af4a8');\n",
              "          const dataTable =\n",
              "            await google.colab.kernel.invokeFunction('convertToInteractive',\n",
              "                                                     [key], {});\n",
              "          if (!dataTable) return;\n",
              "\n",
              "          const docLinkHtml = 'Like what you see? Visit the ' +\n",
              "            '<a target=\"_blank\" href=https://colab.research.google.com/notebooks/data_table.ipynb>data table notebook</a>'\n",
              "            + ' to learn more about interactive tables.';\n",
              "          element.innerHTML = '';\n",
              "          dataTable['output_type'] = 'display_data';\n",
              "          await google.colab.output.renderOutput(dataTable, element);\n",
              "          const docLink = document.createElement('div');\n",
              "          docLink.innerHTML = docLinkHtml;\n",
              "          element.appendChild(docLink);\n",
              "        }\n",
              "      </script>\n",
              "    </div>\n",
              "  </div>\n",
              "  "
            ]
          },
          "metadata": {},
          "execution_count": 24
        }
      ]
    },
    {
      "cell_type": "code",
      "source": [
        "dataset.drop(['datetime'], axis=1, inplace=True)\n",
        "dataset.head()"
      ],
      "metadata": {
        "colab": {
          "base_uri": "https://localhost:8080/",
          "height": 206
        },
        "id": "dvZlV1s82iTP",
        "outputId": "5242a40e-bb6c-48a7-b702-b668ea4ee4b7"
      },
      "execution_count": null,
      "outputs": [
        {
          "output_type": "execute_result",
          "data": {
            "text/plain": [
              "   season  holiday  workingday  weathersit  temp  atemp   hum  windspeed  \\\n",
              "0       1        0           0           1  24.0  28.79  81.0        0.0   \n",
              "1       1        0           0           1  22.0  27.27  80.0        0.0   \n",
              "2       1        0           0           1  22.0  27.27  80.0        0.0   \n",
              "3       1        0           0           1  24.0  28.79  75.0        0.0   \n",
              "4       1        0           0           1  24.0  28.79  75.0        0.0   \n",
              "\n",
              "   casual  registered  cnt  \n",
              "0       3          13   16  \n",
              "1       8          32   40  \n",
              "2       5          27   32  \n",
              "3       3          10   13  \n",
              "4       0           1    1  "
            ],
            "text/html": [
              "\n",
              "  <div id=\"df-62009c19-2628-4972-8abd-89a49204646e\">\n",
              "    <div class=\"colab-df-container\">\n",
              "      <div>\n",
              "<style scoped>\n",
              "    .dataframe tbody tr th:only-of-type {\n",
              "        vertical-align: middle;\n",
              "    }\n",
              "\n",
              "    .dataframe tbody tr th {\n",
              "        vertical-align: top;\n",
              "    }\n",
              "\n",
              "    .dataframe thead th {\n",
              "        text-align: right;\n",
              "    }\n",
              "</style>\n",
              "<table border=\"1\" class=\"dataframe\">\n",
              "  <thead>\n",
              "    <tr style=\"text-align: right;\">\n",
              "      <th></th>\n",
              "      <th>season</th>\n",
              "      <th>holiday</th>\n",
              "      <th>workingday</th>\n",
              "      <th>weathersit</th>\n",
              "      <th>temp</th>\n",
              "      <th>atemp</th>\n",
              "      <th>hum</th>\n",
              "      <th>windspeed</th>\n",
              "      <th>casual</th>\n",
              "      <th>registered</th>\n",
              "      <th>cnt</th>\n",
              "    </tr>\n",
              "  </thead>\n",
              "  <tbody>\n",
              "    <tr>\n",
              "      <th>0</th>\n",
              "      <td>1</td>\n",
              "      <td>0</td>\n",
              "      <td>0</td>\n",
              "      <td>1</td>\n",
              "      <td>24.0</td>\n",
              "      <td>28.79</td>\n",
              "      <td>81.0</td>\n",
              "      <td>0.0</td>\n",
              "      <td>3</td>\n",
              "      <td>13</td>\n",
              "      <td>16</td>\n",
              "    </tr>\n",
              "    <tr>\n",
              "      <th>1</th>\n",
              "      <td>1</td>\n",
              "      <td>0</td>\n",
              "      <td>0</td>\n",
              "      <td>1</td>\n",
              "      <td>22.0</td>\n",
              "      <td>27.27</td>\n",
              "      <td>80.0</td>\n",
              "      <td>0.0</td>\n",
              "      <td>8</td>\n",
              "      <td>32</td>\n",
              "      <td>40</td>\n",
              "    </tr>\n",
              "    <tr>\n",
              "      <th>2</th>\n",
              "      <td>1</td>\n",
              "      <td>0</td>\n",
              "      <td>0</td>\n",
              "      <td>1</td>\n",
              "      <td>22.0</td>\n",
              "      <td>27.27</td>\n",
              "      <td>80.0</td>\n",
              "      <td>0.0</td>\n",
              "      <td>5</td>\n",
              "      <td>27</td>\n",
              "      <td>32</td>\n",
              "    </tr>\n",
              "    <tr>\n",
              "      <th>3</th>\n",
              "      <td>1</td>\n",
              "      <td>0</td>\n",
              "      <td>0</td>\n",
              "      <td>1</td>\n",
              "      <td>24.0</td>\n",
              "      <td>28.79</td>\n",
              "      <td>75.0</td>\n",
              "      <td>0.0</td>\n",
              "      <td>3</td>\n",
              "      <td>10</td>\n",
              "      <td>13</td>\n",
              "    </tr>\n",
              "    <tr>\n",
              "      <th>4</th>\n",
              "      <td>1</td>\n",
              "      <td>0</td>\n",
              "      <td>0</td>\n",
              "      <td>1</td>\n",
              "      <td>24.0</td>\n",
              "      <td>28.79</td>\n",
              "      <td>75.0</td>\n",
              "      <td>0.0</td>\n",
              "      <td>0</td>\n",
              "      <td>1</td>\n",
              "      <td>1</td>\n",
              "    </tr>\n",
              "  </tbody>\n",
              "</table>\n",
              "</div>\n",
              "      <button class=\"colab-df-convert\" onclick=\"convertToInteractive('df-62009c19-2628-4972-8abd-89a49204646e')\"\n",
              "              title=\"Convert this dataframe to an interactive table.\"\n",
              "              style=\"display:none;\">\n",
              "        \n",
              "  <svg xmlns=\"http://www.w3.org/2000/svg\" height=\"24px\"viewBox=\"0 0 24 24\"\n",
              "       width=\"24px\">\n",
              "    <path d=\"M0 0h24v24H0V0z\" fill=\"none\"/>\n",
              "    <path d=\"M18.56 5.44l.94 2.06.94-2.06 2.06-.94-2.06-.94-.94-2.06-.94 2.06-2.06.94zm-11 1L8.5 8.5l.94-2.06 2.06-.94-2.06-.94L8.5 2.5l-.94 2.06-2.06.94zm10 10l.94 2.06.94-2.06 2.06-.94-2.06-.94-.94-2.06-.94 2.06-2.06.94z\"/><path d=\"M17.41 7.96l-1.37-1.37c-.4-.4-.92-.59-1.43-.59-.52 0-1.04.2-1.43.59L10.3 9.45l-7.72 7.72c-.78.78-.78 2.05 0 2.83L4 21.41c.39.39.9.59 1.41.59.51 0 1.02-.2 1.41-.59l7.78-7.78 2.81-2.81c.8-.78.8-2.07 0-2.86zM5.41 20L4 18.59l7.72-7.72 1.47 1.35L5.41 20z\"/>\n",
              "  </svg>\n",
              "      </button>\n",
              "      \n",
              "  <style>\n",
              "    .colab-df-container {\n",
              "      display:flex;\n",
              "      flex-wrap:wrap;\n",
              "      gap: 12px;\n",
              "    }\n",
              "\n",
              "    .colab-df-convert {\n",
              "      background-color: #E8F0FE;\n",
              "      border: none;\n",
              "      border-radius: 50%;\n",
              "      cursor: pointer;\n",
              "      display: none;\n",
              "      fill: #1967D2;\n",
              "      height: 32px;\n",
              "      padding: 0 0 0 0;\n",
              "      width: 32px;\n",
              "    }\n",
              "\n",
              "    .colab-df-convert:hover {\n",
              "      background-color: #E2EBFA;\n",
              "      box-shadow: 0px 1px 2px rgba(60, 64, 67, 0.3), 0px 1px 3px 1px rgba(60, 64, 67, 0.15);\n",
              "      fill: #174EA6;\n",
              "    }\n",
              "\n",
              "    [theme=dark] .colab-df-convert {\n",
              "      background-color: #3B4455;\n",
              "      fill: #D2E3FC;\n",
              "    }\n",
              "\n",
              "    [theme=dark] .colab-df-convert:hover {\n",
              "      background-color: #434B5C;\n",
              "      box-shadow: 0px 1px 3px 1px rgba(0, 0, 0, 0.15);\n",
              "      filter: drop-shadow(0px 1px 2px rgba(0, 0, 0, 0.3));\n",
              "      fill: #FFFFFF;\n",
              "    }\n",
              "  </style>\n",
              "\n",
              "      <script>\n",
              "        const buttonEl =\n",
              "          document.querySelector('#df-62009c19-2628-4972-8abd-89a49204646e button.colab-df-convert');\n",
              "        buttonEl.style.display =\n",
              "          google.colab.kernel.accessAllowed ? 'block' : 'none';\n",
              "\n",
              "        async function convertToInteractive(key) {\n",
              "          const element = document.querySelector('#df-62009c19-2628-4972-8abd-89a49204646e');\n",
              "          const dataTable =\n",
              "            await google.colab.kernel.invokeFunction('convertToInteractive',\n",
              "                                                     [key], {});\n",
              "          if (!dataTable) return;\n",
              "\n",
              "          const docLinkHtml = 'Like what you see? Visit the ' +\n",
              "            '<a target=\"_blank\" href=https://colab.research.google.com/notebooks/data_table.ipynb>data table notebook</a>'\n",
              "            + ' to learn more about interactive tables.';\n",
              "          element.innerHTML = '';\n",
              "          dataTable['output_type'] = 'display_data';\n",
              "          await google.colab.output.renderOutput(dataTable, element);\n",
              "          const docLink = document.createElement('div');\n",
              "          docLink.innerHTML = docLinkHtml;\n",
              "          element.appendChild(docLink);\n",
              "        }\n",
              "      </script>\n",
              "    </div>\n",
              "  </div>\n",
              "  "
            ]
          },
          "metadata": {},
          "execution_count": 6
        }
      ]
    },
    {
      "cell_type": "code",
      "source": [
        "dataset"
      ],
      "metadata": {
        "colab": {
          "base_uri": "https://localhost:8080/",
          "height": 2268
        },
        "id": "WOrsmdbvAVe8",
        "outputId": "e19c3eea-5649-40ce-e9fd-559f4ef2d3a8"
      },
      "execution_count": null,
      "outputs": [
        {
          "output_type": "execute_result",
          "data": {
            "text/plain": [
              "       season  holiday  workingday  weathersit  temp  atemp   hum  windspeed  \\\n",
              "0           1        0           0           1  24.0  28.79  81.0       0.00   \n",
              "1           1        0           0           1  22.0  27.27  80.0       0.00   \n",
              "2           1        0           0           1  22.0  27.27  80.0       0.00   \n",
              "3           1        0           0           1  24.0  28.79  75.0       0.00   \n",
              "4           1        0           0           1  24.0  28.79  75.0       0.00   \n",
              "...       ...      ...         ...         ...   ...    ...   ...        ...   \n",
              "17374       1        0           1           2  26.0  25.76  60.0      16.42   \n",
              "17375       1        0           1           2  26.0  25.76  60.0      16.42   \n",
              "17376       1        0           1           1  26.0  25.76  60.0      16.42   \n",
              "17377       1        0           1           1  26.0  27.27  56.0      13.43   \n",
              "17378       1        0           1           1  26.0  27.27  65.0      13.43   \n",
              "\n",
              "       casual  registered  cnt  \n",
              "0           3          13   16  \n",
              "1           8          32   40  \n",
              "2           5          27   32  \n",
              "3           3          10   13  \n",
              "4           0           1    1  \n",
              "...       ...         ...  ...  \n",
              "17374      11         108  119  \n",
              "17375       8          81   89  \n",
              "17376       7          83   90  \n",
              "17377      13          48   61  \n",
              "17378      12          37   49  \n",
              "\n",
              "[17379 rows x 11 columns]"
            ],
            "text/html": [
              "\n",
              "  <div id=\"df-882bf41f-5b05-4d3a-b272-6bd905d25cdc\">\n",
              "    <div class=\"colab-df-container\">\n",
              "      <div>\n",
              "<style scoped>\n",
              "    .dataframe tbody tr th:only-of-type {\n",
              "        vertical-align: middle;\n",
              "    }\n",
              "\n",
              "    .dataframe tbody tr th {\n",
              "        vertical-align: top;\n",
              "    }\n",
              "\n",
              "    .dataframe thead th {\n",
              "        text-align: right;\n",
              "    }\n",
              "</style>\n",
              "<table border=\"1\" class=\"dataframe\">\n",
              "  <thead>\n",
              "    <tr style=\"text-align: right;\">\n",
              "      <th></th>\n",
              "      <th>season</th>\n",
              "      <th>holiday</th>\n",
              "      <th>workingday</th>\n",
              "      <th>weathersit</th>\n",
              "      <th>temp</th>\n",
              "      <th>atemp</th>\n",
              "      <th>hum</th>\n",
              "      <th>windspeed</th>\n",
              "      <th>casual</th>\n",
              "      <th>registered</th>\n",
              "      <th>cnt</th>\n",
              "    </tr>\n",
              "  </thead>\n",
              "  <tbody>\n",
              "    <tr>\n",
              "      <th>0</th>\n",
              "      <td>1</td>\n",
              "      <td>0</td>\n",
              "      <td>0</td>\n",
              "      <td>1</td>\n",
              "      <td>24.0</td>\n",
              "      <td>28.79</td>\n",
              "      <td>81.0</td>\n",
              "      <td>0.00</td>\n",
              "      <td>3</td>\n",
              "      <td>13</td>\n",
              "      <td>16</td>\n",
              "    </tr>\n",
              "    <tr>\n",
              "      <th>1</th>\n",
              "      <td>1</td>\n",
              "      <td>0</td>\n",
              "      <td>0</td>\n",
              "      <td>1</td>\n",
              "      <td>22.0</td>\n",
              "      <td>27.27</td>\n",
              "      <td>80.0</td>\n",
              "      <td>0.00</td>\n",
              "      <td>8</td>\n",
              "      <td>32</td>\n",
              "      <td>40</td>\n",
              "    </tr>\n",
              "    <tr>\n",
              "      <th>2</th>\n",
              "      <td>1</td>\n",
              "      <td>0</td>\n",
              "      <td>0</td>\n",
              "      <td>1</td>\n",
              "      <td>22.0</td>\n",
              "      <td>27.27</td>\n",
              "      <td>80.0</td>\n",
              "      <td>0.00</td>\n",
              "      <td>5</td>\n",
              "      <td>27</td>\n",
              "      <td>32</td>\n",
              "    </tr>\n",
              "    <tr>\n",
              "      <th>3</th>\n",
              "      <td>1</td>\n",
              "      <td>0</td>\n",
              "      <td>0</td>\n",
              "      <td>1</td>\n",
              "      <td>24.0</td>\n",
              "      <td>28.79</td>\n",
              "      <td>75.0</td>\n",
              "      <td>0.00</td>\n",
              "      <td>3</td>\n",
              "      <td>10</td>\n",
              "      <td>13</td>\n",
              "    </tr>\n",
              "    <tr>\n",
              "      <th>4</th>\n",
              "      <td>1</td>\n",
              "      <td>0</td>\n",
              "      <td>0</td>\n",
              "      <td>1</td>\n",
              "      <td>24.0</td>\n",
              "      <td>28.79</td>\n",
              "      <td>75.0</td>\n",
              "      <td>0.00</td>\n",
              "      <td>0</td>\n",
              "      <td>1</td>\n",
              "      <td>1</td>\n",
              "    </tr>\n",
              "    <tr>\n",
              "      <th>...</th>\n",
              "      <td>...</td>\n",
              "      <td>...</td>\n",
              "      <td>...</td>\n",
              "      <td>...</td>\n",
              "      <td>...</td>\n",
              "      <td>...</td>\n",
              "      <td>...</td>\n",
              "      <td>...</td>\n",
              "      <td>...</td>\n",
              "      <td>...</td>\n",
              "      <td>...</td>\n",
              "    </tr>\n",
              "    <tr>\n",
              "      <th>17374</th>\n",
              "      <td>1</td>\n",
              "      <td>0</td>\n",
              "      <td>1</td>\n",
              "      <td>2</td>\n",
              "      <td>26.0</td>\n",
              "      <td>25.76</td>\n",
              "      <td>60.0</td>\n",
              "      <td>16.42</td>\n",
              "      <td>11</td>\n",
              "      <td>108</td>\n",
              "      <td>119</td>\n",
              "    </tr>\n",
              "    <tr>\n",
              "      <th>17375</th>\n",
              "      <td>1</td>\n",
              "      <td>0</td>\n",
              "      <td>1</td>\n",
              "      <td>2</td>\n",
              "      <td>26.0</td>\n",
              "      <td>25.76</td>\n",
              "      <td>60.0</td>\n",
              "      <td>16.42</td>\n",
              "      <td>8</td>\n",
              "      <td>81</td>\n",
              "      <td>89</td>\n",
              "    </tr>\n",
              "    <tr>\n",
              "      <th>17376</th>\n",
              "      <td>1</td>\n",
              "      <td>0</td>\n",
              "      <td>1</td>\n",
              "      <td>1</td>\n",
              "      <td>26.0</td>\n",
              "      <td>25.76</td>\n",
              "      <td>60.0</td>\n",
              "      <td>16.42</td>\n",
              "      <td>7</td>\n",
              "      <td>83</td>\n",
              "      <td>90</td>\n",
              "    </tr>\n",
              "    <tr>\n",
              "      <th>17377</th>\n",
              "      <td>1</td>\n",
              "      <td>0</td>\n",
              "      <td>1</td>\n",
              "      <td>1</td>\n",
              "      <td>26.0</td>\n",
              "      <td>27.27</td>\n",
              "      <td>56.0</td>\n",
              "      <td>13.43</td>\n",
              "      <td>13</td>\n",
              "      <td>48</td>\n",
              "      <td>61</td>\n",
              "    </tr>\n",
              "    <tr>\n",
              "      <th>17378</th>\n",
              "      <td>1</td>\n",
              "      <td>0</td>\n",
              "      <td>1</td>\n",
              "      <td>1</td>\n",
              "      <td>26.0</td>\n",
              "      <td>27.27</td>\n",
              "      <td>65.0</td>\n",
              "      <td>13.43</td>\n",
              "      <td>12</td>\n",
              "      <td>37</td>\n",
              "      <td>49</td>\n",
              "    </tr>\n",
              "  </tbody>\n",
              "</table>\n",
              "<p>17379 rows × 11 columns</p>\n",
              "</div>\n",
              "      <button class=\"colab-df-convert\" onclick=\"convertToInteractive('df-882bf41f-5b05-4d3a-b272-6bd905d25cdc')\"\n",
              "              title=\"Convert this dataframe to an interactive table.\"\n",
              "              style=\"display:none;\">\n",
              "        \n",
              "  <svg xmlns=\"http://www.w3.org/2000/svg\" height=\"24px\"viewBox=\"0 0 24 24\"\n",
              "       width=\"24px\">\n",
              "    <path d=\"M0 0h24v24H0V0z\" fill=\"none\"/>\n",
              "    <path d=\"M18.56 5.44l.94 2.06.94-2.06 2.06-.94-2.06-.94-.94-2.06-.94 2.06-2.06.94zm-11 1L8.5 8.5l.94-2.06 2.06-.94-2.06-.94L8.5 2.5l-.94 2.06-2.06.94zm10 10l.94 2.06.94-2.06 2.06-.94-2.06-.94-.94-2.06-.94 2.06-2.06.94z\"/><path d=\"M17.41 7.96l-1.37-1.37c-.4-.4-.92-.59-1.43-.59-.52 0-1.04.2-1.43.59L10.3 9.45l-7.72 7.72c-.78.78-.78 2.05 0 2.83L4 21.41c.39.39.9.59 1.41.59.51 0 1.02-.2 1.41-.59l7.78-7.78 2.81-2.81c.8-.78.8-2.07 0-2.86zM5.41 20L4 18.59l7.72-7.72 1.47 1.35L5.41 20z\"/>\n",
              "  </svg>\n",
              "      </button>\n",
              "      \n",
              "  <style>\n",
              "    .colab-df-container {\n",
              "      display:flex;\n",
              "      flex-wrap:wrap;\n",
              "      gap: 12px;\n",
              "    }\n",
              "\n",
              "    .colab-df-convert {\n",
              "      background-color: #E8F0FE;\n",
              "      border: none;\n",
              "      border-radius: 50%;\n",
              "      cursor: pointer;\n",
              "      display: none;\n",
              "      fill: #1967D2;\n",
              "      height: 32px;\n",
              "      padding: 0 0 0 0;\n",
              "      width: 32px;\n",
              "    }\n",
              "\n",
              "    .colab-df-convert:hover {\n",
              "      background-color: #E2EBFA;\n",
              "      box-shadow: 0px 1px 2px rgba(60, 64, 67, 0.3), 0px 1px 3px 1px rgba(60, 64, 67, 0.15);\n",
              "      fill: #174EA6;\n",
              "    }\n",
              "\n",
              "    [theme=dark] .colab-df-convert {\n",
              "      background-color: #3B4455;\n",
              "      fill: #D2E3FC;\n",
              "    }\n",
              "\n",
              "    [theme=dark] .colab-df-convert:hover {\n",
              "      background-color: #434B5C;\n",
              "      box-shadow: 0px 1px 3px 1px rgba(0, 0, 0, 0.15);\n",
              "      filter: drop-shadow(0px 1px 2px rgba(0, 0, 0, 0.3));\n",
              "      fill: #FFFFFF;\n",
              "    }\n",
              "  </style>\n",
              "\n",
              "      <script>\n",
              "        const buttonEl =\n",
              "          document.querySelector('#df-882bf41f-5b05-4d3a-b272-6bd905d25cdc button.colab-df-convert');\n",
              "        buttonEl.style.display =\n",
              "          google.colab.kernel.accessAllowed ? 'block' : 'none';\n",
              "\n",
              "        async function convertToInteractive(key) {\n",
              "          const element = document.querySelector('#df-882bf41f-5b05-4d3a-b272-6bd905d25cdc');\n",
              "          const dataTable =\n",
              "            await google.colab.kernel.invokeFunction('convertToInteractive',\n",
              "                                                     [key], {});\n",
              "          if (!dataTable) return;\n",
              "\n",
              "          const docLinkHtml = 'Like what you see? Visit the ' +\n",
              "            '<a target=\"_blank\" href=https://colab.research.google.com/notebooks/data_table.ipynb>data table notebook</a>'\n",
              "            + ' to learn more about interactive tables.';\n",
              "          element.innerHTML = '';\n",
              "          dataTable['output_type'] = 'display_data';\n",
              "          await google.colab.output.renderOutput(dataTable, element);\n",
              "          const docLink = document.createElement('div');\n",
              "          docLink.innerHTML = docLinkHtml;\n",
              "          element.appendChild(docLink);\n",
              "        }\n",
              "      </script>\n",
              "    </div>\n",
              "  </div>\n",
              "  "
            ]
          },
          "metadata": {},
          "execution_count": 43
        }
      ]
    },
    {
      "cell_type": "markdown",
      "source": [
        "##**Probabilidade Simples**"
      ],
      "metadata": {
        "id": "MJQLWLIv1E2f"
      }
    },
    {
      "cell_type": "markdown",
      "source": [
        "Qual a probabilidade de uma bicicleta ser usada em um dia de feriado ?"
      ],
      "metadata": {
        "id": "0wlthEud1OHu"
      }
    },
    {
      "cell_type": "code",
      "source": [
        "probHoli = len(dataset[dataset['holiday'] == 1]) / len(dataset)\n",
        "print('A probabilidade de uma bicicleta ser utilizada em um feriado é de ' + str(round(probHoli*100, 4)) + '%')"
      ],
      "metadata": {
        "colab": {
          "base_uri": "https://localhost:8080/"
        },
        "id": "C85gRHV11MBH",
        "outputId": "f6b188c3-72c8-4512-8b14-70f3c9863a87"
      },
      "execution_count": null,
      "outputs": [
        {
          "output_type": "stream",
          "name": "stdout",
          "text": [
            "A probabilidade de uma bicicleta ser utilizada em um feriado é de 2.877%\n"
          ]
        }
      ]
    },
    {
      "cell_type": "markdown",
      "source": [
        "Comparativos externos: Comparativo da probabilidade de ser feriado em um ano em Washington\n"
      ],
      "metadata": {
        "id": "1TAJPjpr7AGZ"
      }
    },
    {
      "cell_type": "code",
      "source": [
        "probHoli2 = 20/365\n",
        "print('A probabilidade do dia ser feriado em um ano em Washington é de ' + str(round(probHoli2*100,4)) + '%')"
      ],
      "metadata": {
        "colab": {
          "base_uri": "https://localhost:8080/"
        },
        "id": "8FMH4TY47OqO",
        "outputId": "ca43f14c-3b9d-4277-e70f-9d9a63cf4f79"
      },
      "execution_count": null,
      "outputs": [
        {
          "output_type": "stream",
          "name": "stdout",
          "text": [
            "A probabilidade do dia ser feriado em um ano em Washington é de 5.4795%\n"
          ]
        }
      ]
    },
    {
      "cell_type": "markdown",
      "source": [
        "##**Probabilidade da União ou Probabilidade da Soma**\n"
      ],
      "metadata": {
        "id": "ujA4IvPv7uPW"
      }
    },
    {
      "cell_type": "markdown",
      "source": [
        "Qual a probabilidade de uma bicicleta ser utilizada no verão em um feriado ou dia normal?\n"
      ],
      "metadata": {
        "id": "me96115872Uj"
      }
    },
    {
      "cell_type": "code",
      "source": [
        "Estacao = len(dataset[((dataset['season'] == 2) & (dataset['workingday'] == 1))| (dataset['season'] == 2) & (dataset['holiday'] == 1)])\n",
        "probEstacao = Estacao/len(dataset)\n",
        "print('A probabilidade de uma bicicleta ser utilizada no verão ou em um feriado é de ' + str(round(probEstacao*100, 4)) + '%')"
      ],
      "metadata": {
        "colab": {
          "base_uri": "https://localhost:8080/"
        },
        "id": "IKapRxK_70fe",
        "outputId": "8aff0c8a-4048-4cac-cc5d-00b3c6bd8db8"
      },
      "execution_count": null,
      "outputs": [
        {
          "output_type": "stream",
          "name": "stdout",
          "text": [
            "A probabilidade de uma bicicleta ser utilizada no verão ou em um feriado é de 18.1944%\n"
          ]
        }
      ]
    },
    {
      "cell_type": "markdown",
      "source": [
        "##**Probabilidade da Intersecção**"
      ],
      "metadata": {
        "id": "bvxPPRS593S7"
      }
    },
    {
      "cell_type": "markdown",
      "source": [
        "Qual a probabilidade de uma bicicleta ser utilizada em um feriado e ser verão ?"
      ],
      "metadata": {
        "id": "48-F5dGw-QVI"
      }
    },
    {
      "cell_type": "code",
      "source": [
        "veraoFeriado = len(dataset[(dataset['holiday'] == 1) & (dataset['season'] == 2)])\n",
        "probVerFe = veraoFeriado/len(dataset)\n",
        "print('A probabilidade de uma bicicleta ser utilizada em um dia que seja verão e feriado é de ' + str(round(probVerFe*100, 4)) + '%')"
      ],
      "metadata": {
        "colab": {
          "base_uri": "https://localhost:8080/"
        },
        "id": "4nTuHiXs-fUd",
        "outputId": "ddf9cb16-a86c-45f5-8b4c-e59d783457e1"
      },
      "execution_count": null,
      "outputs": [
        {
          "output_type": "stream",
          "name": "stdout",
          "text": [
            "A probabilidade de uma bicicleta ser utilizada em um dia que seja verão e feriado é de 0.5524%\n"
          ]
        }
      ]
    },
    {
      "cell_type": "markdown",
      "source": [
        "##**Probabilidade Complementar**"
      ],
      "metadata": {
        "id": "VfpKflur_98p"
      }
    },
    {
      "cell_type": "markdown",
      "source": [
        "Qual a probabilidade de uma bicicleta ser utilizada em um feriado e não ser verão ?"
      ],
      "metadata": {
        "id": "WkT9OK8PADIX"
      }
    },
    {
      "cell_type": "code",
      "source": [
        "probHoliNFeriado = probHoli - probVerFe\n",
        "print('A probabilidade de uma bicicleta ser utilizada em um feriado e não ser verão é de ', str(round(probHoliNFeriado*100, 4)) + '%')"
      ],
      "metadata": {
        "colab": {
          "base_uri": "https://localhost:8080/"
        },
        "id": "fWgQOznGApR3",
        "outputId": "5598ca04-ff86-48e2-e661-8bed534bb88a"
      },
      "execution_count": null,
      "outputs": [
        {
          "output_type": "stream",
          "name": "stdout",
          "text": [
            "A probabilidade de uma bicicleta ser utilizada em um feriado e não ser verão é de  2.3246%\n"
          ]
        }
      ]
    },
    {
      "cell_type": "markdown",
      "source": [
        "##**Probabilidade da Diferença**\n"
      ],
      "metadata": {
        "id": "vKwB7PdxCFZv"
      }
    },
    {
      "cell_type": "markdown",
      "source": [
        "Qual a probabilidade de ser verão mas não ser feriado ? "
      ],
      "metadata": {
        "id": "KKEJ3qE-C6B1"
      }
    },
    {
      "cell_type": "code",
      "source": [
        "dif = len(dataset[dataset['season']==2]) - len(dataset[(dataset['holiday']>0) & (dataset['season']==2)])\n",
        "ProbDif = dif/len(dataset)\n",
        "print('A probabilidade ser verão mas não ser feriado é de ' + str(round(ProbDif*100, 4)) + '%')"
      ],
      "metadata": {
        "id": "cHCJs4GXCKJn",
        "colab": {
          "base_uri": "https://localhost:8080/"
        },
        "outputId": "23cf66e8-bf86-44d8-94e3-44bc1e921f75"
      },
      "execution_count": null,
      "outputs": [
        {
          "output_type": "stream",
          "name": "stdout",
          "text": [
            "A probabilidade ser verão mas não ser feriado é de 24.8173%\n"
          ]
        }
      ]
    },
    {
      "cell_type": "markdown",
      "source": [
        "##**Probabilidade Condicional**"
      ],
      "metadata": {
        "id": "lNrp51mCzArA"
      }
    },
    {
      "cell_type": "markdown",
      "source": [
        "Qual a probabilidade de ser verão se for feriado ?"
      ],
      "metadata": {
        "id": "PU2sVMhPzGtW"
      }
    },
    {
      "cell_type": "code",
      "source": [
        "probCond = probVerFe/probHoli\n",
        "print('A probabilidade de ser verão se for feriado é de ' + str(round(probCond*100, 4)) + '%')"
      ],
      "metadata": {
        "colab": {
          "base_uri": "https://localhost:8080/"
        },
        "id": "YNgarHNizcXC",
        "outputId": "ca18726c-400f-4530-9c77-406038b51767"
      },
      "execution_count": null,
      "outputs": [
        {
          "output_type": "stream",
          "name": "stdout",
          "text": [
            "A probabilidade de ser verão se for feriado é de 19.2%\n"
          ]
        }
      ]
    },
    {
      "cell_type": "markdown",
      "source": [
        "##**Teorema de Bayes**"
      ],
      "metadata": {
        "id": "_iHscC1X122L"
      }
    },
    {
      "cell_type": "markdown",
      "source": [
        "Qual a probabilidade de ser feriado tal que seja verão ?"
      ],
      "metadata": {
        "id": "xCGOTx4c2-pi"
      }
    },
    {
      "cell_type": "code",
      "source": [
        "probFetqVe = (probHoli * probCond)/probEstacao\n",
        "print('A probabilidade que seja feriado tal que seja verão é: ' + str(round(probFetqVe*100, 4)) + '%')"
      ],
      "metadata": {
        "colab": {
          "base_uri": "https://localhost:8080/"
        },
        "id": "dZX1AQee3Koh",
        "outputId": "10670e77-d6a3-47f2-c67d-dd2785245ad3"
      },
      "execution_count": null,
      "outputs": [
        {
          "output_type": "stream",
          "name": "stdout",
          "text": [
            "A probabilidade que seja feriado tal que seja verão é: 3.0361%\n"
          ]
        }
      ]
    },
    {
      "cell_type": "markdown",
      "source": [
        "##**Variáveis Aleatórias**"
      ],
      "metadata": {
        "id": "gUgQnGBuU_L_"
      }
    },
    {
      "cell_type": "code",
      "source": [
        "dataset['week&holi'] = dataset['holiday'] + dataset['workingday']"
      ],
      "metadata": {
        "id": "49615cNQVDT_"
      },
      "execution_count": null,
      "outputs": []
    },
    {
      "cell_type": "code",
      "source": [
        "dataset.head()"
      ],
      "metadata": {
        "colab": {
          "base_uri": "https://localhost:8080/",
          "height": 206
        },
        "id": "_8B8Rlu3Zo3p",
        "outputId": "95dcc791-227e-4bcc-a04c-15894652b262"
      },
      "execution_count": null,
      "outputs": [
        {
          "output_type": "execute_result",
          "data": {
            "text/plain": [
              "              datetime  season  holiday  workingday  weathersit  temp  atemp  \\\n",
              "0  2011-01-01 00:00:00       1        0           0           1  24.0  28.79   \n",
              "1  2011-01-01 01:00:00       1        0           0           1  22.0  27.27   \n",
              "2  2011-01-01 02:00:00       1        0           0           1  22.0  27.27   \n",
              "3  2011-01-01 03:00:00       1        0           0           1  24.0  28.79   \n",
              "4  2011-01-01 04:00:00       1        0           0           1  24.0  28.79   \n",
              "\n",
              "    hum  windspeed  casual  registered  cnt  teste  week&holi  \n",
              "0  81.0        0.0       3          13   16      0          0  \n",
              "1  80.0        0.0       8          32   40      0          0  \n",
              "2  80.0        0.0       5          27   32      0          0  \n",
              "3  75.0        0.0       3          10   13      0          0  \n",
              "4  75.0        0.0       0           1    1      0          0  "
            ],
            "text/html": [
              "\n",
              "  <div id=\"df-e9262c4d-4990-46af-bd9c-49076c33cf5e\">\n",
              "    <div class=\"colab-df-container\">\n",
              "      <div>\n",
              "<style scoped>\n",
              "    .dataframe tbody tr th:only-of-type {\n",
              "        vertical-align: middle;\n",
              "    }\n",
              "\n",
              "    .dataframe tbody tr th {\n",
              "        vertical-align: top;\n",
              "    }\n",
              "\n",
              "    .dataframe thead th {\n",
              "        text-align: right;\n",
              "    }\n",
              "</style>\n",
              "<table border=\"1\" class=\"dataframe\">\n",
              "  <thead>\n",
              "    <tr style=\"text-align: right;\">\n",
              "      <th></th>\n",
              "      <th>datetime</th>\n",
              "      <th>season</th>\n",
              "      <th>holiday</th>\n",
              "      <th>workingday</th>\n",
              "      <th>weathersit</th>\n",
              "      <th>temp</th>\n",
              "      <th>atemp</th>\n",
              "      <th>hum</th>\n",
              "      <th>windspeed</th>\n",
              "      <th>casual</th>\n",
              "      <th>registered</th>\n",
              "      <th>cnt</th>\n",
              "      <th>teste</th>\n",
              "      <th>week&amp;holi</th>\n",
              "    </tr>\n",
              "  </thead>\n",
              "  <tbody>\n",
              "    <tr>\n",
              "      <th>0</th>\n",
              "      <td>2011-01-01 00:00:00</td>\n",
              "      <td>1</td>\n",
              "      <td>0</td>\n",
              "      <td>0</td>\n",
              "      <td>1</td>\n",
              "      <td>24.0</td>\n",
              "      <td>28.79</td>\n",
              "      <td>81.0</td>\n",
              "      <td>0.0</td>\n",
              "      <td>3</td>\n",
              "      <td>13</td>\n",
              "      <td>16</td>\n",
              "      <td>0</td>\n",
              "      <td>0</td>\n",
              "    </tr>\n",
              "    <tr>\n",
              "      <th>1</th>\n",
              "      <td>2011-01-01 01:00:00</td>\n",
              "      <td>1</td>\n",
              "      <td>0</td>\n",
              "      <td>0</td>\n",
              "      <td>1</td>\n",
              "      <td>22.0</td>\n",
              "      <td>27.27</td>\n",
              "      <td>80.0</td>\n",
              "      <td>0.0</td>\n",
              "      <td>8</td>\n",
              "      <td>32</td>\n",
              "      <td>40</td>\n",
              "      <td>0</td>\n",
              "      <td>0</td>\n",
              "    </tr>\n",
              "    <tr>\n",
              "      <th>2</th>\n",
              "      <td>2011-01-01 02:00:00</td>\n",
              "      <td>1</td>\n",
              "      <td>0</td>\n",
              "      <td>0</td>\n",
              "      <td>1</td>\n",
              "      <td>22.0</td>\n",
              "      <td>27.27</td>\n",
              "      <td>80.0</td>\n",
              "      <td>0.0</td>\n",
              "      <td>5</td>\n",
              "      <td>27</td>\n",
              "      <td>32</td>\n",
              "      <td>0</td>\n",
              "      <td>0</td>\n",
              "    </tr>\n",
              "    <tr>\n",
              "      <th>3</th>\n",
              "      <td>2011-01-01 03:00:00</td>\n",
              "      <td>1</td>\n",
              "      <td>0</td>\n",
              "      <td>0</td>\n",
              "      <td>1</td>\n",
              "      <td>24.0</td>\n",
              "      <td>28.79</td>\n",
              "      <td>75.0</td>\n",
              "      <td>0.0</td>\n",
              "      <td>3</td>\n",
              "      <td>10</td>\n",
              "      <td>13</td>\n",
              "      <td>0</td>\n",
              "      <td>0</td>\n",
              "    </tr>\n",
              "    <tr>\n",
              "      <th>4</th>\n",
              "      <td>2011-01-01 04:00:00</td>\n",
              "      <td>1</td>\n",
              "      <td>0</td>\n",
              "      <td>0</td>\n",
              "      <td>1</td>\n",
              "      <td>24.0</td>\n",
              "      <td>28.79</td>\n",
              "      <td>75.0</td>\n",
              "      <td>0.0</td>\n",
              "      <td>0</td>\n",
              "      <td>1</td>\n",
              "      <td>1</td>\n",
              "      <td>0</td>\n",
              "      <td>0</td>\n",
              "    </tr>\n",
              "  </tbody>\n",
              "</table>\n",
              "</div>\n",
              "      <button class=\"colab-df-convert\" onclick=\"convertToInteractive('df-e9262c4d-4990-46af-bd9c-49076c33cf5e')\"\n",
              "              title=\"Convert this dataframe to an interactive table.\"\n",
              "              style=\"display:none;\">\n",
              "        \n",
              "  <svg xmlns=\"http://www.w3.org/2000/svg\" height=\"24px\"viewBox=\"0 0 24 24\"\n",
              "       width=\"24px\">\n",
              "    <path d=\"M0 0h24v24H0V0z\" fill=\"none\"/>\n",
              "    <path d=\"M18.56 5.44l.94 2.06.94-2.06 2.06-.94-2.06-.94-.94-2.06-.94 2.06-2.06.94zm-11 1L8.5 8.5l.94-2.06 2.06-.94-2.06-.94L8.5 2.5l-.94 2.06-2.06.94zm10 10l.94 2.06.94-2.06 2.06-.94-2.06-.94-.94-2.06-.94 2.06-2.06.94z\"/><path d=\"M17.41 7.96l-1.37-1.37c-.4-.4-.92-.59-1.43-.59-.52 0-1.04.2-1.43.59L10.3 9.45l-7.72 7.72c-.78.78-.78 2.05 0 2.83L4 21.41c.39.39.9.59 1.41.59.51 0 1.02-.2 1.41-.59l7.78-7.78 2.81-2.81c.8-.78.8-2.07 0-2.86zM5.41 20L4 18.59l7.72-7.72 1.47 1.35L5.41 20z\"/>\n",
              "  </svg>\n",
              "      </button>\n",
              "      \n",
              "  <style>\n",
              "    .colab-df-container {\n",
              "      display:flex;\n",
              "      flex-wrap:wrap;\n",
              "      gap: 12px;\n",
              "    }\n",
              "\n",
              "    .colab-df-convert {\n",
              "      background-color: #E8F0FE;\n",
              "      border: none;\n",
              "      border-radius: 50%;\n",
              "      cursor: pointer;\n",
              "      display: none;\n",
              "      fill: #1967D2;\n",
              "      height: 32px;\n",
              "      padding: 0 0 0 0;\n",
              "      width: 32px;\n",
              "    }\n",
              "\n",
              "    .colab-df-convert:hover {\n",
              "      background-color: #E2EBFA;\n",
              "      box-shadow: 0px 1px 2px rgba(60, 64, 67, 0.3), 0px 1px 3px 1px rgba(60, 64, 67, 0.15);\n",
              "      fill: #174EA6;\n",
              "    }\n",
              "\n",
              "    [theme=dark] .colab-df-convert {\n",
              "      background-color: #3B4455;\n",
              "      fill: #D2E3FC;\n",
              "    }\n",
              "\n",
              "    [theme=dark] .colab-df-convert:hover {\n",
              "      background-color: #434B5C;\n",
              "      box-shadow: 0px 1px 3px 1px rgba(0, 0, 0, 0.15);\n",
              "      filter: drop-shadow(0px 1px 2px rgba(0, 0, 0, 0.3));\n",
              "      fill: #FFFFFF;\n",
              "    }\n",
              "  </style>\n",
              "\n",
              "      <script>\n",
              "        const buttonEl =\n",
              "          document.querySelector('#df-e9262c4d-4990-46af-bd9c-49076c33cf5e button.colab-df-convert');\n",
              "        buttonEl.style.display =\n",
              "          google.colab.kernel.accessAllowed ? 'block' : 'none';\n",
              "\n",
              "        async function convertToInteractive(key) {\n",
              "          const element = document.querySelector('#df-e9262c4d-4990-46af-bd9c-49076c33cf5e');\n",
              "          const dataTable =\n",
              "            await google.colab.kernel.invokeFunction('convertToInteractive',\n",
              "                                                     [key], {});\n",
              "          if (!dataTable) return;\n",
              "\n",
              "          const docLinkHtml = 'Like what you see? Visit the ' +\n",
              "            '<a target=\"_blank\" href=https://colab.research.google.com/notebooks/data_table.ipynb>data table notebook</a>'\n",
              "            + ' to learn more about interactive tables.';\n",
              "          element.innerHTML = '';\n",
              "          dataTable['output_type'] = 'display_data';\n",
              "          await google.colab.output.renderOutput(dataTable, element);\n",
              "          const docLink = document.createElement('div');\n",
              "          docLink.innerHTML = docLinkHtml;\n",
              "          element.appendChild(docLink);\n",
              "        }\n",
              "      </script>\n",
              "    </div>\n",
              "  </div>\n",
              "  "
            ]
          },
          "metadata": {},
          "execution_count": 30
        }
      ]
    },
    {
      "cell_type": "code",
      "source": [
        "dataset['week&holi'].value_counts()"
      ],
      "metadata": {
        "colab": {
          "base_uri": "https://localhost:8080/"
        },
        "id": "rtjgdaOBZsAJ",
        "outputId": "4c173784-9d9d-4bca-ec8e-e99380ee2fc5"
      },
      "execution_count": null,
      "outputs": [
        {
          "output_type": "execute_result",
          "data": {
            "text/plain": [
              "1    12365\n",
              "0     5014\n",
              "Name: week&holi, dtype: int64"
            ]
          },
          "metadata": {},
          "execution_count": 31
        }
      ]
    },
    {
      "cell_type": "code",
      "source": [
        "dataset['week&holi'].value_counts().sort_index()"
      ],
      "metadata": {
        "colab": {
          "base_uri": "https://localhost:8080/"
        },
        "id": "CZQD0GUDZ5LK",
        "outputId": "be0a41cb-658a-481c-f334-607845d72b21"
      },
      "execution_count": null,
      "outputs": [
        {
          "output_type": "execute_result",
          "data": {
            "text/plain": [
              "0     5014\n",
              "1    12365\n",
              "Name: week&holi, dtype: int64"
            ]
          },
          "metadata": {},
          "execution_count": 32
        }
      ]
    },
    {
      "cell_type": "markdown",
      "source": [
        "**Função Probabilidade**"
      ],
      "metadata": {
        "id": "jR_zMtb7aUXR"
      }
    },
    {
      "cell_type": "code",
      "source": [
        "fp = dataset['week&holi'].value_counts().sort_index()/dataset['teste'].count()\n",
        "print(fp)"
      ],
      "metadata": {
        "colab": {
          "base_uri": "https://localhost:8080/"
        },
        "id": "3Zu69_D6aZx-",
        "outputId": "33213f6b-df8b-4795-ff33-9e2c2b0f0420"
      },
      "execution_count": null,
      "outputs": [
        {
          "output_type": "stream",
          "name": "stdout",
          "text": [
            "0    0.288509\n",
            "1    0.711491\n",
            "Name: week&holi, dtype: float64\n"
          ]
        }
      ]
    },
    {
      "cell_type": "markdown",
      "source": [
        "**Função Repartição (função cumulativa)**\n"
      ],
      "metadata": {
        "id": "XqWlOV17au-w"
      }
    },
    {
      "cell_type": "code",
      "source": [
        "fp.cumsum()"
      ],
      "metadata": {
        "colab": {
          "base_uri": "https://localhost:8080/"
        },
        "id": "pgiyviyPaQIm",
        "outputId": "0ed688f3-263e-4d6c-8d70-48f06e12359d"
      },
      "execution_count": null,
      "outputs": [
        {
          "output_type": "execute_result",
          "data": {
            "text/plain": [
              "0    0.288509\n",
              "1    1.000000\n",
              "Name: week&holi, dtype: float64"
            ]
          },
          "metadata": {},
          "execution_count": 34
        }
      ]
    },
    {
      "cell_type": "markdown",
      "source": [
        "**Gráfico**"
      ],
      "metadata": {
        "id": "1wDWa-b_bCYd"
      }
    },
    {
      "cell_type": "code",
      "source": [
        "import matplotlib.pyplot as plt"
      ],
      "metadata": {
        "id": "uSoU1_-BbFdk"
      },
      "execution_count": null,
      "outputs": []
    },
    {
      "cell_type": "code",
      "source": [
        "plt.plot(fp)"
      ],
      "metadata": {
        "colab": {
          "base_uri": "https://localhost:8080/",
          "height": 166
        },
        "id": "xXxMPRMIbM-o",
        "outputId": "8e7a0911-a638-4907-af70-a2abcad47867"
      },
      "execution_count": null,
      "outputs": [
        {
          "output_type": "error",
          "ename": "NameError",
          "evalue": "ignored",
          "traceback": [
            "\u001b[0;31m---------------------------------------------------------------------------\u001b[0m",
            "\u001b[0;31mNameError\u001b[0m                                 Traceback (most recent call last)",
            "\u001b[0;32m<ipython-input-25-f1fc60fde980>\u001b[0m in \u001b[0;36m<module>\u001b[0;34m()\u001b[0m\n\u001b[0;32m----> 1\u001b[0;31m \u001b[0mplt\u001b[0m\u001b[0;34m.\u001b[0m\u001b[0mplot\u001b[0m\u001b[0;34m(\u001b[0m\u001b[0mfp\u001b[0m\u001b[0;34m)\u001b[0m\u001b[0;34m\u001b[0m\u001b[0;34m\u001b[0m\u001b[0m\n\u001b[0m",
            "\u001b[0;31mNameError\u001b[0m: name 'fp' is not defined"
          ]
        }
      ]
    },
    {
      "cell_type": "code",
      "source": [
        "grafic = fp.cumsum()"
      ],
      "metadata": {
        "id": "7TcLwfwfbSGU"
      },
      "execution_count": null,
      "outputs": []
    },
    {
      "cell_type": "code",
      "source": [
        "plt.plot(grafic, 'r--')\n",
        "plt.title('Gráfico Acumulado')\n",
        "plt.xlabel('Quantidade de Feriados')\n",
        "plt.ylabel('Probabilidade')"
      ],
      "metadata": {
        "colab": {
          "base_uri": "https://localhost:8080/",
          "height": 312
        },
        "id": "8CuQ0US3bXmx",
        "outputId": "a326a2f7-645b-402a-9a60-0d7160b654bf"
      },
      "execution_count": null,
      "outputs": [
        {
          "output_type": "execute_result",
          "data": {
            "text/plain": [
              "Text(0, 0.5, 'Probabilidade')"
            ]
          },
          "metadata": {},
          "execution_count": 38
        },
        {
          "output_type": "display_data",
          "data": {
            "text/plain": [
              "<Figure size 432x288 with 1 Axes>"
            ],
            "image/png": "[encoded data removed]"
          },
          "metadata": {
            "needs_background": "light"
          }
        }
      ]
    },
    {
      "cell_type": "code",
      "source": [],
      "metadata": {
        "id": "BOt0CXPfbsY4"
      },
      "execution_count": null,
      "outputs": []
    },
    {
      "cell_type": "markdown",
      "source": [
        "##**Covariância**"
      ],
      "metadata": {
        "id": "msxmoirSb2ff"
      }
    },
    {
      "cell_type": "code",
      "source": [
        "dataset[['week&holi', 'casual']].cov()"
      ],
      "metadata": {
        "colab": {
          "base_uri": "https://localhost:8080/",
          "height": 112
        },
        "id": "MQUMDGRwb9ie",
        "outputId": "829f76dc-4b9e-4a63-9527-8e7f8483eba4"
      },
      "execution_count": null,
      "outputs": [
        {
          "output_type": "execute_result",
          "data": {
            "text/plain": [
              "           week&holi       casual\n",
              "week&holi   0.205283    -6.645899\n",
              "casual     -6.645899  2430.986021"
            ],
            "text/html": [
              "\n",
              "  <div id=\"df-b8c53cb1-7775-4a2d-92e9-74ebab01e337\">\n",
              "    <div class=\"colab-df-container\">\n",
              "      <div>\n",
              "<style scoped>\n",
              "    .dataframe tbody tr th:only-of-type {\n",
              "        vertical-align: middle;\n",
              "    }\n",
              "\n",
              "    .dataframe tbody tr th {\n",
              "        vertical-align: top;\n",
              "    }\n",
              "\n",
              "    .dataframe thead th {\n",
              "        text-align: right;\n",
              "    }\n",
              "</style>\n",
              "<table border=\"1\" class=\"dataframe\">\n",
              "  <thead>\n",
              "    <tr style=\"text-align: right;\">\n",
              "      <th></th>\n",
              "      <th>week&amp;holi</th>\n",
              "      <th>casual</th>\n",
              "    </tr>\n",
              "  </thead>\n",
              "  <tbody>\n",
              "    <tr>\n",
              "      <th>week&amp;holi</th>\n",
              "      <td>0.205283</td>\n",
              "      <td>-6.645899</td>\n",
              "    </tr>\n",
              "    <tr>\n",
              "      <th>casual</th>\n",
              "      <td>-6.645899</td>\n",
              "      <td>2430.986021</td>\n",
              "    </tr>\n",
              "  </tbody>\n",
              "</table>\n",
              "</div>\n",
              "      <button class=\"colab-df-convert\" onclick=\"convertToInteractive('df-b8c53cb1-7775-4a2d-92e9-74ebab01e337')\"\n",
              "              title=\"Convert this dataframe to an interactive table.\"\n",
              "              style=\"display:none;\">\n",
              "        \n",
              "  <svg xmlns=\"http://www.w3.org/2000/svg\" height=\"24px\"viewBox=\"0 0 24 24\"\n",
              "       width=\"24px\">\n",
              "    <path d=\"M0 0h24v24H0V0z\" fill=\"none\"/>\n",
              "    <path d=\"M18.56 5.44l.94 2.06.94-2.06 2.06-.94-2.06-.94-.94-2.06-.94 2.06-2.06.94zm-11 1L8.5 8.5l.94-2.06 2.06-.94-2.06-.94L8.5 2.5l-.94 2.06-2.06.94zm10 10l.94 2.06.94-2.06 2.06-.94-2.06-.94-.94-2.06-.94 2.06-2.06.94z\"/><path d=\"M17.41 7.96l-1.37-1.37c-.4-.4-.92-.59-1.43-.59-.52 0-1.04.2-1.43.59L10.3 9.45l-7.72 7.72c-.78.78-.78 2.05 0 2.83L4 21.41c.39.39.9.59 1.41.59.51 0 1.02-.2 1.41-.59l7.78-7.78 2.81-2.81c.8-.78.8-2.07 0-2.86zM5.41 20L4 18.59l7.72-7.72 1.47 1.35L5.41 20z\"/>\n",
              "  </svg>\n",
              "      </button>\n",
              "      \n",
              "  <style>\n",
              "    .colab-df-container {\n",
              "      display:flex;\n",
              "      flex-wrap:wrap;\n",
              "      gap: 12px;\n",
              "    }\n",
              "\n",
              "    .colab-df-convert {\n",
              "      background-color: #E8F0FE;\n",
              "      border: none;\n",
              "      border-radius: 50%;\n",
              "      cursor: pointer;\n",
              "      display: none;\n",
              "      fill: #1967D2;\n",
              "      height: 32px;\n",
              "      padding: 0 0 0 0;\n",
              "      width: 32px;\n",
              "    }\n",
              "\n",
              "    .colab-df-convert:hover {\n",
              "      background-color: #E2EBFA;\n",
              "      box-shadow: 0px 1px 2px rgba(60, 64, 67, 0.3), 0px 1px 3px 1px rgba(60, 64, 67, 0.15);\n",
              "      fill: #174EA6;\n",
              "    }\n",
              "\n",
              "    [theme=dark] .colab-df-convert {\n",
              "      background-color: #3B4455;\n",
              "      fill: #D2E3FC;\n",
              "    }\n",
              "\n",
              "    [theme=dark] .colab-df-convert:hover {\n",
              "      background-color: #434B5C;\n",
              "      box-shadow: 0px 1px 3px 1px rgba(0, 0, 0, 0.15);\n",
              "      filter: drop-shadow(0px 1px 2px rgba(0, 0, 0, 0.3));\n",
              "      fill: #FFFFFF;\n",
              "    }\n",
              "  </style>\n",
              "\n",
              "      <script>\n",
              "        const buttonEl =\n",
              "          document.querySelector('#df-b8c53cb1-7775-4a2d-92e9-74ebab01e337 button.colab-df-convert');\n",
              "        buttonEl.style.display =\n",
              "          google.colab.kernel.accessAllowed ? 'block' : 'none';\n",
              "\n",
              "        async function convertToInteractive(key) {\n",
              "          const element = document.querySelector('#df-b8c53cb1-7775-4a2d-92e9-74ebab01e337');\n",
              "          const dataTable =\n",
              "            await google.colab.kernel.invokeFunction('convertToInteractive',\n",
              "                                                     [key], {});\n",
              "          if (!dataTable) return;\n",
              "\n",
              "          const docLinkHtml = 'Like what you see? Visit the ' +\n",
              "            '<a target=\"_blank\" href=https://colab.research.google.com/notebooks/data_table.ipynb>data table notebook</a>'\n",
              "            + ' to learn more about interactive tables.';\n",
              "          element.innerHTML = '';\n",
              "          dataTable['output_type'] = 'display_data';\n",
              "          await google.colab.output.renderOutput(dataTable, element);\n",
              "          const docLink = document.createElement('div');\n",
              "          docLink.innerHTML = docLinkHtml;\n",
              "          element.appendChild(docLink);\n",
              "        }\n",
              "      </script>\n",
              "    </div>\n",
              "  </div>\n",
              "  "
            ]
          },
          "metadata": {},
          "execution_count": 39
        }
      ]
    },
    {
      "cell_type": "markdown",
      "source": [
        "##**Correlação**"
      ],
      "metadata": {
        "id": "zTFdsWgwKUTB"
      }
    },
    {
      "cell_type": "code",
      "source": [
        "dataset[['week&holi', 'casual']].corr()"
      ],
      "metadata": {
        "colab": {
          "base_uri": "https://localhost:8080/",
          "height": 112
        },
        "id": "sw3P2HVCKZp0",
        "outputId": "67f94c6b-7562-4b8d-aa99-d27fa12d92da"
      },
      "execution_count": null,
      "outputs": [
        {
          "output_type": "execute_result",
          "data": {
            "text/plain": [
              "           week&holi    casual\n",
              "week&holi   1.000000 -0.297499\n",
              "casual     -0.297499  1.000000"
            ],
            "text/html": [
              "\n",
              "  <div id=\"df-594f1749-89ab-4e64-8715-cd459b9da983\">\n",
              "    <div class=\"colab-df-container\">\n",
              "      <div>\n",
              "<style scoped>\n",
              "    .dataframe tbody tr th:only-of-type {\n",
              "        vertical-align: middle;\n",
              "    }\n",
              "\n",
              "    .dataframe tbody tr th {\n",
              "        vertical-align: top;\n",
              "    }\n",
              "\n",
              "    .dataframe thead th {\n",
              "        text-align: right;\n",
              "    }\n",
              "</style>\n",
              "<table border=\"1\" class=\"dataframe\">\n",
              "  <thead>\n",
              "    <tr style=\"text-align: right;\">\n",
              "      <th></th>\n",
              "      <th>week&amp;holi</th>\n",
              "      <th>casual</th>\n",
              "    </tr>\n",
              "  </thead>\n",
              "  <tbody>\n",
              "    <tr>\n",
              "      <th>week&amp;holi</th>\n",
              "      <td>1.000000</td>\n",
              "      <td>-0.297499</td>\n",
              "    </tr>\n",
              "    <tr>\n",
              "      <th>casual</th>\n",
              "      <td>-0.297499</td>\n",
              "      <td>1.000000</td>\n",
              "    </tr>\n",
              "  </tbody>\n",
              "</table>\n",
              "</div>\n",
              "      <button class=\"colab-df-convert\" onclick=\"convertToInteractive('df-594f1749-89ab-4e64-8715-cd459b9da983')\"\n",
              "              title=\"Convert this dataframe to an interactive table.\"\n",
              "              style=\"display:none;\">\n",
              "        \n",
              "  <svg xmlns=\"http://www.w3.org/2000/svg\" height=\"24px\"viewBox=\"0 0 24 24\"\n",
              "       width=\"24px\">\n",
              "    <path d=\"M0 0h24v24H0V0z\" fill=\"none\"/>\n",
              "    <path d=\"M18.56 5.44l.94 2.06.94-2.06 2.06-.94-2.06-.94-.94-2.06-.94 2.06-2.06.94zm-11 1L8.5 8.5l.94-2.06 2.06-.94-2.06-.94L8.5 2.5l-.94 2.06-2.06.94zm10 10l.94 2.06.94-2.06 2.06-.94-2.06-.94-.94-2.06-.94 2.06-2.06.94z\"/><path d=\"M17.41 7.96l-1.37-1.37c-.4-.4-.92-.59-1.43-.59-.52 0-1.04.2-1.43.59L10.3 9.45l-7.72 7.72c-.78.78-.78 2.05 0 2.83L4 21.41c.39.39.9.59 1.41.59.51 0 1.02-.2 1.41-.59l7.78-7.78 2.81-2.81c.8-.78.8-2.07 0-2.86zM5.41 20L4 18.59l7.72-7.72 1.47 1.35L5.41 20z\"/>\n",
              "  </svg>\n",
              "      </button>\n",
              "      \n",
              "  <style>\n",
              "    .colab-df-container {\n",
              "      display:flex;\n",
              "      flex-wrap:wrap;\n",
              "      gap: 12px;\n",
              "    }\n",
              "\n",
              "    .colab-df-convert {\n",
              "      background-color: #E8F0FE;\n",
              "      border: none;\n",
              "      border-radius: 50%;\n",
              "      cursor: pointer;\n",
              "      display: none;\n",
              "      fill: #1967D2;\n",
              "      height: 32px;\n",
              "      padding: 0 0 0 0;\n",
              "      width: 32px;\n",
              "    }\n",
              "\n",
              "    .colab-df-convert:hover {\n",
              "      background-color: #E2EBFA;\n",
              "      box-shadow: 0px 1px 2px rgba(60, 64, 67, 0.3), 0px 1px 3px 1px rgba(60, 64, 67, 0.15);\n",
              "      fill: #174EA6;\n",
              "    }\n",
              "\n",
              "    [theme=dark] .colab-df-convert {\n",
              "      background-color: #3B4455;\n",
              "      fill: #D2E3FC;\n",
              "    }\n",
              "\n",
              "    [theme=dark] .colab-df-convert:hover {\n",
              "      background-color: #434B5C;\n",
              "      box-shadow: 0px 1px 3px 1px rgba(0, 0, 0, 0.15);\n",
              "      filter: drop-shadow(0px 1px 2px rgba(0, 0, 0, 0.3));\n",
              "      fill: #FFFFFF;\n",
              "    }\n",
              "  </style>\n",
              "\n",
              "      <script>\n",
              "        const buttonEl =\n",
              "          document.querySelector('#df-594f1749-89ab-4e64-8715-cd459b9da983 button.colab-df-convert');\n",
              "        buttonEl.style.display =\n",
              "          google.colab.kernel.accessAllowed ? 'block' : 'none';\n",
              "\n",
              "        async function convertToInteractive(key) {\n",
              "          const element = document.querySelector('#df-594f1749-89ab-4e64-8715-cd459b9da983');\n",
              "          const dataTable =\n",
              "            await google.colab.kernel.invokeFunction('convertToInteractive',\n",
              "                                                     [key], {});\n",
              "          if (!dataTable) return;\n",
              "\n",
              "          const docLinkHtml = 'Like what you see? Visit the ' +\n",
              "            '<a target=\"_blank\" href=https://colab.research.google.com/notebooks/data_table.ipynb>data table notebook</a>'\n",
              "            + ' to learn more about interactive tables.';\n",
              "          element.innerHTML = '';\n",
              "          dataTable['output_type'] = 'display_data';\n",
              "          await google.colab.output.renderOutput(dataTable, element);\n",
              "          const docLink = document.createElement('div');\n",
              "          docLink.innerHTML = docLinkHtml;\n",
              "          element.appendChild(docLink);\n",
              "        }\n",
              "      </script>\n",
              "    </div>\n",
              "  </div>\n",
              "  "
            ]
          },
          "metadata": {},
          "execution_count": 6
        }
      ]
    },
    {
      "cell_type": "code",
      "source": [
        "dataset[['Feriado']] = pd.get_dummies(dataset['holiday'], drop_first=True)\n",
        "dataset"
      ],
      "metadata": {
        "colab": {
          "base_uri": "https://localhost:8080/",
          "height": 468
        },
        "id": "TOibKfsDb7TW",
        "outputId": "e5f52e70-25a5-41a1-a4f5-45f9ffe360d6"
      },
      "execution_count": null,
      "outputs": [
        {
          "output_type": "execute_result",
          "data": {
            "text/plain": [
              "                  datetime  season  holiday  workingday  weathersit  temp  \\\n",
              "0      2011-01-01 00:00:00       1        0           0           1  24.0   \n",
              "1      2011-01-01 01:00:00       1        0           0           1  22.0   \n",
              "2      2011-01-01 02:00:00       1        0           0           1  22.0   \n",
              "3      2011-01-01 03:00:00       1        0           0           1  24.0   \n",
              "4      2011-01-01 04:00:00       1        0           0           1  24.0   \n",
              "...                    ...     ...      ...         ...         ...   ...   \n",
              "17374  2012-12-31 19:00:00       1        0           1           2  26.0   \n",
              "17375  2012-12-31 20:00:00       1        0           1           2  26.0   \n",
              "17376  2012-12-31 21:00:00       1        0           1           1  26.0   \n",
              "17377  2012-12-31 22:00:00       1        0           1           1  26.0   \n",
              "17378  2012-12-31 23:00:00       1        0           1           1  26.0   \n",
              "\n",
              "       atemp   hum  windspeed  casual  registered  cnt  week&holi  Feriado  \n",
              "0      28.79  81.0       0.00       3          13   16          0        0  \n",
              "1      27.27  80.0       0.00       8          32   40          0        0  \n",
              "2      27.27  80.0       0.00       5          27   32          0        0  \n",
              "3      28.79  75.0       0.00       3          10   13          0        0  \n",
              "4      28.79  75.0       0.00       0           1    1          0        0  \n",
              "...      ...   ...        ...     ...         ...  ...        ...      ...  \n",
              "17374  25.76  60.0      16.42      11         108  119          1        0  \n",
              "17375  25.76  60.0      16.42       8          81   89          1        0  \n",
              "17376  25.76  60.0      16.42       7          83   90          1        0  \n",
              "17377  27.27  56.0      13.43      13          48   61          1        0  \n",
              "17378  27.27  65.0      13.43      12          37   49          1        0  \n",
              "\n",
              "[17379 rows x 14 columns]"
            ],
            "text/html": [
              "\n",
              "  <div id=\"df-99ce3bc0-2775-4913-ad75-bdb7e25bb08b\">\n",
              "    <div class=\"colab-df-container\">\n",
              "      <div>\n",
              "<style scoped>\n",
              "    .dataframe tbody tr th:only-of-type {\n",
              "        vertical-align: middle;\n",
              "    }\n",
              "\n",
              "    .dataframe tbody tr th {\n",
              "        vertical-align: top;\n",
              "    }\n",
              "\n",
              "    .dataframe thead th {\n",
              "        text-align: right;\n",
              "    }\n",
              "</style>\n",
              "<table border=\"1\" class=\"dataframe\">\n",
              "  <thead>\n",
              "    <tr style=\"text-align: right;\">\n",
              "      <th></th>\n",
              "      <th>datetime</th>\n",
              "      <th>season</th>\n",
              "      <th>holiday</th>\n",
              "      <th>workingday</th>\n",
              "      <th>weathersit</th>\n",
              "      <th>temp</th>\n",
              "      <th>atemp</th>\n",
              "      <th>hum</th>\n",
              "      <th>windspeed</th>\n",
              "      <th>casual</th>\n",
              "      <th>registered</th>\n",
              "      <th>cnt</th>\n",
              "      <th>week&amp;holi</th>\n",
              "      <th>Feriado</th>\n",
              "    </tr>\n",
              "  </thead>\n",
              "  <tbody>\n",
              "    <tr>\n",
              "      <th>0</th>\n",
              "      <td>2011-01-01 00:00:00</td>\n",
              "      <td>1</td>\n",
              "      <td>0</td>\n",
              "      <td>0</td>\n",
              "      <td>1</td>\n",
              "      <td>24.0</td>\n",
              "      <td>28.79</td>\n",
              "      <td>81.0</td>\n",
              "      <td>0.00</td>\n",
              "      <td>3</td>\n",
              "      <td>13</td>\n",
              "      <td>16</td>\n",
              "      <td>0</td>\n",
              "      <td>0</td>\n",
              "    </tr>\n",
              "    <tr>\n",
              "      <th>1</th>\n",
              "      <td>2011-01-01 01:00:00</td>\n",
              "      <td>1</td>\n",
              "      <td>0</td>\n",
              "      <td>0</td>\n",
              "      <td>1</td>\n",
              "      <td>22.0</td>\n",
              "      <td>27.27</td>\n",
              "      <td>80.0</td>\n",
              "      <td>0.00</td>\n",
              "      <td>8</td>\n",
              "      <td>32</td>\n",
              "      <td>40</td>\n",
              "      <td>0</td>\n",
              "      <td>0</td>\n",
              "    </tr>\n",
              "    <tr>\n",
              "      <th>2</th>\n",
              "      <td>2011-01-01 02:00:00</td>\n",
              "      <td>1</td>\n",
              "      <td>0</td>\n",
              "      <td>0</td>\n",
              "      <td>1</td>\n",
              "      <td>22.0</td>\n",
              "      <td>27.27</td>\n",
              "      <td>80.0</td>\n",
              "      <td>0.00</td>\n",
              "      <td>5</td>\n",
              "      <td>27</td>\n",
              "      <td>32</td>\n",
              "      <td>0</td>\n",
              "      <td>0</td>\n",
              "    </tr>\n",
              "    <tr>\n",
              "      <th>3</th>\n",
              "      <td>2011-01-01 03:00:00</td>\n",
              "      <td>1</td>\n",
              "      <td>0</td>\n",
              "      <td>0</td>\n",
              "      <td>1</td>\n",
              "      <td>24.0</td>\n",
              "      <td>28.79</td>\n",
              "      <td>75.0</td>\n",
              "      <td>0.00</td>\n",
              "      <td>3</td>\n",
              "      <td>10</td>\n",
              "      <td>13</td>\n",
              "      <td>0</td>\n",
              "      <td>0</td>\n",
              "    </tr>\n",
              "    <tr>\n",
              "      <th>4</th>\n",
              "      <td>2011-01-01 04:00:00</td>\n",
              "      <td>1</td>\n",
              "      <td>0</td>\n",
              "      <td>0</td>\n",
              "      <td>1</td>\n",
              "      <td>24.0</td>\n",
              "      <td>28.79</td>\n",
              "      <td>75.0</td>\n",
              "      <td>0.00</td>\n",
              "      <td>0</td>\n",
              "      <td>1</td>\n",
              "      <td>1</td>\n",
              "      <td>0</td>\n",
              "      <td>0</td>\n",
              "    </tr>\n",
              "    <tr>\n",
              "      <th>...</th>\n",
              "      <td>...</td>\n",
              "      <td>...</td>\n",
              "      <td>...</td>\n",
              "      <td>...</td>\n",
              "      <td>...</td>\n",
              "      <td>...</td>\n",
              "      <td>...</td>\n",
              "      <td>...</td>\n",
              "      <td>...</td>\n",
              "      <td>...</td>\n",
              "      <td>...</td>\n",
              "      <td>...</td>\n",
              "      <td>...</td>\n",
              "      <td>...</td>\n",
              "    </tr>\n",
              "    <tr>\n",
              "      <th>17374</th>\n",
              "      <td>2012-12-31 19:00:00</td>\n",
              "      <td>1</td>\n",
              "      <td>0</td>\n",
              "      <td>1</td>\n",
              "      <td>2</td>\n",
              "      <td>26.0</td>\n",
              "      <td>25.76</td>\n",
              "      <td>60.0</td>\n",
              "      <td>16.42</td>\n",
              "      <td>11</td>\n",
              "      <td>108</td>\n",
              "      <td>119</td>\n",
              "      <td>1</td>\n",
              "      <td>0</td>\n",
              "    </tr>\n",
              "    <tr>\n",
              "      <th>17375</th>\n",
              "      <td>2012-12-31 20:00:00</td>\n",
              "      <td>1</td>\n",
              "      <td>0</td>\n",
              "      <td>1</td>\n",
              "      <td>2</td>\n",
              "      <td>26.0</td>\n",
              "      <td>25.76</td>\n",
              "      <td>60.0</td>\n",
              "      <td>16.42</td>\n",
              "      <td>8</td>\n",
              "      <td>81</td>\n",
              "      <td>89</td>\n",
              "      <td>1</td>\n",
              "      <td>0</td>\n",
              "    </tr>\n",
              "    <tr>\n",
              "      <th>17376</th>\n",
              "      <td>2012-12-31 21:00:00</td>\n",
              "      <td>1</td>\n",
              "      <td>0</td>\n",
              "      <td>1</td>\n",
              "      <td>1</td>\n",
              "      <td>26.0</td>\n",
              "      <td>25.76</td>\n",
              "      <td>60.0</td>\n",
              "      <td>16.42</td>\n",
              "      <td>7</td>\n",
              "      <td>83</td>\n",
              "      <td>90</td>\n",
              "      <td>1</td>\n",
              "      <td>0</td>\n",
              "    </tr>\n",
              "    <tr>\n",
              "      <th>17377</th>\n",
              "      <td>2012-12-31 22:00:00</td>\n",
              "      <td>1</td>\n",
              "      <td>0</td>\n",
              "      <td>1</td>\n",
              "      <td>1</td>\n",
              "      <td>26.0</td>\n",
              "      <td>27.27</td>\n",
              "      <td>56.0</td>\n",
              "      <td>13.43</td>\n",
              "      <td>13</td>\n",
              "      <td>48</td>\n",
              "      <td>61</td>\n",
              "      <td>1</td>\n",
              "      <td>0</td>\n",
              "    </tr>\n",
              "    <tr>\n",
              "      <th>17378</th>\n",
              "      <td>2012-12-31 23:00:00</td>\n",
              "      <td>1</td>\n",
              "      <td>0</td>\n",
              "      <td>1</td>\n",
              "      <td>1</td>\n",
              "      <td>26.0</td>\n",
              "      <td>27.27</td>\n",
              "      <td>65.0</td>\n",
              "      <td>13.43</td>\n",
              "      <td>12</td>\n",
              "      <td>37</td>\n",
              "      <td>49</td>\n",
              "      <td>1</td>\n",
              "      <td>0</td>\n",
              "    </tr>\n",
              "  </tbody>\n",
              "</table>\n",
              "<p>17379 rows × 14 columns</p>\n",
              "</div>\n",
              "      <button class=\"colab-df-convert\" onclick=\"convertToInteractive('df-99ce3bc0-2775-4913-ad75-bdb7e25bb08b')\"\n",
              "              title=\"Convert this dataframe to an interactive table.\"\n",
              "              style=\"display:none;\">\n",
              "        \n",
              "  <svg xmlns=\"http://www.w3.org/2000/svg\" height=\"24px\"viewBox=\"0 0 24 24\"\n",
              "       width=\"24px\">\n",
              "    <path d=\"M0 0h24v24H0V0z\" fill=\"none\"/>\n",
              "    <path d=\"M18.56 5.44l.94 2.06.94-2.06 2.06-.94-2.06-.94-.94-2.06-.94 2.06-2.06.94zm-11 1L8.5 8.5l.94-2.06 2.06-.94-2.06-.94L8.5 2.5l-.94 2.06-2.06.94zm10 10l.94 2.06.94-2.06 2.06-.94-2.06-.94-.94-2.06-.94 2.06-2.06.94z\"/><path d=\"M17.41 7.96l-1.37-1.37c-.4-.4-.92-.59-1.43-.59-.52 0-1.04.2-1.43.59L10.3 9.45l-7.72 7.72c-.78.78-.78 2.05 0 2.83L4 21.41c.39.39.9.59 1.41.59.51 0 1.02-.2 1.41-.59l7.78-7.78 2.81-2.81c.8-.78.8-2.07 0-2.86zM5.41 20L4 18.59l7.72-7.72 1.47 1.35L5.41 20z\"/>\n",
              "  </svg>\n",
              "      </button>\n",
              "      \n",
              "  <style>\n",
              "    .colab-df-container {\n",
              "      display:flex;\n",
              "      flex-wrap:wrap;\n",
              "      gap: 12px;\n",
              "    }\n",
              "\n",
              "    .colab-df-convert {\n",
              "      background-color: #E8F0FE;\n",
              "      border: none;\n",
              "      border-radius: 50%;\n",
              "      cursor: pointer;\n",
              "      display: none;\n",
              "      fill: #1967D2;\n",
              "      height: 32px;\n",
              "      padding: 0 0 0 0;\n",
              "      width: 32px;\n",
              "    }\n",
              "\n",
              "    .colab-df-convert:hover {\n",
              "      background-color: #E2EBFA;\n",
              "      box-shadow: 0px 1px 2px rgba(60, 64, 67, 0.3), 0px 1px 3px 1px rgba(60, 64, 67, 0.15);\n",
              "      fill: #174EA6;\n",
              "    }\n",
              "\n",
              "    [theme=dark] .colab-df-convert {\n",
              "      background-color: #3B4455;\n",
              "      fill: #D2E3FC;\n",
              "    }\n",
              "\n",
              "    [theme=dark] .colab-df-convert:hover {\n",
              "      background-color: #434B5C;\n",
              "      box-shadow: 0px 1px 3px 1px rgba(0, 0, 0, 0.15);\n",
              "      filter: drop-shadow(0px 1px 2px rgba(0, 0, 0, 0.3));\n",
              "      fill: #FFFFFF;\n",
              "    }\n",
              "  </style>\n",
              "\n",
              "      <script>\n",
              "        const buttonEl =\n",
              "          document.querySelector('#df-99ce3bc0-2775-4913-ad75-bdb7e25bb08b button.colab-df-convert');\n",
              "        buttonEl.style.display =\n",
              "          google.colab.kernel.accessAllowed ? 'block' : 'none';\n",
              "\n",
              "        async function convertToInteractive(key) {\n",
              "          const element = document.querySelector('#df-99ce3bc0-2775-4913-ad75-bdb7e25bb08b');\n",
              "          const dataTable =\n",
              "            await google.colab.kernel.invokeFunction('convertToInteractive',\n",
              "                                                     [key], {});\n",
              "          if (!dataTable) return;\n",
              "\n",
              "          const docLinkHtml = 'Like what you see? Visit the ' +\n",
              "            '<a target=\"_blank\" href=https://colab.research.google.com/notebooks/data_table.ipynb>data table notebook</a>'\n",
              "            + ' to learn more about interactive tables.';\n",
              "          element.innerHTML = '';\n",
              "          dataTable['output_type'] = 'display_data';\n",
              "          await google.colab.output.renderOutput(dataTable, element);\n",
              "          const docLink = document.createElement('div');\n",
              "          docLink.innerHTML = docLinkHtml;\n",
              "          element.appendChild(docLink);\n",
              "        }\n",
              "      </script>\n",
              "    </div>\n",
              "  </div>\n",
              "  "
            ]
          },
          "metadata": {},
          "execution_count": 7
        }
      ]
    },
    {
      "cell_type": "code",
      "source": [
        "dataset[['Feriado', 'casual']].corr()"
      ],
      "metadata": {
        "colab": {
          "base_uri": "https://localhost:8080/",
          "height": 112
        },
        "id": "rrDxDdPfLV2u",
        "outputId": "76a8c113-db78-4e86-9d1e-0018bee699d6"
      },
      "execution_count": null,
      "outputs": [
        {
          "output_type": "execute_result",
          "data": {
            "text/plain": [
              "          Feriado    casual\n",
              "Feriado  1.000000  0.031564\n",
              "casual   0.031564  1.000000"
            ],
            "text/html": [
              "\n",
              "  <div id=\"df-28816e6b-911b-4407-a235-ba1b56d583da\">\n",
              "    <div class=\"colab-df-container\">\n",
              "      <div>\n",
              "<style scoped>\n",
              "    .dataframe tbody tr th:only-of-type {\n",
              "        vertical-align: middle;\n",
              "    }\n",
              "\n",
              "    .dataframe tbody tr th {\n",
              "        vertical-align: top;\n",
              "    }\n",
              "\n",
              "    .dataframe thead th {\n",
              "        text-align: right;\n",
              "    }\n",
              "</style>\n",
              "<table border=\"1\" class=\"dataframe\">\n",
              "  <thead>\n",
              "    <tr style=\"text-align: right;\">\n",
              "      <th></th>\n",
              "      <th>Feriado</th>\n",
              "      <th>casual</th>\n",
              "    </tr>\n",
              "  </thead>\n",
              "  <tbody>\n",
              "    <tr>\n",
              "      <th>Feriado</th>\n",
              "      <td>1.000000</td>\n",
              "      <td>0.031564</td>\n",
              "    </tr>\n",
              "    <tr>\n",
              "      <th>casual</th>\n",
              "      <td>0.031564</td>\n",
              "      <td>1.000000</td>\n",
              "    </tr>\n",
              "  </tbody>\n",
              "</table>\n",
              "</div>\n",
              "      <button class=\"colab-df-convert\" onclick=\"convertToInteractive('df-28816e6b-911b-4407-a235-ba1b56d583da')\"\n",
              "              title=\"Convert this dataframe to an interactive table.\"\n",
              "              style=\"display:none;\">\n",
              "        \n",
              "  <svg xmlns=\"http://www.w3.org/2000/svg\" height=\"24px\"viewBox=\"0 0 24 24\"\n",
              "       width=\"24px\">\n",
              "    <path d=\"M0 0h24v24H0V0z\" fill=\"none\"/>\n",
              "    <path d=\"M18.56 5.44l.94 2.06.94-2.06 2.06-.94-2.06-.94-.94-2.06-.94 2.06-2.06.94zm-11 1L8.5 8.5l.94-2.06 2.06-.94-2.06-.94L8.5 2.5l-.94 2.06-2.06.94zm10 10l.94 2.06.94-2.06 2.06-.94-2.06-.94-.94-2.06-.94 2.06-2.06.94z\"/><path d=\"M17.41 7.96l-1.37-1.37c-.4-.4-.92-.59-1.43-.59-.52 0-1.04.2-1.43.59L10.3 9.45l-7.72 7.72c-.78.78-.78 2.05 0 2.83L4 21.41c.39.39.9.59 1.41.59.51 0 1.02-.2 1.41-.59l7.78-7.78 2.81-2.81c.8-.78.8-2.07 0-2.86zM5.41 20L4 18.59l7.72-7.72 1.47 1.35L5.41 20z\"/>\n",
              "  </svg>\n",
              "      </button>\n",
              "      \n",
              "  <style>\n",
              "    .colab-df-container {\n",
              "      display:flex;\n",
              "      flex-wrap:wrap;\n",
              "      gap: 12px;\n",
              "    }\n",
              "\n",
              "    .colab-df-convert {\n",
              "      background-color: #E8F0FE;\n",
              "      border: none;\n",
              "      border-radius: 50%;\n",
              "      cursor: pointer;\n",
              "      display: none;\n",
              "      fill: #1967D2;\n",
              "      height: 32px;\n",
              "      padding: 0 0 0 0;\n",
              "      width: 32px;\n",
              "    }\n",
              "\n",
              "    .colab-df-convert:hover {\n",
              "      background-color: #E2EBFA;\n",
              "      box-shadow: 0px 1px 2px rgba(60, 64, 67, 0.3), 0px 1px 3px 1px rgba(60, 64, 67, 0.15);\n",
              "      fill: #174EA6;\n",
              "    }\n",
              "\n",
              "    [theme=dark] .colab-df-convert {\n",
              "      background-color: #3B4455;\n",
              "      fill: #D2E3FC;\n",
              "    }\n",
              "\n",
              "    [theme=dark] .colab-df-convert:hover {\n",
              "      background-color: #434B5C;\n",
              "      box-shadow: 0px 1px 3px 1px rgba(0, 0, 0, 0.15);\n",
              "      filter: drop-shadow(0px 1px 2px rgba(0, 0, 0, 0.3));\n",
              "      fill: #FFFFFF;\n",
              "    }\n",
              "  </style>\n",
              "\n",
              "      <script>\n",
              "        const buttonEl =\n",
              "          document.querySelector('#df-28816e6b-911b-4407-a235-ba1b56d583da button.colab-df-convert');\n",
              "        buttonEl.style.display =\n",
              "          google.colab.kernel.accessAllowed ? 'block' : 'none';\n",
              "\n",
              "        async function convertToInteractive(key) {\n",
              "          const element = document.querySelector('#df-28816e6b-911b-4407-a235-ba1b56d583da');\n",
              "          const dataTable =\n",
              "            await google.colab.kernel.invokeFunction('convertToInteractive',\n",
              "                                                     [key], {});\n",
              "          if (!dataTable) return;\n",
              "\n",
              "          const docLinkHtml = 'Like what you see? Visit the ' +\n",
              "            '<a target=\"_blank\" href=https://colab.research.google.com/notebooks/data_table.ipynb>data table notebook</a>'\n",
              "            + ' to learn more about interactive tables.';\n",
              "          element.innerHTML = '';\n",
              "          dataTable['output_type'] = 'display_data';\n",
              "          await google.colab.output.renderOutput(dataTable, element);\n",
              "          const docLink = document.createElement('div');\n",
              "          docLink.innerHTML = docLinkHtml;\n",
              "          element.appendChild(docLink);\n",
              "        }\n",
              "      </script>\n",
              "    </div>\n",
              "  </div>\n",
              "  "
            ]
          },
          "metadata": {},
          "execution_count": 8
        }
      ]
    },
    {
      "cell_type": "markdown",
      "source": [
        "##**Info e Tratamento**"
      ],
      "metadata": {
        "id": "R1XY3GMhP0Fv"
      }
    },
    {
      "cell_type": "code",
      "source": [
        "import seaborn as sns\n",
        "sns.heatmap(dataset.isnull(), yticklabels=False, cbar=False)"
      ],
      "metadata": {
        "colab": {
          "base_uri": "https://localhost:8080/",
          "height": 330
        },
        "id": "Z2Ff4WAoP3mt",
        "outputId": "e1aa8666-3585-4200-a05a-8d96fa88a701"
      },
      "execution_count": null,
      "outputs": [
        {
          "output_type": "execute_result",
          "data": {
            "text/plain": [
              "<matplotlib.axes._subplots.AxesSubplot at 0x7ffb783d1e50>"
            ]
          },
          "metadata": {},
          "execution_count": 5
        },
        {
          "output_type": "display_data",
          "data": {
            "text/plain": [
              "<Figure size 432x288 with 1 Axes>"
            ],
            "image/png": "[encoded data removed]"
          },
          "metadata": {
            "needs_background": "light"
          }
        }
      ]
    },
    {
      "cell_type": "markdown",
      "source": [
        "##**Normal Padrão**"
      ],
      "metadata": {
        "id": "-R5KNWPUPWWM"
      }
    },
    {
      "cell_type": "markdown",
      "source": [
        "A seguir vamos normalizar os dados para que sigam uma normal-padrão, no caso teha uma média de 0 e um desvio-padrão de 1.\n",
        "\n",
        "normalizar tem como objetivo colocar as variáveis dentro do intervalo de 0 e 1, caso tenha resultado negativo -1 e 1."
      ],
      "metadata": {
        "id": "Tax9KtMz1a6u"
      }
    },
    {
      "cell_type": "code",
      "source": [
        "from sklearn.preprocessing import StandardScaler\n",
        "\n",
        "scaler = StandardScaler()\n",
        "\n",
        "ajuste = scaler.fit(dataset)\n",
        "normal = scaler.transform(dataset)\n",
        "normalpadrao = pd.DataFrame(normal)\n",
        "normalpadrao"
      ],
      "metadata": {
        "colab": {
          "base_uri": "https://localhost:8080/",
          "height": 424
        },
        "id": "Wow4tfAjPcWz",
        "outputId": "554a7d76-6aff-47f8-c6e8-be9476911fa0"
      },
      "execution_count": null,
      "outputs": [
        {
          "output_type": "execute_result",
          "data": {
            "text/plain": [
              "             0         1        2         3         4         5         6   \\\n",
              "0     -1.356634 -0.172112 -1.46690 -0.665193 -1.334648 -1.093281  0.947372   \n",
              "1     -1.356634 -0.172112 -1.46690 -0.665193 -1.438516 -1.181732  0.895539   \n",
              "2     -1.356634 -0.172112 -1.46690 -0.665193 -1.438516 -1.181732  0.895539   \n",
              "3     -1.356634 -0.172112 -1.46690 -0.665193 -1.334648 -1.093281  0.636370   \n",
              "4     -1.356634 -0.172112 -1.46690 -0.665193 -1.334648 -1.093281  0.636370   \n",
              "...         ...       ...      ...       ...       ...       ...       ...   \n",
              "17374 -1.356634 -0.172112  0.68171  0.898924 -1.230779 -1.269602 -0.141137   \n",
              "17375 -1.356634 -0.172112  0.68171  0.898924 -1.230779 -1.269602 -0.141137   \n",
              "17376 -1.356634 -0.172112  0.68171 -0.665193 -1.230779 -1.269602 -0.141137   \n",
              "17377 -1.356634 -0.172112  0.68171 -0.665193 -1.230779 -1.181732 -0.348473   \n",
              "17378 -1.356634 -0.172112  0.68171 -0.665193 -1.230779 -1.181732  0.118032   \n",
              "\n",
              "             7         8         9         10  \n",
              "0     -1.553889 -0.662755 -0.930189 -0.956339  \n",
              "1     -1.553889 -0.561343 -0.804655 -0.824022  \n",
              "2     -1.553889 -0.622190 -0.837690 -0.868128  \n",
              "3     -1.553889 -0.662755 -0.950010 -0.972879  \n",
              "4     -1.553889 -0.723603 -1.009474 -1.039037  \n",
              "...         ...       ...       ...       ...  \n",
              "17374 -0.211691 -0.500495 -0.302517 -0.388478  \n",
              "17375 -0.211691 -0.561343 -0.480908 -0.553875  \n",
              "17376 -0.211691 -0.581625 -0.467694 -0.548361  \n",
              "17377 -0.456099 -0.459930 -0.698942 -0.708245  \n",
              "17378 -0.456099 -0.480213 -0.771619 -0.774403  \n",
              "\n",
              "[17379 rows x 11 columns]"
            ],
            "text/html": [
              "\n",
              "  <div id=\"df-1fa6eee7-096a-4a27-bf5e-7347c6c83f36\">\n",
              "    <div class=\"colab-df-container\">\n",
              "      <div>\n",
              "<style scoped>\n",
              "    .dataframe tbody tr th:only-of-type {\n",
              "        vertical-align: middle;\n",
              "    }\n",
              "\n",
              "    .dataframe tbody tr th {\n",
              "        vertical-align: top;\n",
              "    }\n",
              "\n",
              "    .dataframe thead th {\n",
              "        text-align: right;\n",
              "    }\n",
              "</style>\n",
              "<table border=\"1\" class=\"dataframe\">\n",
              "  <thead>\n",
              "    <tr style=\"text-align: right;\">\n",
              "      <th></th>\n",
              "      <th>0</th>\n",
              "      <th>1</th>\n",
              "      <th>2</th>\n",
              "      <th>3</th>\n",
              "      <th>4</th>\n",
              "      <th>5</th>\n",
              "      <th>6</th>\n",
              "      <th>7</th>\n",
              "      <th>8</th>\n",
              "      <th>9</th>\n",
              "      <th>10</th>\n",
              "    </tr>\n",
              "  </thead>\n",
              "  <tbody>\n",
              "    <tr>\n",
              "      <th>0</th>\n",
              "      <td>-1.356634</td>\n",
              "      <td>-0.172112</td>\n",
              "      <td>-1.46690</td>\n",
              "      <td>-0.665193</td>\n",
              "      <td>-1.334648</td>\n",
              "      <td>-1.093281</td>\n",
              "      <td>0.947372</td>\n",
              "      <td>-1.553889</td>\n",
              "      <td>-0.662755</td>\n",
              "      <td>-0.930189</td>\n",
              "      <td>-0.956339</td>\n",
              "    </tr>\n",
              "    <tr>\n",
              "      <th>1</th>\n",
              "      <td>-1.356634</td>\n",
              "      <td>-0.172112</td>\n",
              "      <td>-1.46690</td>\n",
              "      <td>-0.665193</td>\n",
              "      <td>-1.438516</td>\n",
              "      <td>-1.181732</td>\n",
              "      <td>0.895539</td>\n",
              "      <td>-1.553889</td>\n",
              "      <td>-0.561343</td>\n",
              "      <td>-0.804655</td>\n",
              "      <td>-0.824022</td>\n",
              "    </tr>\n",
              "    <tr>\n",
              "      <th>2</th>\n",
              "      <td>-1.356634</td>\n",
              "      <td>-0.172112</td>\n",
              "      <td>-1.46690</td>\n",
              "      <td>-0.665193</td>\n",
              "      <td>-1.438516</td>\n",
              "      <td>-1.181732</td>\n",
              "      <td>0.895539</td>\n",
              "      <td>-1.553889</td>\n",
              "      <td>-0.622190</td>\n",
              "      <td>-0.837690</td>\n",
              "      <td>-0.868128</td>\n",
              "    </tr>\n",
              "    <tr>\n",
              "      <th>3</th>\n",
              "      <td>-1.356634</td>\n",
              "      <td>-0.172112</td>\n",
              "      <td>-1.46690</td>\n",
              "      <td>-0.665193</td>\n",
              "      <td>-1.334648</td>\n",
              "      <td>-1.093281</td>\n",
              "      <td>0.636370</td>\n",
              "      <td>-1.553889</td>\n",
              "      <td>-0.662755</td>\n",
              "      <td>-0.950010</td>\n",
              "      <td>-0.972879</td>\n",
              "    </tr>\n",
              "    <tr>\n",
              "      <th>4</th>\n",
              "      <td>-1.356634</td>\n",
              "      <td>-0.172112</td>\n",
              "      <td>-1.46690</td>\n",
              "      <td>-0.665193</td>\n",
              "      <td>-1.334648</td>\n",
              "      <td>-1.093281</td>\n",
              "      <td>0.636370</td>\n",
              "      <td>-1.553889</td>\n",
              "      <td>-0.723603</td>\n",
              "      <td>-1.009474</td>\n",
              "      <td>-1.039037</td>\n",
              "    </tr>\n",
              "    <tr>\n",
              "      <th>...</th>\n",
              "      <td>...</td>\n",
              "      <td>...</td>\n",
              "      <td>...</td>\n",
              "      <td>...</td>\n",
              "      <td>...</td>\n",
              "      <td>...</td>\n",
              "      <td>...</td>\n",
              "      <td>...</td>\n",
              "      <td>...</td>\n",
              "      <td>...</td>\n",
              "      <td>...</td>\n",
              "    </tr>\n",
              "    <tr>\n",
              "      <th>17374</th>\n",
              "      <td>-1.356634</td>\n",
              "      <td>-0.172112</td>\n",
              "      <td>0.68171</td>\n",
              "      <td>0.898924</td>\n",
              "      <td>-1.230779</td>\n",
              "      <td>-1.269602</td>\n",
              "      <td>-0.141137</td>\n",
              "      <td>-0.211691</td>\n",
              "      <td>-0.500495</td>\n",
              "      <td>-0.302517</td>\n",
              "      <td>-0.388478</td>\n",
              "    </tr>\n",
              "    <tr>\n",
              "      <th>17375</th>\n",
              "      <td>-1.356634</td>\n",
              "      <td>-0.172112</td>\n",
              "      <td>0.68171</td>\n",
              "      <td>0.898924</td>\n",
              "      <td>-1.230779</td>\n",
              "      <td>-1.269602</td>\n",
              "      <td>-0.141137</td>\n",
              "      <td>-0.211691</td>\n",
              "      <td>-0.561343</td>\n",
              "      <td>-0.480908</td>\n",
              "      <td>-0.553875</td>\n",
              "    </tr>\n",
              "    <tr>\n",
              "      <th>17376</th>\n",
              "      <td>-1.356634</td>\n",
              "      <td>-0.172112</td>\n",
              "      <td>0.68171</td>\n",
              "      <td>-0.665193</td>\n",
              "      <td>-1.230779</td>\n",
              "      <td>-1.269602</td>\n",
              "      <td>-0.141137</td>\n",
              "      <td>-0.211691</td>\n",
              "      <td>-0.581625</td>\n",
              "      <td>-0.467694</td>\n",
              "      <td>-0.548361</td>\n",
              "    </tr>\n",
              "    <tr>\n",
              "      <th>17377</th>\n",
              "      <td>-1.356634</td>\n",
              "      <td>-0.172112</td>\n",
              "      <td>0.68171</td>\n",
              "      <td>-0.665193</td>\n",
              "      <td>-1.230779</td>\n",
              "      <td>-1.181732</td>\n",
              "      <td>-0.348473</td>\n",
              "      <td>-0.456099</td>\n",
              "      <td>-0.459930</td>\n",
              "      <td>-0.698942</td>\n",
              "      <td>-0.708245</td>\n",
              "    </tr>\n",
              "    <tr>\n",
              "      <th>17378</th>\n",
              "      <td>-1.356634</td>\n",
              "      <td>-0.172112</td>\n",
              "      <td>0.68171</td>\n",
              "      <td>-0.665193</td>\n",
              "      <td>-1.230779</td>\n",
              "      <td>-1.181732</td>\n",
              "      <td>0.118032</td>\n",
              "      <td>-0.456099</td>\n",
              "      <td>-0.480213</td>\n",
              "      <td>-0.771619</td>\n",
              "      <td>-0.774403</td>\n",
              "    </tr>\n",
              "  </tbody>\n",
              "</table>\n",
              "<p>17379 rows × 11 columns</p>\n",
              "</div>\n",
              "      <button class=\"colab-df-convert\" onclick=\"convertToInteractive('df-1fa6eee7-096a-4a27-bf5e-7347c6c83f36')\"\n",
              "              title=\"Convert this dataframe to an interactive table.\"\n",
              "              style=\"display:none;\">\n",
              "        \n",
              "  <svg xmlns=\"http://www.w3.org/2000/svg\" height=\"24px\"viewBox=\"0 0 24 24\"\n",
              "       width=\"24px\">\n",
              "    <path d=\"M0 0h24v24H0V0z\" fill=\"none\"/>\n",
              "    <path d=\"M18.56 5.44l.94 2.06.94-2.06 2.06-.94-2.06-.94-.94-2.06-.94 2.06-2.06.94zm-11 1L8.5 8.5l.94-2.06 2.06-.94-2.06-.94L8.5 2.5l-.94 2.06-2.06.94zm10 10l.94 2.06.94-2.06 2.06-.94-2.06-.94-.94-2.06-.94 2.06-2.06.94z\"/><path d=\"M17.41 7.96l-1.37-1.37c-.4-.4-.92-.59-1.43-.59-.52 0-1.04.2-1.43.59L10.3 9.45l-7.72 7.72c-.78.78-.78 2.05 0 2.83L4 21.41c.39.39.9.59 1.41.59.51 0 1.02-.2 1.41-.59l7.78-7.78 2.81-2.81c.8-.78.8-2.07 0-2.86zM5.41 20L4 18.59l7.72-7.72 1.47 1.35L5.41 20z\"/>\n",
              "  </svg>\n",
              "      </button>\n",
              "      \n",
              "  <style>\n",
              "    .colab-df-container {\n",
              "      display:flex;\n",
              "      flex-wrap:wrap;\n",
              "      gap: 12px;\n",
              "    }\n",
              "\n",
              "    .colab-df-convert {\n",
              "      background-color: #E8F0FE;\n",
              "      border: none;\n",
              "      border-radius: 50%;\n",
              "      cursor: pointer;\n",
              "      display: none;\n",
              "      fill: #1967D2;\n",
              "      height: 32px;\n",
              "      padding: 0 0 0 0;\n",
              "      width: 32px;\n",
              "    }\n",
              "\n",
              "    .colab-df-convert:hover {\n",
              "      background-color: #E2EBFA;\n",
              "      box-shadow: 0px 1px 2px rgba(60, 64, 67, 0.3), 0px 1px 3px 1px rgba(60, 64, 67, 0.15);\n",
              "      fill: #174EA6;\n",
              "    }\n",
              "\n",
              "    [theme=dark] .colab-df-convert {\n",
              "      background-color: #3B4455;\n",
              "      fill: #D2E3FC;\n",
              "    }\n",
              "\n",
              "    [theme=dark] .colab-df-convert:hover {\n",
              "      background-color: #434B5C;\n",
              "      box-shadow: 0px 1px 3px 1px rgba(0, 0, 0, 0.15);\n",
              "      filter: drop-shadow(0px 1px 2px rgba(0, 0, 0, 0.3));\n",
              "      fill: #FFFFFF;\n",
              "    }\n",
              "  </style>\n",
              "\n",
              "      <script>\n",
              "        const buttonEl =\n",
              "          document.querySelector('#df-1fa6eee7-096a-4a27-bf5e-7347c6c83f36 button.colab-df-convert');\n",
              "        buttonEl.style.display =\n",
              "          google.colab.kernel.accessAllowed ? 'block' : 'none';\n",
              "\n",
              "        async function convertToInteractive(key) {\n",
              "          const element = document.querySelector('#df-1fa6eee7-096a-4a27-bf5e-7347c6c83f36');\n",
              "          const dataTable =\n",
              "            await google.colab.kernel.invokeFunction('convertToInteractive',\n",
              "                                                     [key], {});\n",
              "          if (!dataTable) return;\n",
              "\n",
              "          const docLinkHtml = 'Like what you see? Visit the ' +\n",
              "            '<a target=\"_blank\" href=https://colab.research.google.com/notebooks/data_table.ipynb>data table notebook</a>'\n",
              "            + ' to learn more about interactive tables.';\n",
              "          element.innerHTML = '';\n",
              "          dataTable['output_type'] = 'display_data';\n",
              "          await google.colab.output.renderOutput(dataTable, element);\n",
              "          const docLink = document.createElement('div');\n",
              "          docLink.innerHTML = docLinkHtml;\n",
              "          element.appendChild(docLink);\n",
              "        }\n",
              "      </script>\n",
              "    </div>\n",
              "  </div>\n",
              "  "
            ]
          },
          "metadata": {},
          "execution_count": 26
        }
      ]
    },
    {
      "cell_type": "code",
      "source": [
        "normalpadrao.describe()"
      ],
      "metadata": {
        "colab": {
          "base_uri": "https://localhost:8080/",
          "height": 451
        },
        "id": "ZTNDGSGy24lp",
        "outputId": "25f137b8-d8e2-4cdd-fd71-5d6259ccd344"
      },
      "execution_count": null,
      "outputs": [
        {
          "output_type": "execute_result",
          "data": {
            "text/plain": [
              "                 0             1             2             3             4   \\\n",
              "count  1.737900e+04  1.737900e+04  1.737900e+04  1.737900e+04  1.737900e+04   \n",
              "mean   7.556797e-14 -6.231469e-17  1.067038e-15 -2.369843e-15  3.495934e-16   \n",
              "std    1.000029e+00  1.000029e+00  1.000029e+00  1.000029e+00  1.000029e+00   \n",
              "min   -1.356634e+00 -1.721122e-01 -1.466900e+00 -6.651929e-01 -2.477205e+00   \n",
              "25%   -4.531991e-01 -1.721122e-01 -1.466900e+00 -6.651929e-01 -8.153035e-01   \n",
              "50%    4.502360e-01 -1.721122e-01  6.817098e-01 -6.651929e-01  1.564696e-02   \n",
              "75%    4.502360e-01 -1.721122e-01  6.817098e-01  8.989239e-01  8.465975e-01   \n",
              "max    1.353671e+00  5.810164e+00  6.817098e-01  4.027157e+00  2.612367e+00   \n",
              "\n",
              "                 5             6             7             8             9   \\\n",
              "count  1.737900e+04  1.737900e+04  1.737900e+04  1.737900e+04  1.737900e+04   \n",
              "mean  -1.804746e-15  9.953374e-17  3.938197e-15 -2.642061e-15  1.186122e-15   \n",
              "std    1.000029e+00  1.000029e+00  1.000029e+00  1.000029e+00  1.000029e+00   \n",
              "min   -2.768625e+00 -3.251166e+00 -1.553889e+00 -7.236025e-01 -1.016081e+00   \n",
              "25%   -8.290895e-01 -7.631431e-01 -6.996886e-01 -6.424726e-01 -7.914407e-01   \n",
              "50%    5.251758e-02  1.436398e-02  3.189880e-02 -3.788002e-01 -2.562677e-01   \n",
              "75%    8.462549e-01  7.918711e-01  5.198962e-01  2.499570e-01  4.374750e-01   \n",
              "max    3.050563e+00  1.932215e+00  5.399871e+00  6.720071e+00  4.837786e+00   \n",
              "\n",
              "                 10  \n",
              "count  1.737900e+04  \n",
              "mean   2.644086e-15  \n",
              "std    1.000029e+00  \n",
              "min   -1.039037e+00  \n",
              "25%   -8.240221e-01  \n",
              "50%   -2.616742e-01  \n",
              "75%    5.046626e-01  \n",
              "max    4.341860e+00  "
            ],
            "text/html": [
              "\n",
              "  <div id=\"df-20b6ad74-8ed5-4df1-bab5-a37296e2b394\">\n",
              "    <div class=\"colab-df-container\">\n",
              "      <div>\n",
              "<style scoped>\n",
              "    .dataframe tbody tr th:only-of-type {\n",
              "        vertical-align: middle;\n",
              "    }\n",
              "\n",
              "    .dataframe tbody tr th {\n",
              "        vertical-align: top;\n",
              "    }\n",
              "\n",
              "    .dataframe thead th {\n",
              "        text-align: right;\n",
              "    }\n",
              "</style>\n",
              "<table border=\"1\" class=\"dataframe\">\n",
              "  <thead>\n",
              "    <tr style=\"text-align: right;\">\n",
              "      <th></th>\n",
              "      <th>0</th>\n",
              "      <th>1</th>\n",
              "      <th>2</th>\n",
              "      <th>3</th>\n",
              "      <th>4</th>\n",
              "      <th>5</th>\n",
              "      <th>6</th>\n",
              "      <th>7</th>\n",
              "      <th>8</th>\n",
              "      <th>9</th>\n",
              "      <th>10</th>\n",
              "    </tr>\n",
              "  </thead>\n",
              "  <tbody>\n",
              "    <tr>\n",
              "      <th>count</th>\n",
              "      <td>1.737900e+04</td>\n",
              "      <td>1.737900e+04</td>\n",
              "      <td>1.737900e+04</td>\n",
              "      <td>1.737900e+04</td>\n",
              "      <td>1.737900e+04</td>\n",
              "      <td>1.737900e+04</td>\n",
              "      <td>1.737900e+04</td>\n",
              "      <td>1.737900e+04</td>\n",
              "      <td>1.737900e+04</td>\n",
              "      <td>1.737900e+04</td>\n",
              "      <td>1.737900e+04</td>\n",
              "    </tr>\n",
              "    <tr>\n",
              "      <th>mean</th>\n",
              "      <td>7.556797e-14</td>\n",
              "      <td>-6.231469e-17</td>\n",
              "      <td>1.067038e-15</td>\n",
              "      <td>-2.369843e-15</td>\n",
              "      <td>3.495934e-16</td>\n",
              "      <td>-1.804746e-15</td>\n",
              "      <td>9.953374e-17</td>\n",
              "      <td>3.938197e-15</td>\n",
              "      <td>-2.642061e-15</td>\n",
              "      <td>1.186122e-15</td>\n",
              "      <td>2.644086e-15</td>\n",
              "    </tr>\n",
              "    <tr>\n",
              "      <th>std</th>\n",
              "      <td>1.000029e+00</td>\n",
              "      <td>1.000029e+00</td>\n",
              "      <td>1.000029e+00</td>\n",
              "      <td>1.000029e+00</td>\n",
              "      <td>1.000029e+00</td>\n",
              "      <td>1.000029e+00</td>\n",
              "      <td>1.000029e+00</td>\n",
              "      <td>1.000029e+00</td>\n",
              "      <td>1.000029e+00</td>\n",
              "      <td>1.000029e+00</td>\n",
              "      <td>1.000029e+00</td>\n",
              "    </tr>\n",
              "    <tr>\n",
              "      <th>min</th>\n",
              "      <td>-1.356634e+00</td>\n",
              "      <td>-1.721122e-01</td>\n",
              "      <td>-1.466900e+00</td>\n",
              "      <td>-6.651929e-01</td>\n",
              "      <td>-2.477205e+00</td>\n",
              "      <td>-2.768625e+00</td>\n",
              "      <td>-3.251166e+00</td>\n",
              "      <td>-1.553889e+00</td>\n",
              "      <td>-7.236025e-01</td>\n",
              "      <td>-1.016081e+00</td>\n",
              "      <td>-1.039037e+00</td>\n",
              "    </tr>\n",
              "    <tr>\n",
              "      <th>25%</th>\n",
              "      <td>-4.531991e-01</td>\n",
              "      <td>-1.721122e-01</td>\n",
              "      <td>-1.466900e+00</td>\n",
              "      <td>-6.651929e-01</td>\n",
              "      <td>-8.153035e-01</td>\n",
              "      <td>-8.290895e-01</td>\n",
              "      <td>-7.631431e-01</td>\n",
              "      <td>-6.996886e-01</td>\n",
              "      <td>-6.424726e-01</td>\n",
              "      <td>-7.914407e-01</td>\n",
              "      <td>-8.240221e-01</td>\n",
              "    </tr>\n",
              "    <tr>\n",
              "      <th>50%</th>\n",
              "      <td>4.502360e-01</td>\n",
              "      <td>-1.721122e-01</td>\n",
              "      <td>6.817098e-01</td>\n",
              "      <td>-6.651929e-01</td>\n",
              "      <td>1.564696e-02</td>\n",
              "      <td>5.251758e-02</td>\n",
              "      <td>1.436398e-02</td>\n",
              "      <td>3.189880e-02</td>\n",
              "      <td>-3.788002e-01</td>\n",
              "      <td>-2.562677e-01</td>\n",
              "      <td>-2.616742e-01</td>\n",
              "    </tr>\n",
              "    <tr>\n",
              "      <th>75%</th>\n",
              "      <td>4.502360e-01</td>\n",
              "      <td>-1.721122e-01</td>\n",
              "      <td>6.817098e-01</td>\n",
              "      <td>8.989239e-01</td>\n",
              "      <td>8.465975e-01</td>\n",
              "      <td>8.462549e-01</td>\n",
              "      <td>7.918711e-01</td>\n",
              "      <td>5.198962e-01</td>\n",
              "      <td>2.499570e-01</td>\n",
              "      <td>4.374750e-01</td>\n",
              "      <td>5.046626e-01</td>\n",
              "    </tr>\n",
              "    <tr>\n",
              "      <th>max</th>\n",
              "      <td>1.353671e+00</td>\n",
              "      <td>5.810164e+00</td>\n",
              "      <td>6.817098e-01</td>\n",
              "      <td>4.027157e+00</td>\n",
              "      <td>2.612367e+00</td>\n",
              "      <td>3.050563e+00</td>\n",
              "      <td>1.932215e+00</td>\n",
              "      <td>5.399871e+00</td>\n",
              "      <td>6.720071e+00</td>\n",
              "      <td>4.837786e+00</td>\n",
              "      <td>4.341860e+00</td>\n",
              "    </tr>\n",
              "  </tbody>\n",
              "</table>\n",
              "</div>\n",
              "      <button class=\"colab-df-convert\" onclick=\"convertToInteractive('df-20b6ad74-8ed5-4df1-bab5-a37296e2b394')\"\n",
              "              title=\"Convert this dataframe to an interactive table.\"\n",
              "              style=\"display:none;\">\n",
              "        \n",
              "  <svg xmlns=\"http://www.w3.org/2000/svg\" height=\"24px\"viewBox=\"0 0 24 24\"\n",
              "       width=\"24px\">\n",
              "    <path d=\"M0 0h24v24H0V0z\" fill=\"none\"/>\n",
              "    <path d=\"M18.56 5.44l.94 2.06.94-2.06 2.06-.94-2.06-.94-.94-2.06-.94 2.06-2.06.94zm-11 1L8.5 8.5l.94-2.06 2.06-.94-2.06-.94L8.5 2.5l-.94 2.06-2.06.94zm10 10l.94 2.06.94-2.06 2.06-.94-2.06-.94-.94-2.06-.94 2.06-2.06.94z\"/><path d=\"M17.41 7.96l-1.37-1.37c-.4-.4-.92-.59-1.43-.59-.52 0-1.04.2-1.43.59L10.3 9.45l-7.72 7.72c-.78.78-.78 2.05 0 2.83L4 21.41c.39.39.9.59 1.41.59.51 0 1.02-.2 1.41-.59l7.78-7.78 2.81-2.81c.8-.78.8-2.07 0-2.86zM5.41 20L4 18.59l7.72-7.72 1.47 1.35L5.41 20z\"/>\n",
              "  </svg>\n",
              "      </button>\n",
              "      \n",
              "  <style>\n",
              "    .colab-df-container {\n",
              "      display:flex;\n",
              "      flex-wrap:wrap;\n",
              "      gap: 12px;\n",
              "    }\n",
              "\n",
              "    .colab-df-convert {\n",
              "      background-color: #E8F0FE;\n",
              "      border: none;\n",
              "      border-radius: 50%;\n",
              "      cursor: pointer;\n",
              "      display: none;\n",
              "      fill: #1967D2;\n",
              "      height: 32px;\n",
              "      padding: 0 0 0 0;\n",
              "      width: 32px;\n",
              "    }\n",
              "\n",
              "    .colab-df-convert:hover {\n",
              "      background-color: #E2EBFA;\n",
              "      box-shadow: 0px 1px 2px rgba(60, 64, 67, 0.3), 0px 1px 3px 1px rgba(60, 64, 67, 0.15);\n",
              "      fill: #174EA6;\n",
              "    }\n",
              "\n",
              "    [theme=dark] .colab-df-convert {\n",
              "      background-color: #3B4455;\n",
              "      fill: #D2E3FC;\n",
              "    }\n",
              "\n",
              "    [theme=dark] .colab-df-convert:hover {\n",
              "      background-color: #434B5C;\n",
              "      box-shadow: 0px 1px 3px 1px rgba(0, 0, 0, 0.15);\n",
              "      filter: drop-shadow(0px 1px 2px rgba(0, 0, 0, 0.3));\n",
              "      fill: #FFFFFF;\n",
              "    }\n",
              "  </style>\n",
              "\n",
              "      <script>\n",
              "        const buttonEl =\n",
              "          document.querySelector('#df-20b6ad74-8ed5-4df1-bab5-a37296e2b394 button.colab-df-convert');\n",
              "        buttonEl.style.display =\n",
              "          google.colab.kernel.accessAllowed ? 'block' : 'none';\n",
              "\n",
              "        async function convertToInteractive(key) {\n",
              "          const element = document.querySelector('#df-20b6ad74-8ed5-4df1-bab5-a37296e2b394');\n",
              "          const dataTable =\n",
              "            await google.colab.kernel.invokeFunction('convertToInteractive',\n",
              "                                                     [key], {});\n",
              "          if (!dataTable) return;\n",
              "\n",
              "          const docLinkHtml = 'Like what you see? Visit the ' +\n",
              "            '<a target=\"_blank\" href=https://colab.research.google.com/notebooks/data_table.ipynb>data table notebook</a>'\n",
              "            + ' to learn more about interactive tables.';\n",
              "          element.innerHTML = '';\n",
              "          dataTable['output_type'] = 'display_data';\n",
              "          await google.colab.output.renderOutput(dataTable, element);\n",
              "          const docLink = document.createElement('div');\n",
              "          docLink.innerHTML = docLinkHtml;\n",
              "          element.appendChild(docLink);\n",
              "        }\n",
              "      </script>\n",
              "    </div>\n",
              "  </div>\n",
              "  "
            ]
          },
          "metadata": {},
          "execution_count": 28
        }
      ]
    },
    {
      "cell_type": "markdown",
      "source": [
        "##**Estatística**"
      ],
      "metadata": {
        "id": "x9G7xc6zoF9C"
      }
    },
    {
      "cell_type": "code",
      "source": [
        "import plotly.express as px\n",
        "df = px.data.tips()\n"
      ],
      "metadata": {
        "id": "w60jvnCWoPmR"
      },
      "execution_count": null,
      "outputs": []
    },
    {
      "cell_type": "markdown",
      "source": [
        "**Box Plot**"
      ],
      "metadata": {
        "id": "6vJR3C7NDsAb"
      }
    },
    {
      "cell_type": "markdown",
      "source": [
        "No gráfico Box plot temos a relação entre número de aluguéis por hora e as estações do ano, o box plot divide os dados entre 4 quartis e fora desses quartis estão os outliers, e nós temos 4 box plot que representam um para cada estação do ano, de acordo com o eixo x (1 = primavera; 2 = verão; 3 = outono; 4 = inverno). "
      ],
      "metadata": {
        "id": "F0aAAZaeEC97"
      }
    },
    {
      "cell_type": "code",
      "source": [
        "fig1 = px.box(dataset, x='season', y='registered')\n",
        "fig1.show()"
      ],
      "metadata": {
        "colab": {
          "base_uri": "https://localhost:8080/",
          "height": 542
        },
        "id": "fZFbPh0gqKDN",
        "outputId": "09625dd9-3852-4485-bf65-5e99b2c564e0"
      },
      "execution_count": null,
      "outputs": [
        {
          "output_type": "display_data",
          "data": {
            "text/html": [
              "<html>\n",
              "<head><meta charset=\"utf-8\" /></head>\n",
              "<body>\n",
              "    <div>            <script src=\"https://cdnjs.cloudflare.com/ajax/libs/mathjax/2.7.5/MathJax.js?config=TeX-AMS-MML_SVG\"></script><script type=\"text/javascript\">if (window.MathJax) {MathJax.Hub.Config({SVG: {font: \"STIX-Web\"}});}</script>                <script type=\"text/javascript\">window.PlotlyConfig = {MathJaxConfig: 'local'};</script>\n",
              "        <script src=\"https://cdn.plot.ly/plotly-2.8.3.min.js\"></script>                <div id=\"e52cbd6f-c341-476f-b7aa-5ab7b1d8a8ed\" class=\"plotly-graph-div\" style=\"height:525px; width:100%;\"></div>            <script type=\"text/javascript\">                                    window.PLOTLYENV=window.PLOTLYENV || {};                                    if (document.getElementById(\"e52cbd6f-c341-476f-b7aa-5ab7b1d8a8ed\")) {                    Plotly.newPlot(                        \"e52cbd6f-c341-476f-b7aa-5ab7b1d8a8ed\",                        [{\"alignmentgroup\":\"True\",\"hovertemplate\":\"season=%{x}<br>registered=%{y}<extra></extra>\",\"legendgroup\":\"\",\"marker\":{\"color\":\"#636efa\"},\"name\":\"\",\"notched\":false,\"offsetgroup\":\"\",\"orientation\":\"v\",\"showlegend\":false,\"x\":[1,1,1,1,1,1,1,1,1,1,1,1,1,1,1,1,1,1,1,1,1,1,1,1,1,1,1,1,1,1,1,1,1,1,1,1,1,1,1,1,1,1,1,1,1,1,1,1,1,1,1,1,1,1,1,1,1,1,1,1,1,1,1,1,1,1,1,1,1,1,1,1,1,1,1,1,1,1,1,1,1,1,1,1,1,1,1,1,1,1,1,1,1,1,1,1,1,1,1,1,1,1,1,1,1,1,1,1,1,1,1,1,1,1,1,1,1,1,1,1,1,1,1,1,1,1,1,1,1,1,1,1,1,1,1,1,1,1,1,1,1,1,1,1,1,1,1,1,1,1,1,1,1,1,1,1,1,1,1,1,1,1,1,1,1,1,1,1,1,1,1,1,1,1,1,1,1,1,1,1,1,1,1,1,1,1,1,1,1,1,1,1,1,1,1,1,1,1,1,1,1,1,1,1,1,1,1,1,1,1,1,1,1,1,1,1,1,1,1,1,1,1,1,1,1,1,1,1,1,1,1,1,1,1,1,1,1,1,1,1,1,1,1,1,1,1,1,1,1,1,1,1,1,1,1,1,1,1,1,1,1,1,1,1,1,1,1,1,1,1,1,1,1,1,1,1,1,1,1,1,1,1,1,1,1,1,1,1,1,1,1,1,1,1,1,1,1,1,1,1,1,1,1,1,1,1,1,1,1,1,1,1,1,1,1,1,1,1,1,1,1,1,1,1,1,1,1,1,1,1,1,1,1,1,1,1,1,1,1,1,1,1,1,1,1,1,1,1,1,1,1,1,1,1,1,1,1,1,1,1,1,1,1,1,1,1,1,1,1,1,1,1,1,1,1,1,1,1,1,1,1,1,1,1,1,1,1,1,1,1,1,1,1,1,1,1,1,1,1,1,1,1,1,1,1,1,1,1,1,1,1,1,1,1,1,1,1,1,1,1,1,1,1,1,1,1,1,1,1,1,1,1,1,1,1,1,1,1,1,1,1,1,1,1,1,1,1,1,1,1,1,1,1,1,1,1,1,1,1,1,1,1,1,1,1,1,1,1,1,1,1,1,1,1,1,1,1,1,1,1,1,1,1,1,1,1,1,1,1,1,1,1,1,1,1,1,1,1,1,1,1,1,1,1,1,1,1,1,1,1,1,1,1,1,1,1,1,1,1,1,1,1,1,1,1,1,1,1,1,1,1,1,1,1,1,1,1,1,1,1,1,1,1,1,1,1,1,1,1,1,1,1,1,1,1,1,1,1,1,1,1,1,1,1,1,1,1,1,1,1,1,1,1,1,1,1,1,1,1,1,1,1,1,1,1,1,1,1,1,1,1,1,1,1,1,1,1,1,1,1,1,1,1,1,1,1,1,1,1,1,1,1,1,1,1,1,1,1,1,1,1,1,1,1,1,1,1,1,1,1,1,1,1,1,1,1,1,1,1,1,1,1,1,1,1,1,1,1,1,1,1,1,1,1,1,1,1,1,1,1,1,1,1,1,1,1,1,1,1,1,1,1,1,1,1,1,1,1,1,1,1,1,1,1,1,1,1,1,1,1,1,1,1,1,1,1,1,1,1,1,1,1,1,1,1,1,1,1,1,1,1,1,1,1,1,1,1,1,1,1,1,1,1,1,1,1,1,1,1,1,1,1,1,1,1,1,1,1,1,1,1,1,1,1,1,1,1,1,1,1,1,1,1,1,1,1,1,1,1,1,1,1,1,1,1,1,1,1,1,1,1,1,1,1,1,1,1,1,1,1,1,1,1,1,1,1,1,1,1,1,1,1,1,1,1,1,1,1,1,1,1,1,1,1,1,1,1,1,1,1,1,1,1,1,1,1,1,1,1,1,1,1,1,1,1,1,1,1,1,1,1,1,1,1,1,1,1,1,1,1,1,1,1,1,1,1,1,1,1,1,1,1,1,1,1,1,1,1,1,1,1,1,1,1,1,1,1,1,1,1,1,1,1,1,1,1,1,1,1,1,1,1,1,1,1,1,1,1,1,1,1,1,1,1,1,1,1,1,1,1,1,1,1,1,1,1,1,1,1,1,1,1,1,1,1,1,1,1,1,1,1,1,1,1,1,1,1,1,1,1,1,1,1,1,1,1,1,1,1,1,1,1,1,1,1,1,1,1,1,1,1,1,1,1,1,1,1,1,1,1,1,1,1,1,1,1,1,1,1,1,1,1,1,1,1,1,1,1,1,1,1,1,1,1,1,1,1,1,1,1,1,1,1,1,1,1,1,1,1,1,1,1,1,1,1,1,1,1,1,1,1,1,1,1,1,1,1,1,1,1,1,1,1,1,1,1,1,1,1,1,1,1,1,1,1,1,1,1,1,1,1,1,1,1,1,1,1,1,1,1,1,1,1,1,1,1,1,1,1,1,1,1,1,1,1,1,1,1,1,1,1,1,1,1,1,1,1,1,1,1,1,1,1,1,1,1,1,1,1,1,1,1,1,1,1,1,1,1,1,1,1,1,1,1,1,1,1,1,1,1,1,1,1,1,1,1,1,1,1,1,1,1,1,1,1,1,1,1,1,1,1,1,1,1,1,1,1,1,1,1,1,1,1,1,1,1,1,1,1,1,1,1,1,1,1,1,1,1,1,1,1,1,1,1,1,1,1,1,1,1,1,1,1,1,1,1,1,1,1,1,1,1,1,1,1,1,1,1,1,1,1,1,1,1,1,1,1,1,1,1,1,1,1,1,1,1,1,1,1,1,1,1,1,1,1,1,1,1,1,1,1,1,1,1,1,1,1,1,1,1,1,1,1,1,1,1,1,1,1,1,1,1,1,1,1,1,1,1,1,1,1,1,1,1,1,1,1,1,1,1,1,1,1,1,1,1,1,1,1,1,1,1,1,1,1,1,1,1,1,1,1,1,1,1,1,1,1,1,1,1,1,1,1,1,1,1,1,1,1,1,1,1,1,1,1,1,1,1,1,1,1,1,1,1,1,1,1,1,1,1,1,1,1,1,1,1,1,1,1,1,1,1,1,1,1,1,1,1,1,1,1,1,1,1,1,1,1,1,1,1,1,1,1,1,1,1,1,1,1,1,1,1,1,1,1,1,1,1,1,1,1,1,1,1,1,1,1,1,1,1,1,1,1,1,1,1,1,1,1,1,1,1,1,1,1,1,1,1,1,1,1,1,1,1,1,1,1,1,1,1,1,1,1,1,1,1,1,1,1,1,1,1,1,1,1,1,1,1,1,1,1,1,1,1,1,1,1,1,1,1,1,1,1,1,1,1,1,1,1,1,1,1,1,1,1,1,1,1,1,1,1,1,1,1,1,1,1,1,1,1,1,1,1,1,1,1,1,1,1,1,1,1,1,1,1,1,1,1,1,1,1,1,1,1,1,1,1,1,1,1,1,1,1,1,1,1,1,1,1,1,1,1,1,1,1,1,1,1,1,1,1,1,1,1,1,1,1,1,1,1,1,1,1,1,1,1,1,1,1,1,1,1,1,1,1,1,1,1,1,1,1,1,1,1,1,1,1,1,1,1,1,1,1,1,1,1,1,1,1,1,1,1,1,1,1,1,1,1,1,1,1,1,1,1,1,1,1,1,1,1,1,1,1,1,1,1,1,1,1,1,1,1,1,1,1,1,1,1,1,1,1,1,1,1,1,1,1,1,1,1,1,1,1,1,1,1,1,1,1,1,1,1,1,1,1,1,1,1,1,1,1,1,1,1,1,1,1,1,1,1,1,1,1,1,1,1,1,1,1,1,1,1,1,1,1,1,1,1,1,1,1,1,1,1,1,1,1,1,1,1,1,1,1,1,1,1,1,1,1,1,1,1,1,1,1,1,1,1,1,1,1,1,1,1,1,1,1,1,1,1,1,1,1,1,1,1,1,1,1,1,1,1,1,1,1,1,1,1,1,1,1,1,1,1,1,1,1,1,1,1,1,1,1,1,1,1,1,1,1,1,1,1,1,1,1,1,1,1,1,1,1,1,1,1,1,1,1,1,1,1,1,1,1,1,1,1,1,1,1,1,1,1,1,1,1,1,1,1,1,1,1,1,1,1,1,1,1,1,1,1,1,1,1,1,1,1,1,2,2,2,2,2,2,2,2,2,2,2,2,2,2,2,2,2,2,2,2,2,2,2,2,2,2,2,2,2,2,2,2,2,2,2,2,2,2,2,2,2,2,2,2,2,2,2,2,2,2,2,2,2,2,2,2,2,2,2,2,2,2,2,2,2,2,2,2,2,2,2,2,2,2,2,2,2,2,2,2,2,2,2,2,2,2,2,2,2,2,2,2,2,2,2,2,2,2,2,2,2,2,2,2,2,2,2,2,2,2,2,2,2,2,2,2,2,2,2,2,2,2,2,2,2,2,2,2,2,2,2,2,2,2,2,2,2,2,2,2,2,2,2,2,2,2,2,2,2,2,2,2,2,2,2,2,2,2,2,2,2,2,2,2,2,2,2,2,2,2,2,2,2,2,2,2,2,2,2,2,2,2,2,2,2,2,2,2,2,2,2,2,2,2,2,2,2,2,2,2,2,2,2,2,2,2,2,2,2,2,2,2,2,2,2,2,2,2,2,2,2,2,2,2,2,2,2,2,2,2,2,2,2,2,2,2,2,2,2,2,2,2,2,2,2,2,2,2,2,2,2,2,2,2,2,2,2,2,2,2,2,2,2,2,2,2,2,2,2,2,2,2,2,2,2,2,2,2,2,2,2,2,2,2,2,2,2,2,2,2,2,2,2,2,2,2,2,2,2,2,2,2,2,2,2,2,2,2,2,2,2,2,2,2,2,2,2,2,2,2,2,2,2,2,2,2,2,2,2,2,2,2,2,2,2,2,2,2,2,2,2,2,2,2,2,2,2,2,2,2,2,2,2,2,2,2,2,2,2,2,2,2,2,2,2,2,2,2,2,2,2,2,2,2,2,2,2,2,2,2,2,2,2,2,2,2,2,2,2,2,2,2,2,2,2,2,2,2,2,2,2,2,2,2,2,2,2,2,2,2,2,2,2,2,2,2,2,2,2,2,2,2,2,2,2,2,2,2,2,2,2,2,2,2,2,2,2,2,2,2,2,2,2,2,2,2,2,2,2,2,2,2,2,2,2,2,2,2,2,2,2,2,2,2,2,2,2,2,2,2,2,2,2,2,2,2,2,2,2,2,2,2,2,2,2,2,2,2,2,2,2,2,2,2,2,2,2,2,2,2,2,2,2,2,2,2,2,2,2,2,2,2,2,2,2,2,2,2,2,2,2,2,2,2,2,2,2,2,2,2,2,2,2,2,2,2,2,2,2,2,2,2,2,2,2,2,2,2,2,2,2,2,2,2,2,2,2,2,2,2,2,2,2,2,2,2,2,2,2,2,2,2,2,2,2,2,2,2,2,2,2,2,2,2,2,2,2,2,2,2,2,2,2,2,2,2,2,2,2,2,2,2,2,2,2,2,2,2,2,2,2,2,2,2,2,2,2,2,2,2,2,2,2,2,2,2,2,2,2,2,2,2,2,2,2,2,2,2,2,2,2,2,2,2,2,2,2,2,2,2,2,2,2,2,2,2,2,2,2,2,2,2,2,2,2,2,2,2,2,2,2,2,2,2,2,2,2,2,2,2,2,2,2,2,2,2,2,2,2,2,2,2,2,2,2,2,2,2,2,2,2,2,2,2,2,2,2,2,2,2,2,2,2,2,2,2,2,2,2,2,2,2,2,2,2,2,2,2,2,2,2,2,2,2,2,2,2,2,2,2,2,2,2,2,2,2,2,2,2,2,2,2,2,2,2,2,2,2,2,2,2,2,2,2,2,2,2,2,2,2,2,2,2,2,2,2,2,2,2,2,2,2,2,2,2,2,2,2,2,2,2,2,2,2,2,2,2,2,2,2,2,2,2,2,2,2,2,2,2,2,2,2,2,2,2,2,2,2,2,2,2,2,2,2,2,2,2,2,2,2,2,2,2,2,2,2,2,2,2,2,2,2,2,2,2,2,2,2,2,2,2,2,2,2,2,2,2,2,2,2,2,2,2,2,2,2,2,2,2,2,2,2,2,2,2,2,2,2,2,2,2,2,2,2,2,2,2,2,2,2,2,2,2,2,2,2,2,2,2,2,2,2,2,2,2,2,2,2,2,2,2,2,2,2,2,2,2,2,2,2,2,2,2,2,2,2,2,2,2,2,2,2,2,2,2,2,2,2,2,2,2,2,2,2,2,2,2,2,2,2,2,2,2,2,2,2,2,2,2,2,2,2,2,2,2,2,2,2,2,2,2,2,2,2,2,2,2,2,2,2,2,2,2,2,2,2,2,2,2,2,2,2,2,2,2,2,2,2,2,2,2,2,2,2,2,2,2,2,2,2,2,2,2,2,2,2,2,2,2,2,2,2,2,2,2,2,2,2,2,2,2,2,2,2,2,2,2,2,2,2,2,2,2,2,2,2,2,2,2,2,2,2,2,2,2,2,2,2,2,2,2,2,2,2,2,2,2,2,2,2,2,2,2,2,2,2,2,2,2,2,2,2,2,2,2,2,2,2,2,2,2,2,2,2,2,2,2,2,2,2,2,2,2,2,2,2,2,2,2,2,2,2,2,2,2,2,2,2,2,2,2,2,2,2,2,2,2,2,2,2,2,2,2,2,2,2,2,2,2,2,2,2,2,2,2,2,2,2,2,2,2,2,2,2,2,2,2,2,2,2,2,2,2,2,2,2,2,2,2,2,2,2,2,2,2,2,2,2,2,2,2,2,2,2,2,2,2,2,2,2,2,2,2,2,2,2,2,2,2,2,2,2,2,2,2,2,2,2,2,2,2,2,2,2,2,2,2,2,2,2,2,2,2,2,2,2,2,2,2,2,2,2,2,2,2,2,2,2,2,2,2,2,2,2,2,2,2,2,2,2,2,2,2,2,2,2,2,2,2,2,2,2,2,2,2,2,2,2,2,2,2,2,2,2,2,2,2,2,2,2,2,2,2,2,2,2,2,2,2,2,2,2,2,2,2,2,2,2,2,2,2,2,2,2,2,2,2,2,2,2,2,2,2,2,2,2,2,2,2,2,2,2,2,2,2,2,2,2,2,2,2,2,2,2,2,2,2,2,2,2,2,2,2,2,2,2,2,2,2,2,2,2,2,2,2,2,2,2,2,2,2,2,2,2,2,2,2,2,2,2,2,2,2,2,2,2,2,2,2,2,2,2,2,2,2,2,2,2,2,2,2,2,2,2,2,2,2,2,2,2,2,2,2,2,2,2,2,2,2,2,2,2,2,2,2,2,2,2,2,2,2,2,2,2,2,2,2,2,2,2,2,2,2,2,2,2,2,2,2,2,2,2,2,2,2,2,2,2,2,2,2,2,2,2,2,2,2,2,2,2,2,2,2,2,2,2,2,2,2,2,2,2,2,2,2,2,2,2,2,2,2,2,2,2,2,2,2,2,2,2,2,2,2,2,2,2,2,2,2,2,2,2,2,2,2,2,2,2,2,2,2,2,2,2,2,2,2,2,2,2,2,2,2,2,2,2,2,2,2,2,2,2,2,2,2,2,2,2,2,2,2,2,2,2,2,2,2,2,2,2,2,2,2,2,2,2,2,2,2,2,2,2,2,2,2,2,2,2,2,2,2,2,2,2,2,2,2,2,2,2,2,2,2,2,2,2,2,2,2,2,2,2,2,2,2,2,2,2,2,2,2,2,2,2,2,2,2,2,2,2,2,2,2,2,2,2,2,2,2,2,2,2,2,2,2,2,2,2,2,2,2,2,2,2,2,2,2,2,2,2,2,2,2,2,2,2,2,2,2,2,2,2,2,2,2,2,2,2,2,2,2,2,2,2,2,2,2,2,2,2,2,2,2,2,2,2,2,2,2,2,2,2,2,2,2,2,2,2,2,2,2,2,2,2,2,2,2,2,2,2,2,2,2,2,2,2,2,2,2,2,2,2,2,2,2,2,2,2,2,2,2,2,2,2,2,2,2,2,2,2,2,2,2,2,2,2,2,2,2,2,2,2,2,2,2,2,2,2,2,2,2,2,2,2,2,2,2,2,2,2,2,2,2,2,2,2,2,2,2,2,2,2,2,2,2,2,2,2,2,2,2,2,2,2,2,2,2,2,2,2,2,2,2,2,2,2,2,2,2,2,2,2,2,2,2,2,2,2,2,2,2,2,2,2,2,2,2,2,2,2,2,2,2,2,2,2,2,2,2,2,2,2,2,2,2,2,2,2,2,2,2,2,2,2,2,2,2,2,2,2,2,2,2,2,2,2,2,2,2,2,2,2,2,2,2,2,2,2,2,2,2,2,2,2,2,2,2,2,2,2,2,2,2,2,2,2,2,2,2,2,2,2,2,2,2,2,2,2,2,2,2,2,2,2,2,2,2,2,2,2,2,2,2,2,2,2,2,2,2,2,2,2,2,2,2,2,2,2,2,2,2,2,2,2,2,2,2,2,2,2,2,2,2,2,2,2,2,2,2,2,2,2,2,2,2,2,2,2,2,2,2,2,2,2,2,2,2,2,2,2,2,2,2,2,2,2,2,2,2,2,2,2,2,2,2,2,2,2,2,2,2,2,2,2,2,2,2,2,2,2,2,2,2,2,2,2,2,2,2,2,2,2,2,2,2,2,2,2,2,2,2,2,2,2,2,2,2,2,2,2,2,2,2,2,2,2,2,2,2,2,2,2,2,2,2,2,2,2,2,2,2,2,2,2,2,2,2,2,2,2,2,2,2,2,2,2,2,2,2,2,2,2,2,2,2,2,2,2,2,2,2,2,2,2,2,2,2,2,2,2,2,2,2,2,2,2,2,2,2,2,2,2,2,2,2,2,2,2,2,2,2,2,2,2,2,2,2,2,2,2,2,2,2,2,2,2,2,2,2,2,2,2,2,2,2,2,2,2,2,2,2,2,2,2,2,2,2,2,2,2,2,2,2,2,2,2,2,2,2,2,2,2,2,2,2,2,2,2,2,2,2,2,2,2,2,2,2,2,2,2,2,2,2,2,2,2,2,2,2,2,2,2,2,2,2,2,2,2,2,2,2,2,2,3,3,3,3,3,3,3,3,3,3,3,3,3,3,3,3,3,3,3,3,3,3,3,3,3,3,3,3,3,3,3,3,3,3,3,3,3,3,3,3,3,3,3,3,3,3,3,3,3,3,3,3,3,3,3,3,3,3,3,3,3,3,3,3,3,3,3,3,3,3,3,3,3,3,3,3,3,3,3,3,3,3,3,3,3,3,3,3,3,3,3,3,3,3,3,3,3,3,3,3,3,3,3,3,3,3,3,3,3,3,3,3,3,3,3,3,3,3,3,3,3,3,3,3,3,3,3,3,3,3,3,3,3,3,3,3,3,3,3,3,3,3,3,3,3,3,3,3,3,3,3,3,3,3,3,3,3,3,3,3,3,3,3,3,3,3,3,3,3,3,3,3,3,3,3,3,3,3,3,3,3,3,3,3,3,3,3,3,3,3,3,3,3,3,3,3,3,3,3,3,3,3,3,3,3,3,3,3,3,3,3,3,3,3,3,3,3,3,3,3,3,3,3,3,3,3,3,3,3,3,3,3,3,3,3,3,3,3,3,3,3,3,3,3,3,3,3,3,3,3,3,3,3,3,3,3,3,3,3,3,3,3,3,3,3,3,3,3,3,3,3,3,3,3,3,3,3,3,3,3,3,3,3,3,3,3,3,3,3,3,3,3,3,3,3,3,3,3,3,3,3,3,3,3,3,3,3,3,3,3,3,3,3,3,3,3,3,3,3,3,3,3,3,3,3,3,3,3,3,3,3,3,3,3,3,3,3,3,3,3,3,3,3,3,3,3,3,3,3,3,3,3,3,3,3,3,3,3,3,3,3,3,3,3,3,3,3,3,3,3,3,3,3,3,3,3,3,3,3,3,3,3,3,3,3,3,3,3,3,3,3,3,3,3,3,3,3,3,3,3,3,3,3,3,3,3,3,3,3,3,3,3,3,3,3,3,3,3,3,3,3,3,3,3,3,3,3,3,3,3,3,3,3,3,3,3,3,3,3,3,3,3,3,3,3,3,3,3,3,3,3,3,3,3,3,3,3,3,3,3,3,3,3,3,3,3,3,3,3,3,3,3,3,3,3,3,3,3,3,3,3,3,3,3,3,3,3,3,3,3,3,3,3,3,3,3,3,3,3,3,3,3,3,3,3,3,3,3,3,3,3,3,3,3,3,3,3,3,3,3,3,3,3,3,3,3,3,3,3,3,3,3,3,3,3,3,3,3,3,3,3,3,3,3,3,3,3,3,3,3,3,3,3,3,3,3,3,3,3,3,3,3,3,3,3,3,3,3,3,3,3,3,3,3,3,3,3,3,3,3,3,3,3,3,3,3,3,3,3,3,3,3,3,3,3,3,3,3,3,3,3,3,3,3,3,3,3,3,3,3,3,3,3,3,3,3,3,3,3,3,3,3,3,3,3,3,3,3,3,3,3,3,3,3,3,3,3,3,3,3,3,3,3,3,3,3,3,3,3,3,3,3,3,3,3,3,3,3,3,3,3,3,3,3,3,3,3,3,3,3,3,3,3,3,3,3,3,3,3,3,3,3,3,3,3,3,3,3,3,3,3,3,3,3,3,3,3,3,3,3,3,3,3,3,3,3,3,3,3,3,3,3,3,3,3,3,3,3,3,3,3,3,3,3,3,3,3,3,3,3,3,3,3,3,3,3,3,3,3,3,3,3,3,3,3,3,3,3,3,3,3,3,3,3,3,3,3,3,3,3,3,3,3,3,3,3,3,3,3,3,3,3,3,3,3,3,3,3,3,3,3,3,3,3,3,3,3,3,3,3,3,3,3,3,3,3,3,3,3,3,3,3,3,3,3,3,3,3,3,3,3,3,3,3,3,3,3,3,3,3,3,3,3,3,3,3,3,3,3,3,3,3,3,3,3,3,3,3,3,3,3,3,3,3,3,3,3,3,3,3,3,3,3,3,3,3,3,3,3,3,3,3,3,3,3,3,3,3,3,3,3,3,3,3,3,3,3,3,3,3,3,3,3,3,3,3,3,3,3,3,3,3,3,3,3,3,3,3,3,3,3,3,3,3,3,3,3,3,3,3,3,3,3,3,3,3,3,3,3,3,3,3,3,3,3,3,3,3,3,3,3,3,3,3,3,3,3,3,3,3,3,3,3,3,3,3,3,3,3,3,3,3,3,3,3,3,3,3,3,3,3,3,3,3,3,3,3,3,3,3,3,3,3,3,3,3,3,3,3,3,3,3,3,3,3,3,3,3,3,3,3,3,3,3,3,3,3,3,3,3,3,3,3,3,3,3,3,3,3,3,3,3,3,3,3,3,3,3,3,3,3,3,3,3,3,3,3,3,3,3,3,3,3,3,3,3,3,3,3,3,3,3,3,3,3,3,3,3,3,3,3,3,3,3,3,3,3,3,3,3,3,3,3,3,3,3,3,3,3,3,3,3,3,3,3,3,3,3,3,3,3,3,3,3,3,3,3,3,3,3,3,3,3,3,3,3,3,3,3,3,3,3,3,3,3,3,3,3,3,3,3,3,3,3,3,3,3,3,3,3,3,3,3,3,3,3,3,3,3,3,3,3,3,3,3,3,3,3,3,3,3,3,3,3,3,3,3,3,3,3,3,3,3,3,3,3,3,3,3,3,3,3,3,3,3,3,3,3,3,3,3,3,3,3,3,3,3,3,3,3,3,3,3,3,3,3,3,3,3,3,3,3,3,3,3,3,3,3,3,3,3,3,3,3,3,3,3,3,3,3,3,3,3,3,3,3,3,3,3,3,3,3,3,3,3,3,3,3,3,3,3,3,3,3,3,3,3,3,3,3,3,3,3,3,3,3,3,3,3,3,3,3,3,3,3,3,3,3,3,3,3,3,3,3,3,3,3,3,3,3,3,3,3,3,3,3,3,3,3,3,3,3,3,3,3,3,3,3,3,3,3,3,3,3,3,3,3,3,3,3,3,3,3,3,3,3,3,3,3,3,3,3,3,3,3,3,3,3,3,3,3,3,3,3,3,3,3,3,3,3,3,3,3,3,3,3,3,3,3,3,3,3,3,3,3,3,3,3,3,3,3,3,3,3,3,3,3,3,3,3,3,3,3,3,3,3,3,3,3,3,3,3,3,3,3,3,3,3,3,3,3,3,3,3,3,3,3,3,3,3,3,3,3,3,3,3,3,3,3,3,3,3,3,3,3,3,3,3,3,3,3,3,3,3,3,3,3,3,3,3,3,3,3,3,3,3,3,3,3,3,3,3,3,3,3,3,3,3,3,3,3,3,3,3,3,3,3,3,3,3,3,3,3,3,3,3,3,3,3,3,3,3,3,3,3,3,3,3,3,3,3,3,3,3,3,3,3,3,3,3,3,3,3,3,3,3,3,3,3,3,3,3,3,3,3,3,3,3,3,3,3,3,3,3,3,3,3,3,3,3,3,3,3,3,3,3,3,3,3,3,3,3,3,3,3,3,3,3,3,3,3,3,3,3,3,3,3,3,3,3,3,3,3,3,3,3,3,3,3,3,3,3,3,3,3,3,3,3,3,3,3,3,3,3,3,3,3,3,3,3,3,3,3,3,3,3,3,3,3,3,3,3,3,3,3,3,3,3,3,3,3,3,3,3,3,3,3,3,3,3,3,3,3,3,3,3,3,3,3,3,3,3,3,3,3,3,3,3,3,3,3,3,3,3,3,3,3,3,3,3,3,3,3,3,3,3,3,3,3,3,3,3,3,3,3,3,3,3,3,3,3,3,3,3,3,3,3,3,3,3,3,3,3,3,3,3,3,3,3,3,3,3,3,3,3,3,3,3,3,3,3,3,3,3,3,3,3,3,3,3,3,3,3,3,3,3,3,3,3,3,3,3,3,3,3,3,3,3,3,3,3,3,3,3,3,3,3,3,3,3,3,3,3,3,3,3,3,3,3,3,3,3,3,3,3,3,3,3,3,3,3,3,3,3,3,3,3,3,3,3,3,3,3,3,3,3,3,3,3,3,3,3,3,3,3,3,3,3,3,3,3,3,3,3,3,3,3,3,3,3,3,3,3,3,3,3,3,3,3,3,3,3,3,3,3,3,3,3,3,3,3,3,3,3,3,3,3,3,3,3,3,3,3,3,3,3,3,3,3,3,3,3,3,3,3,3,3,3,3,3,3,3,3,3,3,3,3,3,3,3,3,3,3,3,3,3,3,3,3,3,3,3,3,3,3,3,3,3,3,3,3,3,3,3,3,3,3,3,3,3,3,3,3,3,3,3,3,3,3,3,3,3,3,3,3,3,3,3,3,3,3,3,3,3,3,3,3,3,3,3,3,3,3,3,3,3,3,3,3,3,3,3,3,3,3,3,3,3,3,3,3,3,3,3,3,3,3,3,3,3,3,3,3,3,3,3,3,3,3,3,3,3,3,3,3,3,3,3,3,3,3,3,3,3,3,3,3,3,3,3,3,3,3,3,3,3,3,3,3,3,3,3,3,3,3,3,3,3,3,3,3,3,3,3,3,3,3,3,3,3,3,3,3,3,3,3,3,3,3,3,3,3,3,3,3,3,3,3,3,3,3,3,3,3,3,3,3,3,3,3,3,3,3,3,3,3,3,3,3,3,3,3,3,3,3,3,3,3,3,3,3,3,3,3,3,3,3,3,3,3,3,3,3,3,3,3,3,3,3,3,3,3,3,3,3,3,3,3,3,3,3,3,3,3,3,3,3,3,3,3,3,3,3,3,3,3,3,3,3,3,3,3,3,3,3,3,3,3,3,3,3,3,3,3,3,3,3,3,3,3,3,3,3,3,3,3,3,3,3,3,3,3,3,3,3,3,3,3,3,3,3,3,3,3,3,3,3,3,3,3,3,3,3,3,3,3,3,3,3,3,3,3,3,3,3,3,3,3,3,3,3,3,3,3,3,3,3,3,3,3,3,3,3,3,3,3,3,3,3,3,3,3,3,3,3,3,3,3,3,3,3,3,3,3,3,3,3,3,3,3,3,3,3,3,3,3,3,3,3,3,3,3,3,3,3,3,3,3,3,3,3,3,3,3,3,3,3,3,3,3,3,3,3,3,3,3,3,3,3,3,4,4,4,4,4,4,4,4,4,4,4,4,4,4,4,4,4,4,4,4,4,4,4,4,4,4,4,4,4,4,4,4,4,4,4,4,4,4,4,4,4,4,4,4,4,4,4,4,4,4,4,4,4,4,4,4,4,4,4,4,4,4,4,4,4,4,4,4,4,4,4,4,4,4,4,4,4,4,4,4,4,4,4,4,4,4,4,4,4,4,4,4,4,4,4,4,4,4,4,4,4,4,4,4,4,4,4,4,4,4,4,4,4,4,4,4,4,4,4,4,4,4,4,4,4,4,4,4,4,4,4,4,4,4,4,4,4,4,4,4,4,4,4,4,4,4,4,4,4,4,4,4,4,4,4,4,4,4,4,4,4,4,4,4,4,4,4,4,4,4,4,4,4,4,4,4,4,4,4,4,4,4,4,4,4,4,4,4,4,4,4,4,4,4,4,4,4,4,4,4,4,4,4,4,4,4,4,4,4,4,4,4,4,4,4,4,4,4,4,4,4,4,4,4,4,4,4,4,4,4,4,4,4,4,4,4,4,4,4,4,4,4,4,4,4,4,4,4,4,4,4,4,4,4,4,4,4,4,4,4,4,4,4,4,4,4,4,4,4,4,4,4,4,4,4,4,4,4,4,4,4,4,4,4,4,4,4,4,4,4,4,4,4,4,4,4,4,4,4,4,4,4,4,4,4,4,4,4,4,4,4,4,4,4,4,4,4,4,4,4,4,4,4,4,4,4,4,4,4,4,4,4,4,4,4,4,4,4,4,4,4,4,4,4,4,4,4,4,4,4,4,4,4,4,4,4,4,4,4,4,4,4,4,4,4,4,4,4,4,4,4,4,4,4,4,4,4,4,4,4,4,4,4,4,4,4,4,4,4,4,4,4,4,4,4,4,4,4,4,4,4,4,4,4,4,4,4,4,4,4,4,4,4,4,4,4,4,4,4,4,4,4,4,4,4,4,4,4,4,4,4,4,4,4,4,4,4,4,4,4,4,4,4,4,4,4,4,4,4,4,4,4,4,4,4,4,4,4,4,4,4,4,4,4,4,4,4,4,4,4,4,4,4,4,4,4,4,4,4,4,4,4,4,4,4,4,4,4,4,4,4,4,4,4,4,4,4,4,4,4,4,4,4,4,4,4,4,4,4,4,4,4,4,4,4,4,4,4,4,4,4,4,4,4,4,4,4,4,4,4,4,4,4,4,4,4,4,4,4,4,4,4,4,4,4,4,4,4,4,4,4,4,4,4,4,4,4,4,4,4,4,4,4,4,4,4,4,4,4,4,4,4,4,4,4,4,4,4,4,4,4,4,4,4,4,4,4,4,4,4,4,4,4,4,4,4,4,4,4,4,4,4,4,4,4,4,4,4,4,4,4,4,4,4,4,4,4,4,4,4,4,4,4,4,4,4,4,4,4,4,4,4,4,4,4,4,4,4,4,4,4,4,4,4,4,4,4,4,4,4,4,4,4,4,4,4,4,4,4,4,4,4,4,4,4,4,4,4,4,4,4,4,4,4,4,4,4,4,4,4,4,4,4,4,4,4,4,4,4,4,4,4,4,4,4,4,4,4,4,4,4,4,4,4,4,4,4,4,4,4,4,4,4,4,4,4,4,4,4,4,4,4,4,4,4,4,4,4,4,4,4,4,4,4,4,4,4,4,4,4,4,4,4,4,4,4,4,4,4,4,4,4,4,4,4,4,4,4,4,4,4,4,4,4,4,4,4,4,4,4,4,4,4,4,4,4,4,4,4,4,4,4,4,4,4,4,4,4,4,4,4,4,4,4,4,4,4,4,4,4,4,4,4,4,4,4,4,4,4,4,4,4,4,4,4,4,4,4,4,4,4,4,4,4,4,4,4,4,4,4,4,4,4,4,4,4,4,4,4,4,4,4,4,4,4,4,4,4,4,4,4,4,4,4,4,4,4,4,4,4,4,4,4,4,4,4,4,4,4,4,4,4,4,4,4,4,4,4,4,4,4,4,4,4,4,4,4,4,4,4,4,4,4,4,4,4,4,4,4,4,4,4,4,4,4,4,4,4,4,4,4,4,4,4,4,4,4,4,4,4,4,4,4,4,4,4,4,4,4,4,4,4,4,4,4,4,4,4,4,4,4,4,4,4,4,4,4,4,4,4,4,4,4,4,4,4,4,4,4,4,4,4,4,4,4,4,4,4,4,4,4,4,4,4,4,4,4,4,4,4,4,4,4,4,4,4,4,4,4,4,4,4,4,4,4,4,4,4,4,4,4,4,4,4,4,4,4,4,4,4,4,4,4,4,4,4,4,4,4,4,4,4,4,4,4,4,4,4,4,4,4,4,4,4,4,4,4,4,4,4,4,4,4,4,4,4,4,4,4,4,4,4,4,4,4,4,4,4,4,4,4,4,4,4,4,4,4,4,4,4,4,4,4,4,4,4,4,4,4,4,4,4,4,4,4,4,4,4,4,4,4,4,4,4,4,4,4,4,4,4,4,4,4,4,4,4,4,4,4,4,4,4,4,4,4,4,4,4,4,4,4,4,4,4,4,4,4,4,4,4,4,4,4,4,4,4,4,4,4,4,4,4,4,4,4,4,4,4,4,4,4,4,4,4,4,4,4,4,4,4,4,4,4,4,4,4,4,4,4,4,4,4,4,4,4,4,4,4,4,4,4,4,4,4,4,4,4,4,4,4,4,4,4,4,4,4,4,4,4,4,4,4,4,4,4,4,4,4,4,4,4,4,4,4,4,4,4,4,4,4,4,4,4,4,4,4,4,4,4,4,4,4,4,4,4,4,4,4,4,4,4,4,4,4,4,4,4,4,4,4,4,4,4,4,4,4,4,4,4,4,4,4,4,4,4,4,4,4,4,4,4,4,4,4,4,4,4,4,4,4,4,4,4,4,4,4,4,4,4,4,4,4,4,4,4,4,4,4,4,4,4,4,4,4,4,4,4,4,4,4,4,4,4,4,4,4,4,4,4,4,4,4,4,4,4,4,4,4,4,4,4,4,4,4,4,4,4,4,4,4,4,4,4,4,4,4,4,4,4,4,4,4,4,4,4,4,4,4,4,4,4,4,4,4,4,4,4,4,4,4,4,4,4,4,4,4,4,4,4,4,4,4,4,4,4,4,4,4,4,4,4,4,4,4,4,4,4,4,4,4,4,4,4,4,4,4,4,4,4,4,4,4,4,4,4,4,4,4,4,4,4,4,4,4,4,4,4,4,4,4,4,4,4,4,4,4,4,4,4,4,4,4,4,4,4,4,4,4,4,4,4,4,4,4,4,4,4,4,4,4,4,4,4,4,4,4,4,4,4,4,4,4,4,4,4,4,4,4,4,4,4,4,4,4,4,4,4,4,4,4,4,4,4,4,4,4,4,4,4,4,4,4,4,4,4,4,4,4,4,4,4,4,4,4,4,4,4,4,4,4,4,4,4,4,4,4,4,4,4,4,4,4,4,4,4,4,4,4,4,4,4,4,4,4,4,4,4,4,4,4,4,4,4,4,4,4,4,4,4,4,4,4,4,4,4,4,4,4,4,4,4,4,4,4,4,4,4,4,4,4,4,4,4,4,4,4,4,4,4,4,4,4,4,4,4,4,4,4,4,4,4,4,4,4,4,4,4,4,4,4,4,4,4,4,4,4,4,4,4,4,4,4,4,4,4,4,4,4,4,4,4,4,4,4,4,4,4,4,4,4,4,4,4,4,4,4,4,4,4,4,4,4,4,4,4,4,4,4,4,4,4,4,4,4,4,4,4,4,4,4,4,4,4,4,4,4,4,4,4,4,4,4,4,4,4,4,4,4,4,4,4,4,4,4,4,4,4,4,4,4,4,4,4,4,4,4,4,4,4,4,4,4,4,4,4,4,4,4,4,4,4,4,4,4,4,4,4,4,4,4,4,4,4,4,4,4,4,4,4,4,4,4,4,4,4,4,4,4,4,4,4,4,4,4,4,4,4,4,4,4,4,4,4,4,4,4,4,4,4,4,4,4,4,4,4,4,4,4,4,4,4,4,4,4,4,4,4,4,4,4,4,4,4,4,4,4,4,4,4,4,4,4,4,4,4,4,4,4,4,4,4,4,4,4,4,4,4,4,4,4,4,4,4,4,4,4,4,4,4,4,4,4,4,4,4,4,4,4,4,4,4,4,4,4,4,4,4,4,4,4,4,4,4,4,4,4,4,4,4,4,4,4,4,4,4,4,4,4,4,4,4,4,4,4,4,4,4,4,4,4,4,4,4,4,4,4,4,4,4,4,4,4,4,4,4,4,4,4,4,4,4,4,4,4,4,4,4,4,4,4,4,4,4,4,4,4,4,4,4,4,4,4,4,4,4,4,4,4,4,4,4,4,4,4,4,4,4,4,4,4,4,4,4,4,4,4,4,4,4,4,4,4,4,4,4,4,4,4,4,4,4,4,4,4,4,4,4,4,4,4,4,4,4,4,4,4,4,4,4,4,4,4,4,4,4,4,4,4,4,4,4,4,4,4,4,4,4,4,4,4,4,4,4,4,4,4,4,4,4,4,4,4,4,4,4,4,4,4,4,4,4,4,4,4,4,4,4,4,4,4,4,4,4,4,4,4,4,4,4,4,4,4,4,4,4,4,4,4,4,4,4,4,4,4,4,4,4,4,4,4,4,4,4,4,4,4,4,4,4,4,4,4,4,4,4,4,4,4,4,4,4,4,4,4,4,4,4,4,4,4,4,4,4,4,4,4,4,4,4,4,4,4,4,4,4,4,4,4,4,4,4,4,4,4,4,4,4,4,4,4,4,4,4,4,4,4,4,4,4,4,4,4,4,4,1,1,1,1,1,1,1,1,1,1,1,1,1,1,1,1,1,1,1,1,1,1,1,1,1,1,1,1,1,1,1,1,1,1,1,1,1,1,1,1,1,1,1,1,1,1,1,1,1,1,1,1,1,1,1,1,1,1,1,1,1,1,1,1,1,1,1,1,1,1,1,1,1,1,1,1,1,1,1,1,1,1,1,1,1,1,1,1,1,1,1,1,1,1,1,1,1,1,1,1,1,1,1,1,1,1,1,1,1,1,1,1,1,1,1,1,1,1,1,1,1,1,1,1,1,1,1,1,1,1,1,1,1,1,1,1,1,1,1,1,1,1,1,1,1,1,1,1,1,1,1,1,1,1,1,1,1,1,1,1,1,1,1,1,1,1,1,1,1,1,1,1,1,1,1,1,1,1,1,1,1,1,1,1,1,1,1,1,1,1,1,1,1,1,1,1,1,1,1,1,1,1,1,1,1,1,1,1,1,1,1,1,1,1,1,1,1,1,1,1,1,1,1,1,1,1,1,1,1,1,1,1,1,1,1,1,1,1,1,1,1,1,1,1,1,1,1,1,1,1,1,1,1,1,1,1,1,1,1,1,1,1,1,1,1,1,1,1,1,1,1,1,1,1,1,1,1,1,1,1,1,1,1,1,1,1,1,1,1,1,1,1,1,1,1,1,1,1,1,1,1,1,1,1,1,1,1,1,1,1,1,1,1,1,1,1,1,1,1,1,1,1,1,1,1,1,1,1,1,1,1,1,1,1,1,1,1,1,1,1,1,1,1,1,1,1,1,1,1,1,1,1,1,1,1,1,1,1,1,1,1,1,1,1,1,1,1,1,1,1,1,1,1,1,1,1,1,1,1,1,1,1,1,1,1,1,1,1,1,1,1,1,1,1,1,1,1,1,1,1,1,1,1,1,1,1,1,1,1,1,1,1,1,1,1,1,1,1,1,1,1,1,1,1,1,1,1,1,1,1,1,1,1,1,1,1,1,1,1,1,1,1,1,1,1,1,1,1,1,1,1,1,1,1,1,1,1,1,1,1,1,1,1,1,1,1,1,1,1,1,1,1,1,1,1,1,1,1,1,1,1,1,1,1,1,1,1,1,1,1,1,1,1,1,1,1,1,1,1,1,1,1,1,1,1,1,1,1,1,1,1,1,1,1,1,1,1,1,1,1,1,1,1,1,1,1,1,1,1,1,1,1,1,1,1,1,1,1,1,1,1,1,1,1,1,1,1,1,1,1,1,1,1,1,1,1,1,1,1,1,1,1,1,1,1,1,1,1,1,1,1,1,1,1,1,1,1,1,1,1,1,1,1,1,1,1,1,1,1,1,1,1,1,1,1,1,1,1,1,1,1,1,1,1,1,1,1,1,1,1,1,1,1,1,1,1,1,1,1,1,1,1,1,1,1,1,1,1,1,1,1,1,1,1,1,1,1,1,1,1,1,1,1,1,1,1,1,1,1,1,1,1,1,1,1,1,1,1,1,1,1,1,1,1,1,1,1,1,1,1,1,1,1,1,1,1,1,1,1,1,1,1,1,1,1,1,1,1,1,1,1,1,1,1,1,1,1,1,1,1,1,1,1,1,1,1,1,1,1,1,1,1,1,1,1,1,1,1,1,1,1,1,1,1,1,1,1,1,1,1,1,1,1,1,1,1,1,1,1,1,1,1,1,1,1,1,1,1,1,1,1,1,1,1,1,1,1,1,1,1,1,1,1,1,1,1,1,1,1,1,1,1,1,1,1,1,1,1,1,1,1,1,1,1,1,1,1,1,1,1,1,1,1,1,1,1,1,1,1,1,1,1,1,1,1,1,1,1,1,1,1,1,1,1,1,1,1,1,1,1,1,1,1,1,1,1,1,1,1,1,1,1,1,1,1,1,1,1,1,1,1,1,1,1,1,1,1,1,1,1,1,1,1,1,1,1,1,1,1,1,1,1,1,1,1,1,1,1,1,1,1,1,1,1,1,1,1,1,1,1,1,1,1,1,1,1,1,1,1,1,1,1,1,1,1,1,1,1,1,1,1,1,1,1,1,1,1,1,1,1,1,1,1,1,1,1,1,1,1,1,1,1,1,1,1,1,1,1,1,1,1,1,1,1,1,1,1,1,1,1,1,1,1,1,1,1,1,1,1,1,1,1,1,1,1,1,1,1,1,1,1,1,1,1,1,1,1,1,1,1,1,1,1,1,1,1,1,1,1,1,1,1,1,1,1,1,1,1,1,1,1,1,1,1,1,1,1,1,1,1,1,1,1,1,1,1,1,1,1,1,1,1,1,1,1,1,1,1,1,1,1,1,1,1,1,1,1,1,1,1,1,1,1,1,1,1,1,1,1,1,1,1,1,1,1,1,1,1,1,1,1,1,1,1,1,1,1,1,1,1,1,1,1,1,1,1,1,1,1,1,1,1,1,1,1,1,1,1,1,1,1,1,1,1,1,1,1,1,1,1,1,1,1,1,1,1,1,1,1,1,1,1,1,1,1,1,1,1,1,1,1,1,1,1,1,1,1,1,1,1,1,1,1,1,1,1,1,1,1,1,1,1,1,1,1,1,1,1,1,1,1,1,1,1,1,1,1,1,1,1,1,1,1,1,1,1,1,1,1,1,1,1,1,1,1,1,1,1,1,1,1,1,1,1,1,1,1,1,1,1,1,1,1,1,1,1,1,1,1,1,1,1,1,1,1,1,1,1,1,1,1,1,1,1,1,1,1,1,1,1,1,1,1,1,1,1,1,1,1,1,1,1,1,1,1,1,1,1,1,1,1,1,1,1,1,1,1,1,1,1,1,1,1,1,1,1,1,1,1,1,1,1,1,1,1,1,1,1,1,1,1,1,1,1,1,1,1,1,1,1,1,1,1,1,1,1,1,1,1,1,1,1,1,1,1,1,1,1,1,1,1,1,1,1,1,1,1,1,1,1,1,1,1,1,1,1,1,1,1,1,1,1,1,1,1,1,1,1,1,1,1,1,1,1,1,1,1,1,1,1,1,1,1,1,1,1,1,1,1,1,1,1,1,1,1,1,1,1,1,1,1,1,1,1,1,1,1,1,1,1,1,1,1,1,1,1,1,1,1,1,1,1,1,1,1,1,1,1,1,1,1,1,1,1,1,1,1,1,1,1,1,1,1,1,1,1,1,1,1,1,1,1,1,1,1,1,1,1,1,1,1,1,1,1,1,1,1,1,1,1,1,1,1,1,1,1,1,1,1,1,1,1,1,1,1,1,1,1,1,1,1,1,1,1,1,1,1,1,1,1,1,1,1,1,1,1,1,1,1,1,1,1,1,1,1,1,1,1,1,1,1,1,1,1,1,1,1,1,1,1,1,1,1,1,1,1,1,1,1,1,1,1,1,1,1,1,1,1,1,1,1,1,1,1,1,1,1,1,1,1,1,1,1,1,1,1,1,1,1,1,1,1,1,1,1,1,1,1,1,1,1,1,1,1,1,1,1,1,1,1,1,1,1,1,1,1,1,1,1,1,1,1,1,1,1,1,1,1,1,1,1,1,1,1,1,1,1,1,1,1,1,1,1,1,1,1,1,1,1,1,1,1,1,1,1,1,1,1,1,1,1,1,1,1,1,1,1,1,1,1,1,1,1,1,1,1,1,1,1,1,1,1,1,1,1,1,1,1,1,1,1,1,1,1,1,1,1,1,1,1,1,1,1,1,1,1,1,1,1,1,1,1,1,1,1,1,1,1,1,1,1,1,1,1,1,1,1,1,1,1,1,1,1,1,1,1,1,1,1,1,1,1,1,1,1,1,1,1,1,1,1,1,1,1,1,1,1,1,1,1,1,1,1,1,1,1,1,1,1,1,1,1,1,1,1,1,1,1,1,1,1,1,1,1,1,1,1,1,1,1,1,1,1,1,1,1,1,1,1,1,1,1,1,1,1,1,1,1,1,1,1,1,1,1,1,1,1,1,1,1,1,1,1,1,1,1,1,1,1,1,1,1,1,1,1,1,1,1,1,1,1,1,1,1,1,1,1,1,1,1,1,1,1,1,1,1,1,1,1,1,1,1,1,1,1,1,1,1,1,1,1,1,1,1,1,1,1,1,1,1,1,1,1,1,1,1,1,1,1,1,1,1,1,1,1,1,1,1,1,1,1,1,1,1,1,1,1,1,1,1,1,1,1,1,1,1,1,1,1,1,1,1,1,1,1,1,1,1,1,1,1,1,1,1,1,1,1,1,1,1,1,1,1,1,1,1,1,1,1,1,1,1,1,1,1,1,1,1,1,1,1,1,1,1,1,1,1,1,1,1,1,1,1,1,1,1,1,1,1,1,1,1,1,1,1,1,1,1,1,1,1,1,1,1,1,1,1,1,1,1,1,1,1,1,1,1,1,1,1,1,1,1,1,1,1,1,1,1,1,1,1,1,1,1,1,1,1,1,1,1,1,1,1,1,1,1,1,1,1,1,1,1,1,1,1,1,1,1,1,1,1,1,1,1,1,1,1,1,1,1,1,1,1,1,1,1,1,1,1,1,1,1,1,1,1,1,1,1,1,1,1,1,1,1,1,1,1,1,1,1,1,1,1,1,1,1,1,1,1,1,1,1,1,1,1,1,1,1,1,1,1,1,1,1,1,1,1,1,1,1,1,1,1,1,1,1,1,1,1,1,1,1,1,1,1,1,1,1,1,1,1,1,1,1,1,1,1,1,1,1,1,1,1,1,1,1,1,1,1,1,1,1,1,1,1,1,1,1,1,1,1,1,1,1,1,1,1,1,1,1,1,1,1,1,1,1,1,1,1,1,1,1,1,1,1,1,1,1,1,1,1,1,1,1,1,1,1,1,1,1,1,1,1,1,1,1,1,1,1,1,1,1,1,1,1,1,1,1,1,1,1,1,1,1,1,1,1,1,1,1,1,1,1,2,2,2,2,2,2,2,2,2,2,2,2,2,2,2,2,2,2,2,2,2,2,2,2,2,2,2,2,2,2,2,2,2,2,2,2,2,2,2,2,2,2,2,2,2,2,2,2,2,2,2,2,2,2,2,2,2,2,2,2,2,2,2,2,2,2,2,2,2,2,2,2,2,2,2,2,2,2,2,2,2,2,2,2,2,2,2,2,2,2,2,2,2,2,2,2,2,2,2,2,2,2,2,2,2,2,2,2,2,2,2,2,2,2,2,2,2,2,2,2,2,2,2,2,2,2,2,2,2,2,2,2,2,2,2,2,2,2,2,2,2,2,2,2,2,2,2,2,2,2,2,2,2,2,2,2,2,2,2,2,2,2,2,2,2,2,2,2,2,2,2,2,2,2,2,2,2,2,2,2,2,2,2,2,2,2,2,2,2,2,2,2,2,2,2,2,2,2,2,2,2,2,2,2,2,2,2,2,2,2,2,2,2,2,2,2,2,2,2,2,2,2,2,2,2,2,2,2,2,2,2,2,2,2,2,2,2,2,2,2,2,2,2,2,2,2,2,2,2,2,2,2,2,2,2,2,2,2,2,2,2,2,2,2,2,2,2,2,2,2,2,2,2,2,2,2,2,2,2,2,2,2,2,2,2,2,2,2,2,2,2,2,2,2,2,2,2,2,2,2,2,2,2,2,2,2,2,2,2,2,2,2,2,2,2,2,2,2,2,2,2,2,2,2,2,2,2,2,2,2,2,2,2,2,2,2,2,2,2,2,2,2,2,2,2,2,2,2,2,2,2,2,2,2,2,2,2,2,2,2,2,2,2,2,2,2,2,2,2,2,2,2,2,2,2,2,2,2,2,2,2,2,2,2,2,2,2,2,2,2,2,2,2,2,2,2,2,2,2,2,2,2,2,2,2,2,2,2,2,2,2,2,2,2,2,2,2,2,2,2,2,2,2,2,2,2,2,2,2,2,2,2,2,2,2,2,2,2,2,2,2,2,2,2,2,2,2,2,2,2,2,2,2,2,2,2,2,2,2,2,2,2,2,2,2,2,2,2,2,2,2,2,2,2,2,2,2,2,2,2,2,2,2,2,2,2,2,2,2,2,2,2,2,2,2,2,2,2,2,2,2,2,2,2,2,2,2,2,2,2,2,2,2,2,2,2,2,2,2,2,2,2,2,2,2,2,2,2,2,2,2,2,2,2,2,2,2,2,2,2,2,2,2,2,2,2,2,2,2,2,2,2,2,2,2,2,2,2,2,2,2,2,2,2,2,2,2,2,2,2,2,2,2,2,2,2,2,2,2,2,2,2,2,2,2,2,2,2,2,2,2,2,2,2,2,2,2,2,2,2,2,2,2,2,2,2,2,2,2,2,2,2,2,2,2,2,2,2,2,2,2,2,2,2,2,2,2,2,2,2,2,2,2,2,2,2,2,2,2,2,2,2,2,2,2,2,2,2,2,2,2,2,2,2,2,2,2,2,2,2,2,2,2,2,2,2,2,2,2,2,2,2,2,2,2,2,2,2,2,2,2,2,2,2,2,2,2,2,2,2,2,2,2,2,2,2,2,2,2,2,2,2,2,2,2,2,2,2,2,2,2,2,2,2,2,2,2,2,2,2,2,2,2,2,2,2,2,2,2,2,2,2,2,2,2,2,2,2,2,2,2,2,2,2,2,2,2,2,2,2,2,2,2,2,2,2,2,2,2,2,2,2,2,2,2,2,2,2,2,2,2,2,2,2,2,2,2,2,2,2,2,2,2,2,2,2,2,2,2,2,2,2,2,2,2,2,2,2,2,2,2,2,2,2,2,2,2,2,2,2,2,2,2,2,2,2,2,2,2,2,2,2,2,2,2,2,2,2,2,2,2,2,2,2,2,2,2,2,2,2,2,2,2,2,2,2,2,2,2,2,2,2,2,2,2,2,2,2,2,2,2,2,2,2,2,2,2,2,2,2,2,2,2,2,2,2,2,2,2,2,2,2,2,2,2,2,2,2,2,2,2,2,2,2,2,2,2,2,2,2,2,2,2,2,2,2,2,2,2,2,2,2,2,2,2,2,2,2,2,2,2,2,2,2,2,2,2,2,2,2,2,2,2,2,2,2,2,2,2,2,2,2,2,2,2,2,2,2,2,2,2,2,2,2,2,2,2,2,2,2,2,2,2,2,2,2,2,2,2,2,2,2,2,2,2,2,2,2,2,2,2,2,2,2,2,2,2,2,2,2,2,2,2,2,2,2,2,2,2,2,2,2,2,2,2,2,2,2,2,2,2,2,2,2,2,2,2,2,2,2,2,2,2,2,2,2,2,2,2,2,2,2,2,2,2,2,2,2,2,2,2,2,2,2,2,2,2,2,2,2,2,2,2,2,2,2,2,2,2,2,2,2,2,2,2,2,2,2,2,2,2,2,2,2,2,2,2,2,2,2,2,2,2,2,2,2,2,2,2,2,2,2,2,2,2,2,2,2,2,2,2,2,2,2,2,2,2,2,2,2,2,2,2,2,2,2,2,2,2,2,2,2,2,2,2,2,2,2,2,2,2,2,2,2,2,2,2,2,2,2,2,2,2,2,2,2,2,2,2,2,2,2,2,2,2,2,2,2,2,2,2,2,2,2,2,2,2,2,2,2,2,2,2,2,2,2,2,2,2,2,2,2,2,2,2,2,2,2,2,2,2,2,2,2,2,2,2,2,2,2,2,2,2,2,2,2,2,2,2,2,2,2,2,2,2,2,2,2,2,2,2,2,2,2,2,2,2,2,2,2,2,2,2,2,2,2,2,2,2,2,2,2,2,2,2,2,2,2,2,2,2,2,2,2,2,2,2,2,2,2,2,2,2,2,2,2,2,2,2,2,2,2,2,2,2,2,2,2,2,2,2,2,2,2,2,2,2,2,2,2,2,2,2,2,2,2,2,2,2,2,2,2,2,2,2,2,2,2,2,2,2,2,2,2,2,2,2,2,2,2,2,2,2,2,2,2,2,2,2,2,2,2,2,2,2,2,2,2,2,2,2,2,2,2,2,2,2,2,2,2,2,2,2,2,2,2,2,2,2,2,2,2,2,2,2,2,2,2,2,2,2,2,2,2,2,2,2,2,2,2,2,2,2,2,2,2,2,2,2,2,2,2,2,2,2,2,2,2,2,2,2,2,2,2,2,2,2,2,2,2,2,2,2,2,2,2,2,2,2,2,2,2,2,2,2,2,2,2,2,2,2,2,2,2,2,2,2,2,2,2,2,2,2,2,2,2,2,2,2,2,2,2,2,2,2,2,2,2,2,2,2,2,2,2,2,2,2,2,2,2,2,2,2,2,2,2,2,2,2,2,2,2,2,2,2,2,2,2,2,2,2,2,2,2,2,2,2,2,2,2,2,2,2,2,2,2,2,2,2,2,2,2,2,2,2,2,2,2,2,2,2,2,2,2,2,2,2,2,2,2,2,2,2,2,2,2,2,2,2,2,2,2,2,2,2,2,2,2,2,2,2,2,2,2,2,2,2,2,2,2,2,2,2,2,2,2,2,2,2,2,2,2,2,2,2,2,2,2,2,2,2,2,2,2,2,2,2,2,2,2,2,2,2,2,2,2,2,2,2,2,2,2,2,2,2,2,2,2,2,2,2,2,2,2,2,2,2,2,2,2,2,2,2,2,2,2,2,2,2,2,2,2,2,2,2,2,2,2,2,2,2,2,2,2,2,2,2,2,2,2,2,2,2,2,2,2,2,2,2,2,2,2,2,2,2,2,2,2,2,2,2,2,2,2,2,2,2,2,2,2,2,2,2,2,2,2,2,2,2,2,2,2,2,2,2,2,2,2,2,2,2,2,2,2,2,2,2,2,2,2,2,2,2,2,2,2,2,2,2,2,2,2,2,2,2,2,2,2,2,2,2,2,2,2,2,2,2,2,2,2,2,2,2,2,2,2,2,2,2,2,2,2,2,2,2,2,2,2,2,2,2,2,2,2,2,2,2,2,2,2,2,2,2,2,2,2,2,2,2,2,2,2,2,2,2,2,2,2,2,2,2,2,2,2,2,2,2,2,2,2,2,2,2,2,2,2,2,2,2,2,2,2,2,2,2,2,2,2,2,2,2,2,2,2,2,2,2,2,2,2,2,2,2,2,2,2,2,2,2,2,2,2,2,2,2,2,2,2,2,2,2,2,2,2,2,2,2,2,2,2,2,2,2,2,2,2,2,2,2,2,2,2,2,2,2,2,2,2,2,2,2,2,2,2,2,2,2,2,2,2,2,2,2,2,2,2,2,2,2,2,2,2,2,2,2,2,2,2,2,2,2,2,2,2,2,2,2,2,2,2,2,2,2,2,2,2,2,2,2,2,2,2,2,2,2,2,2,2,2,2,2,2,2,2,2,2,2,2,2,2,2,2,2,2,2,2,2,2,2,2,2,2,2,2,2,2,2,2,2,2,2,2,2,2,2,2,2,2,2,2,2,2,2,2,2,2,2,2,2,2,2,2,2,2,2,2,2,2,2,2,2,2,2,2,2,2,2,2,2,2,2,2,2,2,2,2,2,2,2,2,2,2,2,2,2,2,2,2,2,2,2,2,2,2,2,2,2,2,2,2,2,2,2,2,2,2,2,2,2,2,2,2,2,2,2,2,2,2,2,2,2,2,2,2,2,2,2,2,2,2,2,2,2,2,2,2,2,2,2,2,2,2,2,2,2,2,2,2,2,2,2,2,2,2,2,2,2,2,2,2,2,2,2,2,2,2,2,2,2,2,2,2,2,2,2,2,2,2,2,2,2,2,2,2,2,2,2,2,2,2,2,2,2,2,2,2,2,2,2,2,2,2,2,2,2,2,2,2,2,2,2,2,2,2,2,2,2,2,2,2,2,2,2,2,2,2,2,2,2,2,2,2,2,2,2,2,2,2,2,2,2,2,2,2,2,2,2,2,2,2,2,2,2,2,2,2,2,2,2,2,2,2,2,2,2,2,3,3,3,3,3,3,3,3,3,3,3,3,3,3,3,3,3,3,3,3,3,3,3,3,3,3,3,3,3,3,3,3,3,3,3,3,3,3,3,3,3,3,3,3,3,3,3,3,3,3,3,3,3,3,3,3,3,3,3,3,3,3,3,3,3,3,3,3,3,3,3,3,3,3,3,3,3,3,3,3,3,3,3,3,3,3,3,3,3,3,3,3,3,3,3,3,3,3,3,3,3,3,3,3,3,3,3,3,3,3,3,3,3,3,3,3,3,3,3,3,3,3,3,3,3,3,3,3,3,3,3,3,3,3,3,3,3,3,3,3,3,3,3,3,3,3,3,3,3,3,3,3,3,3,3,3,3,3,3,3,3,3,3,3,3,3,3,3,3,3,3,3,3,3,3,3,3,3,3,3,3,3,3,3,3,3,3,3,3,3,3,3,3,3,3,3,3,3,3,3,3,3,3,3,3,3,3,3,3,3,3,3,3,3,3,3,3,3,3,3,3,3,3,3,3,3,3,3,3,3,3,3,3,3,3,3,3,3,3,3,3,3,3,3,3,3,3,3,3,3,3,3,3,3,3,3,3,3,3,3,3,3,3,3,3,3,3,3,3,3,3,3,3,3,3,3,3,3,3,3,3,3,3,3,3,3,3,3,3,3,3,3,3,3,3,3,3,3,3,3,3,3,3,3,3,3,3,3,3,3,3,3,3,3,3,3,3,3,3,3,3,3,3,3,3,3,3,3,3,3,3,3,3,3,3,3,3,3,3,3,3,3,3,3,3,3,3,3,3,3,3,3,3,3,3,3,3,3,3,3,3,3,3,3,3,3,3,3,3,3,3,3,3,3,3,3,3,3,3,3,3,3,3,3,3,3,3,3,3,3,3,3,3,3,3,3,3,3,3,3,3,3,3,3,3,3,3,3,3,3,3,3,3,3,3,3,3,3,3,3,3,3,3,3,3,3,3,3,3,3,3,3,3,3,3,3,3,3,3,3,3,3,3,3,3,3,3,3,3,3,3,3,3,3,3,3,3,3,3,3,3,3,3,3,3,3,3,3,3,3,3,3,3,3,3,3,3,3,3,3,3,3,3,3,3,3,3,3,3,3,3,3,3,3,3,3,3,3,3,3,3,3,3,3,3,3,3,3,3,3,3,3,3,3,3,3,3,3,3,3,3,3,3,3,3,3,3,3,3,3,3,3,3,3,3,3,3,3,3,3,3,3,3,3,3,3,3,3,3,3,3,3,3,3,3,3,3,3,3,3,3,3,3,3,3,3,3,3,3,3,3,3,3,3,3,3,3,3,3,3,3,3,3,3,3,3,3,3,3,3,3,3,3,3,3,3,3,3,3,3,3,3,3,3,3,3,3,3,3,3,3,3,3,3,3,3,3,3,3,3,3,3,3,3,3,3,3,3,3,3,3,3,3,3,3,3,3,3,3,3,3,3,3,3,3,3,3,3,3,3,3,3,3,3,3,3,3,3,3,3,3,3,3,3,3,3,3,3,3,3,3,3,3,3,3,3,3,3,3,3,3,3,3,3,3,3,3,3,3,3,3,3,3,3,3,3,3,3,3,3,3,3,3,3,3,3,3,3,3,3,3,3,3,3,3,3,3,3,3,3,3,3,3,3,3,3,3,3,3,3,3,3,3,3,3,3,3,3,3,3,3,3,3,3,3,3,3,3,3,3,3,3,3,3,3,3,3,3,3,3,3,3,3,3,3,3,3,3,3,3,3,3,3,3,3,3,3,3,3,3,3,3,3,3,3,3,3,3,3,3,3,3,3,3,3,3,3,3,3,3,3,3,3,3,3,3,3,3,3,3,3,3,3,3,3,3,3,3,3,3,3,3,3,3,3,3,3,3,3,3,3,3,3,3,3,3,3,3,3,3,3,3,3,3,3,3,3,3,3,3,3,3,3,3,3,3,3,3,3,3,3,3,3,3,3,3,3,3,3,3,3,3,3,3,3,3,3,3,3,3,3,3,3,3,3,3,3,3,3,3,3,3,3,3,3,3,3,3,3,3,3,3,3,3,3,3,3,3,3,3,3,3,3,3,3,3,3,3,3,3,3,3,3,3,3,3,3,3,3,3,3,3,3,3,3,3,3,3,3,3,3,3,3,3,3,3,3,3,3,3,3,3,3,3,3,3,3,3,3,3,3,3,3,3,3,3,3,3,3,3,3,3,3,3,3,3,3,3,3,3,3,3,3,3,3,3,3,3,3,3,3,3,3,3,3,3,3,3,3,3,3,3,3,3,3,3,3,3,3,3,3,3,3,3,3,3,3,3,3,3,3,3,3,3,3,3,3,3,3,3,3,3,3,3,3,3,3,3,3,3,3,3,3,3,3,3,3,3,3,3,3,3,3,3,3,3,3,3,3,3,3,3,3,3,3,3,3,3,3,3,3,3,3,3,3,3,3,3,3,3,3,3,3,3,3,3,3,3,3,3,3,3,3,3,3,3,3,3,3,3,3,3,3,3,3,3,3,3,3,3,3,3,3,3,3,3,3,3,3,3,3,3,3,3,3,3,3,3,3,3,3,3,3,3,3,3,3,3,3,3,3,3,3,3,3,3,3,3,3,3,3,3,3,3,3,3,3,3,3,3,3,3,3,3,3,3,3,3,3,3,3,3,3,3,3,3,3,3,3,3,3,3,3,3,3,3,3,3,3,3,3,3,3,3,3,3,3,3,3,3,3,3,3,3,3,3,3,3,3,3,3,3,3,3,3,3,3,3,3,3,3,3,3,3,3,3,3,3,3,3,3,3,3,3,3,3,3,3,3,3,3,3,3,3,3,3,3,3,3,3,3,3,3,3,3,3,3,3,3,3,3,3,3,3,3,3,3,3,3,3,3,3,3,3,3,3,3,3,3,3,3,3,3,3,3,3,3,3,3,3,3,3,3,3,3,3,3,3,3,3,3,3,3,3,3,3,3,3,3,3,3,3,3,3,3,3,3,3,3,3,3,3,3,3,3,3,3,3,3,3,3,3,3,3,3,3,3,3,3,3,3,3,3,3,3,3,3,3,3,3,3,3,3,3,3,3,3,3,3,3,3,3,3,3,3,3,3,3,3,3,3,3,3,3,3,3,3,3,3,3,3,3,3,3,3,3,3,3,3,3,3,3,3,3,3,3,3,3,3,3,3,3,3,3,3,3,3,3,3,3,3,3,3,3,3,3,3,3,3,3,3,3,3,3,3,3,3,3,3,3,3,3,3,3,3,3,3,3,3,3,3,3,3,3,3,3,3,3,3,3,3,3,3,3,3,3,3,3,3,3,3,3,3,3,3,3,3,3,3,3,3,3,3,3,3,3,3,3,3,3,3,3,3,3,3,3,3,3,3,3,3,3,3,3,3,3,3,3,3,3,3,3,3,3,3,3,3,3,3,3,3,3,3,3,3,3,3,3,3,3,3,3,3,3,3,3,3,3,3,3,3,3,3,3,3,3,3,3,3,3,3,3,3,3,3,3,3,3,3,3,3,3,3,3,3,3,3,3,3,3,3,3,3,3,3,3,3,3,3,3,3,3,3,3,3,3,3,3,3,3,3,3,3,3,3,3,3,3,3,3,3,3,3,3,3,3,3,3,3,3,3,3,3,3,3,3,3,3,3,3,3,3,3,3,3,3,3,3,3,3,3,3,3,3,3,3,3,3,3,3,3,3,3,3,3,3,3,3,3,3,3,3,3,3,3,3,3,3,3,3,3,3,3,3,3,3,3,3,3,3,3,3,3,3,3,3,3,3,3,3,3,3,3,3,3,3,3,3,3,3,3,3,3,3,3,3,3,3,3,3,3,3,3,3,3,3,3,3,3,3,3,3,3,3,3,3,3,3,3,3,3,3,3,3,3,3,3,3,3,3,3,3,3,3,3,3,3,3,3,3,3,3,3,3,3,3,3,3,3,3,3,3,3,3,3,3,3,3,3,3,3,3,3,3,3,3,3,3,3,3,3,3,3,3,3,3,3,3,3,3,3,3,3,3,3,3,3,3,3,3,3,3,3,3,3,3,3,3,3,3,3,3,3,3,3,3,3,3,3,3,3,3,3,3,3,3,3,3,3,3,3,3,3,3,3,3,3,3,3,3,3,3,3,3,3,3,3,3,3,3,3,3,3,3,3,3,3,3,3,3,3,3,3,3,3,3,3,3,3,3,3,3,3,3,3,3,3,3,3,3,3,3,3,3,3,3,3,3,3,3,3,3,3,3,3,3,3,3,3,3,3,3,3,3,3,3,3,3,3,3,3,3,3,3,3,3,3,3,3,3,3,3,3,3,3,3,3,3,3,3,3,3,3,3,3,3,3,3,3,3,3,3,3,3,3,3,3,3,3,3,3,3,3,3,3,3,3,3,3,3,3,3,3,3,3,3,3,3,3,3,3,3,3,3,3,3,3,3,3,3,3,3,3,3,3,3,3,3,3,3,3,3,3,3,3,3,3,3,3,3,3,3,3,3,3,3,3,3,3,3,3,3,3,3,3,3,3,3,3,3,3,3,3,3,3,3,3,3,3,3,3,3,3,3,3,3,3,3,3,3,3,3,3,3,3,3,3,3,3,3,3,3,3,3,3,3,3,3,3,3,3,3,3,3,3,3,3,3,3,3,3,3,3,3,3,3,3,3,3,3,3,3,3,3,3,3,3,3,3,3,3,3,3,3,3,3,3,3,3,3,3,3,3,3,3,3,3,3,3,3,3,3,3,3,3,3,3,3,3,3,3,3,3,3,3,3,3,3,3,3,3,3,3,3,3,3,3,3,3,3,3,3,3,3,3,3,3,3,3,3,3,3,3,3,3,3,3,3,3,3,3,3,3,3,3,3,3,3,3,3,3,3,3,3,3,3,3,3,3,3,3,3,3,3,3,3,3,3,3,3,3,3,3,3,3,3,3,3,3,3,3,3,3,3,3,3,3,3,3,3,3,3,3,3,3,3,3,3,3,3,3,3,3,3,3,3,3,3,3,3,3,3,3,3,3,3,3,3,3,3,3,3,3,3,3,3,3,3,3,3,3,3,3,3,3,3,3,3,3,3,3,3,3,3,3,3,3,3,3,3,3,3,3,3,3,3,4,4,4,4,4,4,4,4,4,4,4,4,4,4,4,4,4,4,4,4,4,4,4,4,4,4,4,4,4,4,4,4,4,4,4,4,4,4,4,4,4,4,4,4,4,4,4,4,4,4,4,4,4,4,4,4,4,4,4,4,4,4,4,4,4,4,4,4,4,4,4,4,4,4,4,4,4,4,4,4,4,4,4,4,4,4,4,4,4,4,4,4,4,4,4,4,4,4,4,4,4,4,4,4,4,4,4,4,4,4,4,4,4,4,4,4,4,4,4,4,4,4,4,4,4,4,4,4,4,4,4,4,4,4,4,4,4,4,4,4,4,4,4,4,4,4,4,4,4,4,4,4,4,4,4,4,4,4,4,4,4,4,4,4,4,4,4,4,4,4,4,4,4,4,4,4,4,4,4,4,4,4,4,4,4,4,4,4,4,4,4,4,4,4,4,4,4,4,4,4,4,4,4,4,4,4,4,4,4,4,4,4,4,4,4,4,4,4,4,4,4,4,4,4,4,4,4,4,4,4,4,4,4,4,4,4,4,4,4,4,4,4,4,4,4,4,4,4,4,4,4,4,4,4,4,4,4,4,4,4,4,4,4,4,4,4,4,4,4,4,4,4,4,4,4,4,4,4,4,4,4,4,4,4,4,4,4,4,4,4,4,4,4,4,4,4,4,4,4,4,4,4,4,4,4,4,4,4,4,4,4,4,4,4,4,4,4,4,4,4,4,4,4,4,4,4,4,4,4,4,4,4,4,4,4,4,4,4,4,4,4,4,4,4,4,4,4,4,4,4,4,4,4,4,4,4,4,4,4,4,4,4,4,4,4,4,4,4,4,4,4,4,4,4,4,4,4,4,4,4,4,4,4,4,4,4,4,4,4,4,4,4,4,4,4,4,4,4,4,4,4,4,4,4,4,4,4,4,4,4,4,4,4,4,4,4,4,4,4,4,4,4,4,4,4,4,4,4,4,4,4,4,4,4,4,4,4,4,4,4,4,4,4,4,4,4,4,4,4,4,4,4,4,4,4,4,4,4,4,4,4,4,4,4,4,4,4,4,4,4,4,4,4,4,4,4,4,4,4,4,4,4,4,4,4,4,4,4,4,4,4,4,4,4,4,4,4,4,4,4,4,4,4,4,4,4,4,4,4,4,4,4,4,4,4,4,4,4,4,4,4,4,4,4,4,4,4,4,4,4,4,4,4,4,4,4,4,4,4,4,4,4,4,4,4,4,4,4,4,4,4,4,4,4,4,4,4,4,4,4,4,4,4,4,4,4,4,4,4,4,4,4,4,4,4,4,4,4,4,4,4,4,4,4,4,4,4,4,4,4,4,4,4,4,4,4,4,4,4,4,4,4,4,4,4,4,4,4,4,4,4,4,4,4,4,4,4,4,4,4,4,4,4,4,4,4,4,4,4,4,4,4,4,4,4,4,4,4,4,4,4,4,4,4,4,4,4,4,4,4,4,4,4,4,4,4,4,4,4,4,4,4,4,4,4,4,4,4,4,4,4,4,4,4,4,4,4,4,4,4,4,4,4,4,4,4,4,4,4,4,4,4,4,4,4,4,4,4,4,4,4,4,4,4,4,4,4,4,4,4,4,4,4,4,4,4,4,4,4,4,4,4,4,4,4,4,4,4,4,4,4,4,4,4,4,4,4,4,4,4,4,4,4,4,4,4,4,4,4,4,4,4,4,4,4,4,4,4,4,4,4,4,4,4,4,4,4,4,4,4,4,4,4,4,4,4,4,4,4,4,4,4,4,4,4,4,4,4,4,4,4,4,4,4,4,4,4,4,4,4,4,4,4,4,4,4,4,4,4,4,4,4,4,4,4,4,4,4,4,4,4,4,4,4,4,4,4,4,4,4,4,4,4,4,4,4,4,4,4,4,4,4,4,4,4,4,4,4,4,4,4,4,4,4,4,4,4,4,4,4,4,4,4,4,4,4,4,4,4,4,4,4,4,4,4,4,4,4,4,4,4,4,4,4,4,4,4,4,4,4,4,4,4,4,4,4,4,4,4,4,4,4,4,4,4,4,4,4,4,4,4,4,4,4,4,4,4,4,4,4,4,4,4,4,4,4,4,4,4,4,4,4,4,4,4,4,4,4,4,4,4,4,4,4,4,4,4,4,4,4,4,4,4,4,4,4,4,4,4,4,4,4,4,4,4,4,4,4,4,4,4,4,4,4,4,4,4,4,4,4,4,4,4,4,4,4,4,4,4,4,4,4,4,4,4,4,4,4,4,4,4,4,4,4,4,4,4,4,4,4,4,4,4,4,4,4,4,4,4,4,4,4,4,4,4,4,4,4,4,4,4,4,4,4,4,4,4,4,4,4,4,4,4,4,4,4,4,4,4,4,4,4,4,4,4,4,4,4,4,4,4,4,4,4,4,4,4,4,4,4,4,4,4,4,4,4,4,4,4,4,4,4,4,4,4,4,4,4,4,4,4,4,4,4,4,4,4,4,4,4,4,4,4,4,4,4,4,4,4,4,4,4,4,4,4,4,4,4,4,4,4,4,4,4,4,4,4,4,4,4,4,4,4,4,4,4,4,4,4,4,4,4,4,4,4,4,4,4,4,4,4,4,4,4,4,4,4,4,4,4,4,4,4,4,4,4,4,4,4,4,4,4,4,4,4,4,4,4,4,4,4,4,4,4,4,4,4,4,4,4,4,4,4,4,4,4,4,4,4,4,4,4,4,4,4,4,4,4,4,4,4,4,4,4,4,4,4,4,4,4,4,4,4,4,4,4,4,4,4,4,4,4,4,4,4,4,4,4,4,4,4,4,4,4,4,4,4,4,4,4,4,4,4,4,4,4,4,4,4,4,4,4,4,4,4,4,4,4,4,4,4,4,4,4,4,4,4,4,4,4,4,4,4,4,4,4,4,4,4,4,4,4,4,4,4,4,4,4,4,4,4,4,4,4,4,4,4,4,4,4,4,4,4,4,4,4,4,4,4,4,4,4,4,4,4,4,4,4,4,4,4,4,4,4,4,4,4,4,4,4,4,4,4,4,4,4,4,4,4,4,4,4,4,4,4,4,4,4,4,4,4,4,4,4,4,4,4,4,4,4,4,4,4,4,4,4,4,4,4,4,4,4,4,4,4,4,4,4,4,4,4,4,4,4,4,4,4,4,4,4,4,4,4,4,4,4,4,4,4,4,4,4,4,4,4,4,4,4,4,4,4,4,4,4,4,4,4,4,4,4,4,4,4,4,4,4,4,4,4,4,4,4,4,4,4,4,4,4,4,4,4,4,4,4,4,4,4,4,4,4,4,4,4,4,4,4,4,4,4,4,4,4,4,4,4,4,4,4,4,4,4,4,4,4,4,4,4,4,4,4,4,4,4,4,4,4,4,4,4,4,4,4,4,4,4,4,4,4,4,4,4,4,4,4,4,4,4,4,4,4,4,4,4,4,4,4,4,4,4,4,4,4,4,4,4,4,4,4,4,4,4,4,4,4,4,4,4,4,4,4,4,4,4,4,4,4,4,4,4,4,4,4,4,4,4,4,4,4,4,4,4,4,4,4,4,4,4,4,4,4,4,4,4,4,4,4,4,4,4,4,4,4,4,4,4,4,4,4,4,4,4,4,4,4,4,4,4,4,4,4,4,4,4,4,4,4,4,4,4,4,4,4,4,4,4,4,4,4,4,4,4,4,4,4,4,4,4,4,4,4,4,4,4,4,4,4,4,4,4,4,4,4,4,4,4,4,4,4,4,4,4,4,4,4,4,4,4,4,4,4,4,4,4,4,4,4,4,4,4,4,4,4,4,4,4,4,4,4,4,4,4,4,4,4,4,4,4,4,4,4,4,4,4,4,4,4,4,4,4,4,4,4,4,4,4,4,4,4,4,4,4,4,4,4,4,4,4,4,4,4,4,4,4,4,4,4,4,4,4,4,4,4,4,4,4,4,4,4,4,4,4,4,4,4,4,4,4,4,4,4,4,4,4,4,4,4,4,4,4,4,4,4,4,4,4,4,4,4,4,4,4,4,4,4,4,4,4,4,4,4,4,4,4,4,4,4,4,4,4,4,4,4,4,4,4,4,4,4,4,4,4,4,4,4,4,4,4,4,4,4,4,4,4,4,4,4,4,4,4,4,4,4,4,4,4,4,4,4,4,4,4,4,4,4,4,4,4,4,4,4,4,4,4,4,4,4,4,4,4,4,4,4,4,4,4,4,4,4,4,4,4,4,4,4,4,4,4,4,4,4,4,4,4,4,4,4,4,4,4,4,4,4,4,4,4,4,4,4,4,4,4,4,4,4,4,4,4,4,4,4,4,4,4,4,4,4,4,4,4,4,4,4,4,4,4,4,4,4,4,4,4,4,4,4,4,4,4,4,4,4,4,4,4,4,4,4,4,4,4,4,4,4,4,4,4,4,4,4,4,4,4,4,4,4,4,4,4,4,4,4,4,4,4,4,4,4,4,4,4,4,4,4,4,4,4,4,4,4,4,4,4,4,4,4,4,4,4,4,4,4,4,4,4,4,4,4,4,4,4,4,4,4,4,4,4,4,4,4,4,4,4,4,4,4,4,4,4,4,4,4,4,4,4,4,4,4,4,4,4,4,4,4,4,4,4,4,4,4,4,4,4,4,4,4,4,4,4,4,4,4,4,4,4,4,4,4,4,4,4,4,4,4,4,4,4,4,4,4,4,4,4,4,4,4,4,4,4,4,4,4,4,4,4,4,4,4,4,4,1,1,1,1,1,1,1,1,1,1,1,1,1,1,1,1,1,1,1,1,1,1,1,1,1,1,1,1,1,1,1,1,1,1,1,1,1,1,1,1,1,1,1,1,1,1,1,1,1,1,1,1,1,1,1,1,1,1,1,1,1,1,1,1,1,1,1,1,1,1,1,1,1,1,1,1,1,1,1,1,1,1,1,1,1,1,1,1,1,1,1,1,1,1,1,1,1,1,1,1,1,1,1,1,1,1,1,1,1,1,1,1,1,1,1,1,1,1,1,1,1,1,1,1,1,1,1,1,1,1,1,1,1,1,1,1,1,1,1,1,1,1,1,1,1,1,1,1,1,1,1,1,1,1,1,1,1,1,1,1,1,1,1,1,1,1,1,1,1,1,1,1,1,1,1,1,1,1,1,1,1,1,1,1,1,1,1,1,1,1,1,1,1,1,1,1,1,1,1,1,1,1,1,1,1,1,1,1,1,1,1,1,1,1,1,1,1,1,1,1,1,1,1,1,1,1,1,1,1,1,1,1,1,1,1,1,1,1,1,1,1,1,1,1,1,1,1,1,1,1,1,1,1,1,1,1,1,1,1,1,1,1],\"x0\":\" \",\"xaxis\":\"x\",\"y\":[13,32,27,10,1,1,0,2,7,6,24,30,55,47,71,70,52,52,26,31,25,31,17,24,13,16,8,4,1,2,1,8,19,46,54,73,64,55,55,67,58,43,29,17,20,9,8,5,2,1,3,30,63,153,81,33,41,48,53,66,58,67,146,148,102,49,49,20,11,5,2,1,2,4,36,92,177,98,37,50,66,79,54,48,68,202,179,110,53,48,34,9,6,6,2,2,3,33,87,192,109,53,34,74,65,52,55,85,186,166,127,82,40,41,18,11,4,2,1,4,36,95,216,116,42,57,78,55,59,54,74,163,158,109,66,48,51,19,13,5,1,1,5,26,76,190,125,47,48,50,64,43,63,82,178,116,92,50,39,34,14,24,15,13,7,1,5,2,8,15,20,56,60,90,95,83,69,68,64,52,26,28,35,33,22,24,12,11,4,1,1,1,5,10,19,49,47,79,69,64,77,79,59,44,40,38,19,10,6,3,0,3,1,2,3,31,75,184,92,31,28,47,50,47,43,70,174,154,92,73,37,22,18,10,3,3,6,27,97,214,127,51,31,55,46,60,45,72,130,94,51,32,20,28,18,7,6,1,5,16,54,125,78,39,32,52,49,44,48,63,139,135,82,54,57,32,19,6,2,2,3,4,3,28,72,197,137,36,33,49,81,39,55,76,158,141,98,64,40,30,14,14,5,1,1,8,17,70,156,117,40,47,59,73,59,59,87,155,134,89,68,48,34,26,25,18,12,7,5,1,2,9,22,31,57,54,74,80,92,108,95,54,69,60,35,51,26,39,33,19,13,6,1,1,1,3,18,29,71,70,75,95,69,78,77,82,56,47,50,22,19,18,16,15,8,2,2,1,5,9,30,39,50,55,70,80,74,72,76,67,85,58,29,24,13,3,3,22,26,32,61,124,132,98,83,41,33,19,3,6,3,1,7,32,89,196,107,46,47,65,67,68,78,94,190,156,108,74,55,53,27,8,3,2,1,1,6,35,100,247,140,56,63,77,86,75,62,83,207,184,146,124,54,56,28,20,6,2,1,1,4,27,66,210,159,57,53,67,65,56,61,97,151,119,93,52,41,33,27,13,9,11,6,3,2,8,26,37,50,59,60,72,64,93,72,59,54,53,44,39,23,31,20,12,15,4,3,1,1,17,25,51,77,92,75,93,64,56,50,44,45,31,20,23,17,7,1,1,1,5,15,79,171,98,34,43,52,54,43,50,66,178,145,101,80,53,32,21,6,5,2,1,9,35,103,233,134,49,55,85,72,57,63,102,208,218,133,103,40,49,37,14,5,7,1,8,29,69,55,26,35,41,43,36,42,35,26,23,82,101,76,55,36,27,16,9,2,2,0,4,16,58,155,95,49,30,28,31,36,40,70,147,107,84,61,57,26,22,26,20,15,5,2,2,4,31,34,51,60,66,56,89,98,88,82,59,52,42,35,28,30,33,22,10,7,1,3,3,11,34,57,50,87,71,104,95,104,71,57,46,30,25,19,16,6,5,1,2,2,8,37,71,182,112,68,46,62,52,85,41,83,155,153,108,78,53,34,15,6,3,2,2,3,22,52,132,114,47,49,53,49,49,45,61,172,165,105,69,64,34,15,2,3,0,1,1,3,17,48,154,119,59,47,61,74,61,66,95,183,175,88,71,62,35,29,11,5,2,1,2,39,86,184,127,50,55,67,47,43,56,73,170,145,92,108,53,39,34,10,7,1,1,7,26,87,217,124,46,61,78,73,76,81,91,195,152,102,69,41,45,30,36,17,12,10,8,9,4,4,10,17,31,46,42,62,50,49,63,64,81,78,64,53,43,52,37,40,20,10,2,1,1,8,21,38,74,89,126,135,114,130,115,97,65,20,21,22,57,26,14,4,3,1,1,9,29,89,223,115,49,36,59,54,52,46,98,207,170,123,82,75,34,19,6,4,1,1,3,2,39,97,236,128,44,49,63,48,61,45,79,172,151,100,53,46,29,9,17,7,2,2,7,43,95,198,119,51,40,57,67,56,61,72,157,168,87,84,83,42,37,16,7,3,1,6,26,99,173,121,34,44,65,59,42,50,76,159,157,110,93,70,47,33,12,6,3,4,23,73,212,132,39,52,64,89,67,62,111,193,165,94,61,46,41,48,27,22,13,7,4,1,1,9,28,38,71,84,93,103,90,127,103,113,60,39,39,42,39,31,34,23,19,8,2,3,3,11,35,86,86,94,92,110,122,106,95,78,50,32,45,31,27,8,6,2,1,2,3,25,96,249,122,46,43,99,93,76,71,102,218,194,86,65,35,44,19,12,5,2,1,4,30,103,213,108,47,46,65,68,69,74,77,191,198,142,98,61,41,20,15,9,1,1,5,32,103,224,122,55,59,72,80,65,82,96,244,202,143,108,87,61,31,16,6,4,1,1,11,44,119,267,163,70,71,86,108,55,91,117,256,211,161,131,119,68,40,20,7,5,6,1,6,48,108,246,154,78,82,126,131,118,117,164,275,195,146,105,61,88,61,23,21,14,7,3,3,3,16,36,37,72,76,81,103,94,87,81,91,67,54,38,29,42,25,14,11,17,9,1,1,2,22,48,70,89,120,122,104,102,88,86,71,39,30,39,43,45,30,11,3,3,0,2,6,16,56,46,52,70,67,75,101,76,48,62,64,49,29,33,11,2,7,40,107,101,44,43,48,52,49,67,79,188,161,114,102,80,76,18,6,4,1,2,8,36,94,227,130,47,53,56,78,61,54,79,207,206,135,107,89,60,38,11,7,4,2,3,58,104,244,133,49,71,85,72,67,58,67,168,132,112,87,76,50,47,8,9,3,1,5,11,34,70,111,42,50,95,77,71,50,91,181,150,86,60,56,43,37,25,25,9,7,1,9,6,21,55,65,71,100,115,136,154,125,130,130,111,64,60,59,38,29,26,30,20,8,2,1,8,26,42,79,92,132,169,177,163,170,121,103,86,72,61,67,53,25,7,1,4,27,90,242,127,79,74,36,31,24,35,40,77,127,79,45,78,72,45,7,3,4,2,1,1,46,105,204,116,55,48,80,65,61,57,92,230,214,115,86,55,44,23,5,4,2,1,0,5,39,108,243,141,65,65,62,90,75,91,112,238,193,144,86,68,44,22,10,1,2,1,1,7,34,110,216,135,49,40,65,67,60,62,65,185,161,101,69,48,50,23,12,4,2,1,0,7,28,83,222,138,56,73,87,74,65,75,101,206,172,102,78,64,40,40,15,20,15,2,1,3,3,10,34,48,69,116,121,130,118,122,130,104,115,62,58,60,47,34,41,27,27,9,3,1,5,8,18,27,44,69,83,27,4,8,23,23,11,8,6,10,9,4,2,1,0,1,31,88,200,129,43,41,68,54,56,64,96,206,214,134,87,53,34,22,9,4,0,2,2,8,42,119,247,140,46,52,70,73,56,77,82,209,214,141,74,68,44,38,9,4,1,2,2,7,44,123,238,136,49,44,84,82,61,64,102,176,176,123,87,52,17,17,0,2,1,2,12,36,43,23,17,5,30,11,12,11,20,109,80,51,29,27,30,26,6,8,3,2,6,31,104,244,143,60,67,96,92,64,64,95,200,134,111,70,43,53,34,30,15,14,6,1,2,2,19,44,76,78,83,107,95,96,101,144,114,91,86,64,46,56,38,35,23,17,9,3,2,8,23,36,86,93,120,124,106,155,132,143,92,73,54,49,29,23,7,1,1,3,8,27,84,217,127,57,45,54,51,52,77,80,229,210,133,106,58,43,17,7,6,2,1,11,32,109,259,147,56,51,70,74,74,66,93,195,207,138,79,53,20,17,8,2,2,1,3,30,101,227,144,49,62,65,81,67,79,121,216,211,150,111,75,48,18,19,11,5,1,3,13,47,128,282,162,69,66,81,85,87,95,108,265,260,189,112,119,70,43,24,12,9,4,8,35,112,256,192,74,104,123,118,103,111,137,237,247,132,103,91,63,60,50,35,20,7,2,2,10,9,37,41,85,106,141,127,144,143,129,140,125,116,69,73,45,37,33,22,24,11,1,6,3,9,30,43,81,111,108,115,134,136,132,143,98,58,46,39,30,11,11,6,5,1,1,30,15,95,115,45,47,56,77,65,66,112,231,232,199,106,79,60,22,7,13,1,2,1,11,58,132,312,159,95,64,86,85,71,79,125,265,271,142,116,63,57,28,8,7,1,3,10,43,111,247,174,60,53,73,94,71,74,123,245,218,147,72,22,38,24,11,3,6,0,1,8,41,106,120,94,55,61,82,90,66,77,78,221,197,122,110,67,59,24,17,5,5,2,2,9,32,100,228,150,53,58,108,104,103,79,127,202,190,126,75,64,40,31,25,24,21,7,4,8,8,23,42,68,93,93,129,145,123,109,130,101,89,93,67,36,46,31,26,17,15,14,5,2,7,8,37,59,85,120,100,103,111,98,109,105,80,50,29,25,16,11,4,5,2,8,40,104,239,109,47,39,71,69,65,53,117,227,220,156,107,55,40,18,15,4,3,1,1,8,46,128,268,156,46,63,77,80,66,65,124,265,252,170,119,75,49,27,8,9,4,4,0,7,44,128,247,147,51,64,65,84,64,56,36,105,79,67,40,27,21,11,3,4,5,1,2,8,34,87,185,126,54,52,73,55,49,61,72,153,165,118,79,53,44,23,6,4,7,4,3,11,26,91,198,162,63,72,80,92,61,81,125,245,205,120,75,84,64,41,29,28,20,8,5,4,7,16,45,65,113,126,100,81,93,64,85,95,110,77,56,53,41,33,31,26,19,8,0,4,23,20,44,74,104,104,147,148,109,118,156,126,101,93,55,37,29,22,5,4,1,0,1,7,43,150,308,134,55,66,98,92,76,96,130,283,308,227,133,76,58,30,12,5,5,3,2,5,36,124,148,44,25,18,32,51,67,62,113,246,248,148,87,81,43,23,15,2,5,4,1,12,52,130,308,157,48,70,112,83,80,83,142,303,282,196,126,84,71,29,15,11,7,3,1,6,59,152,291,155,66,86,114,99,111,133,161,280,265,192,166,89,63,45,21,6,10,1,1,8,33,109,208,168,63,79,51,35,13,24,58,138,54,52,51,43,42,31,26,17,15,11,3,5,13,13,47,71,90,91,123,108,118,116,118,129,129,83,74,65,66,45,48,31,24,11,2,4,4,7,38,50,81,109,136,142,133,141,153,152,137,84,71,77,45,27,16,3,2,1,12,59,164,286,132,55,59,97,77,85,85,162,352,290,211,122,119,66,38,13,7,7,1,2,15,55,177,211,50,34,38,83,84,28,54,80,262,203,127,94,74,47,31,12,1,2,2,2,4,33,67,158,63,42,57,83,55,82,69,119,284,293,160,119,100,89,57,18,9,3,2,8,12,66,182,316,152,68,87,110,121,101,85,153,338,290,222,147,126,82,40,21,9,10,3,3,11,42,139,279,162,91,95,155,133,106,112,173,267,216,168,92,77,64,56,36,28,19,9,4,3,9,18,38,27,21,27,26,49,49,62,27,14,32,62,49,13,22,30,29,25,25,13,5,1,5,14,36,71,120,185,187,162,191,209,182,163,175,135,97,70,49,37,24,8,2,1,4,16,51,156,277,132,68,87,124,128,95,112,165,362,321,244,136,131,81,35,23,2,5,3,4,17,63,166,331,139,60,53,84,103,88,83,162,372,377,248,148,114,109,41,29,5,2,2,4,14,62,211,374,170,86,87,117,135,115,113,201,398,385,309,194,134,105,79,33,20,10,3,4,14,73,183,346,178,73,99,150,122,160,166,228,402,381,272,176,159,106,86,30,22,7,2,2,16,47,175,331,178,104,83,61,37,33,62,58,63,47,48,39,23,21,17,18,11,14,4,3,6,11,17,32,55,93,164,197,186,209,226,246,215,227,199,138,103,114,86,66,40,45,20,5,7,3,11,42,104,171,193,220,236,223,202,197,189,174,132,71,53,40,37,10,8,9,8,4,14,59,183,326,147,64,94,140,146,99,125,198,441,425,320,195,149,83,53,17,5,9,4,4,16,80,254,417,164,98,132,146,139,115,119,251,455,463,286,199,162,116,71,24,15,5,4,6,16,79,229,413,161,66,103,135,119,119,120,189,458,366,220,188,126,111,53,41,12,7,1,5,13,79,201,367,165,45,74,84,103,121,117,228,406,486,347,220,167,119,81,37,21,8,4,6,25,67,222,386,185,99,108,160,234,190,175,240,433,384,230,160,145,110,88,73,59,53,13,5,4,11,27,70,121,185,201,238,270,268,282,273,245,237,237,159,119,106,91,77,50,43,15,11,10,9,26,43,96,155,141,172,209,153,153,139,136,126,131,86,82,68,82,109,73,19,7,8,16,59,193,350,131,77,96,147,119,133,110,220,472,450,268,174,178,97,48,16,14,5,2,1,14,102,248,435,157,91,120,169,144,122,117,225,464,485,323,262,183,99,50,22,6,4,1,2,8,21,46,74,35,26,69,105,128,94,107,173,388,367,266,174,133,80,49,23,6,4,4,3,29,86,255,415,164,98,105,169,142,135,120,233,467,456,305,225,141,135,99,43,24,15,6,1,16,74,202,415,161,97,123,198,182,127,171,262,470,385,253,161,130,105,93,76,50,47,9,4,3,12,32,96,164,208,215,244,240,235,230,223,216,175,179,137,124,94,89,78,56,42,21,8,5,4,15,58,112,153,198,243,224,240,230,263,245,205,178,132,95,86,41,22,8,2,7,4,23,87,221,351,142,95,99,160,138,118,148,255,539,458,339,214,128,95,45,12,12,4,3,2,28,103,301,397,176,100,108,170,152,134,152,271,532,480,365,241,173,121,72,30,16,4,3,2,20,93,293,421,182,124,123,185,157,141,131,240,242,234,341,245,202,134,69,39,16,14,5,5,27,103,283,394,191,119,136,164,170,148,163,238,540,463,305,220,192,147,87,46,15,8,2,3,24,76,141,361,215,99,90,170,157,120,142,256,429,359,245,130,130,107,88,78,64,37,30,4,7,9,28,72,86,133,207,204,180,159,221,188,194,216,179,115,44,19,33,34,43,37,21,8,11,14,38,46,98,153,202,247,261,254,253,282,255,177,153,138,107,88,51,21,8,9,3,5,20,93,245,366,156,75,129,137,153,117,110,181,227,398,272,167,149,105,39,18,6,4,3,2,22,49,138,325,190,73,104,115,141,123,131,217,521,426,298,253,151,86,49,15,9,5,3,2,9,99,260,428,176,73,17,42,92,94,133,241,487,431,288,189,74,103,49,23,4,12,3,3,24,86,239,453,176,95,111,130,139,137,125,247,487,454,345,236,180,68,63,33,17,4,4,4,28,102,289,476,199,104,133,186,172,131,168,269,483,394,253,180,155,124,100,78,64,35,12,6,4,22,33,97,165,201,245,271,271,269,274,267,253,253,184,164,150,126,103,100,81,50,23,9,5,13,27,65,130,170,209,255,275,191,221,201,213,238,193,174,109,86,46,18,5,3,4,2,11,92,223,359,131,72,107,139,155,130,119,223,373,385,302,271,155,106,53,23,9,8,2,3,22,102,288,403,111,90,142,129,152,126,129,225,492,490,310,241,168,115,53,32,2,8,9,3,23,113,284,495,207,105,104,178,163,121,145,238,524,451,332,284,203,140,74,34,13,7,4,2,25,94,270,458,194,94,124,141,145,145,101,233,445,404,311,267,178,157,73,55,36,12,11,5,29,73,229,393,190,111,126,190,158,188,258,356,414,310,210,120,114,116,104,79,47,35,13,4,3,16,33,75,116,166,178,213,217,210,187,201,161,212,153,128,114,115,81,51,49,49,24,10,3,10,17,62,78,121,180,186,181,168,155,167,169,177,146,128,122,93,87,65,53,28,8,4,6,10,19,58,81,153,168,187,217,185,179,208,202,172,157,168,107,80,34,20,9,7,3,3,26,98,219,372,153,72,78,125,110,99,133,205,428,362,246,213,165,117,46,25,9,3,6,4,19,121,265,417,173,84,86,137,125,105,127,227,434,278,248,233,161,115,59,31,12,6,4,3,28,106,285,442,197,106,123,193,168,142,144,255,484,451,321,286,215,141,89,53,15,12,5,5,24,98,252,471,194,107,135,208,190,174,156,286,485,488,338,236,196,145,141,69,80,41,10,11,5,17,60,96,169,202,249,270,268,258,224,272,202,214,206,149,139,141,121,90,70,48,25,8,5,11,19,74,111,168,214,212,213,224,256,260,264,239,249,195,111,94,61,18,5,4,3,4,24,101,281,410,162,64,72,128,152,99,127,233,516,500,343,277,160,137,55,15,2,2,1,3,30,116,311,432,190,86,113,141,141,112,127,253,475,479,355,301,187,126,72,29,20,7,1,6,21,103,329,435,168,63,106,134,116,111,100,199,426,398,323,225,168,139,98,40,13,6,2,4,19,105,283,400,148,74,82,100,118,93,86,170,355,414,271,214,142,131,82,61,18,7,3,4,28,94,242,423,176,88,107,167,149,121,163,239,454,367,245,197,163,145,110,89,67,50,18,9,12,31,50,111,171,173,215,235,237,232,232,225,190,155,167,180,144,137,107,100,74,57,20,6,5,9,27,64,107,191,236,244,264,219,218,235,158,187,156,144,101,97,74,20,10,8,6,3,27,98,302,432,189,80,106,161,174,145,127,262,529,510,348,253,178,114,75,18,10,8,1,3,23,107,346,441,174,97,103,139,176,118,136,279,484,473,335,237,206,159,91,44,14,9,1,4,20,110,348,445,185,108,115,178,146,128,131,265,555,527,362,273,209,144,90,38,13,4,4,6,18,104,172,364,232,103,117,165,114,114,127,258,230,299,269,176,154,127,14,21,19,11,5,5,12,89,225,426,196,126,138,194,156,142,181,286,467,388,275,192,159,127,141,83,80,37,16,4,6,18,45,103,156,176,270,258,192,196,214,275,239,263,227,127,125,105,97,71,59,59,16,10,12,22,36,59,111,158,236,255,214,193,216,257,238,218,217,146,110,114,78,19,3,0,0,2,3,25,46,209,200,58,67,129,129,130,139,238,484,474,369,264,167,106,50,23,12,5,2,7,22,107,288,368,243,120,119,149,158,108,128,273,507,469,358,254,191,97,53,18,19,5,7,8,21,110,288,396,205,104,108,144,113,113,114,224,462,447,280,230,216,123,91,44,26,4,4,7,22,92,301,412,194,88,108,130,149,103,127,217,495,483,344,277,188,139,90,53,20,10,4,8,18,87,247,439,203,102,147,150,178,162,147,247,472,365,293,222,183,126,139,97,75,51,21,4,8,17,35,85,139,203,209,252,231,232,235,235,247,199,254,195,140,126,130,85,73,70,22,8,9,13,27,78,131,196,219,268,245,246,229,278,243,265,228,158,135,95,64,25,11,3,2,8,21,90,247,418,150,95,95,130,127,100,126,222,514,512,340,251,190,112,65,25,8,9,2,7,20,117,320,417,208,112,118,161,156,117,127,220,509,436,255,246,164,104,58,25,18,9,3,5,19,104,318,499,189,95,117,188,186,138,146,268,492,510,341,264,195,151,97,39,19,6,7,4,24,119,291,511,227,97,122,183,162,117,176,260,496,472,366,285,242,164,99,48,16,7,6,5,27,97,218,453,202,109,146,180,209,225,299,342,362,324,238,185,149,173,96,84,58,43,21,8,13,21,35,94,124,168,213,232,226,215,163,192,170,190,149,148,137,123,88,97,55,50,25,2,1,3,22,53,99,133,175,206,173,150,182,219,177,107,83,93,92,93,77,77,76,30,13,4,3,11,19,44,96,114,172,210,181,173,184,216,196,196,205,191,262,211,94,36,24,5,7,4,19,91,248,391,177,84,97,130,136,112,111,202,466,426,297,225,168,124,54,26,11,4,6,6,30,112,288,397,158,30,103,114,107,113,130,218,517,486,323,257,175,156,78,29,14,7,2,4,30,107,279,415,154,72,112,139,107,121,119,218,489,492,286,224,170,150,98,41,25,12,4,4,24,91,302,421,211,108,104,164,175,163,102,105,161,281,225,220,158,136,111,90,48,43,23,4,11,27,50,114,170,177,189,221,249,215,220,245,241,246,178,185,155,154,93,112,94,68,19,5,10,17,38,65,107,173,177,244,228,227,219,244,217,222,183,167,162,87,53,25,5,4,8,4,21,102,289,385,167,73,89,108,119,94,108,182,455,415,293,194,109,70,44,19,8,7,6,6,21,102,301,382,149,85,86,125,104,91,111,177,380,472,295,251,209,150,59,37,11,3,4,5,22,103,281,418,163,80,110,134,119,89,33,118,418,412,340,281,194,136,83,32,21,7,5,6,22,116,311,433,195,95,110,172,138,129,138,231,517,484,333,267,203,134,97,57,13,22,6,8,16,108,257,514,176,107,137,177,162,160,163,265,483,394,280,251,186,152,126,68,51,48,20,7,6,21,38,90,150,208,225,276,276,232,223,242,241,243,242,188,167,136,107,91,86,66,26,6,8,11,30,73,110,177,244,243,272,262,195,188,236,243,234,177,148,116,54,30,8,8,4,3,15,95,255,329,170,78,99,126,125,106,111,220,473,478,335,232,154,104,59,26,6,4,1,4,19,126,287,381,177,112,98,127,139,111,110,216,445,450,334,229,194,120,73,29,7,7,4,4,19,111,276,404,181,76,116,121,97,83,102,204,405,429,323,264,209,144,73,29,16,4,5,4,16,111,251,358,166,47,79,106,81,97,93,167,374,343,233,199,187,113,73,51,17,14,6,5,17,83,232,292,177,83,86,95,98,77,101,153,271,250,210,166,152,105,84,85,57,48,16,4,6,19,38,85,102,137,154,164,167,152,137,151,127,134,137,98,115,88,77,77,63,48,20,5,3,13,29,82,112,165,169,161,162,204,170,187,174,176,170,143,111,75,37,17,8,3,2,6,22,100,257,353,124,54,83,50,64,62,96,161,437,473,324,247,153,112,64,20,6,6,2,6,24,108,288,392,162,96,102,122,139,101,114,213,465,478,329,243,222,131,71,26,9,5,4,3,18,119,313,405,189,82,94,132,151,107,103,228,491,463,288,239,196,143,93,31,26,5,5,6,26,110,278,409,189,86,113,151,126,111,124,214,423,428,285,229,165,149,95,45,22,10,9,4,23,83,228,354,151,69,118,95,114,114,129,198,374,313,219,153,134,127,90,73,75,31,25,6,9,18,39,87,125,182,206,230,183,193,189,176,209,207,155,132,123,129,114,80,71,48,26,7,4,8,26,88,128,163,163,192,152,196,184,208,206,213,187,205,96,71,56,22,12,7,4,2,24,97,258,347,139,70,66,115,112,86,77,197,445,475,350,256,178,116,82,18,8,6,5,10,17,105,320,398,182,90,96,112,153,114,120,216,493,491,369,248,201,169,103,32,9,9,4,7,22,101,252,408,172,59,93,142,107,104,87,129,378,443,270,80,81,66,52,15,14,5,3,7,17,90,271,369,162,89,112,152,142,114,115,220,464,435,301,245,186,141,108,41,16,14,6,6,16,94,247,415,183,113,103,159,164,164,160,254,466,361,282,221,119,137,102,104,50,39,28,5,4,22,49,94,155,199,211,252,265,204,232,188,88,130,114,79,86,96,79,66,63,48,23,5,4,10,28,66,102,178,156,209,206,192,208,119,131,155,160,133,100,82,43,17,8,3,0,8,14,87,249,320,146,62,89,134,108,109,86,218,460,465,352,215,156,121,53,25,9,3,3,6,25,95,313,352,141,89,88,125,127,95,106,228,453,488,302,258,184,127,53,18,10,10,3,4,30,110,289,361,148,72,95,166,150,116,141,206,513,489,334,253,162,122,94,40,17,8,7,4,23,101,292,361,166,96,128,164,166,103,126,241,486,497,323,232,171,123,105,53,19,15,9,5,24,73,247,397,178,86,108,167,179,135,190,266,423,376,284,210,153,157,100,69,64,58,18,5,15,19,34,90,138,163,192,246,92,146,208,133,172,169,170,105,127,118,95,71,57,49,22,2,9,4,20,21,76,116,117,183,233,244,203,176,196,222,184,126,104,25,22,18,9,3,6,4,14,87,248,326,170,87,112,116,140,95,133,225,471,413,343,240,150,76,77,23,12,3,5,5,29,115,328,417,171,83,110,120,147,117,123,248,525,516,320,232,177,121,57,16,12,6,4,5,28,101,296,452,178,91,108,163,138,138,117,238,506,470,297,243,192,142,85,38,11,4,6,9,27,97,289,393,186,92,97,139,154,115,118,196,365,226,115,141,137,117,94,53,19,8,1,7,16,91,251,368,187,108,120,168,169,142,156,261,442,337,132,46,89,97,88,107,35,59,42,6,8,18,36,106,139,192,223,253,220,228,215,222,203,225,182,170,144,146,98,68,69,51,26,5,8,10,19,62,151,177,181,239,216,157,51,161,179,215,201,140,93,97,48,22,13,6,5,10,23,106,270,331,151,85,85,153,158,137,127,254,509,537,350,247,180,121,45,22,13,4,4,5,35,111,333,461,191,92,124,177,164,502,423,311,339,421,297,206,173,145,61,29,17,4,1,7,26,105,297,436,169,95,128,175,180,127,141,222,484,519,347,289,189,140,54,41,11,2,2,6,25,101,296,461,141,105,112,32,30,86,104,105,284,377,241,192,158,126,69,42,13,16,8,6,23,100,263,387,191,89,151,173,165,164,196,293,433,370,235,183,152,126,114,112,51,59,22,3,11,15,26,62,128,154,73,65,33,19,28,14,14,1,6,46,115,178,218,302,290,314,295,253,257,247,150,126,73,48,21,15,5,5,3,17,99,273,384,166,73,100,159,170,127,164,226,524,487,317,227,168,119,56,17,7,8,2,6,27,115,338,459,180,109,115,172,170,151,162,295,549,516,397,259,180,121,74,24,13,5,4,5,25,107,316,440,217,105,143,192,182,148,138,263,525,495,393,259,174,137,60,33,14,11,7,7,22,103,335,467,178,92,141,165,169,144,135,253,567,462,364,247,160,145,111,58,28,11,4,2,20,73,253,434,190,106,141,178,207,208,277,299,377,305,220,158,121,114,68,65,57,26,18,4,9,19,33,65,118,168,128,160,200,176,201,188,201,179,148,120,93,96,77,76,38,43,23,4,5,3,20,49,102,147,163,221,174,156,192,141,172,169,150,125,103,85,58,66,35,22,12,5,4,5,30,56,89,137,207,212,235,212,142,192,77,92,123,56,40,49,17,7,2,0,3,20,72,166,349,167,90,78,51,24,21,71,95,276,351,269,150,109,79,56,12,3,4,1,4,15,74,83,319,176,63,9,21,9,24,55,137,264,219,212,93,34,26,21,11,4,2,3,13,55,172,188,65,57,82,85,112,105,115,151,102,66,51,83,76,65,26,15,8,7,1,3,14,54,104,276,131,27,66,71,108,119,161,244,451,377,316,180,154,127,113,84,67,46,29,4,6,6,43,103,168,233,252,260,239,230,263,261,275,241,214,167,171,126,107,79,66,60,30,6,24,16,28,69,168,214,258,298,231,222,270,303,228,229,232,161,114,74,33,11,11,0,4,23,108,300,382,155,89,131,147,120,129,152,238,515,515,373,258,166,134,62,19,6,0,2,6,19,116,348,399,179,93,120,144,136,139,145,251,507,472,341,241,200,120,59,28,7,4,7,8,30,138,350,396,183,115,121,156,139,105,146,241,512,503,337,221,189,140,62,34,20,5,5,5,30,119,321,364,186,96,120,148,151,134,110,193,230,222,212,223,134,108,61,43,19,7,4,3,30,87,283,386,189,104,139,212,168,176,165,291,480,427,256,184,124,135,106,80,52,61,21,4,3,17,33,81,145,177,248,257,225,174,206,189,218,234,186,133,121,112,100,88,66,68,25,0,5,10,29,53,94,178,201,229,214,184,233,235,230,223,191,136,110,75,44,23,7,7,4,6,26,107,312,391,183,84,98,138,124,143,143,208,483,484,333,204,181,104,55,21,11,4,3,4,21,111,306,196,64,26,48,47,81,85,158,241,445,453,294,212,177,125,70,20,17,5,6,5,30,112,312,444,187,103,138,151,144,139,142,230,475,384,253,149,175,112,80,30,6,8,7,2,28,94,295,389,168,101,142,151,155,142,149,262,513,501,388,250,194,166,99,41,29,14,5,7,20,99,240,297,108,28,20,28,27,21,52,51,86,220,232,158,121,126,107,86,61,54,27,7,3,12,34,102,134,203,268,266,290,226,284,282,246,243,231,166,156,143,123,136,93,79,39,5,2,13,23,59,100,190,230,270,247,231,234,320,275,279,242,135,113,84,67,23,14,4,5,4,25,107,315,326,161,117,116,161,139,110,157,239,509,490,347,227,164,122,64,28,6,4,5,3,24,116,234,400,173,101,97,129,122,123,170,225,480,325,294,221,179,102,82,29,13,9,3,3,20,111,177,270,141,109,127,159,138,145,146,241,527,459,315,91,67,68,59,33,20,2,8,5,22,106,269,402,198,103,122,157,175,134,185,227,527,500,348,234,195,150,64,53,18,9,3,6,23,98,283,425,214,122,168,195,194,173,193,298,497,449,332,202,179,129,109,106,47,46,17,6,4,15,30,58,112,100,102,130,98,147,154,165,170,117,99,58,53,58,57,43,23,27,5,3,7,13,24,50,96,188,218,243,224,195,144,162,135,158,128,71,71,55,19,13,5,4,6,6,17,91,241,359,141,82,100,118,102,94,79,202,455,384,300,191,128,79,43,22,8,2,3,4,25,109,298,372,168,107,102,160,153,156,166,273,530,456,310,236,144,106,60,36,7,2,5,4,29,112,292,441,187,103,138,180,189,156,147,245,525,536,334,228,173,134,64,34,17,8,4,5,24,110,287,437,188,105,115,180,158,139,157,272,505,479,305,231,161,124,81,48,25,5,9,5,24,84,237,386,207,126,150,174,210,179,202,346,462,371,243,167,144,119,113,72,51,41,16,7,7,16,46,89,163,217,221,255,229,214,234,230,219,224,172,124,133,104,90,83,63,35,20,7,14,14,26,82,119,210,234,243,193,228,209,247,230,228,186,134,120,104,85,42,30,15,9,4,19,39,102,227,161,158,183,201,219,223,254,248,334,365,267,188,148,104,63,16,9,4,1,5,20,114,333,375,195,111,92,130,138,117,139,257,534,493,285,203,158,120,47,23,8,2,2,6,22,107,244,377,183,98,102,53,76,70,42,50,235,161,102,81,74,40,41,14,9,4,4,5,16,51,76,199,106,53,76,95,142,111,128,240,432,248,187,166,115,101,45,29,16,6,6,8,17,90,137,186,164,108,76,62,114,119,169,264,426,361,221,177,156,123,80,88,64,39,18,6,6,15,40,101,157,207,221,261,223,230,211,264,264,251,177,137,115,121,102,85,64,52,31,7,6,7,39,71,151,226,218,277,269,258,230,289,253,226,181,129,88,88,48,25,15,3,2,3,28,107,299,381,180,92,131,166,156,122,142,238,540,469,288,189,141,88,52,23,7,4,1,4,19,105,326,474,198,75,112,159,171,137,139,246,553,512,286,204,178,115,63,23,9,6,3,3,28,67,200,185,109,116,117,86,80,99,180,170,132,189,140,79,94,55,22,11,4,1,6,24,87,303,409,197,105,99,171,136,117,138,203,438,430,278,207,149,106,83,42,19,12,7,6,31,78,228,386,189,106,135,193,163,131,178,242,445,354,228,155,112,89,99,80,50,25,19,4,7,17,49,88,122,149,172,211,186,177,223,190,217,224,173,111,120,114,81,64,60,40,31,1,2,12,18,56,95,185,202,249,255,216,216,217,220,196,140,112,75,69,31,26,8,6,3,5,19,83,274,378,166,82,109,156,138,143,125,242,527,428,212,118,114,76,50,26,6,3,3,5,24,95,299,383,194,102,120,165,161,134,171,233,517,453,294,208,169,148,79,28,9,1,3,5,21,92,284,438,226,105,132,155,62,52,59,196,414,398,306,180,140,112,72,23,9,5,3,3,14,42,128,304,155,52,44,45,64,76,95,193,291,226,200,171,119,97,60,40,9,3,4,5,25,74,199,361,210,102,128,167,185,152,171,262,411,332,188,131,69,32,31,19,18,16,8,1,1,1,6,16,19,12,26,44,30,29,38,19,28,37,36,40,49,44,33,47,34,43,26,10,4,8,15,60,92,125,182,229,232,209,202,213,191,162,125,74,75,58,30,20,8,3,3,5,18,82,216,355,197,87,97,140,128,119,141,242,442,392,226,154,109,77,46,18,8,3,5,7,18,90,246,402,206,114,101,153,147,118,148,252,470,421,274,191,114,91,61,19,8,2,2,4,27,91,240,452,213,108,117,157,139,132,161,231,523,448,257,177,155,99,54,28,12,5,4,3,27,96,280,394,155,98,108,162,150,120,138,234,465,409,234,198,140,116,80,32,16,8,7,6,23,64,235,387,239,115,128,153,161,147,192,237,438,339,182,171,115,109,72,48,57,24,8,5,2,20,31,80,111,171,169,235,207,227,202,207,234,185,159,136,99,72,81,65,104,23,4,6,5,11,24,71,134,186,216,226,209,219,210,263,185,146,130,100,77,40,43,14,6,2,3,4,25,97,305,397,156,95,100,158,157,115,132,255,489,407,280,187,129,102,47,18,8,1,3,4,17,96,316,455,177,104,126,175,165,129,155,250,459,432,264,169,166,95,45,13,10,5,4,4,28,98,300,437,197,89,131,156,136,153,130,257,458,387,292,201,152,105,61,24,10,5,11,2,22,110,266,418,188,100,99,149,87,58,57,67,168,263,192,160,130,84,73,56,16,10,6,8,13,46,116,249,186,162,150,198,179,183,187,189,286,185,182,97,79,78,67,52,45,39,13,7,3,7,24,87,142,170,213,224,225,244,221,224,193,150,139,101,103,88,78,61,58,48,20,5,3,18,30,55,97,178,187,242,234,263,221,226,187,155,121,115,76,64,49,22,6,10,3,5,19,104,311,425,204,85,106,166,153,138,142,264,464,460,274,210,176,96,48,15,5,8,4,6,26,104,298,453,174,115,116,148,132,120,155,240,422,414,259,212,145,109,66,26,5,6,3,3,13,52,130,223,77,32,53,49,52,49,50,110,216,176,108,94,72,45,28,22,5,5,3,3,21,72,164,343,184,74,93,115,109,105,106,187,379,298,210,162,113,83,58,28,10,8,2,5,22,70,211,369,207,105,122,143,146,123,151,190,361,312,183,129,108,88,54,49,34,34,11,4,2,10,38,80,130,165,183,218,245,228,262,188,171,172,149,115,79,80,73,79,73,44,31,10,4,6,19,52,109,183,212,234,285,250,242,225,168,123,140,90,94,35,25,13,8,2,4,5,20,76,229,378,222,110,112,138,121,121,93,95,200,184,135,75,103,72,29,14,5,4,2,7,17,63,119,185,147,46,28,18,22,31,32,59,161,148,106,121,86,81,36,14,8,5,2,5,16,68,154,316,164,70,107,151,162,200,194,169,156,138,116,67,66,59,47,22,23,19,4,1,10,5,31,42,68,64,90,88,91,94,71,66,40,24,13,17,19,14,19,22,12,6,2,3,3,9,31,68,70,82,127,146,140,150,145,139,127,108,96,76,61,46,28,38,24,20,9,4,3,8,13,50,67,84,123,172,148,158,160,138,122,118,100,86,72,51,51,39,35,22,8,4,5,9,11,36,90,131,157,193,216,200,221,229,167,130,109,94,75,53,27,10,12,4,4,34,98,270,394,191,86,107,165,137,129,132,240,444,396,260,206,152,102,41,18,16,5,2,5,21,88,330,440,197,34,10,17,22,35,60,146,346,347,244,176,116,90,53,23,8,5,1,5,21,100,276,465,186,95,112,148,131,99,104,199,365,369,273,184,128,82,46,19,9,8,6,1,23,92,265,462,215,86,95,139,137,130,144,192,409,393,219,178,154,99,70,32,14,10,1,3,23,84,199,432,234,89,142,186,188,145,175,254,391,362,252,178,102,95,81,65,62,41,5,7,6,10,24,62,99,173,227,280,222,251,237,230,186,193,144,110,104,97,73,64,54,51,34,9,2,3,23,48,114,180,206,247,269,246,227,266,207,161,158,116,65,59,42,21,10,8,2,7,24,89,274,392,178,78,106,125,153,126,132,238,430,386,295,190,166,94,54,25,14,3,3,7,20,81,227,401,200,44,28,50,65,69,43,84,249,287,223,107,108,82,48,30,9,4,3,1,3,18,43,80,64,32,47,29,28,24,25,28,48,48,31,25,6,13,16,21,6,4,1,2,12,71,233,418,218,109,100,148,115,121,98,201,321,306,220,170,135,84,58,26,12,10,5,1,20,62,195,378,256,115,121,146,141,163,160,226,352,308,189,140,131,114,88,66,55,48,20,3,6,10,11,68,134,161,192,235,239,242,239,183,151,144,139,114,79,88,61,69,54,47,17,5,6,10,30,68,88,164,166,246,224,198,219,174,150,151,98,62,53,36,31,16,9,4,2,3,21,63,231,378,208,91,100,138,153,95,124,209,352,349,232,157,119,71,42,16,4,1,3,4,20,92,221,391,223,99,115,147,120,116,144,194,381,370,262,154,134,102,55,22,8,2,3,4,26,87,243,458,230,133,103,138,119,134,143,233,377,379,259,169,145,99,48,45,15,5,2,6,24,90,252,449,274,105,126,140,150,124,76,124,310,363,274,209,145,116,104,60,28,23,3,4,26,80,226,449,235,122,135,163,125,115,141,212,352,285,203,146,95,100,71,59,39,47,22,9,7,17,20,55,95,171,188,216,204,207,195,192,153,150,95,99,88,73,63,64,43,39,16,1,4,3,11,31,75,122,168,202,210,200,184,207,126,123,130,94,80,47,31,14,8,3,3,4,21,68,187,389,166,96,105,128,127,107,135,189,362,343,234,197,112,95,50,21,6,10,1,4,15,71,261,422,245,109,116,159,163,127,139,218,417,385,218,144,139,104,40,18,10,4,2,2,28,75,224,393,220,83,53,58,55,40,57,95,226,278,200,162,114,102,54,24,15,10,6,3,15,63,182,333,218,128,135,180,167,136,186,226,332,277,130,33,15,17,10,7,11,12,4,2,8,40,88,173,152,96,148,156,177,177,191,166,129,91,75,47,32,43,21,20,15,22,5,3,3,10,10,27,53,52,62,79,97,70,82,74,53,33,24,19,15,12,16,4,2,2,3,1,1,4,4,20,12,42,41,39,45,48,51,33,23,14,18,15,15,14,6,7,5,2,4,4,17,13,38,39,51,66,83,80,105,69,67,54,49,42,39,22,25,9,6,2,3,3,8,35,79,155,85,47,24,16,19,14,17,44,109,126,87,66,52,29,24,10,12,7,4,9,42,106,206,171,84,93,108,135,96,101,144,225,159,135,70,63,31,36,24,15,3,2,2,10,39,104,207,155,97,99,118,95,112,150,155,226,192,124,88,60,48,44,26,11,10,6,2,10,31,92,193,175,108,126,159,154,178,236,247,188,163,96,75,84,78,60,37,31,27,17,9,0,5,13,42,72,108,152,180,205,185,164,143,101,80,73,63,50,36,27,43,78,59,41,8,5,1,6,10,27,52,98,143,141,147,164,147,75,81,85,58,61,53,25,31,11,6,4,3,14,16,51,53,89,142,161,150,141,139,144,136,113,89,83,63,36,32,13,5,3,2,5,12,81,168,349,145,55,63,70,68,72,68,129,241,214,152,115,66,33,18,9,3,1,1,2,14,59,151,310,173,57,40,75,82,69,81,123,272,280,182,121,88,48,32,13,5,4,4,5,26,78,212,377,220,81,78,114,112,104,113,178,393,374,255,172,88,70,56,24,6,3,3,3,13,69,201,436,237,102,130,168,188,152,178,259,456,391,261,163,137,123,88,77,56,36,19,9,7,7,20,64,116,160,250,276,296,356,317,268,235,248,171,149,118,93,103,77,62,57,26,4,2,2,23,53,102,181,201,273,266,253,241,256,197,162,104,119,81,54,30,12,4,3,3,4,21,85,239,407,188,95,82,93,77,45,64,46,147,158,187,127,78,54,51,14,3,2,4,23,79,219,465,184,80,93,127,163,96,119,225,446,372,270,190,109,104,38,26,6,5,4,2,22,72,247,488,218,84,90,51,57,70,73,112,128,96,92,55,29,49,9,3,3,1,3,2,16,88,218,497,220,84,101,130,170,132,156,248,472,399,313,229,162,121,60,38,12,13,4,2,21,71,174,408,204,101,102,140,140,119,123,215,317,294,199,130,95,58,60,42,44,32,14,3,4,5,24,89,78,135,150,189,182,179,177,178,129,122,90,95,66,62,71,50,40,38,24,5,5,7,14,34,80,115,144,192,184,163,173,174,131,113,101,85,71,58,26,23,18,14,3,6,5,13,28,75,89,107,158,165,202,158,175,158,174,175,134,88,46,39,28,12,2,12,2,13,57,121,90,61,61,73,83,95,120,123,205,442,451,297,169,174,85,60,14,10,1,3,1,29,88,262,474,196,88,110,155,124,98,122,163,338,347,251,164,119,74,36,16,5,3,4,1,19,86,204,414,204,98,93,106,118,104,118,185,364,345,229,184,117,90,55,24,15,11,4,3,19,68,183,421,242,96,117,119,144,107,144,163,340,296,186,141,99,71,35,24,22,25,13,1,2,1,10,22,40,45,62,62,66,89,113,113,99,107,85,62,64,56,51,51,49,46,20,1,2,4,11,29,54,120,115,161,175,163,149,143,100,110,80,69,36,58,35,17,4,2,1,1,19,36,114,267,198,139,57,52,32,48,64,108,270,275,211,161,112,64,35,19,7,6,3,2,26,88,221,479,244,93,123,150,170,138,156,243,474,391,311,211,154,111,80,25,9,3,1,4,33,87,243,495,218,111,105,147,149,107,125,217,443,415,311,225,166,101,63,22,16,6,5,3,28,88,228,514,256,92,100,136,156,112,142,209,397,394,302,216,184,139,86,32,23,11,5,3,24,72,128,206,101,117,95,155,175,153,170,241,406,363,241,153,127,108,78,68,57,38,16,8,10,12,28,82,145,164,241,244,293,239,320,276,233,201,173,115,109,97,79,81,68,48,17,5,6,4,12,61,98,153,198,215,238,229,242,268,201,151,145,98,69,57,21,10,9,6,4,5,26,80,221,481,193,82,93,129,117,100,131,210,422,399,298,179,159,92,52,15,7,2,2,1,22,104,273,498,231,110,125,181,171,142,150,277,518,486,306,223,162,118,61,31,4,6,3,1,18,67,201,505,267,124,116,153,174,159,169,261,508,514,315,254,217,133,75,24,14,7,2,1,19,73,201,436,213,72,99,140,124,129,150,211,437,393,311,204,144,106,61,37,19,6,4,2,17,88,216,429,252,114,149,191,173,148,168,275,458,368,256,155,126,116,74,76,43,38,17,5,3,4,27,86,141,193,224,260,244,229,244,123,54,58,75,73,74,91,66,58,46,59,13,9,4,4,16,58,83,138,160,223,241,203,217,261,275,171,63,47,60,182,38,14,6,3,2,17,72,229,434,269,96,104,131,124,126,146,215,417,426,284,194,143,83,43,22,6,4,1,3,15,98,293,522,278,104,120,163,169,127,133,257,494,508,327,206,170,107,49,21,9,1,1,1,20,95,276,495,245,107,97,124,111,100,49,73,147,163,158,122,126,95,57,23,10,2,4,1,18,75,263,473,229,90,95,148,144,126,120,223,387,404,287,197,169,104,75,39,11,9,5,2,17,61,225,447,265,119,134,168,170,138,164,240,381,345,246,144,108,102,64,50,43,24,9,4,2,8,19,77,85,143,157,196,217,205,112,134,131,105,85,62,43,46,20,21,24,26,14,1,3,2,18,26,60,83,121,133,128,102,150,148,83,92,78,56,36,28,23,9,6,4,1,2,17,71,194,413,198,70,85,111,129,125,145,206,399,399,256,210,145,99,34,14,6,3,3,2,20,89,276,510,256,90,107,162,167,111,138,251,504,398,270,178,105,72,55,22,5,4,3,1,25,92,318,508,226,108,125,152,159,128,164,222,470,459,302,207,170,104,54,22,5,6,1,3,20,83,285,489,199,42,69,44,62,30,50,110,281,345,254,211,142,108,70,32,16,11,1,1,16,70,222,516,275,103,133,177,171,137,180,251,429,362,266,158,114,92,72,81,38,39,15,4,1,8,33,92,116,157,184,241,219,244,270,218,222,176,150,123,89,101,62,65,62,45,12,3,1,5,12,48,73,142,144,184,197,189,168,150,135,144,101,81,33,47,30,36,12,19,8,6,9,42,111,98,113,163,216,246,206,235,216,226,215,164,117,90,53,26,11,7,3,2,15,83,273,459,211,77,81,147,123,108,137,240,411,414,299,223,147,97,46,19,4,5,3,2,29,85,292,567,241,122,149,186,175,142,161,268,486,483,305,249,220,129,57,30,12,4,4,1,30,88,317,549,228,107,128,199,188,156,171,298,561,486,349,246,205,118,71,34,15,4,5,2,25,80,265,452,229,119,136,201,153,26,83,166,242,289,227,159,151,102,76,56,42,37,7,2,3,12,20,90,107,159,187,217,178,181,211,163,143,126,137,95,80,78,84,63,50,37,21,5,5,2,20,57,76,161,184,256,267,263,281,275,241,199,130,79,75,68,59,27,6,4,2,1,16,89,278,514,219,88,92,164,159,134,150,266,503,517,318,208,181,83,50,10,6,2,6,2,20,100,313,543,225,118,155,164,174,121,149,270,497,432,291,202,178,95,61,30,6,4,2,29,100,242,114,33,10,9,69,72,54,87,162,246,181,102,95,39,53,30,10,12,6,3,5,18,107,296,579,281,122,149,204,187,174,192,323,551,498,317,242,190,123,76,45,18,4,3,2,24,88,258,533,299,118,154,194,191,176,73,49,123,154,162,93,99,69,19,21,44,34,20,2,1,6,14,46,87,137,181,252,252,279,254,300,279,250,191,121,130,115,94,67,60,66,21,11,5,5,21,54,104,161,192,256,256,226,252,231,214,164,120,80,70,53,24,15,3,3,1,1,17,89,253,415,186,74,86,122,109,115,110,180,376,363,220,171,116,76,29,8,6,4,1,3,25,99,270,487,222,113,110,129,148,116,142,228,425,442,278,184,143,101,51,12,4,4,2,3,18,104,332,554,252,127,128,175,179,137,165,254,554,509,345,242,177,149,58,35,17,5,3,2,28,105,326,573,282,119,156,224,198,155,161,305,545,545,395,282,206,141,88,51,22,9,7,1,27,83,262,484,267,145,170,174,175,129,188,292,498,440,232,156,133,100,77,68,50,30,16,3,7,11,36,96,127,176,218,241,268,262,274,275,250,230,159,101,94,81,77,62,57,51,15,5,8,15,68,70,147,209,264,288,289,286,301,299,256,203,129,110,81,40,20,9,5,2,3,15,86,259,547,260,98,111,162,176,145,159,255,557,623,379,237,183,116,53,21,14,1,2,1,24,108,292,571,324,115,155,197,180,160,196,312,614,638,429,306,200,146,79,34,25,2,3,4,25,120,348,628,325,150,155,212,197,163,197,278,642,647,402,286,241,159,72,46,8,5,7,3,24,113,367,602,285,130,151,206,211,177,187,331,634,648,353,270,207,137,85,49,22,4,3,3,30,96,265,534,277,136,167,222,208,146,88,111,235,377,273,204,144,132,104,87,57,32,24,2,3,29,57,155,217,303,359,365,400,338,322,318,357,339,262,182,169,153,151,80,88,41,15,8,6,9,25,71,113,212,239,281,346,303,314,312,308,294,234,139,129,79,39,19,15,7,2,3,31,118,329,563,276,128,145,211,194,200,189,320,615,681,463,296,190,131,45,24,9,8,3,6,20,94,167,488,284,119,156,205,207,182,177,332,642,665,480,299,239,156,80,29,22,8,7,4,35,139,338,502,255,124,154,171,222,151,175,287,616,627,496,298,204,156,88,32,16,5,7,6,32,126,332,598,277,110,166,224,215,161,202,300,656,654,469,360,308,164,117,65,32,20,6,3,29,110,318,615,305,150,187,272,256,224,281,370,693,593,473,328,220,218,125,111,108,55,22,6,4,24,45,113,153,197,175,122,134,160,172,128,68,110,105,80,88,71,88,62,65,29,10,7,6,13,25,68,92,172,217,238,257,291,282,339,273,289,261,196,124,92,56,23,10,6,1,4,36,110,355,625,245,98,131,216,222,159,157,245,599,594,417,209,175,80,46,9,4,6,4,3,16,96,277,567,259,118,141,186,165,147,158,267,542,577,377,266,200,127,59,29,8,3,4,0,38,111,348,639,298,140,168,218,213,169,152,170,532,580,415,324,233,151,81,38,18,6,4,8,30,114,353,628,299,124,166,228,223,175,198,321,620,598,421,301,214,135,77,49,21,6,7,1,26,81,280,555,292,137,153,208,198,173,207,292,513,492,353,192,190,130,107,80,65,55,21,4,5,16,39,126,161,205,279,358,373,311,330,292,305,239,191,156,107,116,100,59,49,61,21,9,10,88,55,88,173,228,271,258,274,278,278,275,323,279,236,166,101,61,53,11,5,3,2,22,104,294,553,265,119,128,181,184,141,192,291,601,543,428,281,214,106,60,32,11,5,3,1,25,98,327,577,354,142,167,230,225,191,207,340,634,661,460,325,210,133,66,23,11,5,3,1,27,120,354,653,316,99,152,210,181,176,182,304,645,646,419,333,255,151,112,33,9,11,5,1,28,118,339,610,290,158,159,210,202,144,171,318,677,618,423,279,209,129,124,49,28,5,5,3,23,80,231,489,318,157,179,224,238,250,319,352,483,380,297,191,136,124,92,85,60,25,21,4,2,18,40,94,173,176,244,270,288,252,305,261,268,290,243,135,159,106,86,64,50,25,18,7,8,21,25,65,108,186,209,259,254,249,226,244,226,159,187,146,77,85,41,29,12,4,3,3,30,108,320,595,236,113,127,186,173,152,173,310,565,586,386,255,151,102,61,23,9,2,2,2,24,100,368,670,303,132,161,184,202,149,157,296,656,626,428,248,191,118,48,22,9,2,2,26,103,303,581,282,127,142,147,147,101,152,256,527,546,356,213,154,130,52,22,7,4,3,1,21,94,294,604,271,103,174,199,148,150,169,299,596,547,383,254,174,143,86,41,28,5,8,4,19,84,283,539,294,133,158,218,246,223,237,350,621,564,352,242,153,181,163,85,60,53,26,9,5,19,56,136,206,267,357,404,370,372,347,329,309,284,296,209,167,148,151,94,89,54,27,10,6,11,30,64,154,235,301,360,383,346,351,330,361,295,265,205,153,97,65,26,21,9,5,6,34,123,367,549,238,149,136,196,184,183,194,266,601,589,461,327,232,179,97,33,5,3,6,6,29,136,443,631,329,165,174,179,187,198,217,320,673,670,464,358,260,144,72,35,13,8,6,7,34,128,408,551,245,116,105,95,51,43,88,199,442,478,342,252,165,153,56,20,11,4,3,4,30,116,391,651,270,143,183,213,186,183,196,324,663,677,516,352,240,219,124,59,22,18,9,3,24,105,350,668,329,170,190,260,276,238,262,429,697,558,410,289,252,176,156,111,64,69,25,9,1,21,55,149,216,299,348,378,358,331,361,372,309,283,45,34,82,90,73,85,63,49,33,7,6,6,22,43,71,57,70,56,47,50,38,32,25,38,34,34,11,13,17,6,1,3,1,3,14,43,206,471,255,88,91,117,98,102,101,93,219,369,287,186,145,71,49,13,6,3,2,3,22,117,387,599,302,129,157,188,189,166,176,308,619,580,449,269,213,149,69,23,17,6,3,6,24,103,376,634,288,138,177,220,193,176,182,327,664,649,501,358,212,170,94,42,22,10,5,2,17,122,222,358,189,125,135,180,178,132,165,281,565,589,407,314,222,163,106,61,32,18,2,6,19,115,305,575,292,172,186,244,212,206,223,335,613,560,379,240,185,134,105,99,60,49,23,2,3,18,45,134,169,231,262,276,269,293,260,244,224,73,110,81,72,66,37,36,37,36,14,4,6,6,20,81,133,253,283,361,369,372,324,347,334,323,247,198,139,85,67,36,15,5,4,2,19,121,343,579,239,116,111,180,199,162,176,303,617,611,420,281,195,123,50,28,21,7,2,7,17,24,161,538,331,144,179,228,208,167,186,313,616,662,429,299,251,190,79,43,7,9,6,2,31,117,344,640,289,147,145,210,179,189,204,313,659,770,461,296,218,146,77,75,15,13,4,2,20,128,376,608,279,132,167,237,217,171,220,325,617,642,467,368,257,217,100,70,33,11,14,4,24,127,347,584,262,154,181,125,207,159,240,358,547,564,388,255,186,182,205,111,79,51,21,9,14,33,79,155,223,284,354,330,307,241,300,310,298,278,254,209,183,150,114,111,84,64,19,7,10,14,31,91,128,221,270,351,368,292,342,363,316,332,266,203,148,113,80,21,8,5,3,2,21,134,367,608,289,128,149,189,197,180,186,320,667,602,463,277,210,147,92,28,3,7,4,5,20,158,442,605,258,111,157,203,166,63,94,335,640,641,399,262,202,134,53,27,11,1,2,5,27,121,401,594,285,113,156,222,216,175,191,289,629,349,96,48,30,62,47,31,9,3,3,2,23,130,393,603,299,112,179,207,228,186,192,334,648,661,469,315,211,196,112,47,32,16,8,6,23,128,345,579,288,141,203,259,263,218,299,397,677,518,430,277,225,190,142,111,79,46,20,6,8,23,57,156,248,279,365,353,366,358,321,337,343,382,273,174,156,212,134,79,72,60,26,7,8,15,42,124,143,222,278,342,347,324,309,339,287,260,232,163,121,89,57,14,6,1,2,3,25,62,72,155,105,53,67,132,143,128,156,91,204,283,294,178,145,118,64,25,14,3,5,4,8,22,91,401,327,144,186,220,204,145,205,300,603,665,455,233,98,74,58,27,14,14,5,3,34,150,426,617,314,149,212,271,273,221,222,376,769,749,499,398,330,253,107,49,16,8,3,13,34,149,449,605,289,162,202,276,241,202,233,344,719,734,451,363,254,209,137,57,33,9,8,11,33,168,475,696,304,181,225,252,297,242,260,417,688,570,392,264,209,194,133,118,84,56,23,8,11,38,67,162,213,275,351,366,372,369,316,311,347,391,229,197,178,234,168,128,102,62,40,14,7,21,55,120,184,258,323,390,363,307,256,339,340,328,260,191,182,101,54,28,11,9,2,5,14,76,146,258,172,71,82,124,135,135,158,269,468,478,391,292,210,116,79,26,16,10,5,7,17,129,315,570,287,148,150,178,195,149,191,316,716,709,320,319,233,157,91,28,9,10,5,3,29,154,452,681,258,139,151,206,201,181,192,216,240,296,336,267,221,136,83,49,21,15,3,5,29,146,393,659,267,138,160,213,233,180,222,329,678,634,416,343,237,210,131,63,34,16,6,6,28,108,352,551,288,163,193,237,247,263,360,447,529,391,293,270,193,147,132,98,64,55,22,2,10,25,44,103,192,256,312,293,274,257,239,243,227,216,214,152,151,118,114,89,61,45,25,7,5,14,30,82,140,215,251,269,228,230,245,243,247,252,212,224,79,50,65,44,45,28,12,4,5,14,43,93,142,175,222,292,284,227,279,278,247,251,247,203,181,110,60,33,13,8,2,5,32,145,431,588,231,116,147,181,176,158,185,320,674,632,457,168,68,53,40,32,4,4,5,6,40,139,469,642,282,138,155,220,236,208,221,352,756,746,506,374,263,191,121,48,22,8,8,8,32,171,489,675,264,155,153,230,216,193,209,384,742,700,487,391,318,221,114,76,34,13,4,5,41,136,369,675,274,155,193,238,240,199,213,186,202,100,41,38,73,22,67,81,61,38,18,11,11,31,77,180,243,348,357,418,400,388,405,369,338,341,369,260,220,176,185,142,100,67,34,12,11,16,29,110,230,277,312,408,421,411,408,436,386,343,337,230,180,165,82,38,10,10,5,6,33,135,504,643,244,120,168,220,189,186,215,375,733,719,554,390,225,127,78,28,18,8,5,4,35,177,540,680,285,118,162,202,201,194,218,382,764,679,445,371,253,171,93,46,21,7,8,7,37,165,531,637,268,148,161,235,230,191,225,345,652,688,486,349,260,221,110,50,17,12,5,6,34,165,506,661,300,154,170,274,250,198,234,389,778,703,537,402,283,193,135,59,25,17,8,9,28,131,409,663,335,187,199,280,287,245,299,412,679,576,460,291,256,230,163,152,89,68,28,6,15,63,61,202,241,298,351,335,349,354,337,315,257,276,232,238,211,151,161,125,84,56,23,9,10,27,41,122,175,265,315,329,288,314,316,335,337,326,260,250,170,117,80,33,15,12,4,7,36,136,478,613,259,95,143,198,185,193,187,340,715,726,507,333,218,142,72,26,11,6,9,4,28,130,287,598,254,96,57,76,48,48,94,209,625,596,444,350,233,188,78,27,21,4,7,9,38,188,480,672,298,134,182,241,203,222,216,320,782,640,548,362,317,209,128,45,17,8,4,6,40,169,480,682,312,132,168,210,213,214,213,368,750,716,483,351,270,196,136,68,42,15,3,13,31,142,413,609,308,160,180,292,272,255,270,426,698,572,369,296,250,242,176,112,79,55,19,5,21,36,68,157,279,296,353,349,324,309,288,304,349,315,277,229,192,189,134,117,67,55,22,16,13,16,30,95,183,288,350,355,347,327,260,340,361,310,244,201,170,98,79,28,5,6,3,9,22,37,135,447,222,78,96,139,174,160,176,279,669,595,411,317,238,143,57,30,13,14,7,9,34,152,462,633,288,136,174,222,203,166,187,286,725,704,432,399,239,240,102,48,20,5,6,6,37,156,444,600,276,126,134,150,163,134,143,284,611,591,449,326,302,226,102,53,16,7,8,11,37,147,437,563,224,114,121,182,141,149,154,283,535,562,415,357,256,221,134,77,28,12,6,7,35,118,340,564,278,133,160,191,228,198,212,313,551,443,317,171,177,155,145,102,107,75,32,13,11,37,59,133,247,317,349,399,338,371,266,317,316,287,240,228,223,178,156,132,88,80,41,9,7,19,48,103,169,291,291,329,348,298,290,280,329,348,247,224,177,125,67,37,20,10,4,4,42,147,455,555,231,126,127,196,181,161,168,310,757,691,508,375,281,166,88,29,19,7,7,9,36,176,531,622,298,153,189,228,232,186,229,349,796,719,529,417,267,219,118,39,18,12,7,11,34,193,498,638,253,138,145,245,244,192,188,337,730,719,542,369,313,245,148,52,14,12,6,11,39,185,484,577,318,144,170,227,205,188,195,331,634,597,492,399,309,224,145,90,33,15,5,9,39,148,361,576,261,139,137,173,194,184,183,292,457,414,303,255,195,129,42,65,55,54,20,15,7,36,82,168,234,308,350,328,323,295,287,264,231,248,240,204,165,134,119,122,81,69,27,4,7,19,37,106,168,268,256,319,309,346,244,228,323,275,279,244,181,110,88,31,14,14,5,10,37,132,390,548,239,104,134,183,162,151,175,304,665,658,510,357,241,169,90,44,9,8,2,6,33,149,462,604,226,153,151,198,203,241,330,437,620,542,431,296,160,151,152,140,96,66,23,11,14,23,62,110,203,304,321,330,322,357,299,226,253,271,255,314,362,327,152,71,24,14,5,7,28,130,316,514,246,117,137,188,181,154,183,324,575,511,375,243,232,162,99,63,22,13,6,4,31,127,333,557,249,130,141,220,194,184,206,300,486,454,306,245,223,210,137,115,55,47,19,13,12,27,63,120,187,225,245,218,244,203,193,192,176,194,219,197,150,164,114,125,99,59,34,11,5,16,33,95,172,234,269,271,219,235,218,226,202,199,184,206,149,110,98,33,13,4,5,1,27,86,223,429,325,117,144,205,188,184,214,325,741,790,543,378,298,189,109,53,15,15,3,4,39,183,489,615,284,134,157,203,203,171,188,346,769,749,359,75,83,125,74,38,11,5,5,6,36,168,471,644,298,148,173,223,208,175,220,358,740,735,560,410,322,203,132,55,21,9,10,5,40,171,480,653,285,145,166,221,225,167,208,370,704,739,532,439,329,262,178,76,42,15,7,11,30,120,353,660,344,190,220,254,274,249,261,381,697,523,385,294,223,204,175,156,105,91,31,6,5,29,41,118,200,278,296,318,372,363,317,340,259,243,275,255,200,160,156,147,119,86,42,11,7,9,30,96,163,241,281,336,309,314,307,343,314,228,203,199,164,96,66,32,10,11,4,11,40,132,459,619,297,117,125,158,176,159,176,309,669,697,503,388,283,228,139,43,21,6,3,7,31,197,500,618,288,122,146,174,168,160,187,317,675,712,478,375,283,215,139,45,14,5,2,6,41,152,472,624,253,99,136,166,154,116,152,190,335,580,438,310,266,246,112,50,19,7,4,8,35,144,450,625,282,157,162,215,180,151,226,288,678,684,480,440,294,62,62,32,9,14,29,6,40,123,346,652,328,182,161,233,136,176,169,366,620,549,358,216,108,122,148,92,62,55,18,5,10,12,29,94,175,219,225,301,248,222,232,196,149,126,171,163,134,140,117,96,99,90,30,10,6,14,25,122,179,265,314,326,388,360,370,383,368,342,342,254,257,136,90,36,20,14,2,8,48,148,404,691,288,137,129,205,176,189,205,346,760,672,488,347,251,169,98,52,10,10,5,6,45,173,492,694,299,156,156,169,200,196,212,369,775,767,523,438,325,226,154,57,26,11,11,4,54,179,473,745,277,163,202,233,231,159,223,393,783,787,582,461,326,223,187,65,23,16,8,4,40,165,478,680,289,143,143,206,189,151,173,312,628,615,534,399,236,201,127,83,42,18,9,5,34,129,397,642,329,146,184,207,231,221,242,419,598,522,423,269,189,151,155,170,69,76,33,10,10,40,58,127,227,266,295,330,325,308,291,279,280,330,223,154,206,188,156,129,109,79,37,11,14,12,36,90,162,258,326,357,302,291,306,330,367,302,300,228,199,117,82,46,15,6,3,5,43,155,455,720,259,135,146,201,169,167,185,337,765,735,584,384,251,183,116,27,18,8,5,6,40,192,492,730,302,154,170,198,219,188,115,336,726,758,524,397,292,224,127,44,28,13,7,3,46,179,468,649,316,175,180,209,221,175,206,386,734,786,564,448,284,251,134,55,36,8,6,9,37,177,452,718,312,130,167,230,212,171,202,335,775,681,509,376,301,227,152,56,32,14,5,11,35,158,396,636,327,167,186,243,247,229,268,380,646,573,388,300,224,156,170,137,99,64,19,11,16,37,49,132,217,288,315,325,332,289,284,253,313,321,264,195,193,165,161,121,79,68,32,11,18,12,50,81,168,253,282,330,315,365,286,278,260,154,139,140,157,100,58,24,10,5,5,8,23,137,393,578,248,159,152,213,204,188,183,363,746,743,531,368,245,157,97,32,16,7,6,7,33,176,481,664,283,161,130,197,185,185,206,344,743,711,506,374,247,181,120,46,20,5,6,6,40,169,458,689,308,151,159,217,212,173,168,328,751,745,567,424,311,198,120,51,23,12,5,10,37,162,451,670,299,133,166,192,201,161,204,320,699,733,533,387,286,218,137,68,35,14,6,7,29,41,128,112,199,166,178,240,224,236,224,371,619,552,394,315,236,168,159,142,84,66,19,7,9,18,54,132,217,282,296,332,341,290,316,304,292,193,178,129,102,128,121,96,92,67,37,8,9,14,30,84,153,240,282,342,365,366,342,300,319,327,317,204,142,141,85,33,11,8,5,11,33,155,425,648,265,111,151,180,175,163,194,348,716,709,467,374,246,148,100,48,19,9,3,5,35,63,178,591,354,155,127,207,203,175,199,363,734,757,533,371,252,161,114,52,31,7,10,4,35,160,467,642,310,163,155,230,206,161,196,340,749,768,525,355,266,197,120,63,18,15,4,3,30,162,448,649,296,121,191,247,219,176,197,340,767,723,558,414,273,185,168,67,38,15,6,9,34,151,368,625,320,149,205,255,254,200,256,372,647,561,403,262,198,170,100,99,78,39,23,8,7,23,52,161,211,314,356,388,355,356,346,354,379,329,324,242,248,171,175,143,102,103,34,22,8,15,29,90,184,287,189,186,112,108,187,259,267,291,269,213,154,50,39,25,10,5,3,7,35,155,427,618,302,124,151,216,194,188,207,357,810,726,266,231,219,136,92,52,22,7,3,4,30,164,500,696,281,120,195,226,255,192,226,358,786,532,420,296,239,208,113,46,20,10,7,7,38,175,537,703,335,159,196,253,242,184,222,358,711,592,524,332,291,226,113,51,15,11,6,6,36,178,463,662,354,157,192,235,253,191,201,344,709,811,537,404,276,177,133,84,37,15,6,6,37,142,412,703,331,184,212,276,272,229,251,414,695,627,430,297,248,209,140,114,100,61,31,9,10,25,88,133,228,294,314,367,331,332,154,260,271,261,257,176,148,136,124,111,116,104,42,11,13,16,23,112,196,258,332,401,375,252,259,116,172,187,212,171,140,94,59,28,4,8,3,11,32,141,418,670,302,143,182,214,211,180,205,367,744,751,499,366,239,131,79,29,17,13,4,6,39,144,255,668,351,165,171,241,232,179,258,396,774,736,515,348,276,196,92,39,12,4,9,8,37,175,531,780,308,144,186,281,232,214,242,389,762,693,523,378,265,185,123,51,17,14,5,4,33,155,501,701,339,161,191,221,214,199,239,405,751,744,532,403,275,253,133,69,24,11,2,7,27,101,400,654,337,197,221,290,271,324,417,417,488,459,361,254,232,212,142,146,68,61,29,9,20,23,58,134,175,289,273,284,267,274,306,253,258,258,235,140,83,57,88,72,58,56,33,15,10,13,29,99,144,230,263,297,230,208,176,252,284,273,152,41,92,100,70,62,37,30,22,5,3,12,37,91,158,224,272,352,357,349,281,335,317,337,301,183,142,104,58,19,9,4,9,8,37,165,480,617,293,130,159,233,203,202,224,397,746,745,502,338,240,154,83,27,11,9,4,3,39,203,489,692,263,181,156,217,184,177,204,344,780,757,598,357,278,181,126,35,16,7,9,8,35,189,461,622,115,40,52,126,152,178,228,374,741,761,504,356,240,193,150,79,19,10,9,7,39,135,465,690,311,171,215,247,283,187,265,395,684,697,498,340,246,247,220,130,107,68,40,8,13,26,71,197,261,322,405,474,435,366,337,95,119,140,187,166,155,176,121,106,104,81,32,16,39,24,50,143,214,323,391,510,491,415,412,473,458,404,362,265,149,125,70,35,11,6,7,4,36,172,427,697,321,168,167,256,251,233,231,380,744,857,562,356,256,144,86,27,10,5,7,8,41,200,572,702,323,142,187,254,256,181,253,437,802,767,540,421,282,189,91,41,19,9,7,5,44,199,533,727,278,148,181,264,238,200,243,419,811,886,557,432,279,189,111,46,22,9,9,6,54,186,549,725,292,149,183,240,223,214,253,406,787,744,594,408,291,223,137,63,35,23,9,11,40,144,437,715,301,171,196,290,301,258,273,454,757,692,496,337,270,189,168,169,101,75,31,3,15,27,63,169,263,323,399,419,377,390,342,433,434,382,309,241,210,197,182,123,82,62,38,6,10,26,43,94,226,330,376,468,454,410,342,402,393,361,312,267,148,109,85,31,12,8,7,9,44,157,474,647,265,129,191,233,231,203,256,379,740,708,435,308,205,109,66,11,5,4,6,5,45,163,343,640,266,130,115,72,97,116,35,122,302,262,302,271,186,137,67,23,12,3,4,10,54,166,529,758,336,169,203,260,234,227,254,397,812,807,539,378,324,198,106,46,14,9,6,6,52,161,514,746,330,157,206,233,268,222,231,385,885,781,534,360,246,252,137,53,38,8,11,9,47,146,468,726,348,181,242,305,316,299,333,464,739,699,493,315,266,248,163,140,106,73,39,10,15,35,70,197,289,350,437,460,434,404,443,427,451,427,308,249,202,180,137,146,119,77,41,9,5,11,48,137,205,351,384,526,445,400,375,437,496,405,331,192,145,98,70,54,12,8,5,8,35,162,513,719,286,146,167,265,248,226,216,417,809,758,534,380,230,154,83,56,11,9,3,7,46,189,539,764,381,125,155,233,257,213,247,436,860,758,490,388,263,174,89,34,19,15,6,12,35,179,523,808,307,156,181,260,273,217,231,397,876,815,589,389,328,194,102,60,16,13,7,6,64,164,546,774,305,168,227,272,265,214,255,399,818,822,511,412,235,45,44,15,13,9,7,10,37,136,384,674,399,194,252,286,304,294,288,419,707,609,470,304,205,190,164,134,89,80,25,8,13,33,61,174,263,338,446,491,453,448,456,447,456,420,351,227,219,173,161,112,85,71,41,6,9,20,43,126,211,319,369,474,414,404,419,446,380,310,223,163,104,76,49,39,13,6,6,10,34,147,470,744,314,135,196,262,225,193,234,408,791,571,483,251,205,190,88,30,11,2,4,8,42,176,256,128,83,42,92,98,148,147,195,328,677,639,368,286,265,212,87,47,16,7,7,9,32,173,504,781,332,146,178,289,224,195,260,436,833,756,544,449,195,232,199,65,23,10,6,10,37,132,379,711,319,150,176,231,231,211,248,411,789,812,467,391,288,203,137,86,43,10,11,11,41,133,417,749,326,192,214,307,307,287,320,481,742,655,433,306,220,201,148,154,116,62,54,7,8,28,71,184,265,341,389,381,400,307,341,342,342,312,239,172,137,140,142,99,80,64,17,6,8,19,29,51,70,144,260,292,240,243,232,246,122,82,97,97,91,72,68,44,35,12,8,6,17,54,151,374,273,229,236,267,323,299,294,316,416,415,333,207,134,101,60,22,13,5,3,6,19,141,357,698,345,131,156,217,184,201,195,354,733,758,483,330,209,155,76,33,6,6,6,6,38,172,498,806,331,190,238,312,237,208,261,474,857,787,534,371,251,170,119,41,10,7,3,10,42,158,467,773,328,165,175,279,243,270,358,413,737,628,662,388,236,167,176,60,29,16,6,8,33,140,384,711,374,200,252,312,300,262,317,412,706,566,453,280,169,143,89,218,123,60,13,9,11,23,60,151,220,265,335,371,435,354,364,343,335,299,259,198,157,156,98,103,96,58,25,10,6,20,44,104,161,278,338,362,401,368,355,378,346,319,268,198,156,87,78,31,24,5,2,9,38,141,461,713,328,125,175,211,109,128,190,371,670,540,227,237,190,118,72,45,9,1,2,7,47,168,505,800,323,157,172,256,260,214,270,367,839,767,491,397,176,163,176,48,14,12,7,4,39,171,449,779,344,168,156,261,237,188,239,396,766,794,467,360,301,198,84,53,14,13,5,5,41,150,488,803,346,158,189,284,236,191,284,356,788,720,471,348,245,202,111,51,12,9,5,5,35,126,149,447,363,198,211,258,288,277,302,434,377,212,213,216,189,176,118,110,93,69,27,9,7,26,59,164,257,312,408,436,441,376,403,366,384,356,268,198,224,155,136,119,97,88,29,13,4,18,43,104,192,276,356,439,383,405,383,409,338,342,216,160,124,95,59,28,11,4,5,6,44,140,437,696,335,161,148,231,227,209,222,444,838,726,478,382,155,158,143,32,16,6,1,6,49,152,519,733,305,171,201,298,244,229,270,433,871,762,457,334,260,174,102,39,23,6,4,5,52,162,506,777,349,142,189,268,241,237,245,465,876,795,522,396,280,208,111,57,22,15,8,4,53,168,477,746,320,172,181,258,264,214,242,407,774,732,497,319,247,185,122,65,32,15,8,4,47,142,408,714,347,156,222,302,260,252,306,445,692,584,399,271,252,180,159,132,123,71,21,12,7,29,79,187,240,314,388,404,450,425,401,355,370,318,233,238,160,116,136,97,111,99,61,19,22,32,48,118,206,314,352,373,316,304,225,251,188,136,47,51,44,35,12,20,105,118,114,83,105,139,109,76,60,64,36,16,8,7,3,5,24,116,334,615,280,147,152,197,191,179,197,373,684,556,383,259,180,147,94,52,22,10,10,8,39,146,414,668,310,133,156,198,199,154,179,313,652,628,424,280,238,175,112,40,19,7,3,6,25,120,349,656,355,183,179,240,230,199,255,373,581,490,336,207,133,135,108,99,83,36,22,8,8,17,58,132,188,260,284,320,339,319,331,292,298,239,217,158,135,133,133,97,139,31,10,7,5,14,39,115,161,287,311,354,371,360,300,316,270,206,203,134,71,64,41,20,8,4,3,11,38,135,453,629,239,112,119,206,183,165,207,325,604,523,361,228,144,111,53,18,8,2,4,7,40,143,378,568,338,189,177,217,232,196,227,369,597,477,356,218,137,136,186,234,86,68,9,9,27,115,314,583,351,151,132,188,158,142,178,250,501,448,302,249,121,56,37,14,11,5,9,35,122,411,652,253,148,155,202,195,149,201,321,556,491,359,235,222,147,82,46,17,11,6,14,25,126,332,668,304,163,185,214,237,207,278,377,593,450,331,235,176,146,142,106,68,42,11,4,9,11,57,130,216,264,323,348,383,347,351,378,318,256,228,153,169,154,120,110,82,58,39,6,12,16,56,87,179,272,324,390,424,362,420,393,342,303,208,146,127,113,93,43,26,14,3,3,23,64,248,490,337,184,255,314,312,310,280,347,530,486,323,273,145,100,62,18,5,4,3,9,18,48,106,207,109,84,133,180,188,169,184,282,575,514,344,211,178,120,78,20,10,1,5,6,39,142,405,664,310,153,126,200,182,161,228,290,564,543,368,252,208,167,78,33,14,7,2,5,34,146,403,625,306,142,138,184,197,174,191,318,541,563,375,262,204,143,118,58,16,9,6,5,34,126,362,694,330,165,185,262,226,204,237,350,539,483,306,207,157,139,114,95,74,41,19,6,10,21,70,138,200,258,343,359,346,380,374,325,302,237,208,142,124,130,114,118,81,65,37,8,7,13,39,100,155,250,267,341,334,303,318,313,232,240,194,120,93,66,53,22,19,5,2,11,38,128,381,650,260,106,164,207,205,170,213,325,586,559,381,252,188,106,72,26,10,5,2,6,32,146,411,649,298,144,160,243,218,177,226,335,553,534,361,224,143,115,82,25,13,6,2,10,28,99,262,539,320,150,198,270,295,329,381,410,333,287,220,125,97,82,50,43,37,15,6,2,6,15,49,77,94,154,143,145,144,95,96,81,43,54,31,37,39,36,28,32,11,4,0,3,10,20,72,83,80,114,130,193,200,195,214,199,183,158,121,100,75,63,47,33,19,22,5,2,2,9,21,55,96,96,131,146,161,149,139,127,97,123,74,55,66,69,48,31,32,27,8,1,3,10,19,32,83,124,155,165,158,170,209,203,170,132,114,110,60,59,40,19,9,5,4,10,41,123,363,629,276,127,112,188,197,177,181,297,540,502,355,265,172,101,57,24,6,5,3,5,31,97,289,494,257,52,59,70,73,86,146,252,514,469,338,228,179,95,64,22,12,1,3,4,39,132,403,683,309,144,127,189,193,161,172,316,546,530,378,258,219,148,73,25,15,6,7,42,120,354,664,286,153,150,225,209,174,201,346,544,520,326,241,201,147,124,48,17,10,4,3,39,104,346,709,313,159,170,243,241,225,262,368,551,489,359,233,169,145,99,99,64,47,14,5,12,20,56,133,159,211,318,327,386,369,371,354,270,255,219,170,135,130,116,108,84,72,21,6,7,15,26,81,135,230,274,409,347,331,311,358,244,178,158,142,91,85,44,18,11,9,6,4,38,136,387,712,289,105,182,228,240,209,210,397,665,666,444,284,207,139,93,49,22,5,3,7,45,150,495,700,317,130,183,273,233,231,244,391,700,693,414,272,252,155,91,31,11,7,7,9,48,119,389,737,362,127,161,208,200,179,265,354,576,580,400,274,184,101,69,43,16,9,2,8,32,122,381,646,257,122,162,206,212,175,232,292,586,542,360,222,184,131,93,45,26,11,5,10,25,84,212,430,291,150,183,204,197,175,269,336,539,473,337,229,162,150,116,98,84,67,23,9,4,19,36,106,153,244,341,364,399,378,374,368,268,264,212,162,175,137,144,103,85,70,34,11,8,6,22,68,94,180,210,255,220,190,200,220,209,181,110,102,86,75,48,20,4,3,4,9,27,121,291,575,273,121,126,150,190,179,207,308,578,544,409,287,224,115,76,29,7,1,3,8,40,118,372,708,322,142,145,213,226,185,250,334,580,523,412,248,193,100,60,33,18,4,7,4,37,126,366,670,272,116,148,218,220,191,207,310,540,515,384,243,186,118,76,31,19,5,2,8,31,112,380,655,300,139,164,252,230,211,240,356,507,446,328,235,200,141,115,43,26,6,12,9,34,112,305,623,330,162,180,244,274,251,252,372,582,432,302,209,165,134,123,90,86,63,18,5,3,11,47,111,203,250,327,364,368,334,352,328,274,232,225,178,169,134,108,102,82,79,37,10,9,6,22,76,113,215,248,350,289,260,292,334,214,99,99,108,92,83,29,26,14,4,3,3,24,107,314,582,271,120,148,211,194,169,196,287,478,493,333,192,114,49,41,18,15,5,5,5,36,117,351,652,307,162,211,264,235,191,218,323,533,512,334,264,159,127,80,35,14,2,5,6,29,109,360,665,309,147,169,203,183,185,209,297,536,546,329,231,164,117,84,40,19,6,3,6,35,114,346,585,303,138,168,181,171,171,216,281,450,359,115,49,25,20,13,17,7,3,3,5,13,76,205,464,265,146,150,199,214,199,234,253,297,236,148,104,68,57,39,30,34,23,7,2,5,13,18,29,77,105,130,128,135,141,139,124,99,75,51,55,49,38,37,24,19,17,9,3,6,5,16,43,49,67,104,144,123,118,98,137,93,85,54,52,38,53,22,12,11,5,2,9,16,27,62,68,82,104,113,54,33,27,27,19,20,14,17,9,5,10,10,13,7,1,1,6,6,10,21,21,43,52,46,68,56,38,34,23,20,29,26,16,26,8,7,1,2,2,11,36,26,31,22,8,10,10,15,20,13,13,51,42,33,32,20,11,8,3,5,2,1,3,10,45,90,206,127,67,80,87,99,94,89,151,227,188,106,79,51,33,24,22,9,5,2,4,15,49,111,238,173,85,107,150,146,177,151,208,228,197,113,83,75,49,54,25,31,18,5,3,3,7,17,35,33,35,38,43,71,88,110,125,100,102,90,64,56,51,32,41,27,19,14,7,2,7,13,32,65,91,103,97,120,121,101,102,97,113,86,63,42,30,39,30,13,8,1,3,9,40,83,187,144,87,114,172,165,185,246,184,150,112,108,81,83,48,37],\"y0\":\" \",\"yaxis\":\"y\",\"type\":\"box\"}],                        {\"template\":{\"data\":{\"bar\":[{\"error_x\":{\"color\":\"#2a3f5f\"},\"error_y\":{\"color\":\"#2a3f5f\"},\"marker\":{\"line\":{\"color\":\"#E5ECF6\",\"width\":0.5},\"pattern\":{\"fillmode\":\"overlay\",\"size\":10,\"solidity\":0.2}},\"type\":\"bar\"}],\"barpolar\":[{\"marker\":{\"line\":{\"color\":\"#E5ECF6\",\"width\":0.5},\"pattern\":{\"fillmode\":\"overlay\",\"size\":10,\"solidity\":0.2}},\"type\":\"barpolar\"}],\"carpet\":[{\"aaxis\":{\"endlinecolor\":\"#2a3f5f\",\"gridcolor\":\"white\",\"linecolor\":\"white\",\"minorgridcolor\":\"white\",\"startlinecolor\":\"#2a3f5f\"},\"baxis\":{\"endlinecolor\":\"#2a3f5f\",\"gridcolor\":\"white\",\"linecolor\":\"white\",\"minorgridcolor\":\"white\",\"startlinecolor\":\"#2a3f5f\"},\"type\":\"carpet\"}],\"choropleth\":[{\"colorbar\":{\"outlinewidth\":0,\"ticks\":\"\"},\"type\":\"choropleth\"}],\"contour\":[{\"colorbar\":{\"outlinewidth\":0,\"ticks\":\"\"},\"colorscale\":[[0.0,\"#0d0887\"],[0.1111111111111111,\"#46039f\"],[0.2222222222222222,\"#7201a8\"],[0.3333333333333333,\"#9c179e\"],[0.4444444444444444,\"#bd3786\"],[0.5555555555555556,\"#d8576b\"],[0.6666666666666666,\"#ed7953\"],[0.7777777777777778,\"#fb9f3a\"],[0.8888888888888888,\"#fdca26\"],[1.0,\"#f0f921\"]],\"type\":\"contour\"}],\"contourcarpet\":[{\"colorbar\":{\"outlinewidth\":0,\"ticks\":\"\"},\"type\":\"contourcarpet\"}],\"heatmap\":[{\"colorbar\":{\"outlinewidth\":0,\"ticks\":\"\"},\"colorscale\":[[0.0,\"#0d0887\"],[0.1111111111111111,\"#46039f\"],[0.2222222222222222,\"#7201a8\"],[0.3333333333333333,\"#9c179e\"],[0.4444444444444444,\"#bd3786\"],[0.5555555555555556,\"#d8576b\"],[0.6666666666666666,\"#ed7953\"],[0.7777777777777778,\"#fb9f3a\"],[0.8888888888888888,\"#fdca26\"],[1.0,\"#f0f921\"]],\"type\":\"heatmap\"}],\"heatmapgl\":[{\"colorbar\":{\"outlinewidth\":0,\"ticks\":\"\"},\"colorscale\":[[0.0,\"#0d0887\"],[0.1111111111111111,\"#46039f\"],[0.2222222222222222,\"#7201a8\"],[0.3333333333333333,\"#9c179e\"],[0.4444444444444444,\"#bd3786\"],[0.5555555555555556,\"#d8576b\"],[0.6666666666666666,\"#ed7953\"],[0.7777777777777778,\"#fb9f3a\"],[0.8888888888888888,\"#fdca26\"],[1.0,\"#f0f921\"]],\"type\":\"heatmapgl\"}],\"histogram\":[{\"marker\":{\"pattern\":{\"fillmode\":\"overlay\",\"size\":10,\"solidity\":0.2}},\"type\":\"histogram\"}],\"histogram2d\":[{\"colorbar\":{\"outlinewidth\":0,\"ticks\":\"\"},\"colorscale\":[[0.0,\"#0d0887\"],[0.1111111111111111,\"#46039f\"],[0.2222222222222222,\"#7201a8\"],[0.3333333333333333,\"#9c179e\"],[0.4444444444444444,\"#bd3786\"],[0.5555555555555556,\"#d8576b\"],[0.6666666666666666,\"#ed7953\"],[0.7777777777777778,\"#fb9f3a\"],[0.8888888888888888,\"#fdca26\"],[1.0,\"#f0f921\"]],\"type\":\"histogram2d\"}],\"histogram2dcontour\":[{\"colorbar\":{\"outlinewidth\":0,\"ticks\":\"\"},\"colorscale\":[[0.0,\"#0d0887\"],[0.1111111111111111,\"#46039f\"],[0.2222222222222222,\"#7201a8\"],[0.3333333333333333,\"#9c179e\"],[0.4444444444444444,\"#bd3786\"],[0.5555555555555556,\"#d8576b\"],[0.6666666666666666,\"#ed7953\"],[0.7777777777777778,\"#fb9f3a\"],[0.8888888888888888,\"#fdca26\"],[1.0,\"#f0f921\"]],\"type\":\"histogram2dcontour\"}],\"mesh3d\":[{\"colorbar\":{\"outlinewidth\":0,\"ticks\":\"\"},\"type\":\"mesh3d\"}],\"parcoords\":[{\"line\":{\"colorbar\":{\"outlinewidth\":0,\"ticks\":\"\"}},\"type\":\"parcoords\"}],\"pie\":[{\"automargin\":true,\"type\":\"pie\"}],\"scatter\":[{\"marker\":{\"colorbar\":{\"outlinewidth\":0,\"ticks\":\"\"}},\"type\":\"scatter\"}],\"scatter3d\":[{\"line\":{\"colorbar\":{\"outlinewidth\":0,\"ticks\":\"\"}},\"marker\":{\"colorbar\":{\"outlinewidth\":0,\"ticks\":\"\"}},\"type\":\"scatter3d\"}],\"scattercarpet\":[{\"marker\":{\"colorbar\":{\"outlinewidth\":0,\"ticks\":\"\"}},\"type\":\"scattercarpet\"}],\"scattergeo\":[{\"marker\":{\"colorbar\":{\"outlinewidth\":0,\"ticks\":\"\"}},\"type\":\"scattergeo\"}],\"scattergl\":[{\"marker\":{\"colorbar\":{\"outlinewidth\":0,\"ticks\":\"\"}},\"type\":\"scattergl\"}],\"scattermapbox\":[{\"marker\":{\"colorbar\":{\"outlinewidth\":0,\"ticks\":\"\"}},\"type\":\"scattermapbox\"}],\"scatterpolar\":[{\"marker\":{\"colorbar\":{\"outlinewidth\":0,\"ticks\":\"\"}},\"type\":\"scatterpolar\"}],\"scatterpolargl\":[{\"marker\":{\"colorbar\":{\"outlinewidth\":0,\"ticks\":\"\"}},\"type\":\"scatterpolargl\"}],\"scatterternary\":[{\"marker\":{\"colorbar\":{\"outlinewidth\":0,\"ticks\":\"\"}},\"type\":\"scatterternary\"}],\"surface\":[{\"colorbar\":{\"outlinewidth\":0,\"ticks\":\"\"},\"colorscale\":[[0.0,\"#0d0887\"],[0.1111111111111111,\"#46039f\"],[0.2222222222222222,\"#7201a8\"],[0.3333333333333333,\"#9c179e\"],[0.4444444444444444,\"#bd3786\"],[0.5555555555555556,\"#d8576b\"],[0.6666666666666666,\"#ed7953\"],[0.7777777777777778,\"#fb9f3a\"],[0.8888888888888888,\"#fdca26\"],[1.0,\"#f0f921\"]],\"type\":\"surface\"}],\"table\":[{\"cells\":{\"fill\":{\"color\":\"#EBF0F8\"},\"line\":{\"color\":\"white\"}},\"header\":{\"fill\":{\"color\":\"#C8D4E3\"},\"line\":{\"color\":\"white\"}},\"type\":\"table\"}]},\"layout\":{\"annotationdefaults\":{\"arrowcolor\":\"#2a3f5f\",\"arrowhead\":0,\"arrowwidth\":1},\"autotypenumbers\":\"strict\",\"coloraxis\":{\"colorbar\":{\"outlinewidth\":0,\"ticks\":\"\"}},\"colorscale\":{\"diverging\":[[0,\"#8e0152\"],[0.1,\"#c51b7d\"],[0.2,\"#de77ae\"],[0.3,\"#f1b6da\"],[0.4,\"#fde0ef\"],[0.5,\"#f7f7f7\"],[0.6,\"#e6f5d0\"],[0.7,\"#b8e186\"],[0.8,\"#7fbc41\"],[0.9,\"#4d9221\"],[1,\"#276419\"]],\"sequential\":[[0.0,\"#0d0887\"],[0.1111111111111111,\"#46039f\"],[0.2222222222222222,\"#7201a8\"],[0.3333333333333333,\"#9c179e\"],[0.4444444444444444,\"#bd3786\"],[0.5555555555555556,\"#d8576b\"],[0.6666666666666666,\"#ed7953\"],[0.7777777777777778,\"#fb9f3a\"],[0.8888888888888888,\"#fdca26\"],[1.0,\"#f0f921\"]],\"sequentialminus\":[[0.0,\"#0d0887\"],[0.1111111111111111,\"#46039f\"],[0.2222222222222222,\"#7201a8\"],[0.3333333333333333,\"#9c179e\"],[0.4444444444444444,\"#bd3786\"],[0.5555555555555556,\"#d8576b\"],[0.6666666666666666,\"#ed7953\"],[0.7777777777777778,\"#fb9f3a\"],[0.8888888888888888,\"#fdca26\"],[1.0,\"#f0f921\"]]},\"colorway\":[\"#636efa\",\"#EF553B\",\"#00cc96\",\"#ab63fa\",\"#FFA15A\",\"#19d3f3\",\"#FF6692\",\"#B6E880\",\"#FF97FF\",\"#FECB52\"],\"font\":{\"color\":\"#2a3f5f\"},\"geo\":{\"bgcolor\":\"white\",\"lakecolor\":\"white\",\"landcolor\":\"#E5ECF6\",\"showlakes\":true,\"showland\":true,\"subunitcolor\":\"white\"},\"hoverlabel\":{\"align\":\"left\"},\"hovermode\":\"closest\",\"mapbox\":{\"style\":\"light\"},\"paper_bgcolor\":\"white\",\"plot_bgcolor\":\"#E5ECF6\",\"polar\":{\"angularaxis\":{\"gridcolor\":\"white\",\"linecolor\":\"white\",\"ticks\":\"\"},\"bgcolor\":\"#E5ECF6\",\"radialaxis\":{\"gridcolor\":\"white\",\"linecolor\":\"white\",\"ticks\":\"\"}},\"scene\":{\"xaxis\":{\"backgroundcolor\":\"#E5ECF6\",\"gridcolor\":\"white\",\"gridwidth\":2,\"linecolor\":\"white\",\"showbackground\":true,\"ticks\":\"\",\"zerolinecolor\":\"white\"},\"yaxis\":{\"backgroundcolor\":\"#E5ECF6\",\"gridcolor\":\"white\",\"gridwidth\":2,\"linecolor\":\"white\",\"showbackground\":true,\"ticks\":\"\",\"zerolinecolor\":\"white\"},\"zaxis\":{\"backgroundcolor\":\"#E5ECF6\",\"gridcolor\":\"white\",\"gridwidth\":2,\"linecolor\":\"white\",\"showbackground\":true,\"ticks\":\"\",\"zerolinecolor\":\"white\"}},\"shapedefaults\":{\"line\":{\"color\":\"#2a3f5f\"}},\"ternary\":{\"aaxis\":{\"gridcolor\":\"white\",\"linecolor\":\"white\",\"ticks\":\"\"},\"baxis\":{\"gridcolor\":\"white\",\"linecolor\":\"white\",\"ticks\":\"\"},\"bgcolor\":\"#E5ECF6\",\"caxis\":{\"gridcolor\":\"white\",\"linecolor\":\"white\",\"ticks\":\"\"}},\"title\":{\"x\":0.05},\"xaxis\":{\"automargin\":true,\"gridcolor\":\"white\",\"linecolor\":\"white\",\"ticks\":\"\",\"title\":{\"standoff\":15},\"zerolinecolor\":\"white\",\"zerolinewidth\":2},\"yaxis\":{\"automargin\":true,\"gridcolor\":\"white\",\"linecolor\":\"white\",\"ticks\":\"\",\"title\":{\"standoff\":15},\"zerolinecolor\":\"white\",\"zerolinewidth\":2}}},\"xaxis\":{\"anchor\":\"y\",\"domain\":[0.0,1.0],\"title\":{\"text\":\"season\"}},\"yaxis\":{\"anchor\":\"x\",\"domain\":[0.0,1.0],\"title\":{\"text\":\"registered\"}},\"legend\":{\"tracegroupgap\":0},\"margin\":{\"t\":60},\"boxmode\":\"group\"},                        {\"responsive\": true}                    ).then(function(){\n",
              "                            \n",
              "var gd = document.getElementById('e52cbd6f-c341-476f-b7aa-5ab7b1d8a8ed');\n",
              "var x = new MutationObserver(function (mutations, observer) {{\n",
              "        var display = window.getComputedStyle(gd).display;\n",
              "        if (!display || display === 'none') {{\n",
              "            console.log([gd, 'removed!']);\n",
              "            Plotly.purge(gd);\n",
              "            observer.disconnect();\n",
              "        }}\n",
              "}});\n",
              "\n",
              "// Listen for the removal of the full notebook cells\n",
              "var notebookContainer = gd.closest('#notebook-container');\n",
              "if (notebookContainer) {{\n",
              "    x.observe(notebookContainer, {childList: true});\n",
              "}}\n",
              "\n",
              "// Listen for the clearing of the current output cell\n",
              "var outputEl = gd.closest('.output');\n",
              "if (outputEl) {{\n",
              "    x.observe(outputEl, {childList: true});\n",
              "}}\n",
              "\n",
              "                        })                };                            </script>        </div>\n",
              "</body>\n",
              "</html>"
            ]
          },
          "metadata": {}
        }
      ]
    },
    {
      "cell_type": "markdown",
      "source": [
        "**Histograma**\n"
      ],
      "metadata": {
        "id": "VgdXzDNP2TNy"
      }
    },
    {
      "cell_type": "markdown",
      "source": [
        "No gráfico Histograma vemos a contagem da quantidade de aluguéis por usuários registrados em uma hora, e podemos notar que a maior concentração de é 0 a 9 aluguéis por usuários registrados em uma hora, e assim que vai aumentando o número de aluguéis por hora vai decaindo a quantidade."
      ],
      "metadata": {
        "id": "R6epIKsbAxo3"
      }
    },
    {
      "cell_type": "code",
      "source": [
        "fig2 = px.histogram(dataset, x='registered', marginal='rug')\n",
        "fig2.show()"
      ],
      "metadata": {
        "colab": {
          "base_uri": "https://localhost:8080/",
          "height": 542
        },
        "id": "bx0T-mWwryGE",
        "outputId": "9caee75d-844b-4406-ff99-61c27234e54c"
      },
      "execution_count": null,
      "outputs": [
        {
          "output_type": "display_data",
          "data": {
            "text/html": [
              "<html>\n",
              "<head><meta charset=\"utf-8\" /></head>\n",
              "<body>\n",
              "    <div>            <script src=\"https://cdnjs.cloudflare.com/ajax/libs/mathjax/2.7.5/MathJax.js?config=TeX-AMS-MML_SVG\"></script><script type=\"text/javascript\">if (window.MathJax) {MathJax.Hub.Config({SVG: {font: \"STIX-Web\"}});}</script>                <script type=\"text/javascript\">window.PlotlyConfig = {MathJaxConfig: 'local'};</script>\n",
              "        <script src=\"https://cdn.plot.ly/plotly-2.8.3.min.js\"></script>                <div id=\"33a089b9-2e86-4ffb-9ecd-5861e6e44c52\" class=\"plotly-graph-div\" style=\"height:525px; width:100%;\"></div>            <script type=\"text/javascript\">                                    window.PLOTLYENV=window.PLOTLYENV || {};                                    if (document.getElementById(\"33a089b9-2e86-4ffb-9ecd-5861e6e44c52\")) {                    Plotly.newPlot(                        \"33a089b9-2e86-4ffb-9ecd-5861e6e44c52\",                        [{\"alignmentgroup\":\"True\",\"bingroup\":\"x\",\"hovertemplate\":\"registered=%{x}<br>count=%{y}<extra></extra>\",\"legendgroup\":\"\",\"marker\":{\"color\":\"#636efa\",\"pattern\":{\"shape\":\"\"}},\"name\":\"\",\"offsetgroup\":\"\",\"orientation\":\"v\",\"showlegend\":false,\"x\":[13,32,27,10,1,1,0,2,7,6,24,30,55,47,71,70,52,52,26,31,25,31,17,24,13,16,8,4,1,2,1,8,19,46,54,73,64,55,55,67,58,43,29,17,20,9,8,5,2,1,3,30,63,153,81,33,41,48,53,66,58,67,146,148,102,49,49,20,11,5,2,1,2,4,36,92,177,98,37,50,66,79,54,48,68,202,179,110,53,48,34,9,6,6,2,2,3,33,87,192,109,53,34,74,65,52,55,85,186,166,127,82,40,41,18,11,4,2,1,4,36,95,216,116,42,57,78,55,59,54,74,163,158,109,66,48,51,19,13,5,1,1,5,26,76,190,125,47,48,50,64,43,63,82,178,116,92,50,39,34,14,24,15,13,7,1,5,2,8,15,20,56,60,90,95,83,69,68,64,52,26,28,35,33,22,24,12,11,4,1,1,1,5,10,19,49,47,79,69,64,77,79,59,44,40,38,19,10,6,3,0,3,1,2,3,31,75,184,92,31,28,47,50,47,43,70,174,154,92,73,37,22,18,10,3,3,6,27,97,214,127,51,31,55,46,60,45,72,130,94,51,32,20,28,18,7,6,1,5,16,54,125,78,39,32,52,49,44,48,63,139,135,82,54,57,32,19,6,2,2,3,4,3,28,72,197,137,36,33,49,81,39,55,76,158,141,98,64,40,30,14,14,5,1,1,8,17,70,156,117,40,47,59,73,59,59,87,155,134,89,68,48,34,26,25,18,12,7,5,1,2,9,22,31,57,54,74,80,92,108,95,54,69,60,35,51,26,39,33,19,13,6,1,1,1,3,18,29,71,70,75,95,69,78,77,82,56,47,50,22,19,18,16,15,8,2,2,1,5,9,30,39,50,55,70,80,74,72,76,67,85,58,29,24,13,3,3,22,26,32,61,124,132,98,83,41,33,19,3,6,3,1,7,32,89,196,107,46,47,65,67,68,78,94,190,156,108,74,55,53,27,8,3,2,1,1,6,35,100,247,140,56,63,77,86,75,62,83,207,184,146,124,54,56,28,20,6,2,1,1,4,27,66,210,159,57,53,67,65,56,61,97,151,119,93,52,41,33,27,13,9,11,6,3,2,8,26,37,50,59,60,72,64,93,72,59,54,53,44,39,23,31,20,12,15,4,3,1,1,17,25,51,77,92,75,93,64,56,50,44,45,31,20,23,17,7,1,1,1,5,15,79,171,98,34,43,52,54,43,50,66,178,145,101,80,53,32,21,6,5,2,1,9,35,103,233,134,49,55,85,72,57,63,102,208,218,133,103,40,49,37,14,5,7,1,8,29,69,55,26,35,41,43,36,42,35,26,23,82,101,76,55,36,27,16,9,2,2,0,4,16,58,155,95,49,30,28,31,36,40,70,147,107,84,61,57,26,22,26,20,15,5,2,2,4,31,34,51,60,66,56,89,98,88,82,59,52,42,35,28,30,33,22,10,7,1,3,3,11,34,57,50,87,71,104,95,104,71,57,46,30,25,19,16,6,5,1,2,2,8,37,71,182,112,68,46,62,52,85,41,83,155,153,108,78,53,34,15,6,3,2,2,3,22,52,132,114,47,49,53,49,49,45,61,172,165,105,69,64,34,15,2,3,0,1,1,3,17,48,154,119,59,47,61,74,61,66,95,183,175,88,71,62,35,29,11,5,2,1,2,39,86,184,127,50,55,67,47,43,56,73,170,145,92,108,53,39,34,10,7,1,1,7,26,87,217,124,46,61,78,73,76,81,91,195,152,102,69,41,45,30,36,17,12,10,8,9,4,4,10,17,31,46,42,62,50,49,63,64,81,78,64,53,43,52,37,40,20,10,2,1,1,8,21,38,74,89,126,135,114,130,115,97,65,20,21,22,57,26,14,4,3,1,1,9,29,89,223,115,49,36,59,54,52,46,98,207,170,123,82,75,34,19,6,4,1,1,3,2,39,97,236,128,44,49,63,48,61,45,79,172,151,100,53,46,29,9,17,7,2,2,7,43,95,198,119,51,40,57,67,56,61,72,157,168,87,84,83,42,37,16,7,3,1,6,26,99,173,121,34,44,65,59,42,50,76,159,157,110,93,70,47,33,12,6,3,4,23,73,212,132,39,52,64,89,67,62,111,193,165,94,61,46,41,48,27,22,13,7,4,1,1,9,28,38,71,84,93,103,90,127,103,113,60,39,39,42,39,31,34,23,19,8,2,3,3,11,35,86,86,94,92,110,122,106,95,78,50,32,45,31,27,8,6,2,1,2,3,25,96,249,122,46,43,99,93,76,71,102,218,194,86,65,35,44,19,12,5,2,1,4,30,103,213,108,47,46,65,68,69,74,77,191,198,142,98,61,41,20,15,9,1,1,5,32,103,224,122,55,59,72,80,65,82,96,244,202,143,108,87,61,31,16,6,4,1,1,11,44,119,267,163,70,71,86,108,55,91,117,256,211,161,131,119,68,40,20,7,5,6,1,6,48,108,246,154,78,82,126,131,118,117,164,275,195,146,105,61,88,61,23,21,14,7,3,3,3,16,36,37,72,76,81,103,94,87,81,91,67,54,38,29,42,25,14,11,17,9,1,1,2,22,48,70,89,120,122,104,102,88,86,71,39,30,39,43,45,30,11,3,3,0,2,6,16,56,46,52,70,67,75,101,76,48,62,64,49,29,33,11,2,7,40,107,101,44,43,48,52,49,67,79,188,161,114,102,80,76,18,6,4,1,2,8,36,94,227,130,47,53,56,78,61,54,79,207,206,135,107,89,60,38,11,7,4,2,3,58,104,244,133,49,71,85,72,67,58,67,168,132,112,87,76,50,47,8,9,3,1,5,11,34,70,111,42,50,95,77,71,50,91,181,150,86,60,56,43,37,25,25,9,7,1,9,6,21,55,65,71,100,115,136,154,125,130,130,111,64,60,59,38,29,26,30,20,8,2,1,8,26,42,79,92,132,169,177,163,170,121,103,86,72,61,67,53,25,7,1,4,27,90,242,127,79,74,36,31,24,35,40,77,127,79,45,78,72,45,7,3,4,2,1,1,46,105,204,116,55,48,80,65,61,57,92,230,214,115,86,55,44,23,5,4,2,1,0,5,39,108,243,141,65,65,62,90,75,91,112,238,193,144,86,68,44,22,10,1,2,1,1,7,34,110,216,135,49,40,65,67,60,62,65,185,161,101,69,48,50,23,12,4,2,1,0,7,28,83,222,138,56,73,87,74,65,75,101,206,172,102,78,64,40,40,15,20,15,2,1,3,3,10,34,48,69,116,121,130,118,122,130,104,115,62,58,60,47,34,41,27,27,9,3,1,5,8,18,27,44,69,83,27,4,8,23,23,11,8,6,10,9,4,2,1,0,1,31,88,200,129,43,41,68,54,56,64,96,206,214,134,87,53,34,22,9,4,0,2,2,8,42,119,247,140,46,52,70,73,56,77,82,209,214,141,74,68,44,38,9,4,1,2,2,7,44,123,238,136,49,44,84,82,61,64,102,176,176,123,87,52,17,17,0,2,1,2,12,36,43,23,17,5,30,11,12,11,20,109,80,51,29,27,30,26,6,8,3,2,6,31,104,244,143,60,67,96,92,64,64,95,200,134,111,70,43,53,34,30,15,14,6,1,2,2,19,44,76,78,83,107,95,96,101,144,114,91,86,64,46,56,38,35,23,17,9,3,2,8,23,36,86,93,120,124,106,155,132,143,92,73,54,49,29,23,7,1,1,3,8,27,84,217,127,57,45,54,51,52,77,80,229,210,133,106,58,43,17,7,6,2,1,11,32,109,259,147,56,51,70,74,74,66,93,195,207,138,79,53,20,17,8,2,2,1,3,30,101,227,144,49,62,65,81,67,79,121,216,211,150,111,75,48,18,19,11,5,1,3,13,47,128,282,162,69,66,81,85,87,95,108,265,260,189,112,119,70,43,24,12,9,4,8,35,112,256,192,74,104,123,118,103,111,137,237,247,132,103,91,63,60,50,35,20,7,2,2,10,9,37,41,85,106,141,127,144,143,129,140,125,116,69,73,45,37,33,22,24,11,1,6,3,9,30,43,81,111,108,115,134,136,132,143,98,58,46,39,30,11,11,6,5,1,1,30,15,95,115,45,47,56,77,65,66,112,231,232,199,106,79,60,22,7,13,1,2,1,11,58,132,312,159,95,64,86,85,71,79,125,265,271,142,116,63,57,28,8,7,1,3,10,43,111,247,174,60,53,73,94,71,74,123,245,218,147,72,22,38,24,11,3,6,0,1,8,41,106,120,94,55,61,82,90,66,77,78,221,197,122,110,67,59,24,17,5,5,2,2,9,32,100,228,150,53,58,108,104,103,79,127,202,190,126,75,64,40,31,25,24,21,7,4,8,8,23,42,68,93,93,129,145,123,109,130,101,89,93,67,36,46,31,26,17,15,14,5,2,7,8,37,59,85,120,100,103,111,98,109,105,80,50,29,25,16,11,4,5,2,8,40,104,239,109,47,39,71,69,65,53,117,227,220,156,107,55,40,18,15,4,3,1,1,8,46,128,268,156,46,63,77,80,66,65,124,265,252,170,119,75,49,27,8,9,4,4,0,7,44,128,247,147,51,64,65,84,64,56,36,105,79,67,40,27,21,11,3,4,5,1,2,8,34,87,185,126,54,52,73,55,49,61,72,153,165,118,79,53,44,23,6,4,7,4,3,11,26,91,198,162,63,72,80,92,61,81,125,245,205,120,75,84,64,41,29,28,20,8,5,4,7,16,45,65,113,126,100,81,93,64,85,95,110,77,56,53,41,33,31,26,19,8,0,4,23,20,44,74,104,104,147,148,109,118,156,126,101,93,55,37,29,22,5,4,1,0,1,7,43,150,308,134,55,66,98,92,76,96,130,283,308,227,133,76,58,30,12,5,5,3,2,5,36,124,148,44,25,18,32,51,67,62,113,246,248,148,87,81,43,23,15,2,5,4,1,12,52,130,308,157,48,70,112,83,80,83,142,303,282,196,126,84,71,29,15,11,7,3,1,6,59,152,291,155,66,86,114,99,111,133,161,280,265,192,166,89,63,45,21,6,10,1,1,8,33,109,208,168,63,79,51,35,13,24,58,138,54,52,51,43,42,31,26,17,15,11,3,5,13,13,47,71,90,91,123,108,118,116,118,129,129,83,74,65,66,45,48,31,24,11,2,4,4,7,38,50,81,109,136,142,133,141,153,152,137,84,71,77,45,27,16,3,2,1,12,59,164,286,132,55,59,97,77,85,85,162,352,290,211,122,119,66,38,13,7,7,1,2,15,55,177,211,50,34,38,83,84,28,54,80,262,203,127,94,74,47,31,12,1,2,2,2,4,33,67,158,63,42,57,83,55,82,69,119,284,293,160,119,100,89,57,18,9,3,2,8,12,66,182,316,152,68,87,110,121,101,85,153,338,290,222,147,126,82,40,21,9,10,3,3,11,42,139,279,162,91,95,155,133,106,112,173,267,216,168,92,77,64,56,36,28,19,9,4,3,9,18,38,27,21,27,26,49,49,62,27,14,32,62,49,13,22,30,29,25,25,13,5,1,5,14,36,71,120,185,187,162,191,209,182,163,175,135,97,70,49,37,24,8,2,1,4,16,51,156,277,132,68,87,124,128,95,112,165,362,321,244,136,131,81,35,23,2,5,3,4,17,63,166,331,139,60,53,84,103,88,83,162,372,377,248,148,114,109,41,29,5,2,2,4,14,62,211,374,170,86,87,117,135,115,113,201,398,385,309,194,134,105,79,33,20,10,3,4,14,73,183,346,178,73,99,150,122,160,166,228,402,381,272,176,159,106,86,30,22,7,2,2,16,47,175,331,178,104,83,61,37,33,62,58,63,47,48,39,23,21,17,18,11,14,4,3,6,11,17,32,55,93,164,197,186,209,226,246,215,227,199,138,103,114,86,66,40,45,20,5,7,3,11,42,104,171,193,220,236,223,202,197,189,174,132,71,53,40,37,10,8,9,8,4,14,59,183,326,147,64,94,140,146,99,125,198,441,425,320,195,149,83,53,17,5,9,4,4,16,80,254,417,164,98,132,146,139,115,119,251,455,463,286,199,162,116,71,24,15,5,4,6,16,79,229,413,161,66,103,135,119,119,120,189,458,366,220,188,126,111,53,41,12,7,1,5,13,79,201,367,165,45,74,84,103,121,117,228,406,486,347,220,167,119,81,37,21,8,4,6,25,67,222,386,185,99,108,160,234,190,175,240,433,384,230,160,145,110,88,73,59,53,13,5,4,11,27,70,121,185,201,238,270,268,282,273,245,237,237,159,119,106,91,77,50,43,15,11,10,9,26,43,96,155,141,172,209,153,153,139,136,126,131,86,82,68,82,109,73,19,7,8,16,59,193,350,131,77,96,147,119,133,110,220,472,450,268,174,178,97,48,16,14,5,2,1,14,102,248,435,157,91,120,169,144,122,117,225,464,485,323,262,183,99,50,22,6,4,1,2,8,21,46,74,35,26,69,105,128,94,107,173,388,367,266,174,133,80,49,23,6,4,4,3,29,86,255,415,164,98,105,169,142,135,120,233,467,456,305,225,141,135,99,43,24,15,6,1,16,74,202,415,161,97,123,198,182,127,171,262,470,385,253,161,130,105,93,76,50,47,9,4,3,12,32,96,164,208,215,244,240,235,230,223,216,175,179,137,124,94,89,78,56,42,21,8,5,4,15,58,112,153,198,243,224,240,230,263,245,205,178,132,95,86,41,22,8,2,7,4,23,87,221,351,142,95,99,160,138,118,148,255,539,458,339,214,128,95,45,12,12,4,3,2,28,103,301,397,176,100,108,170,152,134,152,271,532,480,365,241,173,121,72,30,16,4,3,2,20,93,293,421,182,124,123,185,157,141,131,240,242,234,341,245,202,134,69,39,16,14,5,5,27,103,283,394,191,119,136,164,170,148,163,238,540,463,305,220,192,147,87,46,15,8,2,3,24,76,141,361,215,99,90,170,157,120,142,256,429,359,245,130,130,107,88,78,64,37,30,4,7,9,28,72,86,133,207,204,180,159,221,188,194,216,179,115,44,19,33,34,43,37,21,8,11,14,38,46,98,153,202,247,261,254,253,282,255,177,153,138,107,88,51,21,8,9,3,5,20,93,245,366,156,75,129,137,153,117,110,181,227,398,272,167,149,105,39,18,6,4,3,2,22,49,138,325,190,73,104,115,141,123,131,217,521,426,298,253,151,86,49,15,9,5,3,2,9,99,260,428,176,73,17,42,92,94,133,241,487,431,288,189,74,103,49,23,4,12,3,3,24,86,239,453,176,95,111,130,139,137,125,247,487,454,345,236,180,68,63,33,17,4,4,4,28,102,289,476,199,104,133,186,172,131,168,269,483,394,253,180,155,124,100,78,64,35,12,6,4,22,33,97,165,201,245,271,271,269,274,267,253,253,184,164,150,126,103,100,81,50,23,9,5,13,27,65,130,170,209,255,275,191,221,201,213,238,193,174,109,86,46,18,5,3,4,2,11,92,223,359,131,72,107,139,155,130,119,223,373,385,302,271,155,106,53,23,9,8,2,3,22,102,288,403,111,90,142,129,152,126,129,225,492,490,310,241,168,115,53,32,2,8,9,3,23,113,284,495,207,105,104,178,163,121,145,238,524,451,332,284,203,140,74,34,13,7,4,2,25,94,270,458,194,94,124,141,145,145,101,233,445,404,311,267,178,157,73,55,36,12,11,5,29,73,229,393,190,111,126,190,158,188,258,356,414,310,210,120,114,116,104,79,47,35,13,4,3,16,33,75,116,166,178,213,217,210,187,201,161,212,153,128,114,115,81,51,49,49,24,10,3,10,17,62,78,121,180,186,181,168,155,167,169,177,146,128,122,93,87,65,53,28,8,4,6,10,19,58,81,153,168,187,217,185,179,208,202,172,157,168,107,80,34,20,9,7,3,3,26,98,219,372,153,72,78,125,110,99,133,205,428,362,246,213,165,117,46,25,9,3,6,4,19,121,265,417,173,84,86,137,125,105,127,227,434,278,248,233,161,115,59,31,12,6,4,3,28,106,285,442,197,106,123,193,168,142,144,255,484,451,321,286,215,141,89,53,15,12,5,5,24,98,252,471,194,107,135,208,190,174,156,286,485,488,338,236,196,145,141,69,80,41,10,11,5,17,60,96,169,202,249,270,268,258,224,272,202,214,206,149,139,141,121,90,70,48,25,8,5,11,19,74,111,168,214,212,213,224,256,260,264,239,249,195,111,94,61,18,5,4,3,4,24,101,281,410,162,64,72,128,152,99,127,233,516,500,343,277,160,137,55,15,2,2,1,3,30,116,311,432,190,86,113,141,141,112,127,253,475,479,355,301,187,126,72,29,20,7,1,6,21,103,329,435,168,63,106,134,116,111,100,199,426,398,323,225,168,139,98,40,13,6,2,4,19,105,283,400,148,74,82,100,118,93,86,170,355,414,271,214,142,131,82,61,18,7,3,4,28,94,242,423,176,88,107,167,149,121,163,239,454,367,245,197,163,145,110,89,67,50,18,9,12,31,50,111,171,173,215,235,237,232,232,225,190,155,167,180,144,137,107,100,74,57,20,6,5,9,27,64,107,191,236,244,264,219,218,235,158,187,156,144,101,97,74,20,10,8,6,3,27,98,302,432,189,80,106,161,174,145,127,262,529,510,348,253,178,114,75,18,10,8,1,3,23,107,346,441,174,97,103,139,176,118,136,279,484,473,335,237,206,159,91,44,14,9,1,4,20,110,348,445,185,108,115,178,146,128,131,265,555,527,362,273,209,144,90,38,13,4,4,6,18,104,172,364,232,103,117,165,114,114,127,258,230,299,269,176,154,127,14,21,19,11,5,5,12,89,225,426,196,126,138,194,156,142,181,286,467,388,275,192,159,127,141,83,80,37,16,4,6,18,45,103,156,176,270,258,192,196,214,275,239,263,227,127,125,105,97,71,59,59,16,10,12,22,36,59,111,158,236,255,214,193,216,257,238,218,217,146,110,114,78,19,3,0,0,2,3,25,46,209,200,58,67,129,129,130,139,238,484,474,369,264,167,106,50,23,12,5,2,7,22,107,288,368,243,120,119,149,158,108,128,273,507,469,358,254,191,97,53,18,19,5,7,8,21,110,288,396,205,104,108,144,113,113,114,224,462,447,280,230,216,123,91,44,26,4,4,7,22,92,301,412,194,88,108,130,149,103,127,217,495,483,344,277,188,139,90,53,20,10,4,8,18,87,247,439,203,102,147,150,178,162,147,247,472,365,293,222,183,126,139,97,75,51,21,4,8,17,35,85,139,203,209,252,231,232,235,235,247,199,254,195,140,126,130,85,73,70,22,8,9,13,27,78,131,196,219,268,245,246,229,278,243,265,228,158,135,95,64,25,11,3,2,8,21,90,247,418,150,95,95,130,127,100,126,222,514,512,340,251,190,112,65,25,8,9,2,7,20,117,320,417,208,112,118,161,156,117,127,220,509,436,255,246,164,104,58,25,18,9,3,5,19,104,318,499,189,95,117,188,186,138,146,268,492,510,341,264,195,151,97,39,19,6,7,4,24,119,291,511,227,97,122,183,162,117,176,260,496,472,366,285,242,164,99,48,16,7,6,5,27,97,218,453,202,109,146,180,209,225,299,342,362,324,238,185,149,173,96,84,58,43,21,8,13,21,35,94,124,168,213,232,226,215,163,192,170,190,149,148,137,123,88,97,55,50,25,2,1,3,22,53,99,133,175,206,173,150,182,219,177,107,83,93,92,93,77,77,76,30,13,4,3,11,19,44,96,114,172,210,181,173,184,216,196,196,205,191,262,211,94,36,24,5,7,4,19,91,248,391,177,84,97,130,136,112,111,202,466,426,297,225,168,124,54,26,11,4,6,6,30,112,288,397,158,30,103,114,107,113,130,218,517,486,323,257,175,156,78,29,14,7,2,4,30,107,279,415,154,72,112,139,107,121,119,218,489,492,286,224,170,150,98,41,25,12,4,4,24,91,302,421,211,108,104,164,175,163,102,105,161,281,225,220,158,136,111,90,48,43,23,4,11,27,50,114,170,177,189,221,249,215,220,245,241,246,178,185,155,154,93,112,94,68,19,5,10,17,38,65,107,173,177,244,228,227,219,244,217,222,183,167,162,87,53,25,5,4,8,4,21,102,289,385,167,73,89,108,119,94,108,182,455,415,293,194,109,70,44,19,8,7,6,6,21,102,301,382,149,85,86,125,104,91,111,177,380,472,295,251,209,150,59,37,11,3,4,5,22,103,281,418,163,80,110,134,119,89,33,118,418,412,340,281,194,136,83,32,21,7,5,6,22,116,311,433,195,95,110,172,138,129,138,231,517,484,333,267,203,134,97,57,13,22,6,8,16,108,257,514,176,107,137,177,162,160,163,265,483,394,280,251,186,152,126,68,51,48,20,7,6,21,38,90,150,208,225,276,276,232,223,242,241,243,242,188,167,136,107,91,86,66,26,6,8,11,30,73,110,177,244,243,272,262,195,188,236,243,234,177,148,116,54,30,8,8,4,3,15,95,255,329,170,78,99,126,125,106,111,220,473,478,335,232,154,104,59,26,6,4,1,4,19,126,287,381,177,112,98,127,139,111,110,216,445,450,334,229,194,120,73,29,7,7,4,4,19,111,276,404,181,76,116,121,97,83,102,204,405,429,323,264,209,144,73,29,16,4,5,4,16,111,251,358,166,47,79,106,81,97,93,167,374,343,233,199,187,113,73,51,17,14,6,5,17,83,232,292,177,83,86,95,98,77,101,153,271,250,210,166,152,105,84,85,57,48,16,4,6,19,38,85,102,137,154,164,167,152,137,151,127,134,137,98,115,88,77,77,63,48,20,5,3,13,29,82,112,165,169,161,162,204,170,187,174,176,170,143,111,75,37,17,8,3,2,6,22,100,257,353,124,54,83,50,64,62,96,161,437,473,324,247,153,112,64,20,6,6,2,6,24,108,288,392,162,96,102,122,139,101,114,213,465,478,329,243,222,131,71,26,9,5,4,3,18,119,313,405,189,82,94,132,151,107,103,228,491,463,288,239,196,143,93,31,26,5,5,6,26,110,278,409,189,86,113,151,126,111,124,214,423,428,285,229,165,149,95,45,22,10,9,4,23,83,228,354,151,69,118,95,114,114,129,198,374,313,219,153,134,127,90,73,75,31,25,6,9,18,39,87,125,182,206,230,183,193,189,176,209,207,155,132,123,129,114,80,71,48,26,7,4,8,26,88,128,163,163,192,152,196,184,208,206,213,187,205,96,71,56,22,12,7,4,2,24,97,258,347,139,70,66,115,112,86,77,197,445,475,350,256,178,116,82,18,8,6,5,10,17,105,320,398,182,90,96,112,153,114,120,216,493,491,369,248,201,169,103,32,9,9,4,7,22,101,252,408,172,59,93,142,107,104,87,129,378,443,270,80,81,66,52,15,14,5,3,7,17,90,271,369,162,89,112,152,142,114,115,220,464,435,301,245,186,141,108,41,16,14,6,6,16,94,247,415,183,113,103,159,164,164,160,254,466,361,282,221,119,137,102,104,50,39,28,5,4,22,49,94,155,199,211,252,265,204,232,188,88,130,114,79,86,96,79,66,63,48,23,5,4,10,28,66,102,178,156,209,206,192,208,119,131,155,160,133,100,82,43,17,8,3,0,8,14,87,249,320,146,62,89,134,108,109,86,218,460,465,352,215,156,121,53,25,9,3,3,6,25,95,313,352,141,89,88,125,127,95,106,228,453,488,302,258,184,127,53,18,10,10,3,4,30,110,289,361,148,72,95,166,150,116,141,206,513,489,334,253,162,122,94,40,17,8,7,4,23,101,292,361,166,96,128,164,166,103,126,241,486,497,323,232,171,123,105,53,19,15,9,5,24,73,247,397,178,86,108,167,179,135,190,266,423,376,284,210,153,157,100,69,64,58,18,5,15,19,34,90,138,163,192,246,92,146,208,133,172,169,170,105,127,118,95,71,57,49,22,2,9,4,20,21,76,116,117,183,233,244,203,176,196,222,184,126,104,25,22,18,9,3,6,4,14,87,248,326,170,87,112,116,140,95,133,225,471,413,343,240,150,76,77,23,12,3,5,5,29,115,328,417,171,83,110,120,147,117,123,248,525,516,320,232,177,121,57,16,12,6,4,5,28,101,296,452,178,91,108,163,138,138,117,238,506,470,297,243,192,142,85,38,11,4,6,9,27,97,289,393,186,92,97,139,154,115,118,196,365,226,115,141,137,117,94,53,19,8,1,7,16,91,251,368,187,108,120,168,169,142,156,261,442,337,132,46,89,97,88,107,35,59,42,6,8,18,36,106,139,192,223,253,220,228,215,222,203,225,182,170,144,146,98,68,69,51,26,5,8,10,19,62,151,177,181,239,216,157,51,161,179,215,201,140,93,97,48,22,13,6,5,10,23,106,270,331,151,85,85,153,158,137,127,254,509,537,350,247,180,121,45,22,13,4,4,5,35,111,333,461,191,92,124,177,164,502,423,311,339,421,297,206,173,145,61,29,17,4,1,7,26,105,297,436,169,95,128,175,180,127,141,222,484,519,347,289,189,140,54,41,11,2,2,6,25,101,296,461,141,105,112,32,30,86,104,105,284,377,241,192,158,126,69,42,13,16,8,6,23,100,263,387,191,89,151,173,165,164,196,293,433,370,235,183,152,126,114,112,51,59,22,3,11,15,26,62,128,154,73,65,33,19,28,14,14,1,6,46,115,178,218,302,290,314,295,253,257,247,150,126,73,48,21,15,5,5,3,17,99,273,384,166,73,100,159,170,127,164,226,524,487,317,227,168,119,56,17,7,8,2,6,27,115,338,459,180,109,115,172,170,151,162,295,549,516,397,259,180,121,74,24,13,5,4,5,25,107,316,440,217,105,143,192,182,148,138,263,525,495,393,259,174,137,60,33,14,11,7,7,22,103,335,467,178,92,141,165,169,144,135,253,567,462,364,247,160,145,111,58,28,11,4,2,20,73,253,434,190,106,141,178,207,208,277,299,377,305,220,158,121,114,68,65,57,26,18,4,9,19,33,65,118,168,128,160,200,176,201,188,201,179,148,120,93,96,77,76,38,43,23,4,5,3,20,49,102,147,163,221,174,156,192,141,172,169,150,125,103,85,58,66,35,22,12,5,4,5,30,56,89,137,207,212,235,212,142,192,77,92,123,56,40,49,17,7,2,0,3,20,72,166,349,167,90,78,51,24,21,71,95,276,351,269,150,109,79,56,12,3,4,1,4,15,74,83,319,176,63,9,21,9,24,55,137,264,219,212,93,34,26,21,11,4,2,3,13,55,172,188,65,57,82,85,112,105,115,151,102,66,51,83,76,65,26,15,8,7,1,3,14,54,104,276,131,27,66,71,108,119,161,244,451,377,316,180,154,127,113,84,67,46,29,4,6,6,43,103,168,233,252,260,239,230,263,261,275,241,214,167,171,126,107,79,66,60,30,6,24,16,28,69,168,214,258,298,231,222,270,303,228,229,232,161,114,74,33,11,11,0,4,23,108,300,382,155,89,131,147,120,129,152,238,515,515,373,258,166,134,62,19,6,0,2,6,19,116,348,399,179,93,120,144,136,139,145,251,507,472,341,241,200,120,59,28,7,4,7,8,30,138,350,396,183,115,121,156,139,105,146,241,512,503,337,221,189,140,62,34,20,5,5,5,30,119,321,364,186,96,120,148,151,134,110,193,230,222,212,223,134,108,61,43,19,7,4,3,30,87,283,386,189,104,139,212,168,176,165,291,480,427,256,184,124,135,106,80,52,61,21,4,3,17,33,81,145,177,248,257,225,174,206,189,218,234,186,133,121,112,100,88,66,68,25,0,5,10,29,53,94,178,201,229,214,184,233,235,230,223,191,136,110,75,44,23,7,7,4,6,26,107,312,391,183,84,98,138,124,143,143,208,483,484,333,204,181,104,55,21,11,4,3,4,21,111,306,196,64,26,48,47,81,85,158,241,445,453,294,212,177,125,70,20,17,5,6,5,30,112,312,444,187,103,138,151,144,139,142,230,475,384,253,149,175,112,80,30,6,8,7,2,28,94,295,389,168,101,142,151,155,142,149,262,513,501,388,250,194,166,99,41,29,14,5,7,20,99,240,297,108,28,20,28,27,21,52,51,86,220,232,158,121,126,107,86,61,54,27,7,3,12,34,102,134,203,268,266,290,226,284,282,246,243,231,166,156,143,123,136,93,79,39,5,2,13,23,59,100,190,230,270,247,231,234,320,275,279,242,135,113,84,67,23,14,4,5,4,25,107,315,326,161,117,116,161,139,110,157,239,509,490,347,227,164,122,64,28,6,4,5,3,24,116,234,400,173,101,97,129,122,123,170,225,480,325,294,221,179,102,82,29,13,9,3,3,20,111,177,270,141,109,127,159,138,145,146,241,527,459,315,91,67,68,59,33,20,2,8,5,22,106,269,402,198,103,122,157,175,134,185,227,527,500,348,234,195,150,64,53,18,9,3,6,23,98,283,425,214,122,168,195,194,173,193,298,497,449,332,202,179,129,109,106,47,46,17,6,4,15,30,58,112,100,102,130,98,147,154,165,170,117,99,58,53,58,57,43,23,27,5,3,7,13,24,50,96,188,218,243,224,195,144,162,135,158,128,71,71,55,19,13,5,4,6,6,17,91,241,359,141,82,100,118,102,94,79,202,455,384,300,191,128,79,43,22,8,2,3,4,25,109,298,372,168,107,102,160,153,156,166,273,530,456,310,236,144,106,60,36,7,2,5,4,29,112,292,441,187,103,138,180,189,156,147,245,525,536,334,228,173,134,64,34,17,8,4,5,24,110,287,437,188,105,115,180,158,139,157,272,505,479,305,231,161,124,81,48,25,5,9,5,24,84,237,386,207,126,150,174,210,179,202,346,462,371,243,167,144,119,113,72,51,41,16,7,7,16,46,89,163,217,221,255,229,214,234,230,219,224,172,124,133,104,90,83,63,35,20,7,14,14,26,82,119,210,234,243,193,228,209,247,230,228,186,134,120,104,85,42,30,15,9,4,19,39,102,227,161,158,183,201,219,223,254,248,334,365,267,188,148,104,63,16,9,4,1,5,20,114,333,375,195,111,92,130,138,117,139,257,534,493,285,203,158,120,47,23,8,2,2,6,22,107,244,377,183,98,102,53,76,70,42,50,235,161,102,81,74,40,41,14,9,4,4,5,16,51,76,199,106,53,76,95,142,111,128,240,432,248,187,166,115,101,45,29,16,6,6,8,17,90,137,186,164,108,76,62,114,119,169,264,426,361,221,177,156,123,80,88,64,39,18,6,6,15,40,101,157,207,221,261,223,230,211,264,264,251,177,137,115,121,102,85,64,52,31,7,6,7,39,71,151,226,218,277,269,258,230,289,253,226,181,129,88,88,48,25,15,3,2,3,28,107,299,381,180,92,131,166,156,122,142,238,540,469,288,189,141,88,52,23,7,4,1,4,19,105,326,474,198,75,112,159,171,137,139,246,553,512,286,204,178,115,63,23,9,6,3,3,28,67,200,185,109,116,117,86,80,99,180,170,132,189,140,79,94,55,22,11,4,1,6,24,87,303,409,197,105,99,171,136,117,138,203,438,430,278,207,149,106,83,42,19,12,7,6,31,78,228,386,189,106,135,193,163,131,178,242,445,354,228,155,112,89,99,80,50,25,19,4,7,17,49,88,122,149,172,211,186,177,223,190,217,224,173,111,120,114,81,64,60,40,31,1,2,12,18,56,95,185,202,249,255,216,216,217,220,196,140,112,75,69,31,26,8,6,3,5,19,83,274,378,166,82,109,156,138,143,125,242,527,428,212,118,114,76,50,26,6,3,3,5,24,95,299,383,194,102,120,165,161,134,171,233,517,453,294,208,169,148,79,28,9,1,3,5,21,92,284,438,226,105,132,155,62,52,59,196,414,398,306,180,140,112,72,23,9,5,3,3,14,42,128,304,155,52,44,45,64,76,95,193,291,226,200,171,119,97,60,40,9,3,4,5,25,74,199,361,210,102,128,167,185,152,171,262,411,332,188,131,69,32,31,19,18,16,8,1,1,1,6,16,19,12,26,44,30,29,38,19,28,37,36,40,49,44,33,47,34,43,26,10,4,8,15,60,92,125,182,229,232,209,202,213,191,162,125,74,75,58,30,20,8,3,3,5,18,82,216,355,197,87,97,140,128,119,141,242,442,392,226,154,109,77,46,18,8,3,5,7,18,90,246,402,206,114,101,153,147,118,148,252,470,421,274,191,114,91,61,19,8,2,2,4,27,91,240,452,213,108,117,157,139,132,161,231,523,448,257,177,155,99,54,28,12,5,4,3,27,96,280,394,155,98,108,162,150,120,138,234,465,409,234,198,140,116,80,32,16,8,7,6,23,64,235,387,239,115,128,153,161,147,192,237,438,339,182,171,115,109,72,48,57,24,8,5,2,20,31,80,111,171,169,235,207,227,202,207,234,185,159,136,99,72,81,65,104,23,4,6,5,11,24,71,134,186,216,226,209,219,210,263,185,146,130,100,77,40,43,14,6,2,3,4,25,97,305,397,156,95,100,158,157,115,132,255,489,407,280,187,129,102,47,18,8,1,3,4,17,96,316,455,177,104,126,175,165,129,155,250,459,432,264,169,166,95,45,13,10,5,4,4,28,98,300,437,197,89,131,156,136,153,130,257,458,387,292,201,152,105,61,24,10,5,11,2,22,110,266,418,188,100,99,149,87,58,57,67,168,263,192,160,130,84,73,56,16,10,6,8,13,46,116,249,186,162,150,198,179,183,187,189,286,185,182,97,79,78,67,52,45,39,13,7,3,7,24,87,142,170,213,224,225,244,221,224,193,150,139,101,103,88,78,61,58,48,20,5,3,18,30,55,97,178,187,242,234,263,221,226,187,155,121,115,76,64,49,22,6,10,3,5,19,104,311,425,204,85,106,166,153,138,142,264,464,460,274,210,176,96,48,15,5,8,4,6,26,104,298,453,174,115,116,148,132,120,155,240,422,414,259,212,145,109,66,26,5,6,3,3,13,52,130,223,77,32,53,49,52,49,50,110,216,176,108,94,72,45,28,22,5,5,3,3,21,72,164,343,184,74,93,115,109,105,106,187,379,298,210,162,113,83,58,28,10,8,2,5,22,70,211,369,207,105,122,143,146,123,151,190,361,312,183,129,108,88,54,49,34,34,11,4,2,10,38,80,130,165,183,218,245,228,262,188,171,172,149,115,79,80,73,79,73,44,31,10,4,6,19,52,109,183,212,234,285,250,242,225,168,123,140,90,94,35,25,13,8,2,4,5,20,76,229,378,222,110,112,138,121,121,93,95,200,184,135,75,103,72,29,14,5,4,2,7,17,63,119,185,147,46,28,18,22,31,32,59,161,148,106,121,86,81,36,14,8,5,2,5,16,68,154,316,164,70,107,151,162,200,194,169,156,138,116,67,66,59,47,22,23,19,4,1,10,5,31,42,68,64,90,88,91,94,71,66,40,24,13,17,19,14,19,22,12,6,2,3,3,9,31,68,70,82,127,146,140,150,145,139,127,108,96,76,61,46,28,38,24,20,9,4,3,8,13,50,67,84,123,172,148,158,160,138,122,118,100,86,72,51,51,39,35,22,8,4,5,9,11,36,90,131,157,193,216,200,221,229,167,130,109,94,75,53,27,10,12,4,4,34,98,270,394,191,86,107,165,137,129,132,240,444,396,260,206,152,102,41,18,16,5,2,5,21,88,330,440,197,34,10,17,22,35,60,146,346,347,244,176,116,90,53,23,8,5,1,5,21,100,276,465,186,95,112,148,131,99,104,199,365,369,273,184,128,82,46,19,9,8,6,1,23,92,265,462,215,86,95,139,137,130,144,192,409,393,219,178,154,99,70,32,14,10,1,3,23,84,199,432,234,89,142,186,188,145,175,254,391,362,252,178,102,95,81,65,62,41,5,7,6,10,24,62,99,173,227,280,222,251,237,230,186,193,144,110,104,97,73,64,54,51,34,9,2,3,23,48,114,180,206,247,269,246,227,266,207,161,158,116,65,59,42,21,10,8,2,7,24,89,274,392,178,78,106,125,153,126,132,238,430,386,295,190,166,94,54,25,14,3,3,7,20,81,227,401,200,44,28,50,65,69,43,84,249,287,223,107,108,82,48,30,9,4,3,1,3,18,43,80,64,32,47,29,28,24,25,28,48,48,31,25,6,13,16,21,6,4,1,2,12,71,233,418,218,109,100,148,115,121,98,201,321,306,220,170,135,84,58,26,12,10,5,1,20,62,195,378,256,115,121,146,141,163,160,226,352,308,189,140,131,114,88,66,55,48,20,3,6,10,11,68,134,161,192,235,239,242,239,183,151,144,139,114,79,88,61,69,54,47,17,5,6,10,30,68,88,164,166,246,224,198,219,174,150,151,98,62,53,36,31,16,9,4,2,3,21,63,231,378,208,91,100,138,153,95,124,209,352,349,232,157,119,71,42,16,4,1,3,4,20,92,221,391,223,99,115,147,120,116,144,194,381,370,262,154,134,102,55,22,8,2,3,4,26,87,243,458,230,133,103,138,119,134,143,233,377,379,259,169,145,99,48,45,15,5,2,6,24,90,252,449,274,105,126,140,150,124,76,124,310,363,274,209,145,116,104,60,28,23,3,4,26,80,226,449,235,122,135,163,125,115,141,212,352,285,203,146,95,100,71,59,39,47,22,9,7,17,20,55,95,171,188,216,204,207,195,192,153,150,95,99,88,73,63,64,43,39,16,1,4,3,11,31,75,122,168,202,210,200,184,207,126,123,130,94,80,47,31,14,8,3,3,4,21,68,187,389,166,96,105,128,127,107,135,189,362,343,234,197,112,95,50,21,6,10,1,4,15,71,261,422,245,109,116,159,163,127,139,218,417,385,218,144,139,104,40,18,10,4,2,2,28,75,224,393,220,83,53,58,55,40,57,95,226,278,200,162,114,102,54,24,15,10,6,3,15,63,182,333,218,128,135,180,167,136,186,226,332,277,130,33,15,17,10,7,11,12,4,2,8,40,88,173,152,96,148,156,177,177,191,166,129,91,75,47,32,43,21,20,15,22,5,3,3,10,10,27,53,52,62,79,97,70,82,74,53,33,24,19,15,12,16,4,2,2,3,1,1,4,4,20,12,42,41,39,45,48,51,33,23,14,18,15,15,14,6,7,5,2,4,4,17,13,38,39,51,66,83,80,105,69,67,54,49,42,39,22,25,9,6,2,3,3,8,35,79,155,85,47,24,16,19,14,17,44,109,126,87,66,52,29,24,10,12,7,4,9,42,106,206,171,84,93,108,135,96,101,144,225,159,135,70,63,31,36,24,15,3,2,2,10,39,104,207,155,97,99,118,95,112,150,155,226,192,124,88,60,48,44,26,11,10,6,2,10,31,92,193,175,108,126,159,154,178,236,247,188,163,96,75,84,78,60,37,31,27,17,9,0,5,13,42,72,108,152,180,205,185,164,143,101,80,73,63,50,36,27,43,78,59,41,8,5,1,6,10,27,52,98,143,141,147,164,147,75,81,85,58,61,53,25,31,11,6,4,3,14,16,51,53,89,142,161,150,141,139,144,136,113,89,83,63,36,32,13,5,3,2,5,12,81,168,349,145,55,63,70,68,72,68,129,241,214,152,115,66,33,18,9,3,1,1,2,14,59,151,310,173,57,40,75,82,69,81,123,272,280,182,121,88,48,32,13,5,4,4,5,26,78,212,377,220,81,78,114,112,104,113,178,393,374,255,172,88,70,56,24,6,3,3,3,13,69,201,436,237,102,130,168,188,152,178,259,456,391,261,163,137,123,88,77,56,36,19,9,7,7,20,64,116,160,250,276,296,356,317,268,235,248,171,149,118,93,103,77,62,57,26,4,2,2,23,53,102,181,201,273,266,253,241,256,197,162,104,119,81,54,30,12,4,3,3,4,21,85,239,407,188,95,82,93,77,45,64,46,147,158,187,127,78,54,51,14,3,2,4,23,79,219,465,184,80,93,127,163,96,119,225,446,372,270,190,109,104,38,26,6,5,4,2,22,72,247,488,218,84,90,51,57,70,73,112,128,96,92,55,29,49,9,3,3,1,3,2,16,88,218,497,220,84,101,130,170,132,156,248,472,399,313,229,162,121,60,38,12,13,4,2,21,71,174,408,204,101,102,140,140,119,123,215,317,294,199,130,95,58,60,42,44,32,14,3,4,5,24,89,78,135,150,189,182,179,177,178,129,122,90,95,66,62,71,50,40,38,24,5,5,7,14,34,80,115,144,192,184,163,173,174,131,113,101,85,71,58,26,23,18,14,3,6,5,13,28,75,89,107,158,165,202,158,175,158,174,175,134,88,46,39,28,12,2,12,2,13,57,121,90,61,61,73,83,95,120,123,205,442,451,297,169,174,85,60,14,10,1,3,1,29,88,262,474,196,88,110,155,124,98,122,163,338,347,251,164,119,74,36,16,5,3,4,1,19,86,204,414,204,98,93,106,118,104,118,185,364,345,229,184,117,90,55,24,15,11,4,3,19,68,183,421,242,96,117,119,144,107,144,163,340,296,186,141,99,71,35,24,22,25,13,1,2,1,10,22,40,45,62,62,66,89,113,113,99,107,85,62,64,56,51,51,49,46,20,1,2,4,11,29,54,120,115,161,175,163,149,143,100,110,80,69,36,58,35,17,4,2,1,1,19,36,114,267,198,139,57,52,32,48,64,108,270,275,211,161,112,64,35,19,7,6,3,2,26,88,221,479,244,93,123,150,170,138,156,243,474,391,311,211,154,111,80,25,9,3,1,4,33,87,243,495,218,111,105,147,149,107,125,217,443,415,311,225,166,101,63,22,16,6,5,3,28,88,228,514,256,92,100,136,156,112,142,209,397,394,302,216,184,139,86,32,23,11,5,3,24,72,128,206,101,117,95,155,175,153,170,241,406,363,241,153,127,108,78,68,57,38,16,8,10,12,28,82,145,164,241,244,293,239,320,276,233,201,173,115,109,97,79,81,68,48,17,5,6,4,12,61,98,153,198,215,238,229,242,268,201,151,145,98,69,57,21,10,9,6,4,5,26,80,221,481,193,82,93,129,117,100,131,210,422,399,298,179,159,92,52,15,7,2,2,1,22,104,273,498,231,110,125,181,171,142,150,277,518,486,306,223,162,118,61,31,4,6,3,1,18,67,201,505,267,124,116,153,174,159,169,261,508,514,315,254,217,133,75,24,14,7,2,1,19,73,201,436,213,72,99,140,124,129,150,211,437,393,311,204,144,106,61,37,19,6,4,2,17,88,216,429,252,114,149,191,173,148,168,275,458,368,256,155,126,116,74,76,43,38,17,5,3,4,27,86,141,193,224,260,244,229,244,123,54,58,75,73,74,91,66,58,46,59,13,9,4,4,16,58,83,138,160,223,241,203,217,261,275,171,63,47,60,182,38,14,6,3,2,17,72,229,434,269,96,104,131,124,126,146,215,417,426,284,194,143,83,43,22,6,4,1,3,15,98,293,522,278,104,120,163,169,127,133,257,494,508,327,206,170,107,49,21,9,1,1,1,20,95,276,495,245,107,97,124,111,100,49,73,147,163,158,122,126,95,57,23,10,2,4,1,18,75,263,473,229,90,95,148,144,126,120,223,387,404,287,197,169,104,75,39,11,9,5,2,17,61,225,447,265,119,134,168,170,138,164,240,381,345,246,144,108,102,64,50,43,24,9,4,2,8,19,77,85,143,157,196,217,205,112,134,131,105,85,62,43,46,20,21,24,26,14,1,3,2,18,26,60,83,121,133,128,102,150,148,83,92,78,56,36,28,23,9,6,4,1,2,17,71,194,413,198,70,85,111,129,125,145,206,399,399,256,210,145,99,34,14,6,3,3,2,20,89,276,510,256,90,107,162,167,111,138,251,504,398,270,178,105,72,55,22,5,4,3,1,25,92,318,508,226,108,125,152,159,128,164,222,470,459,302,207,170,104,54,22,5,6,1,3,20,83,285,489,199,42,69,44,62,30,50,110,281,345,254,211,142,108,70,32,16,11,1,1,16,70,222,516,275,103,133,177,171,137,180,251,429,362,266,158,114,92,72,81,38,39,15,4,1,8,33,92,116,157,184,241,219,244,270,218,222,176,150,123,89,101,62,65,62,45,12,3,1,5,12,48,73,142,144,184,197,189,168,150,135,144,101,81,33,47,30,36,12,19,8,6,9,42,111,98,113,163,216,246,206,235,216,226,215,164,117,90,53,26,11,7,3,2,15,83,273,459,211,77,81,147,123,108,137,240,411,414,299,223,147,97,46,19,4,5,3,2,29,85,292,567,241,122,149,186,175,142,161,268,486,483,305,249,220,129,57,30,12,4,4,1,30,88,317,549,228,107,128,199,188,156,171,298,561,486,349,246,205,118,71,34,15,4,5,2,25,80,265,452,229,119,136,201,153,26,83,166,242,289,227,159,151,102,76,56,42,37,7,2,3,12,20,90,107,159,187,217,178,181,211,163,143,126,137,95,80,78,84,63,50,37,21,5,5,2,20,57,76,161,184,256,267,263,281,275,241,199,130,79,75,68,59,27,6,4,2,1,16,89,278,514,219,88,92,164,159,134,150,266,503,517,318,208,181,83,50,10,6,2,6,2,20,100,313,543,225,118,155,164,174,121,149,270,497,432,291,202,178,95,61,30,6,4,2,29,100,242,114,33,10,9,69,72,54,87,162,246,181,102,95,39,53,30,10,12,6,3,5,18,107,296,579,281,122,149,204,187,174,192,323,551,498,317,242,190,123,76,45,18,4,3,2,24,88,258,533,299,118,154,194,191,176,73,49,123,154,162,93,99,69,19,21,44,34,20,2,1,6,14,46,87,137,181,252,252,279,254,300,279,250,191,121,130,115,94,67,60,66,21,11,5,5,21,54,104,161,192,256,256,226,252,231,214,164,120,80,70,53,24,15,3,3,1,1,17,89,253,415,186,74,86,122,109,115,110,180,376,363,220,171,116,76,29,8,6,4,1,3,25,99,270,487,222,113,110,129,148,116,142,228,425,442,278,184,143,101,51,12,4,4,2,3,18,104,332,554,252,127,128,175,179,137,165,254,554,509,345,242,177,149,58,35,17,5,3,2,28,105,326,573,282,119,156,224,198,155,161,305,545,545,395,282,206,141,88,51,22,9,7,1,27,83,262,484,267,145,170,174,175,129,188,292,498,440,232,156,133,100,77,68,50,30,16,3,7,11,36,96,127,176,218,241,268,262,274,275,250,230,159,101,94,81,77,62,57,51,15,5,8,15,68,70,147,209,264,288,289,286,301,299,256,203,129,110,81,40,20,9,5,2,3,15,86,259,547,260,98,111,162,176,145,159,255,557,623,379,237,183,116,53,21,14,1,2,1,24,108,292,571,324,115,155,197,180,160,196,312,614,638,429,306,200,146,79,34,25,2,3,4,25,120,348,628,325,150,155,212,197,163,197,278,642,647,402,286,241,159,72,46,8,5,7,3,24,113,367,602,285,130,151,206,211,177,187,331,634,648,353,270,207,137,85,49,22,4,3,3,30,96,265,534,277,136,167,222,208,146,88,111,235,377,273,204,144,132,104,87,57,32,24,2,3,29,57,155,217,303,359,365,400,338,322,318,357,339,262,182,169,153,151,80,88,41,15,8,6,9,25,71,113,212,239,281,346,303,314,312,308,294,234,139,129,79,39,19,15,7,2,3,31,118,329,563,276,128,145,211,194,200,189,320,615,681,463,296,190,131,45,24,9,8,3,6,20,94,167,488,284,119,156,205,207,182,177,332,642,665,480,299,239,156,80,29,22,8,7,4,35,139,338,502,255,124,154,171,222,151,175,287,616,627,496,298,204,156,88,32,16,5,7,6,32,126,332,598,277,110,166,224,215,161,202,300,656,654,469,360,308,164,117,65,32,20,6,3,29,110,318,615,305,150,187,272,256,224,281,370,693,593,473,328,220,218,125,111,108,55,22,6,4,24,45,113,153,197,175,122,134,160,172,128,68,110,105,80,88,71,88,62,65,29,10,7,6,13,25,68,92,172,217,238,257,291,282,339,273,289,261,196,124,92,56,23,10,6,1,4,36,110,355,625,245,98,131,216,222,159,157,245,599,594,417,209,175,80,46,9,4,6,4,3,16,96,277,567,259,118,141,186,165,147,158,267,542,577,377,266,200,127,59,29,8,3,4,0,38,111,348,639,298,140,168,218,213,169,152,170,532,580,415,324,233,151,81,38,18,6,4,8,30,114,353,628,299,124,166,228,223,175,198,321,620,598,421,301,214,135,77,49,21,6,7,1,26,81,280,555,292,137,153,208,198,173,207,292,513,492,353,192,190,130,107,80,65,55,21,4,5,16,39,126,161,205,279,358,373,311,330,292,305,239,191,156,107,116,100,59,49,61,21,9,10,88,55,88,173,228,271,258,274,278,278,275,323,279,236,166,101,61,53,11,5,3,2,22,104,294,553,265,119,128,181,184,141,192,291,601,543,428,281,214,106,60,32,11,5,3,1,25,98,327,577,354,142,167,230,225,191,207,340,634,661,460,325,210,133,66,23,11,5,3,1,27,120,354,653,316,99,152,210,181,176,182,304,645,646,419,333,255,151,112,33,9,11,5,1,28,118,339,610,290,158,159,210,202,144,171,318,677,618,423,279,209,129,124,49,28,5,5,3,23,80,231,489,318,157,179,224,238,250,319,352,483,380,297,191,136,124,92,85,60,25,21,4,2,18,40,94,173,176,244,270,288,252,305,261,268,290,243,135,159,106,86,64,50,25,18,7,8,21,25,65,108,186,209,259,254,249,226,244,226,159,187,146,77,85,41,29,12,4,3,3,30,108,320,595,236,113,127,186,173,152,173,310,565,586,386,255,151,102,61,23,9,2,2,2,24,100,368,670,303,132,161,184,202,149,157,296,656,626,428,248,191,118,48,22,9,2,2,26,103,303,581,282,127,142,147,147,101,152,256,527,546,356,213,154,130,52,22,7,4,3,1,21,94,294,604,271,103,174,199,148,150,169,299,596,547,383,254,174,143,86,41,28,5,8,4,19,84,283,539,294,133,158,218,246,223,237,350,621,564,352,242,153,181,163,85,60,53,26,9,5,19,56,136,206,267,357,404,370,372,347,329,309,284,296,209,167,148,151,94,89,54,27,10,6,11,30,64,154,235,301,360,383,346,351,330,361,295,265,205,153,97,65,26,21,9,5,6,34,123,367,549,238,149,136,196,184,183,194,266,601,589,461,327,232,179,97,33,5,3,6,6,29,136,443,631,329,165,174,179,187,198,217,320,673,670,464,358,260,144,72,35,13,8,6,7,34,128,408,551,245,116,105,95,51,43,88,199,442,478,342,252,165,153,56,20,11,4,3,4,30,116,391,651,270,143,183,213,186,183,196,324,663,677,516,352,240,219,124,59,22,18,9,3,24,105,350,668,329,170,190,260,276,238,262,429,697,558,410,289,252,176,156,111,64,69,25,9,1,21,55,149,216,299,348,378,358,331,361,372,309,283,45,34,82,90,73,85,63,49,33,7,6,6,22,43,71,57,70,56,47,50,38,32,25,38,34,34,11,13,17,6,1,3,1,3,14,43,206,471,255,88,91,117,98,102,101,93,219,369,287,186,145,71,49,13,6,3,2,3,22,117,387,599,302,129,157,188,189,166,176,308,619,580,449,269,213,149,69,23,17,6,3,6,24,103,376,634,288,138,177,220,193,176,182,327,664,649,501,358,212,170,94,42,22,10,5,2,17,122,222,358,189,125,135,180,178,132,165,281,565,589,407,314,222,163,106,61,32,18,2,6,19,115,305,575,292,172,186,244,212,206,223,335,613,560,379,240,185,134,105,99,60,49,23,2,3,18,45,134,169,231,262,276,269,293,260,244,224,73,110,81,72,66,37,36,37,36,14,4,6,6,20,81,133,253,283,361,369,372,324,347,334,323,247,198,139,85,67,36,15,5,4,2,19,121,343,579,239,116,111,180,199,162,176,303,617,611,420,281,195,123,50,28,21,7,2,7,17,24,161,538,331,144,179,228,208,167,186,313,616,662,429,299,251,190,79,43,7,9,6,2,31,117,344,640,289,147,145,210,179,189,204,313,659,770,461,296,218,146,77,75,15,13,4,2,20,128,376,608,279,132,167,237,217,171,220,325,617,642,467,368,257,217,100,70,33,11,14,4,24,127,347,584,262,154,181,125,207,159,240,358,547,564,388,255,186,182,205,111,79,51,21,9,14,33,79,155,223,284,354,330,307,241,300,310,298,278,254,209,183,150,114,111,84,64,19,7,10,14,31,91,128,221,270,351,368,292,342,363,316,332,266,203,148,113,80,21,8,5,3,2,21,134,367,608,289,128,149,189,197,180,186,320,667,602,463,277,210,147,92,28,3,7,4,5,20,158,442,605,258,111,157,203,166,63,94,335,640,641,399,262,202,134,53,27,11,1,2,5,27,121,401,594,285,113,156,222,216,175,191,289,629,349,96,48,30,62,47,31,9,3,3,2,23,130,393,603,299,112,179,207,228,186,192,334,648,661,469,315,211,196,112,47,32,16,8,6,23,128,345,579,288,141,203,259,263,218,299,397,677,518,430,277,225,190,142,111,79,46,20,6,8,23,57,156,248,279,365,353,366,358,321,337,343,382,273,174,156,212,134,79,72,60,26,7,8,15,42,124,143,222,278,342,347,324,309,339,287,260,232,163,121,89,57,14,6,1,2,3,25,62,72,155,105,53,67,132,143,128,156,91,204,283,294,178,145,118,64,25,14,3,5,4,8,22,91,401,327,144,186,220,204,145,205,300,603,665,455,233,98,74,58,27,14,14,5,3,34,150,426,617,314,149,212,271,273,221,222,376,769,749,499,398,330,253,107,49,16,8,3,13,34,149,449,605,289,162,202,276,241,202,233,344,719,734,451,363,254,209,137,57,33,9,8,11,33,168,475,696,304,181,225,252,297,242,260,417,688,570,392,264,209,194,133,118,84,56,23,8,11,38,67,162,213,275,351,366,372,369,316,311,347,391,229,197,178,234,168,128,102,62,40,14,7,21,55,120,184,258,323,390,363,307,256,339,340,328,260,191,182,101,54,28,11,9,2,5,14,76,146,258,172,71,82,124,135,135,158,269,468,478,391,292,210,116,79,26,16,10,5,7,17,129,315,570,287,148,150,178,195,149,191,316,716,709,320,319,233,157,91,28,9,10,5,3,29,154,452,681,258,139,151,206,201,181,192,216,240,296,336,267,221,136,83,49,21,15,3,5,29,146,393,659,267,138,160,213,233,180,222,329,678,634,416,343,237,210,131,63,34,16,6,6,28,108,352,551,288,163,193,237,247,263,360,447,529,391,293,270,193,147,132,98,64,55,22,2,10,25,44,103,192,256,312,293,274,257,239,243,227,216,214,152,151,118,114,89,61,45,25,7,5,14,30,82,140,215,251,269,228,230,245,243,247,252,212,224,79,50,65,44,45,28,12,4,5,14,43,93,142,175,222,292,284,227,279,278,247,251,247,203,181,110,60,33,13,8,2,5,32,145,431,588,231,116,147,181,176,158,185,320,674,632,457,168,68,53,40,32,4,4,5,6,40,139,469,642,282,138,155,220,236,208,221,352,756,746,506,374,263,191,121,48,22,8,8,8,32,171,489,675,264,155,153,230,216,193,209,384,742,700,487,391,318,221,114,76,34,13,4,5,41,136,369,675,274,155,193,238,240,199,213,186,202,100,41,38,73,22,67,81,61,38,18,11,11,31,77,180,243,348,357,418,400,388,405,369,338,341,369,260,220,176,185,142,100,67,34,12,11,16,29,110,230,277,312,408,421,411,408,436,386,343,337,230,180,165,82,38,10,10,5,6,33,135,504,643,244,120,168,220,189,186,215,375,733,719,554,390,225,127,78,28,18,8,5,4,35,177,540,680,285,118,162,202,201,194,218,382,764,679,445,371,253,171,93,46,21,7,8,7,37,165,531,637,268,148,161,235,230,191,225,345,652,688,486,349,260,221,110,50,17,12,5,6,34,165,506,661,300,154,170,274,250,198,234,389,778,703,537,402,283,193,135,59,25,17,8,9,28,131,409,663,335,187,199,280,287,245,299,412,679,576,460,291,256,230,163,152,89,68,28,6,15,63,61,202,241,298,351,335,349,354,337,315,257,276,232,238,211,151,161,125,84,56,23,9,10,27,41,122,175,265,315,329,288,314,316,335,337,326,260,250,170,117,80,33,15,12,4,7,36,136,478,613,259,95,143,198,185,193,187,340,715,726,507,333,218,142,72,26,11,6,9,4,28,130,287,598,254,96,57,76,48,48,94,209,625,596,444,350,233,188,78,27,21,4,7,9,38,188,480,672,298,134,182,241,203,222,216,320,782,640,548,362,317,209,128,45,17,8,4,6,40,169,480,682,312,132,168,210,213,214,213,368,750,716,483,351,270,196,136,68,42,15,3,13,31,142,413,609,308,160,180,292,272,255,270,426,698,572,369,296,250,242,176,112,79,55,19,5,21,36,68,157,279,296,353,349,324,309,288,304,349,315,277,229,192,189,134,117,67,55,22,16,13,16,30,95,183,288,350,355,347,327,260,340,361,310,244,201,170,98,79,28,5,6,3,9,22,37,135,447,222,78,96,139,174,160,176,279,669,595,411,317,238,143,57,30,13,14,7,9,34,152,462,633,288,136,174,222,203,166,187,286,725,704,432,399,239,240,102,48,20,5,6,6,37,156,444,600,276,126,134,150,163,134,143,284,611,591,449,326,302,226,102,53,16,7,8,11,37,147,437,563,224,114,121,182,141,149,154,283,535,562,415,357,256,221,134,77,28,12,6,7,35,118,340,564,278,133,160,191,228,198,212,313,551,443,317,171,177,155,145,102,107,75,32,13,11,37,59,133,247,317,349,399,338,371,266,317,316,287,240,228,223,178,156,132,88,80,41,9,7,19,48,103,169,291,291,329,348,298,290,280,329,348,247,224,177,125,67,37,20,10,4,4,42,147,455,555,231,126,127,196,181,161,168,310,757,691,508,375,281,166,88,29,19,7,7,9,36,176,531,622,298,153,189,228,232,186,229,349,796,719,529,417,267,219,118,39,18,12,7,11,34,193,498,638,253,138,145,245,244,192,188,337,730,719,542,369,313,245,148,52,14,12,6,11,39,185,484,577,318,144,170,227,205,188,195,331,634,597,492,399,309,224,145,90,33,15,5,9,39,148,361,576,261,139,137,173,194,184,183,292,457,414,303,255,195,129,42,65,55,54,20,15,7,36,82,168,234,308,350,328,323,295,287,264,231,248,240,204,165,134,119,122,81,69,27,4,7,19,37,106,168,268,256,319,309,346,244,228,323,275,279,244,181,110,88,31,14,14,5,10,37,132,390,548,239,104,134,183,162,151,175,304,665,658,510,357,241,169,90,44,9,8,2,6,33,149,462,604,226,153,151,198,203,241,330,437,620,542,431,296,160,151,152,140,96,66,23,11,14,23,62,110,203,304,321,330,322,357,299,226,253,271,255,314,362,327,152,71,24,14,5,7,28,130,316,514,246,117,137,188,181,154,183,324,575,511,375,243,232,162,99,63,22,13,6,4,31,127,333,557,249,130,141,220,194,184,206,300,486,454,306,245,223,210,137,115,55,47,19,13,12,27,63,120,187,225,245,218,244,203,193,192,176,194,219,197,150,164,114,125,99,59,34,11,5,16,33,95,172,234,269,271,219,235,218,226,202,199,184,206,149,110,98,33,13,4,5,1,27,86,223,429,325,117,144,205,188,184,214,325,741,790,543,378,298,189,109,53,15,15,3,4,39,183,489,615,284,134,157,203,203,171,188,346,769,749,359,75,83,125,74,38,11,5,5,6,36,168,471,644,298,148,173,223,208,175,220,358,740,735,560,410,322,203,132,55,21,9,10,5,40,171,480,653,285,145,166,221,225,167,208,370,704,739,532,439,329,262,178,76,42,15,7,11,30,120,353,660,344,190,220,254,274,249,261,381,697,523,385,294,223,204,175,156,105,91,31,6,5,29,41,118,200,278,296,318,372,363,317,340,259,243,275,255,200,160,156,147,119,86,42,11,7,9,30,96,163,241,281,336,309,314,307,343,314,228,203,199,164,96,66,32,10,11,4,11,40,132,459,619,297,117,125,158,176,159,176,309,669,697,503,388,283,228,139,43,21,6,3,7,31,197,500,618,288,122,146,174,168,160,187,317,675,712,478,375,283,215,139,45,14,5,2,6,41,152,472,624,253,99,136,166,154,116,152,190,335,580,438,310,266,246,112,50,19,7,4,8,35,144,450,625,282,157,162,215,180,151,226,288,678,684,480,440,294,62,62,32,9,14,29,6,40,123,346,652,328,182,161,233,136,176,169,366,620,549,358,216,108,122,148,92,62,55,18,5,10,12,29,94,175,219,225,301,248,222,232,196,149,126,171,163,134,140,117,96,99,90,30,10,6,14,25,122,179,265,314,326,388,360,370,383,368,342,342,254,257,136,90,36,20,14,2,8,48,148,404,691,288,137,129,205,176,189,205,346,760,672,488,347,251,169,98,52,10,10,5,6,45,173,492,694,299,156,156,169,200,196,212,369,775,767,523,438,325,226,154,57,26,11,11,4,54,179,473,745,277,163,202,233,231,159,223,393,783,787,582,461,326,223,187,65,23,16,8,4,40,165,478,680,289,143,143,206,189,151,173,312,628,615,534,399,236,201,127,83,42,18,9,5,34,129,397,642,329,146,184,207,231,221,242,419,598,522,423,269,189,151,155,170,69,76,33,10,10,40,58,127,227,266,295,330,325,308,291,279,280,330,223,154,206,188,156,129,109,79,37,11,14,12,36,90,162,258,326,357,302,291,306,330,367,302,300,228,199,117,82,46,15,6,3,5,43,155,455,720,259,135,146,201,169,167,185,337,765,735,584,384,251,183,116,27,18,8,5,6,40,192,492,730,302,154,170,198,219,188,115,336,726,758,524,397,292,224,127,44,28,13,7,3,46,179,468,649,316,175,180,209,221,175,206,386,734,786,564,448,284,251,134,55,36,8,6,9,37,177,452,718,312,130,167,230,212,171,202,335,775,681,509,376,301,227,152,56,32,14,5,11,35,158,396,636,327,167,186,243,247,229,268,380,646,573,388,300,224,156,170,137,99,64,19,11,16,37,49,132,217,288,315,325,332,289,284,253,313,321,264,195,193,165,161,121,79,68,32,11,18,12,50,81,168,253,282,330,315,365,286,278,260,154,139,140,157,100,58,24,10,5,5,8,23,137,393,578,248,159,152,213,204,188,183,363,746,743,531,368,245,157,97,32,16,7,6,7,33,176,481,664,283,161,130,197,185,185,206,344,743,711,506,374,247,181,120,46,20,5,6,6,40,169,458,689,308,151,159,217,212,173,168,328,751,745,567,424,311,198,120,51,23,12,5,10,37,162,451,670,299,133,166,192,201,161,204,320,699,733,533,387,286,218,137,68,35,14,6,7,29,41,128,112,199,166,178,240,224,236,224,371,619,552,394,315,236,168,159,142,84,66,19,7,9,18,54,132,217,282,296,332,341,290,316,304,292,193,178,129,102,128,121,96,92,67,37,8,9,14,30,84,153,240,282,342,365,366,342,300,319,327,317,204,142,141,85,33,11,8,5,11,33,155,425,648,265,111,151,180,175,163,194,348,716,709,467,374,246,148,100,48,19,9,3,5,35,63,178,591,354,155,127,207,203,175,199,363,734,757,533,371,252,161,114,52,31,7,10,4,35,160,467,642,310,163,155,230,206,161,196,340,749,768,525,355,266,197,120,63,18,15,4,3,30,162,448,649,296,121,191,247,219,176,197,340,767,723,558,414,273,185,168,67,38,15,6,9,34,151,368,625,320,149,205,255,254,200,256,372,647,561,403,262,198,170,100,99,78,39,23,8,7,23,52,161,211,314,356,388,355,356,346,354,379,329,324,242,248,171,175,143,102,103,34,22,8,15,29,90,184,287,189,186,112,108,187,259,267,291,269,213,154,50,39,25,10,5,3,7,35,155,427,618,302,124,151,216,194,188,207,357,810,726,266,231,219,136,92,52,22,7,3,4,30,164,500,696,281,120,195,226,255,192,226,358,786,532,420,296,239,208,113,46,20,10,7,7,38,175,537,703,335,159,196,253,242,184,222,358,711,592,524,332,291,226,113,51,15,11,6,6,36,178,463,662,354,157,192,235,253,191,201,344,709,811,537,404,276,177,133,84,37,15,6,6,37,142,412,703,331,184,212,276,272,229,251,414,695,627,430,297,248,209,140,114,100,61,31,9,10,25,88,133,228,294,314,367,331,332,154,260,271,261,257,176,148,136,124,111,116,104,42,11,13,16,23,112,196,258,332,401,375,252,259,116,172,187,212,171,140,94,59,28,4,8,3,11,32,141,418,670,302,143,182,214,211,180,205,367,744,751,499,366,239,131,79,29,17,13,4,6,39,144,255,668,351,165,171,241,232,179,258,396,774,736,515,348,276,196,92,39,12,4,9,8,37,175,531,780,308,144,186,281,232,214,242,389,762,693,523,378,265,185,123,51,17,14,5,4,33,155,501,701,339,161,191,221,214,199,239,405,751,744,532,403,275,253,133,69,24,11,2,7,27,101,400,654,337,197,221,290,271,324,417,417,488,459,361,254,232,212,142,146,68,61,29,9,20,23,58,134,175,289,273,284,267,274,306,253,258,258,235,140,83,57,88,72,58,56,33,15,10,13,29,99,144,230,263,297,230,208,176,252,284,273,152,41,92,100,70,62,37,30,22,5,3,12,37,91,158,224,272,352,357,349,281,335,317,337,301,183,142,104,58,19,9,4,9,8,37,165,480,617,293,130,159,233,203,202,224,397,746,745,502,338,240,154,83,27,11,9,4,3,39,203,489,692,263,181,156,217,184,177,204,344,780,757,598,357,278,181,126,35,16,7,9,8,35,189,461,622,115,40,52,126,152,178,228,374,741,761,504,356,240,193,150,79,19,10,9,7,39,135,465,690,311,171,215,247,283,187,265,395,684,697,498,340,246,247,220,130,107,68,40,8,13,26,71,197,261,322,405,474,435,366,337,95,119,140,187,166,155,176,121,106,104,81,32,16,39,24,50,143,214,323,391,510,491,415,412,473,458,404,362,265,149,125,70,35,11,6,7,4,36,172,427,697,321,168,167,256,251,233,231,380,744,857,562,356,256,144,86,27,10,5,7,8,41,200,572,702,323,142,187,254,256,181,253,437,802,767,540,421,282,189,91,41,19,9,7,5,44,199,533,727,278,148,181,264,238,200,243,419,811,886,557,432,279,189,111,46,22,9,9,6,54,186,549,725,292,149,183,240,223,214,253,406,787,744,594,408,291,223,137,63,35,23,9,11,40,144,437,715,301,171,196,290,301,258,273,454,757,692,496,337,270,189,168,169,101,75,31,3,15,27,63,169,263,323,399,419,377,390,342,433,434,382,309,241,210,197,182,123,82,62,38,6,10,26,43,94,226,330,376,468,454,410,342,402,393,361,312,267,148,109,85,31,12,8,7,9,44,157,474,647,265,129,191,233,231,203,256,379,740,708,435,308,205,109,66,11,5,4,6,5,45,163,343,640,266,130,115,72,97,116,35,122,302,262,302,271,186,137,67,23,12,3,4,10,54,166,529,758,336,169,203,260,234,227,254,397,812,807,539,378,324,198,106,46,14,9,6,6,52,161,514,746,330,157,206,233,268,222,231,385,885,781,534,360,246,252,137,53,38,8,11,9,47,146,468,726,348,181,242,305,316,299,333,464,739,699,493,315,266,248,163,140,106,73,39,10,15,35,70,197,289,350,437,460,434,404,443,427,451,427,308,249,202,180,137,146,119,77,41,9,5,11,48,137,205,351,384,526,445,400,375,437,496,405,331,192,145,98,70,54,12,8,5,8,35,162,513,719,286,146,167,265,248,226,216,417,809,758,534,380,230,154,83,56,11,9,3,7,46,189,539,764,381,125,155,233,257,213,247,436,860,758,490,388,263,174,89,34,19,15,6,12,35,179,523,808,307,156,181,260,273,217,231,397,876,815,589,389,328,194,102,60,16,13,7,6,64,164,546,774,305,168,227,272,265,214,255,399,818,822,511,412,235,45,44,15,13,9,7,10,37,136,384,674,399,194,252,286,304,294,288,419,707,609,470,304,205,190,164,134,89,80,25,8,13,33,61,174,263,338,446,491,453,448,456,447,456,420,351,227,219,173,161,112,85,71,41,6,9,20,43,126,211,319,369,474,414,404,419,446,380,310,223,163,104,76,49,39,13,6,6,10,34,147,470,744,314,135,196,262,225,193,234,408,791,571,483,251,205,190,88,30,11,2,4,8,42,176,256,128,83,42,92,98,148,147,195,328,677,639,368,286,265,212,87,47,16,7,7,9,32,173,504,781,332,146,178,289,224,195,260,436,833,756,544,449,195,232,199,65,23,10,6,10,37,132,379,711,319,150,176,231,231,211,248,411,789,812,467,391,288,203,137,86,43,10,11,11,41,133,417,749,326,192,214,307,307,287,320,481,742,655,433,306,220,201,148,154,116,62,54,7,8,28,71,184,265,341,389,381,400,307,341,342,342,312,239,172,137,140,142,99,80,64,17,6,8,19,29,51,70,144,260,292,240,243,232,246,122,82,97,97,91,72,68,44,35,12,8,6,17,54,151,374,273,229,236,267,323,299,294,316,416,415,333,207,134,101,60,22,13,5,3,6,19,141,357,698,345,131,156,217,184,201,195,354,733,758,483,330,209,155,76,33,6,6,6,6,38,172,498,806,331,190,238,312,237,208,261,474,857,787,534,371,251,170,119,41,10,7,3,10,42,158,467,773,328,165,175,279,243,270,358,413,737,628,662,388,236,167,176,60,29,16,6,8,33,140,384,711,374,200,252,312,300,262,317,412,706,566,453,280,169,143,89,218,123,60,13,9,11,23,60,151,220,265,335,371,435,354,364,343,335,299,259,198,157,156,98,103,96,58,25,10,6,20,44,104,161,278,338,362,401,368,355,378,346,319,268,198,156,87,78,31,24,5,2,9,38,141,461,713,328,125,175,211,109,128,190,371,670,540,227,237,190,118,72,45,9,1,2,7,47,168,505,800,323,157,172,256,260,214,270,367,839,767,491,397,176,163,176,48,14,12,7,4,39,171,449,779,344,168,156,261,237,188,239,396,766,794,467,360,301,198,84,53,14,13,5,5,41,150,488,803,346,158,189,284,236,191,284,356,788,720,471,348,245,202,111,51,12,9,5,5,35,126,149,447,363,198,211,258,288,277,302,434,377,212,213,216,189,176,118,110,93,69,27,9,7,26,59,164,257,312,408,436,441,376,403,366,384,356,268,198,224,155,136,119,97,88,29,13,4,18,43,104,192,276,356,439,383,405,383,409,338,342,216,160,124,95,59,28,11,4,5,6,44,140,437,696,335,161,148,231,227,209,222,444,838,726,478,382,155,158,143,32,16,6,1,6,49,152,519,733,305,171,201,298,244,229,270,433,871,762,457,334,260,174,102,39,23,6,4,5,52,162,506,777,349,142,189,268,241,237,245,465,876,795,522,396,280,208,111,57,22,15,8,4,53,168,477,746,320,172,181,258,264,214,242,407,774,732,497,319,247,185,122,65,32,15,8,4,47,142,408,714,347,156,222,302,260,252,306,445,692,584,399,271,252,180,159,132,123,71,21,12,7,29,79,187,240,314,388,404,450,425,401,355,370,318,233,238,160,116,136,97,111,99,61,19,22,32,48,118,206,314,352,373,316,304,225,251,188,136,47,51,44,35,12,20,105,118,114,83,105,139,109,76,60,64,36,16,8,7,3,5,24,116,334,615,280,147,152,197,191,179,197,373,684,556,383,259,180,147,94,52,22,10,10,8,39,146,414,668,310,133,156,198,199,154,179,313,652,628,424,280,238,175,112,40,19,7,3,6,25,120,349,656,355,183,179,240,230,199,255,373,581,490,336,207,133,135,108,99,83,36,22,8,8,17,58,132,188,260,284,320,339,319,331,292,298,239,217,158,135,133,133,97,139,31,10,7,5,14,39,115,161,287,311,354,371,360,300,316,270,206,203,134,71,64,41,20,8,4,3,11,38,135,453,629,239,112,119,206,183,165,207,325,604,523,361,228,144,111,53,18,8,2,4,7,40,143,378,568,338,189,177,217,232,196,227,369,597,477,356,218,137,136,186,234,86,68,9,9,27,115,314,583,351,151,132,188,158,142,178,250,501,448,302,249,121,56,37,14,11,5,9,35,122,411,652,253,148,155,202,195,149,201,321,556,491,359,235,222,147,82,46,17,11,6,14,25,126,332,668,304,163,185,214,237,207,278,377,593,450,331,235,176,146,142,106,68,42,11,4,9,11,57,130,216,264,323,348,383,347,351,378,318,256,228,153,169,154,120,110,82,58,39,6,12,16,56,87,179,272,324,390,424,362,420,393,342,303,208,146,127,113,93,43,26,14,3,3,23,64,248,490,337,184,255,314,312,310,280,347,530,486,323,273,145,100,62,18,5,4,3,9,18,48,106,207,109,84,133,180,188,169,184,282,575,514,344,211,178,120,78,20,10,1,5,6,39,142,405,664,310,153,126,200,182,161,228,290,564,543,368,252,208,167,78,33,14,7,2,5,34,146,403,625,306,142,138,184,197,174,191,318,541,563,375,262,204,143,118,58,16,9,6,5,34,126,362,694,330,165,185,262,226,204,237,350,539,483,306,207,157,139,114,95,74,41,19,6,10,21,70,138,200,258,343,359,346,380,374,325,302,237,208,142,124,130,114,118,81,65,37,8,7,13,39,100,155,250,267,341,334,303,318,313,232,240,194,120,93,66,53,22,19,5,2,11,38,128,381,650,260,106,164,207,205,170,213,325,586,559,381,252,188,106,72,26,10,5,2,6,32,146,411,649,298,144,160,243,218,177,226,335,553,534,361,224,143,115,82,25,13,6,2,10,28,99,262,539,320,150,198,270,295,329,381,410,333,287,220,125,97,82,50,43,37,15,6,2,6,15,49,77,94,154,143,145,144,95,96,81,43,54,31,37,39,36,28,32,11,4,0,3,10,20,72,83,80,114,130,193,200,195,214,199,183,158,121,100,75,63,47,33,19,22,5,2,2,9,21,55,96,96,131,146,161,149,139,127,97,123,74,55,66,69,48,31,32,27,8,1,3,10,19,32,83,124,155,165,158,170,209,203,170,132,114,110,60,59,40,19,9,5,4,10,41,123,363,629,276,127,112,188,197,177,181,297,540,502,355,265,172,101,57,24,6,5,3,5,31,97,289,494,257,52,59,70,73,86,146,252,514,469,338,228,179,95,64,22,12,1,3,4,39,132,403,683,309,144,127,189,193,161,172,316,546,530,378,258,219,148,73,25,15,6,7,42,120,354,664,286,153,150,225,209,174,201,346,544,520,326,241,201,147,124,48,17,10,4,3,39,104,346,709,313,159,170,243,241,225,262,368,551,489,359,233,169,145,99,99,64,47,14,5,12,20,56,133,159,211,318,327,386,369,371,354,270,255,219,170,135,130,116,108,84,72,21,6,7,15,26,81,135,230,274,409,347,331,311,358,244,178,158,142,91,85,44,18,11,9,6,4,38,136,387,712,289,105,182,228,240,209,210,397,665,666,444,284,207,139,93,49,22,5,3,7,45,150,495,700,317,130,183,273,233,231,244,391,700,693,414,272,252,155,91,31,11,7,7,9,48,119,389,737,362,127,161,208,200,179,265,354,576,580,400,274,184,101,69,43,16,9,2,8,32,122,381,646,257,122,162,206,212,175,232,292,586,542,360,222,184,131,93,45,26,11,5,10,25,84,212,430,291,150,183,204,197,175,269,336,539,473,337,229,162,150,116,98,84,67,23,9,4,19,36,106,153,244,341,364,399,378,374,368,268,264,212,162,175,137,144,103,85,70,34,11,8,6,22,68,94,180,210,255,220,190,200,220,209,181,110,102,86,75,48,20,4,3,4,9,27,121,291,575,273,121,126,150,190,179,207,308,578,544,409,287,224,115,76,29,7,1,3,8,40,118,372,708,322,142,145,213,226,185,250,334,580,523,412,248,193,100,60,33,18,4,7,4,37,126,366,670,272,116,148,218,220,191,207,310,540,515,384,243,186,118,76,31,19,5,2,8,31,112,380,655,300,139,164,252,230,211,240,356,507,446,328,235,200,141,115,43,26,6,12,9,34,112,305,623,330,162,180,244,274,251,252,372,582,432,302,209,165,134,123,90,86,63,18,5,3,11,47,111,203,250,327,364,368,334,352,328,274,232,225,178,169,134,108,102,82,79,37,10,9,6,22,76,113,215,248,350,289,260,292,334,214,99,99,108,92,83,29,26,14,4,3,3,24,107,314,582,271,120,148,211,194,169,196,287,478,493,333,192,114,49,41,18,15,5,5,5,36,117,351,652,307,162,211,264,235,191,218,323,533,512,334,264,159,127,80,35,14,2,5,6,29,109,360,665,309,147,169,203,183,185,209,297,536,546,329,231,164,117,84,40,19,6,3,6,35,114,346,585,303,138,168,181,171,171,216,281,450,359,115,49,25,20,13,17,7,3,3,5,13,76,205,464,265,146,150,199,214,199,234,253,297,236,148,104,68,57,39,30,34,23,7,2,5,13,18,29,77,105,130,128,135,141,139,124,99,75,51,55,49,38,37,24,19,17,9,3,6,5,16,43,49,67,104,144,123,118,98,137,93,85,54,52,38,53,22,12,11,5,2,9,16,27,62,68,82,104,113,54,33,27,27,19,20,14,17,9,5,10,10,13,7,1,1,6,6,10,21,21,43,52,46,68,56,38,34,23,20,29,26,16,26,8,7,1,2,2,11,36,26,31,22,8,10,10,15,20,13,13,51,42,33,32,20,11,8,3,5,2,1,3,10,45,90,206,127,67,80,87,99,94,89,151,227,188,106,79,51,33,24,22,9,5,2,4,15,49,111,238,173,85,107,150,146,177,151,208,228,197,113,83,75,49,54,25,31,18,5,3,3,7,17,35,33,35,38,43,71,88,110,125,100,102,90,64,56,51,32,41,27,19,14,7,2,7,13,32,65,91,103,97,120,121,101,102,97,113,86,63,42,30,39,30,13,8,1,3,9,40,83,187,144,87,114,172,165,185,246,184,150,112,108,81,83,48,37],\"xaxis\":\"x\",\"yaxis\":\"y\",\"type\":\"histogram\"},{\"alignmentgroup\":\"True\",\"boxpoints\":\"all\",\"fillcolor\":\"rgba(255,255,255,0)\",\"hoveron\":\"points\",\"hovertemplate\":\"registered=%{x}<extra></extra>\",\"jitter\":0,\"legendgroup\":\"\",\"line\":{\"color\":\"rgba(255,255,255,0)\"},\"marker\":{\"color\":\"#636efa\",\"symbol\":\"line-ns-open\"},\"name\":\"\",\"offsetgroup\":\"\",\"showlegend\":false,\"x\":[13,32,27,10,1,1,0,2,7,6,24,30,55,47,71,70,52,52,26,31,25,31,17,24,13,16,8,4,1,2,1,8,19,46,54,73,64,55,55,67,58,43,29,17,20,9,8,5,2,1,3,30,63,153,81,33,41,48,53,66,58,67,146,148,102,49,49,20,11,5,2,1,2,4,36,92,177,98,37,50,66,79,54,48,68,202,179,110,53,48,34,9,6,6,2,2,3,33,87,192,109,53,34,74,65,52,55,85,186,166,127,82,40,41,18,11,4,2,1,4,36,95,216,116,42,57,78,55,59,54,74,163,158,109,66,48,51,19,13,5,1,1,5,26,76,190,125,47,48,50,64,43,63,82,178,116,92,50,39,34,14,24,15,13,7,1,5,2,8,15,20,56,60,90,95,83,69,68,64,52,26,28,35,33,22,24,12,11,4,1,1,1,5,10,19,49,47,79,69,64,77,79,59,44,40,38,19,10,6,3,0,3,1,2,3,31,75,184,92,31,28,47,50,47,43,70,174,154,92,73,37,22,18,10,3,3,6,27,97,214,127,51,31,55,46,60,45,72,130,94,51,32,20,28,18,7,6,1,5,16,54,125,78,39,32,52,49,44,48,63,139,135,82,54,57,32,19,6,2,2,3,4,3,28,72,197,137,36,33,49,81,39,55,76,158,141,98,64,40,30,14,14,5,1,1,8,17,70,156,117,40,47,59,73,59,59,87,155,134,89,68,48,34,26,25,18,12,7,5,1,2,9,22,31,57,54,74,80,92,108,95,54,69,60,35,51,26,39,33,19,13,6,1,1,1,3,18,29,71,70,75,95,69,78,77,82,56,47,50,22,19,18,16,15,8,2,2,1,5,9,30,39,50,55,70,80,74,72,76,67,85,58,29,24,13,3,3,22,26,32,61,124,132,98,83,41,33,19,3,6,3,1,7,32,89,196,107,46,47,65,67,68,78,94,190,156,108,74,55,53,27,8,3,2,1,1,6,35,100,247,140,56,63,77,86,75,62,83,207,184,146,124,54,56,28,20,6,2,1,1,4,27,66,210,159,57,53,67,65,56,61,97,151,119,93,52,41,33,27,13,9,11,6,3,2,8,26,37,50,59,60,72,64,93,72,59,54,53,44,39,23,31,20,12,15,4,3,1,1,17,25,51,77,92,75,93,64,56,50,44,45,31,20,23,17,7,1,1,1,5,15,79,171,98,34,43,52,54,43,50,66,178,145,101,80,53,32,21,6,5,2,1,9,35,103,233,134,49,55,85,72,57,63,102,208,218,133,103,40,49,37,14,5,7,1,8,29,69,55,26,35,41,43,36,42,35,26,23,82,101,76,55,36,27,16,9,2,2,0,4,16,58,155,95,49,30,28,31,36,40,70,147,107,84,61,57,26,22,26,20,15,5,2,2,4,31,34,51,60,66,56,89,98,88,82,59,52,42,35,28,30,33,22,10,7,1,3,3,11,34,57,50,87,71,104,95,104,71,57,46,30,25,19,16,6,5,1,2,2,8,37,71,182,112,68,46,62,52,85,41,83,155,153,108,78,53,34,15,6,3,2,2,3,22,52,132,114,47,49,53,49,49,45,61,172,165,105,69,64,34,15,2,3,0,1,1,3,17,48,154,119,59,47,61,74,61,66,95,183,175,88,71,62,35,29,11,5,2,1,2,39,86,184,127,50,55,67,47,43,56,73,170,145,92,108,53,39,34,10,7,1,1,7,26,87,217,124,46,61,78,73,76,81,91,195,152,102,69,41,45,30,36,17,12,10,8,9,4,4,10,17,31,46,42,62,50,49,63,64,81,78,64,53,43,52,37,40,20,10,2,1,1,8,21,38,74,89,126,135,114,130,115,97,65,20,21,22,57,26,14,4,3,1,1,9,29,89,223,115,49,36,59,54,52,46,98,207,170,123,82,75,34,19,6,4,1,1,3,2,39,97,236,128,44,49,63,48,61,45,79,172,151,100,53,46,29,9,17,7,2,2,7,43,95,198,119,51,40,57,67,56,61,72,157,168,87,84,83,42,37,16,7,3,1,6,26,99,173,121,34,44,65,59,42,50,76,159,157,110,93,70,47,33,12,6,3,4,23,73,212,132,39,52,64,89,67,62,111,193,165,94,61,46,41,48,27,22,13,7,4,1,1,9,28,38,71,84,93,103,90,127,103,113,60,39,39,42,39,31,34,23,19,8,2,3,3,11,35,86,86,94,92,110,122,106,95,78,50,32,45,31,27,8,6,2,1,2,3,25,96,249,122,46,43,99,93,76,71,102,218,194,86,65,35,44,19,12,5,2,1,4,30,103,213,108,47,46,65,68,69,74,77,191,198,142,98,61,41,20,15,9,1,1,5,32,103,224,122,55,59,72,80,65,82,96,244,202,143,108,87,61,31,16,6,4,1,1,11,44,119,267,163,70,71,86,108,55,91,117,256,211,161,131,119,68,40,20,7,5,6,1,6,48,108,246,154,78,82,126,131,118,117,164,275,195,146,105,61,88,61,23,21,14,7,3,3,3,16,36,37,72,76,81,103,94,87,81,91,67,54,38,29,42,25,14,11,17,9,1,1,2,22,48,70,89,120,122,104,102,88,86,71,39,30,39,43,45,30,11,3,3,0,2,6,16,56,46,52,70,67,75,101,76,48,62,64,49,29,33,11,2,7,40,107,101,44,43,48,52,49,67,79,188,161,114,102,80,76,18,6,4,1,2,8,36,94,227,130,47,53,56,78,61,54,79,207,206,135,107,89,60,38,11,7,4,2,3,58,104,244,133,49,71,85,72,67,58,67,168,132,112,87,76,50,47,8,9,3,1,5,11,34,70,111,42,50,95,77,71,50,91,181,150,86,60,56,43,37,25,25,9,7,1,9,6,21,55,65,71,100,115,136,154,125,130,130,111,64,60,59,38,29,26,30,20,8,2,1,8,26,42,79,92,132,169,177,163,170,121,103,86,72,61,67,53,25,7,1,4,27,90,242,127,79,74,36,31,24,35,40,77,127,79,45,78,72,45,7,3,4,2,1,1,46,105,204,116,55,48,80,65,61,57,92,230,214,115,86,55,44,23,5,4,2,1,0,5,39,108,243,141,65,65,62,90,75,91,112,238,193,144,86,68,44,22,10,1,2,1,1,7,34,110,216,135,49,40,65,67,60,62,65,185,161,101,69,48,50,23,12,4,2,1,0,7,28,83,222,138,56,73,87,74,65,75,101,206,172,102,78,64,40,40,15,20,15,2,1,3,3,10,34,48,69,116,121,130,118,122,130,104,115,62,58,60,47,34,41,27,27,9,3,1,5,8,18,27,44,69,83,27,4,8,23,23,11,8,6,10,9,4,2,1,0,1,31,88,200,129,43,41,68,54,56,64,96,206,214,134,87,53,34,22,9,4,0,2,2,8,42,119,247,140,46,52,70,73,56,77,82,209,214,141,74,68,44,38,9,4,1,2,2,7,44,123,238,136,49,44,84,82,61,64,102,176,176,123,87,52,17,17,0,2,1,2,12,36,43,23,17,5,30,11,12,11,20,109,80,51,29,27,30,26,6,8,3,2,6,31,104,244,143,60,67,96,92,64,64,95,200,134,111,70,43,53,34,30,15,14,6,1,2,2,19,44,76,78,83,107,95,96,101,144,114,91,86,64,46,56,38,35,23,17,9,3,2,8,23,36,86,93,120,124,106,155,132,143,92,73,54,49,29,23,7,1,1,3,8,27,84,217,127,57,45,54,51,52,77,80,229,210,133,106,58,43,17,7,6,2,1,11,32,109,259,147,56,51,70,74,74,66,93,195,207,138,79,53,20,17,8,2,2,1,3,30,101,227,144,49,62,65,81,67,79,121,216,211,150,111,75,48,18,19,11,5,1,3,13,47,128,282,162,69,66,81,85,87,95,108,265,260,189,112,119,70,43,24,12,9,4,8,35,112,256,192,74,104,123,118,103,111,137,237,247,132,103,91,63,60,50,35,20,7,2,2,10,9,37,41,85,106,141,127,144,143,129,140,125,116,69,73,45,37,33,22,24,11,1,6,3,9,30,43,81,111,108,115,134,136,132,143,98,58,46,39,30,11,11,6,5,1,1,30,15,95,115,45,47,56,77,65,66,112,231,232,199,106,79,60,22,7,13,1,2,1,11,58,132,312,159,95,64,86,85,71,79,125,265,271,142,116,63,57,28,8,7,1,3,10,43,111,247,174,60,53,73,94,71,74,123,245,218,147,72,22,38,24,11,3,6,0,1,8,41,106,120,94,55,61,82,90,66,77,78,221,197,122,110,67,59,24,17,5,5,2,2,9,32,100,228,150,53,58,108,104,103,79,127,202,190,126,75,64,40,31,25,24,21,7,4,8,8,23,42,68,93,93,129,145,123,109,130,101,89,93,67,36,46,31,26,17,15,14,5,2,7,8,37,59,85,120,100,103,111,98,109,105,80,50,29,25,16,11,4,5,2,8,40,104,239,109,47,39,71,69,65,53,117,227,220,156,107,55,40,18,15,4,3,1,1,8,46,128,268,156,46,63,77,80,66,65,124,265,252,170,119,75,49,27,8,9,4,4,0,7,44,128,247,147,51,64,65,84,64,56,36,105,79,67,40,27,21,11,3,4,5,1,2,8,34,87,185,126,54,52,73,55,49,61,72,153,165,118,79,53,44,23,6,4,7,4,3,11,26,91,198,162,63,72,80,92,61,81,125,245,205,120,75,84,64,41,29,28,20,8,5,4,7,16,45,65,113,126,100,81,93,64,85,95,110,77,56,53,41,33,31,26,19,8,0,4,23,20,44,74,104,104,147,148,109,118,156,126,101,93,55,37,29,22,5,4,1,0,1,7,43,150,308,134,55,66,98,92,76,96,130,283,308,227,133,76,58,30,12,5,5,3,2,5,36,124,148,44,25,18,32,51,67,62,113,246,248,148,87,81,43,23,15,2,5,4,1,12,52,130,308,157,48,70,112,83,80,83,142,303,282,196,126,84,71,29,15,11,7,3,1,6,59,152,291,155,66,86,114,99,111,133,161,280,265,192,166,89,63,45,21,6,10,1,1,8,33,109,208,168,63,79,51,35,13,24,58,138,54,52,51,43,42,31,26,17,15,11,3,5,13,13,47,71,90,91,123,108,118,116,118,129,129,83,74,65,66,45,48,31,24,11,2,4,4,7,38,50,81,109,136,142,133,141,153,152,137,84,71,77,45,27,16,3,2,1,12,59,164,286,132,55,59,97,77,85,85,162,352,290,211,122,119,66,38,13,7,7,1,2,15,55,177,211,50,34,38,83,84,28,54,80,262,203,127,94,74,47,31,12,1,2,2,2,4,33,67,158,63,42,57,83,55,82,69,119,284,293,160,119,100,89,57,18,9,3,2,8,12,66,182,316,152,68,87,110,121,101,85,153,338,290,222,147,126,82,40,21,9,10,3,3,11,42,139,279,162,91,95,155,133,106,112,173,267,216,168,92,77,64,56,36,28,19,9,4,3,9,18,38,27,21,27,26,49,49,62,27,14,32,62,49,13,22,30,29,25,25,13,5,1,5,14,36,71,120,185,187,162,191,209,182,163,175,135,97,70,49,37,24,8,2,1,4,16,51,156,277,132,68,87,124,128,95,112,165,362,321,244,136,131,81,35,23,2,5,3,4,17,63,166,331,139,60,53,84,103,88,83,162,372,377,248,148,114,109,41,29,5,2,2,4,14,62,211,374,170,86,87,117,135,115,113,201,398,385,309,194,134,105,79,33,20,10,3,4,14,73,183,346,178,73,99,150,122,160,166,228,402,381,272,176,159,106,86,30,22,7,2,2,16,47,175,331,178,104,83,61,37,33,62,58,63,47,48,39,23,21,17,18,11,14,4,3,6,11,17,32,55,93,164,197,186,209,226,246,215,227,199,138,103,114,86,66,40,45,20,5,7,3,11,42,104,171,193,220,236,223,202,197,189,174,132,71,53,40,37,10,8,9,8,4,14,59,183,326,147,64,94,140,146,99,125,198,441,425,320,195,149,83,53,17,5,9,4,4,16,80,254,417,164,98,132,146,139,115,119,251,455,463,286,199,162,116,71,24,15,5,4,6,16,79,229,413,161,66,103,135,119,119,120,189,458,366,220,188,126,111,53,41,12,7,1,5,13,79,201,367,165,45,74,84,103,121,117,228,406,486,347,220,167,119,81,37,21,8,4,6,25,67,222,386,185,99,108,160,234,190,175,240,433,384,230,160,145,110,88,73,59,53,13,5,4,11,27,70,121,185,201,238,270,268,282,273,245,237,237,159,119,106,91,77,50,43,15,11,10,9,26,43,96,155,141,172,209,153,153,139,136,126,131,86,82,68,82,109,73,19,7,8,16,59,193,350,131,77,96,147,119,133,110,220,472,450,268,174,178,97,48,16,14,5,2,1,14,102,248,435,157,91,120,169,144,122,117,225,464,485,323,262,183,99,50,22,6,4,1,2,8,21,46,74,35,26,69,105,128,94,107,173,388,367,266,174,133,80,49,23,6,4,4,3,29,86,255,415,164,98,105,169,142,135,120,233,467,456,305,225,141,135,99,43,24,15,6,1,16,74,202,415,161,97,123,198,182,127,171,262,470,385,253,161,130,105,93,76,50,47,9,4,3,12,32,96,164,208,215,244,240,235,230,223,216,175,179,137,124,94,89,78,56,42,21,8,5,4,15,58,112,153,198,243,224,240,230,263,245,205,178,132,95,86,41,22,8,2,7,4,23,87,221,351,142,95,99,160,138,118,148,255,539,458,339,214,128,95,45,12,12,4,3,2,28,103,301,397,176,100,108,170,152,134,152,271,532,480,365,241,173,121,72,30,16,4,3,2,20,93,293,421,182,124,123,185,157,141,131,240,242,234,341,245,202,134,69,39,16,14,5,5,27,103,283,394,191,119,136,164,170,148,163,238,540,463,305,220,192,147,87,46,15,8,2,3,24,76,141,361,215,99,90,170,157,120,142,256,429,359,245,130,130,107,88,78,64,37,30,4,7,9,28,72,86,133,207,204,180,159,221,188,194,216,179,115,44,19,33,34,43,37,21,8,11,14,38,46,98,153,202,247,261,254,253,282,255,177,153,138,107,88,51,21,8,9,3,5,20,93,245,366,156,75,129,137,153,117,110,181,227,398,272,167,149,105,39,18,6,4,3,2,22,49,138,325,190,73,104,115,141,123,131,217,521,426,298,253,151,86,49,15,9,5,3,2,9,99,260,428,176,73,17,42,92,94,133,241,487,431,288,189,74,103,49,23,4,12,3,3,24,86,239,453,176,95,111,130,139,137,125,247,487,454,345,236,180,68,63,33,17,4,4,4,28,102,289,476,199,104,133,186,172,131,168,269,483,394,253,180,155,124,100,78,64,35,12,6,4,22,33,97,165,201,245,271,271,269,274,267,253,253,184,164,150,126,103,100,81,50,23,9,5,13,27,65,130,170,209,255,275,191,221,201,213,238,193,174,109,86,46,18,5,3,4,2,11,92,223,359,131,72,107,139,155,130,119,223,373,385,302,271,155,106,53,23,9,8,2,3,22,102,288,403,111,90,142,129,152,126,129,225,492,490,310,241,168,115,53,32,2,8,9,3,23,113,284,495,207,105,104,178,163,121,145,238,524,451,332,284,203,140,74,34,13,7,4,2,25,94,270,458,194,94,124,141,145,145,101,233,445,404,311,267,178,157,73,55,36,12,11,5,29,73,229,393,190,111,126,190,158,188,258,356,414,310,210,120,114,116,104,79,47,35,13,4,3,16,33,75,116,166,178,213,217,210,187,201,161,212,153,128,114,115,81,51,49,49,24,10,3,10,17,62,78,121,180,186,181,168,155,167,169,177,146,128,122,93,87,65,53,28,8,4,6,10,19,58,81,153,168,187,217,185,179,208,202,172,157,168,107,80,34,20,9,7,3,3,26,98,219,372,153,72,78,125,110,99,133,205,428,362,246,213,165,117,46,25,9,3,6,4,19,121,265,417,173,84,86,137,125,105,127,227,434,278,248,233,161,115,59,31,12,6,4,3,28,106,285,442,197,106,123,193,168,142,144,255,484,451,321,286,215,141,89,53,15,12,5,5,24,98,252,471,194,107,135,208,190,174,156,286,485,488,338,236,196,145,141,69,80,41,10,11,5,17,60,96,169,202,249,270,268,258,224,272,202,214,206,149,139,141,121,90,70,48,25,8,5,11,19,74,111,168,214,212,213,224,256,260,264,239,249,195,111,94,61,18,5,4,3,4,24,101,281,410,162,64,72,128,152,99,127,233,516,500,343,277,160,137,55,15,2,2,1,3,30,116,311,432,190,86,113,141,141,112,127,253,475,479,355,301,187,126,72,29,20,7,1,6,21,103,329,435,168,63,106,134,116,111,100,199,426,398,323,225,168,139,98,40,13,6,2,4,19,105,283,400,148,74,82,100,118,93,86,170,355,414,271,214,142,131,82,61,18,7,3,4,28,94,242,423,176,88,107,167,149,121,163,239,454,367,245,197,163,145,110,89,67,50,18,9,12,31,50,111,171,173,215,235,237,232,232,225,190,155,167,180,144,137,107,100,74,57,20,6,5,9,27,64,107,191,236,244,264,219,218,235,158,187,156,144,101,97,74,20,10,8,6,3,27,98,302,432,189,80,106,161,174,145,127,262,529,510,348,253,178,114,75,18,10,8,1,3,23,107,346,441,174,97,103,139,176,118,136,279,484,473,335,237,206,159,91,44,14,9,1,4,20,110,348,445,185,108,115,178,146,128,131,265,555,527,362,273,209,144,90,38,13,4,4,6,18,104,172,364,232,103,117,165,114,114,127,258,230,299,269,176,154,127,14,21,19,11,5,5,12,89,225,426,196,126,138,194,156,142,181,286,467,388,275,192,159,127,141,83,80,37,16,4,6,18,45,103,156,176,270,258,192,196,214,275,239,263,227,127,125,105,97,71,59,59,16,10,12,22,36,59,111,158,236,255,214,193,216,257,238,218,217,146,110,114,78,19,3,0,0,2,3,25,46,209,200,58,67,129,129,130,139,238,484,474,369,264,167,106,50,23,12,5,2,7,22,107,288,368,243,120,119,149,158,108,128,273,507,469,358,254,191,97,53,18,19,5,7,8,21,110,288,396,205,104,108,144,113,113,114,224,462,447,280,230,216,123,91,44,26,4,4,7,22,92,301,412,194,88,108,130,149,103,127,217,495,483,344,277,188,139,90,53,20,10,4,8,18,87,247,439,203,102,147,150,178,162,147,247,472,365,293,222,183,126,139,97,75,51,21,4,8,17,35,85,139,203,209,252,231,232,235,235,247,199,254,195,140,126,130,85,73,70,22,8,9,13,27,78,131,196,219,268,245,246,229,278,243,265,228,158,135,95,64,25,11,3,2,8,21,90,247,418,150,95,95,130,127,100,126,222,514,512,340,251,190,112,65,25,8,9,2,7,20,117,320,417,208,112,118,161,156,117,127,220,509,436,255,246,164,104,58,25,18,9,3,5,19,104,318,499,189,95,117,188,186,138,146,268,492,510,341,264,195,151,97,39,19,6,7,4,24,119,291,511,227,97,122,183,162,117,176,260,496,472,366,285,242,164,99,48,16,7,6,5,27,97,218,453,202,109,146,180,209,225,299,342,362,324,238,185,149,173,96,84,58,43,21,8,13,21,35,94,124,168,213,232,226,215,163,192,170,190,149,148,137,123,88,97,55,50,25,2,1,3,22,53,99,133,175,206,173,150,182,219,177,107,83,93,92,93,77,77,76,30,13,4,3,11,19,44,96,114,172,210,181,173,184,216,196,196,205,191,262,211,94,36,24,5,7,4,19,91,248,391,177,84,97,130,136,112,111,202,466,426,297,225,168,124,54,26,11,4,6,6,30,112,288,397,158,30,103,114,107,113,130,218,517,486,323,257,175,156,78,29,14,7,2,4,30,107,279,415,154,72,112,139,107,121,119,218,489,492,286,224,170,150,98,41,25,12,4,4,24,91,302,421,211,108,104,164,175,163,102,105,161,281,225,220,158,136,111,90,48,43,23,4,11,27,50,114,170,177,189,221,249,215,220,245,241,246,178,185,155,154,93,112,94,68,19,5,10,17,38,65,107,173,177,244,228,227,219,244,217,222,183,167,162,87,53,25,5,4,8,4,21,102,289,385,167,73,89,108,119,94,108,182,455,415,293,194,109,70,44,19,8,7,6,6,21,102,301,382,149,85,86,125,104,91,111,177,380,472,295,251,209,150,59,37,11,3,4,5,22,103,281,418,163,80,110,134,119,89,33,118,418,412,340,281,194,136,83,32,21,7,5,6,22,116,311,433,195,95,110,172,138,129,138,231,517,484,333,267,203,134,97,57,13,22,6,8,16,108,257,514,176,107,137,177,162,160,163,265,483,394,280,251,186,152,126,68,51,48,20,7,6,21,38,90,150,208,225,276,276,232,223,242,241,243,242,188,167,136,107,91,86,66,26,6,8,11,30,73,110,177,244,243,272,262,195,188,236,243,234,177,148,116,54,30,8,8,4,3,15,95,255,329,170,78,99,126,125,106,111,220,473,478,335,232,154,104,59,26,6,4,1,4,19,126,287,381,177,112,98,127,139,111,110,216,445,450,334,229,194,120,73,29,7,7,4,4,19,111,276,404,181,76,116,121,97,83,102,204,405,429,323,264,209,144,73,29,16,4,5,4,16,111,251,358,166,47,79,106,81,97,93,167,374,343,233,199,187,113,73,51,17,14,6,5,17,83,232,292,177,83,86,95,98,77,101,153,271,250,210,166,152,105,84,85,57,48,16,4,6,19,38,85,102,137,154,164,167,152,137,151,127,134,137,98,115,88,77,77,63,48,20,5,3,13,29,82,112,165,169,161,162,204,170,187,174,176,170,143,111,75,37,17,8,3,2,6,22,100,257,353,124,54,83,50,64,62,96,161,437,473,324,247,153,112,64,20,6,6,2,6,24,108,288,392,162,96,102,122,139,101,114,213,465,478,329,243,222,131,71,26,9,5,4,3,18,119,313,405,189,82,94,132,151,107,103,228,491,463,288,239,196,143,93,31,26,5,5,6,26,110,278,409,189,86,113,151,126,111,124,214,423,428,285,229,165,149,95,45,22,10,9,4,23,83,228,354,151,69,118,95,114,114,129,198,374,313,219,153,134,127,90,73,75,31,25,6,9,18,39,87,125,182,206,230,183,193,189,176,209,207,155,132,123,129,114,80,71,48,26,7,4,8,26,88,128,163,163,192,152,196,184,208,206,213,187,205,96,71,56,22,12,7,4,2,24,97,258,347,139,70,66,115,112,86,77,197,445,475,350,256,178,116,82,18,8,6,5,10,17,105,320,398,182,90,96,112,153,114,120,216,493,491,369,248,201,169,103,32,9,9,4,7,22,101,252,408,172,59,93,142,107,104,87,129,378,443,270,80,81,66,52,15,14,5,3,7,17,90,271,369,162,89,112,152,142,114,115,220,464,435,301,245,186,141,108,41,16,14,6,6,16,94,247,415,183,113,103,159,164,164,160,254,466,361,282,221,119,137,102,104,50,39,28,5,4,22,49,94,155,199,211,252,265,204,232,188,88,130,114,79,86,96,79,66,63,48,23,5,4,10,28,66,102,178,156,209,206,192,208,119,131,155,160,133,100,82,43,17,8,3,0,8,14,87,249,320,146,62,89,134,108,109,86,218,460,465,352,215,156,121,53,25,9,3,3,6,25,95,313,352,141,89,88,125,127,95,106,228,453,488,302,258,184,127,53,18,10,10,3,4,30,110,289,361,148,72,95,166,150,116,141,206,513,489,334,253,162,122,94,40,17,8,7,4,23,101,292,361,166,96,128,164,166,103,126,241,486,497,323,232,171,123,105,53,19,15,9,5,24,73,247,397,178,86,108,167,179,135,190,266,423,376,284,210,153,157,100,69,64,58,18,5,15,19,34,90,138,163,192,246,92,146,208,133,172,169,170,105,127,118,95,71,57,49,22,2,9,4,20,21,76,116,117,183,233,244,203,176,196,222,184,126,104,25,22,18,9,3,6,4,14,87,248,326,170,87,112,116,140,95,133,225,471,413,343,240,150,76,77,23,12,3,5,5,29,115,328,417,171,83,110,120,147,117,123,248,525,516,320,232,177,121,57,16,12,6,4,5,28,101,296,452,178,91,108,163,138,138,117,238,506,470,297,243,192,142,85,38,11,4,6,9,27,97,289,393,186,92,97,139,154,115,118,196,365,226,115,141,137,117,94,53,19,8,1,7,16,91,251,368,187,108,120,168,169,142,156,261,442,337,132,46,89,97,88,107,35,59,42,6,8,18,36,106,139,192,223,253,220,228,215,222,203,225,182,170,144,146,98,68,69,51,26,5,8,10,19,62,151,177,181,239,216,157,51,161,179,215,201,140,93,97,48,22,13,6,5,10,23,106,270,331,151,85,85,153,158,137,127,254,509,537,350,247,180,121,45,22,13,4,4,5,35,111,333,461,191,92,124,177,164,502,423,311,339,421,297,206,173,145,61,29,17,4,1,7,26,105,297,436,169,95,128,175,180,127,141,222,484,519,347,289,189,140,54,41,11,2,2,6,25,101,296,461,141,105,112,32,30,86,104,105,284,377,241,192,158,126,69,42,13,16,8,6,23,100,263,387,191,89,151,173,165,164,196,293,433,370,235,183,152,126,114,112,51,59,22,3,11,15,26,62,128,154,73,65,33,19,28,14,14,1,6,46,115,178,218,302,290,314,295,253,257,247,150,126,73,48,21,15,5,5,3,17,99,273,384,166,73,100,159,170,127,164,226,524,487,317,227,168,119,56,17,7,8,2,6,27,115,338,459,180,109,115,172,170,151,162,295,549,516,397,259,180,121,74,24,13,5,4,5,25,107,316,440,217,105,143,192,182,148,138,263,525,495,393,259,174,137,60,33,14,11,7,7,22,103,335,467,178,92,141,165,169,144,135,253,567,462,364,247,160,145,111,58,28,11,4,2,20,73,253,434,190,106,141,178,207,208,277,299,377,305,220,158,121,114,68,65,57,26,18,4,9,19,33,65,118,168,128,160,200,176,201,188,201,179,148,120,93,96,77,76,38,43,23,4,5,3,20,49,102,147,163,221,174,156,192,141,172,169,150,125,103,85,58,66,35,22,12,5,4,5,30,56,89,137,207,212,235,212,142,192,77,92,123,56,40,49,17,7,2,0,3,20,72,166,349,167,90,78,51,24,21,71,95,276,351,269,150,109,79,56,12,3,4,1,4,15,74,83,319,176,63,9,21,9,24,55,137,264,219,212,93,34,26,21,11,4,2,3,13,55,172,188,65,57,82,85,112,105,115,151,102,66,51,83,76,65,26,15,8,7,1,3,14,54,104,276,131,27,66,71,108,119,161,244,451,377,316,180,154,127,113,84,67,46,29,4,6,6,43,103,168,233,252,260,239,230,263,261,275,241,214,167,171,126,107,79,66,60,30,6,24,16,28,69,168,214,258,298,231,222,270,303,228,229,232,161,114,74,33,11,11,0,4,23,108,300,382,155,89,131,147,120,129,152,238,515,515,373,258,166,134,62,19,6,0,2,6,19,116,348,399,179,93,120,144,136,139,145,251,507,472,341,241,200,120,59,28,7,4,7,8,30,138,350,396,183,115,121,156,139,105,146,241,512,503,337,221,189,140,62,34,20,5,5,5,30,119,321,364,186,96,120,148,151,134,110,193,230,222,212,223,134,108,61,43,19,7,4,3,30,87,283,386,189,104,139,212,168,176,165,291,480,427,256,184,124,135,106,80,52,61,21,4,3,17,33,81,145,177,248,257,225,174,206,189,218,234,186,133,121,112,100,88,66,68,25,0,5,10,29,53,94,178,201,229,214,184,233,235,230,223,191,136,110,75,44,23,7,7,4,6,26,107,312,391,183,84,98,138,124,143,143,208,483,484,333,204,181,104,55,21,11,4,3,4,21,111,306,196,64,26,48,47,81,85,158,241,445,453,294,212,177,125,70,20,17,5,6,5,30,112,312,444,187,103,138,151,144,139,142,230,475,384,253,149,175,112,80,30,6,8,7,2,28,94,295,389,168,101,142,151,155,142,149,262,513,501,388,250,194,166,99,41,29,14,5,7,20,99,240,297,108,28,20,28,27,21,52,51,86,220,232,158,121,126,107,86,61,54,27,7,3,12,34,102,134,203,268,266,290,226,284,282,246,243,231,166,156,143,123,136,93,79,39,5,2,13,23,59,100,190,230,270,247,231,234,320,275,279,242,135,113,84,67,23,14,4,5,4,25,107,315,326,161,117,116,161,139,110,157,239,509,490,347,227,164,122,64,28,6,4,5,3,24,116,234,400,173,101,97,129,122,123,170,225,480,325,294,221,179,102,82,29,13,9,3,3,20,111,177,270,141,109,127,159,138,145,146,241,527,459,315,91,67,68,59,33,20,2,8,5,22,106,269,402,198,103,122,157,175,134,185,227,527,500,348,234,195,150,64,53,18,9,3,6,23,98,283,425,214,122,168,195,194,173,193,298,497,449,332,202,179,129,109,106,47,46,17,6,4,15,30,58,112,100,102,130,98,147,154,165,170,117,99,58,53,58,57,43,23,27,5,3,7,13,24,50,96,188,218,243,224,195,144,162,135,158,128,71,71,55,19,13,5,4,6,6,17,91,241,359,141,82,100,118,102,94,79,202,455,384,300,191,128,79,43,22,8,2,3,4,25,109,298,372,168,107,102,160,153,156,166,273,530,456,310,236,144,106,60,36,7,2,5,4,29,112,292,441,187,103,138,180,189,156,147,245,525,536,334,228,173,134,64,34,17,8,4,5,24,110,287,437,188,105,115,180,158,139,157,272,505,479,305,231,161,124,81,48,25,5,9,5,24,84,237,386,207,126,150,174,210,179,202,346,462,371,243,167,144,119,113,72,51,41,16,7,7,16,46,89,163,217,221,255,229,214,234,230,219,224,172,124,133,104,90,83,63,35,20,7,14,14,26,82,119,210,234,243,193,228,209,247,230,228,186,134,120,104,85,42,30,15,9,4,19,39,102,227,161,158,183,201,219,223,254,248,334,365,267,188,148,104,63,16,9,4,1,5,20,114,333,375,195,111,92,130,138,117,139,257,534,493,285,203,158,120,47,23,8,2,2,6,22,107,244,377,183,98,102,53,76,70,42,50,235,161,102,81,74,40,41,14,9,4,4,5,16,51,76,199,106,53,76,95,142,111,128,240,432,248,187,166,115,101,45,29,16,6,6,8,17,90,137,186,164,108,76,62,114,119,169,264,426,361,221,177,156,123,80,88,64,39,18,6,6,15,40,101,157,207,221,261,223,230,211,264,264,251,177,137,115,121,102,85,64,52,31,7,6,7,39,71,151,226,218,277,269,258,230,289,253,226,181,129,88,88,48,25,15,3,2,3,28,107,299,381,180,92,131,166,156,122,142,238,540,469,288,189,141,88,52,23,7,4,1,4,19,105,326,474,198,75,112,159,171,137,139,246,553,512,286,204,178,115,63,23,9,6,3,3,28,67,200,185,109,116,117,86,80,99,180,170,132,189,140,79,94,55,22,11,4,1,6,24,87,303,409,197,105,99,171,136,117,138,203,438,430,278,207,149,106,83,42,19,12,7,6,31,78,228,386,189,106,135,193,163,131,178,242,445,354,228,155,112,89,99,80,50,25,19,4,7,17,49,88,122,149,172,211,186,177,223,190,217,224,173,111,120,114,81,64,60,40,31,1,2,12,18,56,95,185,202,249,255,216,216,217,220,196,140,112,75,69,31,26,8,6,3,5,19,83,274,378,166,82,109,156,138,143,125,242,527,428,212,118,114,76,50,26,6,3,3,5,24,95,299,383,194,102,120,165,161,134,171,233,517,453,294,208,169,148,79,28,9,1,3,5,21,92,284,438,226,105,132,155,62,52,59,196,414,398,306,180,140,112,72,23,9,5,3,3,14,42,128,304,155,52,44,45,64,76,95,193,291,226,200,171,119,97,60,40,9,3,4,5,25,74,199,361,210,102,128,167,185,152,171,262,411,332,188,131,69,32,31,19,18,16,8,1,1,1,6,16,19,12,26,44,30,29,38,19,28,37,36,40,49,44,33,47,34,43,26,10,4,8,15,60,92,125,182,229,232,209,202,213,191,162,125,74,75,58,30,20,8,3,3,5,18,82,216,355,197,87,97,140,128,119,141,242,442,392,226,154,109,77,46,18,8,3,5,7,18,90,246,402,206,114,101,153,147,118,148,252,470,421,274,191,114,91,61,19,8,2,2,4,27,91,240,452,213,108,117,157,139,132,161,231,523,448,257,177,155,99,54,28,12,5,4,3,27,96,280,394,155,98,108,162,150,120,138,234,465,409,234,198,140,116,80,32,16,8,7,6,23,64,235,387,239,115,128,153,161,147,192,237,438,339,182,171,115,109,72,48,57,24,8,5,2,20,31,80,111,171,169,235,207,227,202,207,234,185,159,136,99,72,81,65,104,23,4,6,5,11,24,71,134,186,216,226,209,219,210,263,185,146,130,100,77,40,43,14,6,2,3,4,25,97,305,397,156,95,100,158,157,115,132,255,489,407,280,187,129,102,47,18,8,1,3,4,17,96,316,455,177,104,126,175,165,129,155,250,459,432,264,169,166,95,45,13,10,5,4,4,28,98,300,437,197,89,131,156,136,153,130,257,458,387,292,201,152,105,61,24,10,5,11,2,22,110,266,418,188,100,99,149,87,58,57,67,168,263,192,160,130,84,73,56,16,10,6,8,13,46,116,249,186,162,150,198,179,183,187,189,286,185,182,97,79,78,67,52,45,39,13,7,3,7,24,87,142,170,213,224,225,244,221,224,193,150,139,101,103,88,78,61,58,48,20,5,3,18,30,55,97,178,187,242,234,263,221,226,187,155,121,115,76,64,49,22,6,10,3,5,19,104,311,425,204,85,106,166,153,138,142,264,464,460,274,210,176,96,48,15,5,8,4,6,26,104,298,453,174,115,116,148,132,120,155,240,422,414,259,212,145,109,66,26,5,6,3,3,13,52,130,223,77,32,53,49,52,49,50,110,216,176,108,94,72,45,28,22,5,5,3,3,21,72,164,343,184,74,93,115,109,105,106,187,379,298,210,162,113,83,58,28,10,8,2,5,22,70,211,369,207,105,122,143,146,123,151,190,361,312,183,129,108,88,54,49,34,34,11,4,2,10,38,80,130,165,183,218,245,228,262,188,171,172,149,115,79,80,73,79,73,44,31,10,4,6,19,52,109,183,212,234,285,250,242,225,168,123,140,90,94,35,25,13,8,2,4,5,20,76,229,378,222,110,112,138,121,121,93,95,200,184,135,75,103,72,29,14,5,4,2,7,17,63,119,185,147,46,28,18,22,31,32,59,161,148,106,121,86,81,36,14,8,5,2,5,16,68,154,316,164,70,107,151,162,200,194,169,156,138,116,67,66,59,47,22,23,19,4,1,10,5,31,42,68,64,90,88,91,94,71,66,40,24,13,17,19,14,19,22,12,6,2,3,3,9,31,68,70,82,127,146,140,150,145,139,127,108,96,76,61,46,28,38,24,20,9,4,3,8,13,50,67,84,123,172,148,158,160,138,122,118,100,86,72,51,51,39,35,22,8,4,5,9,11,36,90,131,157,193,216,200,221,229,167,130,109,94,75,53,27,10,12,4,4,34,98,270,394,191,86,107,165,137,129,132,240,444,396,260,206,152,102,41,18,16,5,2,5,21,88,330,440,197,34,10,17,22,35,60,146,346,347,244,176,116,90,53,23,8,5,1,5,21,100,276,465,186,95,112,148,131,99,104,199,365,369,273,184,128,82,46,19,9,8,6,1,23,92,265,462,215,86,95,139,137,130,144,192,409,393,219,178,154,99,70,32,14,10,1,3,23,84,199,432,234,89,142,186,188,145,175,254,391,362,252,178,102,95,81,65,62,41,5,7,6,10,24,62,99,173,227,280,222,251,237,230,186,193,144,110,104,97,73,64,54,51,34,9,2,3,23,48,114,180,206,247,269,246,227,266,207,161,158,116,65,59,42,21,10,8,2,7,24,89,274,392,178,78,106,125,153,126,132,238,430,386,295,190,166,94,54,25,14,3,3,7,20,81,227,401,200,44,28,50,65,69,43,84,249,287,223,107,108,82,48,30,9,4,3,1,3,18,43,80,64,32,47,29,28,24,25,28,48,48,31,25,6,13,16,21,6,4,1,2,12,71,233,418,218,109,100,148,115,121,98,201,321,306,220,170,135,84,58,26,12,10,5,1,20,62,195,378,256,115,121,146,141,163,160,226,352,308,189,140,131,114,88,66,55,48,20,3,6,10,11,68,134,161,192,235,239,242,239,183,151,144,139,114,79,88,61,69,54,47,17,5,6,10,30,68,88,164,166,246,224,198,219,174,150,151,98,62,53,36,31,16,9,4,2,3,21,63,231,378,208,91,100,138,153,95,124,209,352,349,232,157,119,71,42,16,4,1,3,4,20,92,221,391,223,99,115,147,120,116,144,194,381,370,262,154,134,102,55,22,8,2,3,4,26,87,243,458,230,133,103,138,119,134,143,233,377,379,259,169,145,99,48,45,15,5,2,6,24,90,252,449,274,105,126,140,150,124,76,124,310,363,274,209,145,116,104,60,28,23,3,4,26,80,226,449,235,122,135,163,125,115,141,212,352,285,203,146,95,100,71,59,39,47,22,9,7,17,20,55,95,171,188,216,204,207,195,192,153,150,95,99,88,73,63,64,43,39,16,1,4,3,11,31,75,122,168,202,210,200,184,207,126,123,130,94,80,47,31,14,8,3,3,4,21,68,187,389,166,96,105,128,127,107,135,189,362,343,234,197,112,95,50,21,6,10,1,4,15,71,261,422,245,109,116,159,163,127,139,218,417,385,218,144,139,104,40,18,10,4,2,2,28,75,224,393,220,83,53,58,55,40,57,95,226,278,200,162,114,102,54,24,15,10,6,3,15,63,182,333,218,128,135,180,167,136,186,226,332,277,130,33,15,17,10,7,11,12,4,2,8,40,88,173,152,96,148,156,177,177,191,166,129,91,75,47,32,43,21,20,15,22,5,3,3,10,10,27,53,52,62,79,97,70,82,74,53,33,24,19,15,12,16,4,2,2,3,1,1,4,4,20,12,42,41,39,45,48,51,33,23,14,18,15,15,14,6,7,5,2,4,4,17,13,38,39,51,66,83,80,105,69,67,54,49,42,39,22,25,9,6,2,3,3,8,35,79,155,85,47,24,16,19,14,17,44,109,126,87,66,52,29,24,10,12,7,4,9,42,106,206,171,84,93,108,135,96,101,144,225,159,135,70,63,31,36,24,15,3,2,2,10,39,104,207,155,97,99,118,95,112,150,155,226,192,124,88,60,48,44,26,11,10,6,2,10,31,92,193,175,108,126,159,154,178,236,247,188,163,96,75,84,78,60,37,31,27,17,9,0,5,13,42,72,108,152,180,205,185,164,143,101,80,73,63,50,36,27,43,78,59,41,8,5,1,6,10,27,52,98,143,141,147,164,147,75,81,85,58,61,53,25,31,11,6,4,3,14,16,51,53,89,142,161,150,141,139,144,136,113,89,83,63,36,32,13,5,3,2,5,12,81,168,349,145,55,63,70,68,72,68,129,241,214,152,115,66,33,18,9,3,1,1,2,14,59,151,310,173,57,40,75,82,69,81,123,272,280,182,121,88,48,32,13,5,4,4,5,26,78,212,377,220,81,78,114,112,104,113,178,393,374,255,172,88,70,56,24,6,3,3,3,13,69,201,436,237,102,130,168,188,152,178,259,456,391,261,163,137,123,88,77,56,36,19,9,7,7,20,64,116,160,250,276,296,356,317,268,235,248,171,149,118,93,103,77,62,57,26,4,2,2,23,53,102,181,201,273,266,253,241,256,197,162,104,119,81,54,30,12,4,3,3,4,21,85,239,407,188,95,82,93,77,45,64,46,147,158,187,127,78,54,51,14,3,2,4,23,79,219,465,184,80,93,127,163,96,119,225,446,372,270,190,109,104,38,26,6,5,4,2,22,72,247,488,218,84,90,51,57,70,73,112,128,96,92,55,29,49,9,3,3,1,3,2,16,88,218,497,220,84,101,130,170,132,156,248,472,399,313,229,162,121,60,38,12,13,4,2,21,71,174,408,204,101,102,140,140,119,123,215,317,294,199,130,95,58,60,42,44,32,14,3,4,5,24,89,78,135,150,189,182,179,177,178,129,122,90,95,66,62,71,50,40,38,24,5,5,7,14,34,80,115,144,192,184,163,173,174,131,113,101,85,71,58,26,23,18,14,3,6,5,13,28,75,89,107,158,165,202,158,175,158,174,175,134,88,46,39,28,12,2,12,2,13,57,121,90,61,61,73,83,95,120,123,205,442,451,297,169,174,85,60,14,10,1,3,1,29,88,262,474,196,88,110,155,124,98,122,163,338,347,251,164,119,74,36,16,5,3,4,1,19,86,204,414,204,98,93,106,118,104,118,185,364,345,229,184,117,90,55,24,15,11,4,3,19,68,183,421,242,96,117,119,144,107,144,163,340,296,186,141,99,71,35,24,22,25,13,1,2,1,10,22,40,45,62,62,66,89,113,113,99,107,85,62,64,56,51,51,49,46,20,1,2,4,11,29,54,120,115,161,175,163,149,143,100,110,80,69,36,58,35,17,4,2,1,1,19,36,114,267,198,139,57,52,32,48,64,108,270,275,211,161,112,64,35,19,7,6,3,2,26,88,221,479,244,93,123,150,170,138,156,243,474,391,311,211,154,111,80,25,9,3,1,4,33,87,243,495,218,111,105,147,149,107,125,217,443,415,311,225,166,101,63,22,16,6,5,3,28,88,228,514,256,92,100,136,156,112,142,209,397,394,302,216,184,139,86,32,23,11,5,3,24,72,128,206,101,117,95,155,175,153,170,241,406,363,241,153,127,108,78,68,57,38,16,8,10,12,28,82,145,164,241,244,293,239,320,276,233,201,173,115,109,97,79,81,68,48,17,5,6,4,12,61,98,153,198,215,238,229,242,268,201,151,145,98,69,57,21,10,9,6,4,5,26,80,221,481,193,82,93,129,117,100,131,210,422,399,298,179,159,92,52,15,7,2,2,1,22,104,273,498,231,110,125,181,171,142,150,277,518,486,306,223,162,118,61,31,4,6,3,1,18,67,201,505,267,124,116,153,174,159,169,261,508,514,315,254,217,133,75,24,14,7,2,1,19,73,201,436,213,72,99,140,124,129,150,211,437,393,311,204,144,106,61,37,19,6,4,2,17,88,216,429,252,114,149,191,173,148,168,275,458,368,256,155,126,116,74,76,43,38,17,5,3,4,27,86,141,193,224,260,244,229,244,123,54,58,75,73,74,91,66,58,46,59,13,9,4,4,16,58,83,138,160,223,241,203,217,261,275,171,63,47,60,182,38,14,6,3,2,17,72,229,434,269,96,104,131,124,126,146,215,417,426,284,194,143,83,43,22,6,4,1,3,15,98,293,522,278,104,120,163,169,127,133,257,494,508,327,206,170,107,49,21,9,1,1,1,20,95,276,495,245,107,97,124,111,100,49,73,147,163,158,122,126,95,57,23,10,2,4,1,18,75,263,473,229,90,95,148,144,126,120,223,387,404,287,197,169,104,75,39,11,9,5,2,17,61,225,447,265,119,134,168,170,138,164,240,381,345,246,144,108,102,64,50,43,24,9,4,2,8,19,77,85,143,157,196,217,205,112,134,131,105,85,62,43,46,20,21,24,26,14,1,3,2,18,26,60,83,121,133,128,102,150,148,83,92,78,56,36,28,23,9,6,4,1,2,17,71,194,413,198,70,85,111,129,125,145,206,399,399,256,210,145,99,34,14,6,3,3,2,20,89,276,510,256,90,107,162,167,111,138,251,504,398,270,178,105,72,55,22,5,4,3,1,25,92,318,508,226,108,125,152,159,128,164,222,470,459,302,207,170,104,54,22,5,6,1,3,20,83,285,489,199,42,69,44,62,30,50,110,281,345,254,211,142,108,70,32,16,11,1,1,16,70,222,516,275,103,133,177,171,137,180,251,429,362,266,158,114,92,72,81,38,39,15,4,1,8,33,92,116,157,184,241,219,244,270,218,222,176,150,123,89,101,62,65,62,45,12,3,1,5,12,48,73,142,144,184,197,189,168,150,135,144,101,81,33,47,30,36,12,19,8,6,9,42,111,98,113,163,216,246,206,235,216,226,215,164,117,90,53,26,11,7,3,2,15,83,273,459,211,77,81,147,123,108,137,240,411,414,299,223,147,97,46,19,4,5,3,2,29,85,292,567,241,122,149,186,175,142,161,268,486,483,305,249,220,129,57,30,12,4,4,1,30,88,317,549,228,107,128,199,188,156,171,298,561,486,349,246,205,118,71,34,15,4,5,2,25,80,265,452,229,119,136,201,153,26,83,166,242,289,227,159,151,102,76,56,42,37,7,2,3,12,20,90,107,159,187,217,178,181,211,163,143,126,137,95,80,78,84,63,50,37,21,5,5,2,20,57,76,161,184,256,267,263,281,275,241,199,130,79,75,68,59,27,6,4,2,1,16,89,278,514,219,88,92,164,159,134,150,266,503,517,318,208,181,83,50,10,6,2,6,2,20,100,313,543,225,118,155,164,174,121,149,270,497,432,291,202,178,95,61,30,6,4,2,29,100,242,114,33,10,9,69,72,54,87,162,246,181,102,95,39,53,30,10,12,6,3,5,18,107,296,579,281,122,149,204,187,174,192,323,551,498,317,242,190,123,76,45,18,4,3,2,24,88,258,533,299,118,154,194,191,176,73,49,123,154,162,93,99,69,19,21,44,34,20,2,1,6,14,46,87,137,181,252,252,279,254,300,279,250,191,121,130,115,94,67,60,66,21,11,5,5,21,54,104,161,192,256,256,226,252,231,214,164,120,80,70,53,24,15,3,3,1,1,17,89,253,415,186,74,86,122,109,115,110,180,376,363,220,171,116,76,29,8,6,4,1,3,25,99,270,487,222,113,110,129,148,116,142,228,425,442,278,184,143,101,51,12,4,4,2,3,18,104,332,554,252,127,128,175,179,137,165,254,554,509,345,242,177,149,58,35,17,5,3,2,28,105,326,573,282,119,156,224,198,155,161,305,545,545,395,282,206,141,88,51,22,9,7,1,27,83,262,484,267,145,170,174,175,129,188,292,498,440,232,156,133,100,77,68,50,30,16,3,7,11,36,96,127,176,218,241,268,262,274,275,250,230,159,101,94,81,77,62,57,51,15,5,8,15,68,70,147,209,264,288,289,286,301,299,256,203,129,110,81,40,20,9,5,2,3,15,86,259,547,260,98,111,162,176,145,159,255,557,623,379,237,183,116,53,21,14,1,2,1,24,108,292,571,324,115,155,197,180,160,196,312,614,638,429,306,200,146,79,34,25,2,3,4,25,120,348,628,325,150,155,212,197,163,197,278,642,647,402,286,241,159,72,46,8,5,7,3,24,113,367,602,285,130,151,206,211,177,187,331,634,648,353,270,207,137,85,49,22,4,3,3,30,96,265,534,277,136,167,222,208,146,88,111,235,377,273,204,144,132,104,87,57,32,24,2,3,29,57,155,217,303,359,365,400,338,322,318,357,339,262,182,169,153,151,80,88,41,15,8,6,9,25,71,113,212,239,281,346,303,314,312,308,294,234,139,129,79,39,19,15,7,2,3,31,118,329,563,276,128,145,211,194,200,189,320,615,681,463,296,190,131,45,24,9,8,3,6,20,94,167,488,284,119,156,205,207,182,177,332,642,665,480,299,239,156,80,29,22,8,7,4,35,139,338,502,255,124,154,171,222,151,175,287,616,627,496,298,204,156,88,32,16,5,7,6,32,126,332,598,277,110,166,224,215,161,202,300,656,654,469,360,308,164,117,65,32,20,6,3,29,110,318,615,305,150,187,272,256,224,281,370,693,593,473,328,220,218,125,111,108,55,22,6,4,24,45,113,153,197,175,122,134,160,172,128,68,110,105,80,88,71,88,62,65,29,10,7,6,13,25,68,92,172,217,238,257,291,282,339,273,289,261,196,124,92,56,23,10,6,1,4,36,110,355,625,245,98,131,216,222,159,157,245,599,594,417,209,175,80,46,9,4,6,4,3,16,96,277,567,259,118,141,186,165,147,158,267,542,577,377,266,200,127,59,29,8,3,4,0,38,111,348,639,298,140,168,218,213,169,152,170,532,580,415,324,233,151,81,38,18,6,4,8,30,114,353,628,299,124,166,228,223,175,198,321,620,598,421,301,214,135,77,49,21,6,7,1,26,81,280,555,292,137,153,208,198,173,207,292,513,492,353,192,190,130,107,80,65,55,21,4,5,16,39,126,161,205,279,358,373,311,330,292,305,239,191,156,107,116,100,59,49,61,21,9,10,88,55,88,173,228,271,258,274,278,278,275,323,279,236,166,101,61,53,11,5,3,2,22,104,294,553,265,119,128,181,184,141,192,291,601,543,428,281,214,106,60,32,11,5,3,1,25,98,327,577,354,142,167,230,225,191,207,340,634,661,460,325,210,133,66,23,11,5,3,1,27,120,354,653,316,99,152,210,181,176,182,304,645,646,419,333,255,151,112,33,9,11,5,1,28,118,339,610,290,158,159,210,202,144,171,318,677,618,423,279,209,129,124,49,28,5,5,3,23,80,231,489,318,157,179,224,238,250,319,352,483,380,297,191,136,124,92,85,60,25,21,4,2,18,40,94,173,176,244,270,288,252,305,261,268,290,243,135,159,106,86,64,50,25,18,7,8,21,25,65,108,186,209,259,254,249,226,244,226,159,187,146,77,85,41,29,12,4,3,3,30,108,320,595,236,113,127,186,173,152,173,310,565,586,386,255,151,102,61,23,9,2,2,2,24,100,368,670,303,132,161,184,202,149,157,296,656,626,428,248,191,118,48,22,9,2,2,26,103,303,581,282,127,142,147,147,101,152,256,527,546,356,213,154,130,52,22,7,4,3,1,21,94,294,604,271,103,174,199,148,150,169,299,596,547,383,254,174,143,86,41,28,5,8,4,19,84,283,539,294,133,158,218,246,223,237,350,621,564,352,242,153,181,163,85,60,53,26,9,5,19,56,136,206,267,357,404,370,372,347,329,309,284,296,209,167,148,151,94,89,54,27,10,6,11,30,64,154,235,301,360,383,346,351,330,361,295,265,205,153,97,65,26,21,9,5,6,34,123,367,549,238,149,136,196,184,183,194,266,601,589,461,327,232,179,97,33,5,3,6,6,29,136,443,631,329,165,174,179,187,198,217,320,673,670,464,358,260,144,72,35,13,8,6,7,34,128,408,551,245,116,105,95,51,43,88,199,442,478,342,252,165,153,56,20,11,4,3,4,30,116,391,651,270,143,183,213,186,183,196,324,663,677,516,352,240,219,124,59,22,18,9,3,24,105,350,668,329,170,190,260,276,238,262,429,697,558,410,289,252,176,156,111,64,69,25,9,1,21,55,149,216,299,348,378,358,331,361,372,309,283,45,34,82,90,73,85,63,49,33,7,6,6,22,43,71,57,70,56,47,50,38,32,25,38,34,34,11,13,17,6,1,3,1,3,14,43,206,471,255,88,91,117,98,102,101,93,219,369,287,186,145,71,49,13,6,3,2,3,22,117,387,599,302,129,157,188,189,166,176,308,619,580,449,269,213,149,69,23,17,6,3,6,24,103,376,634,288,138,177,220,193,176,182,327,664,649,501,358,212,170,94,42,22,10,5,2,17,122,222,358,189,125,135,180,178,132,165,281,565,589,407,314,222,163,106,61,32,18,2,6,19,115,305,575,292,172,186,244,212,206,223,335,613,560,379,240,185,134,105,99,60,49,23,2,3,18,45,134,169,231,262,276,269,293,260,244,224,73,110,81,72,66,37,36,37,36,14,4,6,6,20,81,133,253,283,361,369,372,324,347,334,323,247,198,139,85,67,36,15,5,4,2,19,121,343,579,239,116,111,180,199,162,176,303,617,611,420,281,195,123,50,28,21,7,2,7,17,24,161,538,331,144,179,228,208,167,186,313,616,662,429,299,251,190,79,43,7,9,6,2,31,117,344,640,289,147,145,210,179,189,204,313,659,770,461,296,218,146,77,75,15,13,4,2,20,128,376,608,279,132,167,237,217,171,220,325,617,642,467,368,257,217,100,70,33,11,14,4,24,127,347,584,262,154,181,125,207,159,240,358,547,564,388,255,186,182,205,111,79,51,21,9,14,33,79,155,223,284,354,330,307,241,300,310,298,278,254,209,183,150,114,111,84,64,19,7,10,14,31,91,128,221,270,351,368,292,342,363,316,332,266,203,148,113,80,21,8,5,3,2,21,134,367,608,289,128,149,189,197,180,186,320,667,602,463,277,210,147,92,28,3,7,4,5,20,158,442,605,258,111,157,203,166,63,94,335,640,641,399,262,202,134,53,27,11,1,2,5,27,121,401,594,285,113,156,222,216,175,191,289,629,349,96,48,30,62,47,31,9,3,3,2,23,130,393,603,299,112,179,207,228,186,192,334,648,661,469,315,211,196,112,47,32,16,8,6,23,128,345,579,288,141,203,259,263,218,299,397,677,518,430,277,225,190,142,111,79,46,20,6,8,23,57,156,248,279,365,353,366,358,321,337,343,382,273,174,156,212,134,79,72,60,26,7,8,15,42,124,143,222,278,342,347,324,309,339,287,260,232,163,121,89,57,14,6,1,2,3,25,62,72,155,105,53,67,132,143,128,156,91,204,283,294,178,145,118,64,25,14,3,5,4,8,22,91,401,327,144,186,220,204,145,205,300,603,665,455,233,98,74,58,27,14,14,5,3,34,150,426,617,314,149,212,271,273,221,222,376,769,749,499,398,330,253,107,49,16,8,3,13,34,149,449,605,289,162,202,276,241,202,233,344,719,734,451,363,254,209,137,57,33,9,8,11,33,168,475,696,304,181,225,252,297,242,260,417,688,570,392,264,209,194,133,118,84,56,23,8,11,38,67,162,213,275,351,366,372,369,316,311,347,391,229,197,178,234,168,128,102,62,40,14,7,21,55,120,184,258,323,390,363,307,256,339,340,328,260,191,182,101,54,28,11,9,2,5,14,76,146,258,172,71,82,124,135,135,158,269,468,478,391,292,210,116,79,26,16,10,5,7,17,129,315,570,287,148,150,178,195,149,191,316,716,709,320,319,233,157,91,28,9,10,5,3,29,154,452,681,258,139,151,206,201,181,192,216,240,296,336,267,221,136,83,49,21,15,3,5,29,146,393,659,267,138,160,213,233,180,222,329,678,634,416,343,237,210,131,63,34,16,6,6,28,108,352,551,288,163,193,237,247,263,360,447,529,391,293,270,193,147,132,98,64,55,22,2,10,25,44,103,192,256,312,293,274,257,239,243,227,216,214,152,151,118,114,89,61,45,25,7,5,14,30,82,140,215,251,269,228,230,245,243,247,252,212,224,79,50,65,44,45,28,12,4,5,14,43,93,142,175,222,292,284,227,279,278,247,251,247,203,181,110,60,33,13,8,2,5,32,145,431,588,231,116,147,181,176,158,185,320,674,632,457,168,68,53,40,32,4,4,5,6,40,139,469,642,282,138,155,220,236,208,221,352,756,746,506,374,263,191,121,48,22,8,8,8,32,171,489,675,264,155,153,230,216,193,209,384,742,700,487,391,318,221,114,76,34,13,4,5,41,136,369,675,274,155,193,238,240,199,213,186,202,100,41,38,73,22,67,81,61,38,18,11,11,31,77,180,243,348,357,418,400,388,405,369,338,341,369,260,220,176,185,142,100,67,34,12,11,16,29,110,230,277,312,408,421,411,408,436,386,343,337,230,180,165,82,38,10,10,5,6,33,135,504,643,244,120,168,220,189,186,215,375,733,719,554,390,225,127,78,28,18,8,5,4,35,177,540,680,285,118,162,202,201,194,218,382,764,679,445,371,253,171,93,46,21,7,8,7,37,165,531,637,268,148,161,235,230,191,225,345,652,688,486,349,260,221,110,50,17,12,5,6,34,165,506,661,300,154,170,274,250,198,234,389,778,703,537,402,283,193,135,59,25,17,8,9,28,131,409,663,335,187,199,280,287,245,299,412,679,576,460,291,256,230,163,152,89,68,28,6,15,63,61,202,241,298,351,335,349,354,337,315,257,276,232,238,211,151,161,125,84,56,23,9,10,27,41,122,175,265,315,329,288,314,316,335,337,326,260,250,170,117,80,33,15,12,4,7,36,136,478,613,259,95,143,198,185,193,187,340,715,726,507,333,218,142,72,26,11,6,9,4,28,130,287,598,254,96,57,76,48,48,94,209,625,596,444,350,233,188,78,27,21,4,7,9,38,188,480,672,298,134,182,241,203,222,216,320,782,640,548,362,317,209,128,45,17,8,4,6,40,169,480,682,312,132,168,210,213,214,213,368,750,716,483,351,270,196,136,68,42,15,3,13,31,142,413,609,308,160,180,292,272,255,270,426,698,572,369,296,250,242,176,112,79,55,19,5,21,36,68,157,279,296,353,349,324,309,288,304,349,315,277,229,192,189,134,117,67,55,22,16,13,16,30,95,183,288,350,355,347,327,260,340,361,310,244,201,170,98,79,28,5,6,3,9,22,37,135,447,222,78,96,139,174,160,176,279,669,595,411,317,238,143,57,30,13,14,7,9,34,152,462,633,288,136,174,222,203,166,187,286,725,704,432,399,239,240,102,48,20,5,6,6,37,156,444,600,276,126,134,150,163,134,143,284,611,591,449,326,302,226,102,53,16,7,8,11,37,147,437,563,224,114,121,182,141,149,154,283,535,562,415,357,256,221,134,77,28,12,6,7,35,118,340,564,278,133,160,191,228,198,212,313,551,443,317,171,177,155,145,102,107,75,32,13,11,37,59,133,247,317,349,399,338,371,266,317,316,287,240,228,223,178,156,132,88,80,41,9,7,19,48,103,169,291,291,329,348,298,290,280,329,348,247,224,177,125,67,37,20,10,4,4,42,147,455,555,231,126,127,196,181,161,168,310,757,691,508,375,281,166,88,29,19,7,7,9,36,176,531,622,298,153,189,228,232,186,229,349,796,719,529,417,267,219,118,39,18,12,7,11,34,193,498,638,253,138,145,245,244,192,188,337,730,719,542,369,313,245,148,52,14,12,6,11,39,185,484,577,318,144,170,227,205,188,195,331,634,597,492,399,309,224,145,90,33,15,5,9,39,148,361,576,261,139,137,173,194,184,183,292,457,414,303,255,195,129,42,65,55,54,20,15,7,36,82,168,234,308,350,328,323,295,287,264,231,248,240,204,165,134,119,122,81,69,27,4,7,19,37,106,168,268,256,319,309,346,244,228,323,275,279,244,181,110,88,31,14,14,5,10,37,132,390,548,239,104,134,183,162,151,175,304,665,658,510,357,241,169,90,44,9,8,2,6,33,149,462,604,226,153,151,198,203,241,330,437,620,542,431,296,160,151,152,140,96,66,23,11,14,23,62,110,203,304,321,330,322,357,299,226,253,271,255,314,362,327,152,71,24,14,5,7,28,130,316,514,246,117,137,188,181,154,183,324,575,511,375,243,232,162,99,63,22,13,6,4,31,127,333,557,249,130,141,220,194,184,206,300,486,454,306,245,223,210,137,115,55,47,19,13,12,27,63,120,187,225,245,218,244,203,193,192,176,194,219,197,150,164,114,125,99,59,34,11,5,16,33,95,172,234,269,271,219,235,218,226,202,199,184,206,149,110,98,33,13,4,5,1,27,86,223,429,325,117,144,205,188,184,214,325,741,790,543,378,298,189,109,53,15,15,3,4,39,183,489,615,284,134,157,203,203,171,188,346,769,749,359,75,83,125,74,38,11,5,5,6,36,168,471,644,298,148,173,223,208,175,220,358,740,735,560,410,322,203,132,55,21,9,10,5,40,171,480,653,285,145,166,221,225,167,208,370,704,739,532,439,329,262,178,76,42,15,7,11,30,120,353,660,344,190,220,254,274,249,261,381,697,523,385,294,223,204,175,156,105,91,31,6,5,29,41,118,200,278,296,318,372,363,317,340,259,243,275,255,200,160,156,147,119,86,42,11,7,9,30,96,163,241,281,336,309,314,307,343,314,228,203,199,164,96,66,32,10,11,4,11,40,132,459,619,297,117,125,158,176,159,176,309,669,697,503,388,283,228,139,43,21,6,3,7,31,197,500,618,288,122,146,174,168,160,187,317,675,712,478,375,283,215,139,45,14,5,2,6,41,152,472,624,253,99,136,166,154,116,152,190,335,580,438,310,266,246,112,50,19,7,4,8,35,144,450,625,282,157,162,215,180,151,226,288,678,684,480,440,294,62,62,32,9,14,29,6,40,123,346,652,328,182,161,233,136,176,169,366,620,549,358,216,108,122,148,92,62,55,18,5,10,12,29,94,175,219,225,301,248,222,232,196,149,126,171,163,134,140,117,96,99,90,30,10,6,14,25,122,179,265,314,326,388,360,370,383,368,342,342,254,257,136,90,36,20,14,2,8,48,148,404,691,288,137,129,205,176,189,205,346,760,672,488,347,251,169,98,52,10,10,5,6,45,173,492,694,299,156,156,169,200,196,212,369,775,767,523,438,325,226,154,57,26,11,11,4,54,179,473,745,277,163,202,233,231,159,223,393,783,787,582,461,326,223,187,65,23,16,8,4,40,165,478,680,289,143,143,206,189,151,173,312,628,615,534,399,236,201,127,83,42,18,9,5,34,129,397,642,329,146,184,207,231,221,242,419,598,522,423,269,189,151,155,170,69,76,33,10,10,40,58,127,227,266,295,330,325,308,291,279,280,330,223,154,206,188,156,129,109,79,37,11,14,12,36,90,162,258,326,357,302,291,306,330,367,302,300,228,199,117,82,46,15,6,3,5,43,155,455,720,259,135,146,201,169,167,185,337,765,735,584,384,251,183,116,27,18,8,5,6,40,192,492,730,302,154,170,198,219,188,115,336,726,758,524,397,292,224,127,44,28,13,7,3,46,179,468,649,316,175,180,209,221,175,206,386,734,786,564,448,284,251,134,55,36,8,6,9,37,177,452,718,312,130,167,230,212,171,202,335,775,681,509,376,301,227,152,56,32,14,5,11,35,158,396,636,327,167,186,243,247,229,268,380,646,573,388,300,224,156,170,137,99,64,19,11,16,37,49,132,217,288,315,325,332,289,284,253,313,321,264,195,193,165,161,121,79,68,32,11,18,12,50,81,168,253,282,330,315,365,286,278,260,154,139,140,157,100,58,24,10,5,5,8,23,137,393,578,248,159,152,213,204,188,183,363,746,743,531,368,245,157,97,32,16,7,6,7,33,176,481,664,283,161,130,197,185,185,206,344,743,711,506,374,247,181,120,46,20,5,6,6,40,169,458,689,308,151,159,217,212,173,168,328,751,745,567,424,311,198,120,51,23,12,5,10,37,162,451,670,299,133,166,192,201,161,204,320,699,733,533,387,286,218,137,68,35,14,6,7,29,41,128,112,199,166,178,240,224,236,224,371,619,552,394,315,236,168,159,142,84,66,19,7,9,18,54,132,217,282,296,332,341,290,316,304,292,193,178,129,102,128,121,96,92,67,37,8,9,14,30,84,153,240,282,342,365,366,342,300,319,327,317,204,142,141,85,33,11,8,5,11,33,155,425,648,265,111,151,180,175,163,194,348,716,709,467,374,246,148,100,48,19,9,3,5,35,63,178,591,354,155,127,207,203,175,199,363,734,757,533,371,252,161,114,52,31,7,10,4,35,160,467,642,310,163,155,230,206,161,196,340,749,768,525,355,266,197,120,63,18,15,4,3,30,162,448,649,296,121,191,247,219,176,197,340,767,723,558,414,273,185,168,67,38,15,6,9,34,151,368,625,320,149,205,255,254,200,256,372,647,561,403,262,198,170,100,99,78,39,23,8,7,23,52,161,211,314,356,388,355,356,346,354,379,329,324,242,248,171,175,143,102,103,34,22,8,15,29,90,184,287,189,186,112,108,187,259,267,291,269,213,154,50,39,25,10,5,3,7,35,155,427,618,302,124,151,216,194,188,207,357,810,726,266,231,219,136,92,52,22,7,3,4,30,164,500,696,281,120,195,226,255,192,226,358,786,532,420,296,239,208,113,46,20,10,7,7,38,175,537,703,335,159,196,253,242,184,222,358,711,592,524,332,291,226,113,51,15,11,6,6,36,178,463,662,354,157,192,235,253,191,201,344,709,811,537,404,276,177,133,84,37,15,6,6,37,142,412,703,331,184,212,276,272,229,251,414,695,627,430,297,248,209,140,114,100,61,31,9,10,25,88,133,228,294,314,367,331,332,154,260,271,261,257,176,148,136,124,111,116,104,42,11,13,16,23,112,196,258,332,401,375,252,259,116,172,187,212,171,140,94,59,28,4,8,3,11,32,141,418,670,302,143,182,214,211,180,205,367,744,751,499,366,239,131,79,29,17,13,4,6,39,144,255,668,351,165,171,241,232,179,258,396,774,736,515,348,276,196,92,39,12,4,9,8,37,175,531,780,308,144,186,281,232,214,242,389,762,693,523,378,265,185,123,51,17,14,5,4,33,155,501,701,339,161,191,221,214,199,239,405,751,744,532,403,275,253,133,69,24,11,2,7,27,101,400,654,337,197,221,290,271,324,417,417,488,459,361,254,232,212,142,146,68,61,29,9,20,23,58,134,175,289,273,284,267,274,306,253,258,258,235,140,83,57,88,72,58,56,33,15,10,13,29,99,144,230,263,297,230,208,176,252,284,273,152,41,92,100,70,62,37,30,22,5,3,12,37,91,158,224,272,352,357,349,281,335,317,337,301,183,142,104,58,19,9,4,9,8,37,165,480,617,293,130,159,233,203,202,224,397,746,745,502,338,240,154,83,27,11,9,4,3,39,203,489,692,263,181,156,217,184,177,204,344,780,757,598,357,278,181,126,35,16,7,9,8,35,189,461,622,115,40,52,126,152,178,228,374,741,761,504,356,240,193,150,79,19,10,9,7,39,135,465,690,311,171,215,247,283,187,265,395,684,697,498,340,246,247,220,130,107,68,40,8,13,26,71,197,261,322,405,474,435,366,337,95,119,140,187,166,155,176,121,106,104,81,32,16,39,24,50,143,214,323,391,510,491,415,412,473,458,404,362,265,149,125,70,35,11,6,7,4,36,172,427,697,321,168,167,256,251,233,231,380,744,857,562,356,256,144,86,27,10,5,7,8,41,200,572,702,323,142,187,254,256,181,253,437,802,767,540,421,282,189,91,41,19,9,7,5,44,199,533,727,278,148,181,264,238,200,243,419,811,886,557,432,279,189,111,46,22,9,9,6,54,186,549,725,292,149,183,240,223,214,253,406,787,744,594,408,291,223,137,63,35,23,9,11,40,144,437,715,301,171,196,290,301,258,273,454,757,692,496,337,270,189,168,169,101,75,31,3,15,27,63,169,263,323,399,419,377,390,342,433,434,382,309,241,210,197,182,123,82,62,38,6,10,26,43,94,226,330,376,468,454,410,342,402,393,361,312,267,148,109,85,31,12,8,7,9,44,157,474,647,265,129,191,233,231,203,256,379,740,708,435,308,205,109,66,11,5,4,6,5,45,163,343,640,266,130,115,72,97,116,35,122,302,262,302,271,186,137,67,23,12,3,4,10,54,166,529,758,336,169,203,260,234,227,254,397,812,807,539,378,324,198,106,46,14,9,6,6,52,161,514,746,330,157,206,233,268,222,231,385,885,781,534,360,246,252,137,53,38,8,11,9,47,146,468,726,348,181,242,305,316,299,333,464,739,699,493,315,266,248,163,140,106,73,39,10,15,35,70,197,289,350,437,460,434,404,443,427,451,427,308,249,202,180,137,146,119,77,41,9,5,11,48,137,205,351,384,526,445,400,375,437,496,405,331,192,145,98,70,54,12,8,5,8,35,162,513,719,286,146,167,265,248,226,216,417,809,758,534,380,230,154,83,56,11,9,3,7,46,189,539,764,381,125,155,233,257,213,247,436,860,758,490,388,263,174,89,34,19,15,6,12,35,179,523,808,307,156,181,260,273,217,231,397,876,815,589,389,328,194,102,60,16,13,7,6,64,164,546,774,305,168,227,272,265,214,255,399,818,822,511,412,235,45,44,15,13,9,7,10,37,136,384,674,399,194,252,286,304,294,288,419,707,609,470,304,205,190,164,134,89,80,25,8,13,33,61,174,263,338,446,491,453,448,456,447,456,420,351,227,219,173,161,112,85,71,41,6,9,20,43,126,211,319,369,474,414,404,419,446,380,310,223,163,104,76,49,39,13,6,6,10,34,147,470,744,314,135,196,262,225,193,234,408,791,571,483,251,205,190,88,30,11,2,4,8,42,176,256,128,83,42,92,98,148,147,195,328,677,639,368,286,265,212,87,47,16,7,7,9,32,173,504,781,332,146,178,289,224,195,260,436,833,756,544,449,195,232,199,65,23,10,6,10,37,132,379,711,319,150,176,231,231,211,248,411,789,812,467,391,288,203,137,86,43,10,11,11,41,133,417,749,326,192,214,307,307,287,320,481,742,655,433,306,220,201,148,154,116,62,54,7,8,28,71,184,265,341,389,381,400,307,341,342,342,312,239,172,137,140,142,99,80,64,17,6,8,19,29,51,70,144,260,292,240,243,232,246,122,82,97,97,91,72,68,44,35,12,8,6,17,54,151,374,273,229,236,267,323,299,294,316,416,415,333,207,134,101,60,22,13,5,3,6,19,141,357,698,345,131,156,217,184,201,195,354,733,758,483,330,209,155,76,33,6,6,6,6,38,172,498,806,331,190,238,312,237,208,261,474,857,787,534,371,251,170,119,41,10,7,3,10,42,158,467,773,328,165,175,279,243,270,358,413,737,628,662,388,236,167,176,60,29,16,6,8,33,140,384,711,374,200,252,312,300,262,317,412,706,566,453,280,169,143,89,218,123,60,13,9,11,23,60,151,220,265,335,371,435,354,364,343,335,299,259,198,157,156,98,103,96,58,25,10,6,20,44,104,161,278,338,362,401,368,355,378,346,319,268,198,156,87,78,31,24,5,2,9,38,141,461,713,328,125,175,211,109,128,190,371,670,540,227,237,190,118,72,45,9,1,2,7,47,168,505,800,323,157,172,256,260,214,270,367,839,767,491,397,176,163,176,48,14,12,7,4,39,171,449,779,344,168,156,261,237,188,239,396,766,794,467,360,301,198,84,53,14,13,5,5,41,150,488,803,346,158,189,284,236,191,284,356,788,720,471,348,245,202,111,51,12,9,5,5,35,126,149,447,363,198,211,258,288,277,302,434,377,212,213,216,189,176,118,110,93,69,27,9,7,26,59,164,257,312,408,436,441,376,403,366,384,356,268,198,224,155,136,119,97,88,29,13,4,18,43,104,192,276,356,439,383,405,383,409,338,342,216,160,124,95,59,28,11,4,5,6,44,140,437,696,335,161,148,231,227,209,222,444,838,726,478,382,155,158,143,32,16,6,1,6,49,152,519,733,305,171,201,298,244,229,270,433,871,762,457,334,260,174,102,39,23,6,4,5,52,162,506,777,349,142,189,268,241,237,245,465,876,795,522,396,280,208,111,57,22,15,8,4,53,168,477,746,320,172,181,258,264,214,242,407,774,732,497,319,247,185,122,65,32,15,8,4,47,142,408,714,347,156,222,302,260,252,306,445,692,584,399,271,252,180,159,132,123,71,21,12,7,29,79,187,240,314,388,404,450,425,401,355,370,318,233,238,160,116,136,97,111,99,61,19,22,32,48,118,206,314,352,373,316,304,225,251,188,136,47,51,44,35,12,20,105,118,114,83,105,139,109,76,60,64,36,16,8,7,3,5,24,116,334,615,280,147,152,197,191,179,197,373,684,556,383,259,180,147,94,52,22,10,10,8,39,146,414,668,310,133,156,198,199,154,179,313,652,628,424,280,238,175,112,40,19,7,3,6,25,120,349,656,355,183,179,240,230,199,255,373,581,490,336,207,133,135,108,99,83,36,22,8,8,17,58,132,188,260,284,320,339,319,331,292,298,239,217,158,135,133,133,97,139,31,10,7,5,14,39,115,161,287,311,354,371,360,300,316,270,206,203,134,71,64,41,20,8,4,3,11,38,135,453,629,239,112,119,206,183,165,207,325,604,523,361,228,144,111,53,18,8,2,4,7,40,143,378,568,338,189,177,217,232,196,227,369,597,477,356,218,137,136,186,234,86,68,9,9,27,115,314,583,351,151,132,188,158,142,178,250,501,448,302,249,121,56,37,14,11,5,9,35,122,411,652,253,148,155,202,195,149,201,321,556,491,359,235,222,147,82,46,17,11,6,14,25,126,332,668,304,163,185,214,237,207,278,377,593,450,331,235,176,146,142,106,68,42,11,4,9,11,57,130,216,264,323,348,383,347,351,378,318,256,228,153,169,154,120,110,82,58,39,6,12,16,56,87,179,272,324,390,424,362,420,393,342,303,208,146,127,113,93,43,26,14,3,3,23,64,248,490,337,184,255,314,312,310,280,347,530,486,323,273,145,100,62,18,5,4,3,9,18,48,106,207,109,84,133,180,188,169,184,282,575,514,344,211,178,120,78,20,10,1,5,6,39,142,405,664,310,153,126,200,182,161,228,290,564,543,368,252,208,167,78,33,14,7,2,5,34,146,403,625,306,142,138,184,197,174,191,318,541,563,375,262,204,143,118,58,16,9,6,5,34,126,362,694,330,165,185,262,226,204,237,350,539,483,306,207,157,139,114,95,74,41,19,6,10,21,70,138,200,258,343,359,346,380,374,325,302,237,208,142,124,130,114,118,81,65,37,8,7,13,39,100,155,250,267,341,334,303,318,313,232,240,194,120,93,66,53,22,19,5,2,11,38,128,381,650,260,106,164,207,205,170,213,325,586,559,381,252,188,106,72,26,10,5,2,6,32,146,411,649,298,144,160,243,218,177,226,335,553,534,361,224,143,115,82,25,13,6,2,10,28,99,262,539,320,150,198,270,295,329,381,410,333,287,220,125,97,82,50,43,37,15,6,2,6,15,49,77,94,154,143,145,144,95,96,81,43,54,31,37,39,36,28,32,11,4,0,3,10,20,72,83,80,114,130,193,200,195,214,199,183,158,121,100,75,63,47,33,19,22,5,2,2,9,21,55,96,96,131,146,161,149,139,127,97,123,74,55,66,69,48,31,32,27,8,1,3,10,19,32,83,124,155,165,158,170,209,203,170,132,114,110,60,59,40,19,9,5,4,10,41,123,363,629,276,127,112,188,197,177,181,297,540,502,355,265,172,101,57,24,6,5,3,5,31,97,289,494,257,52,59,70,73,86,146,252,514,469,338,228,179,95,64,22,12,1,3,4,39,132,403,683,309,144,127,189,193,161,172,316,546,530,378,258,219,148,73,25,15,6,7,42,120,354,664,286,153,150,225,209,174,201,346,544,520,326,241,201,147,124,48,17,10,4,3,39,104,346,709,313,159,170,243,241,225,262,368,551,489,359,233,169,145,99,99,64,47,14,5,12,20,56,133,159,211,318,327,386,369,371,354,270,255,219,170,135,130,116,108,84,72,21,6,7,15,26,81,135,230,274,409,347,331,311,358,244,178,158,142,91,85,44,18,11,9,6,4,38,136,387,712,289,105,182,228,240,209,210,397,665,666,444,284,207,139,93,49,22,5,3,7,45,150,495,700,317,130,183,273,233,231,244,391,700,693,414,272,252,155,91,31,11,7,7,9,48,119,389,737,362,127,161,208,200,179,265,354,576,580,400,274,184,101,69,43,16,9,2,8,32,122,381,646,257,122,162,206,212,175,232,292,586,542,360,222,184,131,93,45,26,11,5,10,25,84,212,430,291,150,183,204,197,175,269,336,539,473,337,229,162,150,116,98,84,67,23,9,4,19,36,106,153,244,341,364,399,378,374,368,268,264,212,162,175,137,144,103,85,70,34,11,8,6,22,68,94,180,210,255,220,190,200,220,209,181,110,102,86,75,48,20,4,3,4,9,27,121,291,575,273,121,126,150,190,179,207,308,578,544,409,287,224,115,76,29,7,1,3,8,40,118,372,708,322,142,145,213,226,185,250,334,580,523,412,248,193,100,60,33,18,4,7,4,37,126,366,670,272,116,148,218,220,191,207,310,540,515,384,243,186,118,76,31,19,5,2,8,31,112,380,655,300,139,164,252,230,211,240,356,507,446,328,235,200,141,115,43,26,6,12,9,34,112,305,623,330,162,180,244,274,251,252,372,582,432,302,209,165,134,123,90,86,63,18,5,3,11,47,111,203,250,327,364,368,334,352,328,274,232,225,178,169,134,108,102,82,79,37,10,9,6,22,76,113,215,248,350,289,260,292,334,214,99,99,108,92,83,29,26,14,4,3,3,24,107,314,582,271,120,148,211,194,169,196,287,478,493,333,192,114,49,41,18,15,5,5,5,36,117,351,652,307,162,211,264,235,191,218,323,533,512,334,264,159,127,80,35,14,2,5,6,29,109,360,665,309,147,169,203,183,185,209,297,536,546,329,231,164,117,84,40,19,6,3,6,35,114,346,585,303,138,168,181,171,171,216,281,450,359,115,49,25,20,13,17,7,3,3,5,13,76,205,464,265,146,150,199,214,199,234,253,297,236,148,104,68,57,39,30,34,23,7,2,5,13,18,29,77,105,130,128,135,141,139,124,99,75,51,55,49,38,37,24,19,17,9,3,6,5,16,43,49,67,104,144,123,118,98,137,93,85,54,52,38,53,22,12,11,5,2,9,16,27,62,68,82,104,113,54,33,27,27,19,20,14,17,9,5,10,10,13,7,1,1,6,6,10,21,21,43,52,46,68,56,38,34,23,20,29,26,16,26,8,7,1,2,2,11,36,26,31,22,8,10,10,15,20,13,13,51,42,33,32,20,11,8,3,5,2,1,3,10,45,90,206,127,67,80,87,99,94,89,151,227,188,106,79,51,33,24,22,9,5,2,4,15,49,111,238,173,85,107,150,146,177,151,208,228,197,113,83,75,49,54,25,31,18,5,3,3,7,17,35,33,35,38,43,71,88,110,125,100,102,90,64,56,51,32,41,27,19,14,7,2,7,13,32,65,91,103,97,120,121,101,102,97,113,86,63,42,30,39,30,13,8,1,3,9,40,83,187,144,87,114,172,165,185,246,184,150,112,108,81,83,48,37],\"xaxis\":\"x2\",\"yaxis\":\"y2\",\"type\":\"box\"}],                        {\"template\":{\"data\":{\"bar\":[{\"error_x\":{\"color\":\"#2a3f5f\"},\"error_y\":{\"color\":\"#2a3f5f\"},\"marker\":{\"line\":{\"color\":\"#E5ECF6\",\"width\":0.5},\"pattern\":{\"fillmode\":\"overlay\",\"size\":10,\"solidity\":0.2}},\"type\":\"bar\"}],\"barpolar\":[{\"marker\":{\"line\":{\"color\":\"#E5ECF6\",\"width\":0.5},\"pattern\":{\"fillmode\":\"overlay\",\"size\":10,\"solidity\":0.2}},\"type\":\"barpolar\"}],\"carpet\":[{\"aaxis\":{\"endlinecolor\":\"#2a3f5f\",\"gridcolor\":\"white\",\"linecolor\":\"white\",\"minorgridcolor\":\"white\",\"startlinecolor\":\"#2a3f5f\"},\"baxis\":{\"endlinecolor\":\"#2a3f5f\",\"gridcolor\":\"white\",\"linecolor\":\"white\",\"minorgridcolor\":\"white\",\"startlinecolor\":\"#2a3f5f\"},\"type\":\"carpet\"}],\"choropleth\":[{\"colorbar\":{\"outlinewidth\":0,\"ticks\":\"\"},\"type\":\"choropleth\"}],\"contour\":[{\"colorbar\":{\"outlinewidth\":0,\"ticks\":\"\"},\"colorscale\":[[0.0,\"#0d0887\"],[0.1111111111111111,\"#46039f\"],[0.2222222222222222,\"#7201a8\"],[0.3333333333333333,\"#9c179e\"],[0.4444444444444444,\"#bd3786\"],[0.5555555555555556,\"#d8576b\"],[0.6666666666666666,\"#ed7953\"],[0.7777777777777778,\"#fb9f3a\"],[0.8888888888888888,\"#fdca26\"],[1.0,\"#f0f921\"]],\"type\":\"contour\"}],\"contourcarpet\":[{\"colorbar\":{\"outlinewidth\":0,\"ticks\":\"\"},\"type\":\"contourcarpet\"}],\"heatmap\":[{\"colorbar\":{\"outlinewidth\":0,\"ticks\":\"\"},\"colorscale\":[[0.0,\"#0d0887\"],[0.1111111111111111,\"#46039f\"],[0.2222222222222222,\"#7201a8\"],[0.3333333333333333,\"#9c179e\"],[0.4444444444444444,\"#bd3786\"],[0.5555555555555556,\"#d8576b\"],[0.6666666666666666,\"#ed7953\"],[0.7777777777777778,\"#fb9f3a\"],[0.8888888888888888,\"#fdca26\"],[1.0,\"#f0f921\"]],\"type\":\"heatmap\"}],\"heatmapgl\":[{\"colorbar\":{\"outlinewidth\":0,\"ticks\":\"\"},\"colorscale\":[[0.0,\"#0d0887\"],[0.1111111111111111,\"#46039f\"],[0.2222222222222222,\"#7201a8\"],[0.3333333333333333,\"#9c179e\"],[0.4444444444444444,\"#bd3786\"],[0.5555555555555556,\"#d8576b\"],[0.6666666666666666,\"#ed7953\"],[0.7777777777777778,\"#fb9f3a\"],[0.8888888888888888,\"#fdca26\"],[1.0,\"#f0f921\"]],\"type\":\"heatmapgl\"}],\"histogram\":[{\"marker\":{\"pattern\":{\"fillmode\":\"overlay\",\"size\":10,\"solidity\":0.2}},\"type\":\"histogram\"}],\"histogram2d\":[{\"colorbar\":{\"outlinewidth\":0,\"ticks\":\"\"},\"colorscale\":[[0.0,\"#0d0887\"],[0.1111111111111111,\"#46039f\"],[0.2222222222222222,\"#7201a8\"],[0.3333333333333333,\"#9c179e\"],[0.4444444444444444,\"#bd3786\"],[0.5555555555555556,\"#d8576b\"],[0.6666666666666666,\"#ed7953\"],[0.7777777777777778,\"#fb9f3a\"],[0.8888888888888888,\"#fdca26\"],[1.0,\"#f0f921\"]],\"type\":\"histogram2d\"}],\"histogram2dcontour\":[{\"colorbar\":{\"outlinewidth\":0,\"ticks\":\"\"},\"colorscale\":[[0.0,\"#0d0887\"],[0.1111111111111111,\"#46039f\"],[0.2222222222222222,\"#7201a8\"],[0.3333333333333333,\"#9c179e\"],[0.4444444444444444,\"#bd3786\"],[0.5555555555555556,\"#d8576b\"],[0.6666666666666666,\"#ed7953\"],[0.7777777777777778,\"#fb9f3a\"],[0.8888888888888888,\"#fdca26\"],[1.0,\"#f0f921\"]],\"type\":\"histogram2dcontour\"}],\"mesh3d\":[{\"colorbar\":{\"outlinewidth\":0,\"ticks\":\"\"},\"type\":\"mesh3d\"}],\"parcoords\":[{\"line\":{\"colorbar\":{\"outlinewidth\":0,\"ticks\":\"\"}},\"type\":\"parcoords\"}],\"pie\":[{\"automargin\":true,\"type\":\"pie\"}],\"scatter\":[{\"marker\":{\"colorbar\":{\"outlinewidth\":0,\"ticks\":\"\"}},\"type\":\"scatter\"}],\"scatter3d\":[{\"line\":{\"colorbar\":{\"outlinewidth\":0,\"ticks\":\"\"}},\"marker\":{\"colorbar\":{\"outlinewidth\":0,\"ticks\":\"\"}},\"type\":\"scatter3d\"}],\"scattercarpet\":[{\"marker\":{\"colorbar\":{\"outlinewidth\":0,\"ticks\":\"\"}},\"type\":\"scattercarpet\"}],\"scattergeo\":[{\"marker\":{\"colorbar\":{\"outlinewidth\":0,\"ticks\":\"\"}},\"type\":\"scattergeo\"}],\"scattergl\":[{\"marker\":{\"colorbar\":{\"outlinewidth\":0,\"ticks\":\"\"}},\"type\":\"scattergl\"}],\"scattermapbox\":[{\"marker\":{\"colorbar\":{\"outlinewidth\":0,\"ticks\":\"\"}},\"type\":\"scattermapbox\"}],\"scatterpolar\":[{\"marker\":{\"colorbar\":{\"outlinewidth\":0,\"ticks\":\"\"}},\"type\":\"scatterpolar\"}],\"scatterpolargl\":[{\"marker\":{\"colorbar\":{\"outlinewidth\":0,\"ticks\":\"\"}},\"type\":\"scatterpolargl\"}],\"scatterternary\":[{\"marker\":{\"colorbar\":{\"outlinewidth\":0,\"ticks\":\"\"}},\"type\":\"scatterternary\"}],\"surface\":[{\"colorbar\":{\"outlinewidth\":0,\"ticks\":\"\"},\"colorscale\":[[0.0,\"#0d0887\"],[0.1111111111111111,\"#46039f\"],[0.2222222222222222,\"#7201a8\"],[0.3333333333333333,\"#9c179e\"],[0.4444444444444444,\"#bd3786\"],[0.5555555555555556,\"#d8576b\"],[0.6666666666666666,\"#ed7953\"],[0.7777777777777778,\"#fb9f3a\"],[0.8888888888888888,\"#fdca26\"],[1.0,\"#f0f921\"]],\"type\":\"surface\"}],\"table\":[{\"cells\":{\"fill\":{\"color\":\"#EBF0F8\"},\"line\":{\"color\":\"white\"}},\"header\":{\"fill\":{\"color\":\"#C8D4E3\"},\"line\":{\"color\":\"white\"}},\"type\":\"table\"}]},\"layout\":{\"annotationdefaults\":{\"arrowcolor\":\"#2a3f5f\",\"arrowhead\":0,\"arrowwidth\":1},\"autotypenumbers\":\"strict\",\"coloraxis\":{\"colorbar\":{\"outlinewidth\":0,\"ticks\":\"\"}},\"colorscale\":{\"diverging\":[[0,\"#8e0152\"],[0.1,\"#c51b7d\"],[0.2,\"#de77ae\"],[0.3,\"#f1b6da\"],[0.4,\"#fde0ef\"],[0.5,\"#f7f7f7\"],[0.6,\"#e6f5d0\"],[0.7,\"#b8e186\"],[0.8,\"#7fbc41\"],[0.9,\"#4d9221\"],[1,\"#276419\"]],\"sequential\":[[0.0,\"#0d0887\"],[0.1111111111111111,\"#46039f\"],[0.2222222222222222,\"#7201a8\"],[0.3333333333333333,\"#9c179e\"],[0.4444444444444444,\"#bd3786\"],[0.5555555555555556,\"#d8576b\"],[0.6666666666666666,\"#ed7953\"],[0.7777777777777778,\"#fb9f3a\"],[0.8888888888888888,\"#fdca26\"],[1.0,\"#f0f921\"]],\"sequentialminus\":[[0.0,\"#0d0887\"],[0.1111111111111111,\"#46039f\"],[0.2222222222222222,\"#7201a8\"],[0.3333333333333333,\"#9c179e\"],[0.4444444444444444,\"#bd3786\"],[0.5555555555555556,\"#d8576b\"],[0.6666666666666666,\"#ed7953\"],[0.7777777777777778,\"#fb9f3a\"],[0.8888888888888888,\"#fdca26\"],[1.0,\"#f0f921\"]]},\"colorway\":[\"#636efa\",\"#EF553B\",\"#00cc96\",\"#ab63fa\",\"#FFA15A\",\"#19d3f3\",\"#FF6692\",\"#B6E880\",\"#FF97FF\",\"#FECB52\"],\"font\":{\"color\":\"#2a3f5f\"},\"geo\":{\"bgcolor\":\"white\",\"lakecolor\":\"white\",\"landcolor\":\"#E5ECF6\",\"showlakes\":true,\"showland\":true,\"subunitcolor\":\"white\"},\"hoverlabel\":{\"align\":\"left\"},\"hovermode\":\"closest\",\"mapbox\":{\"style\":\"light\"},\"paper_bgcolor\":\"white\",\"plot_bgcolor\":\"#E5ECF6\",\"polar\":{\"angularaxis\":{\"gridcolor\":\"white\",\"linecolor\":\"white\",\"ticks\":\"\"},\"bgcolor\":\"#E5ECF6\",\"radialaxis\":{\"gridcolor\":\"white\",\"linecolor\":\"white\",\"ticks\":\"\"}},\"scene\":{\"xaxis\":{\"backgroundcolor\":\"#E5ECF6\",\"gridcolor\":\"white\",\"gridwidth\":2,\"linecolor\":\"white\",\"showbackground\":true,\"ticks\":\"\",\"zerolinecolor\":\"white\"},\"yaxis\":{\"backgroundcolor\":\"#E5ECF6\",\"gridcolor\":\"white\",\"gridwidth\":2,\"linecolor\":\"white\",\"showbackground\":true,\"ticks\":\"\",\"zerolinecolor\":\"white\"},\"zaxis\":{\"backgroundcolor\":\"#E5ECF6\",\"gridcolor\":\"white\",\"gridwidth\":2,\"linecolor\":\"white\",\"showbackground\":true,\"ticks\":\"\",\"zerolinecolor\":\"white\"}},\"shapedefaults\":{\"line\":{\"color\":\"#2a3f5f\"}},\"ternary\":{\"aaxis\":{\"gridcolor\":\"white\",\"linecolor\":\"white\",\"ticks\":\"\"},\"baxis\":{\"gridcolor\":\"white\",\"linecolor\":\"white\",\"ticks\":\"\"},\"bgcolor\":\"#E5ECF6\",\"caxis\":{\"gridcolor\":\"white\",\"linecolor\":\"white\",\"ticks\":\"\"}},\"title\":{\"x\":0.05},\"xaxis\":{\"automargin\":true,\"gridcolor\":\"white\",\"linecolor\":\"white\",\"ticks\":\"\",\"title\":{\"standoff\":15},\"zerolinecolor\":\"white\",\"zerolinewidth\":2},\"yaxis\":{\"automargin\":true,\"gridcolor\":\"white\",\"linecolor\":\"white\",\"ticks\":\"\",\"title\":{\"standoff\":15},\"zerolinecolor\":\"white\",\"zerolinewidth\":2}}},\"xaxis\":{\"anchor\":\"y\",\"domain\":[0.0,1.0],\"title\":{\"text\":\"registered\"}},\"yaxis\":{\"anchor\":\"x\",\"domain\":[0.0,0.8316],\"title\":{\"text\":\"count\"}},\"xaxis2\":{\"anchor\":\"y2\",\"domain\":[0.0,1.0],\"matches\":\"x\",\"showticklabels\":false,\"showgrid\":true},\"yaxis2\":{\"anchor\":\"x2\",\"domain\":[0.8416,1.0],\"matches\":\"y2\",\"showticklabels\":false,\"showline\":false,\"ticks\":\"\",\"showgrid\":false},\"legend\":{\"tracegroupgap\":0},\"margin\":{\"t\":60},\"barmode\":\"relative\"},                        {\"responsive\": true}                    ).then(function(){\n",
              "                            \n",
              "var gd = document.getElementById('33a089b9-2e86-4ffb-9ecd-5861e6e44c52');\n",
              "var x = new MutationObserver(function (mutations, observer) {{\n",
              "        var display = window.getComputedStyle(gd).display;\n",
              "        if (!display || display === 'none') {{\n",
              "            console.log([gd, 'removed!']);\n",
              "            Plotly.purge(gd);\n",
              "            observer.disconnect();\n",
              "        }}\n",
              "}});\n",
              "\n",
              "// Listen for the removal of the full notebook cells\n",
              "var notebookContainer = gd.closest('#notebook-container');\n",
              "if (notebookContainer) {{\n",
              "    x.observe(notebookContainer, {childList: true});\n",
              "}}\n",
              "\n",
              "// Listen for the clearing of the current output cell\n",
              "var outputEl = gd.closest('.output');\n",
              "if (outputEl) {{\n",
              "    x.observe(outputEl, {childList: true});\n",
              "}}\n",
              "\n",
              "                        })                };                            </script>        </div>\n",
              "</body>\n",
              "</html>"
            ]
          },
          "metadata": {}
        }
      ]
    },
    {
      "cell_type": "markdown",
      "source": [
        "**Scatter Plot**"
      ],
      "metadata": {
        "id": "75dDVbbA2LQh"
      }
    },
    {
      "cell_type": "markdown",
      "source": [
        "No gráfico Scatter Plot, estamos correlacionando a quantidade de aluguéis por hora e quantos desses aluguéis foram por usuários já registrados, nele podemos ver uma correlação do tipo linear, ou seja, quanto mais aluguéis tiver por hora mais desses serão por usuários já registrados, apesar de que os dados tenham uma dispersão entre 600 e 800 no eixo x, após isso ele agrupa denovo os dados e continuam seguindo uma linear."
      ],
      "metadata": {
        "id": "bLkwmn2xCP_n"
      }
    },
    {
      "cell_type": "code",
      "source": [
        "plt.scatter(dataset['cnt'], dataset['registered'])\n",
        "plt.title('Quantidade de aluguéis x Aluguéis por usuários registrados')\n",
        "plt.xlabel('Quantidade de aluguéis')\n",
        "plt.ylabel('Aluguéis por usuários registrados')\n",
        "plt.show()"
      ],
      "metadata": {
        "colab": {
          "base_uri": "https://localhost:8080/",
          "height": 296
        },
        "id": "VVUom4Zx0XVN",
        "outputId": "abde3049-fb53-4f6b-e40e-c7800bffb65f"
      },
      "execution_count": null,
      "outputs": [
        {
          "output_type": "display_data",
          "data": {
            "text/plain": [
              "<Figure size 432x288 with 1 Axes>"
            ],
            "image/png": "[encoded data removed]"
          },
          "metadata": {
            "needs_background": "light"
          }
        }
      ]
    },
    {
      "cell_type": "markdown",
      "source": [
        "**Heatmap**"
      ],
      "metadata": {
        "id": "rwF0al_12QBf"
      }
    },
    {
      "cell_type": "markdown",
      "source": [
        "O Heatmap é um gráfico que correlaciona as variáveis e indica o quanto a correlação se aproxima de uma linear, ele indica por meio de valores que variam de -1 até 1. Quanto mais próximo o valor da correlação for de 1, mais próximo se aproximará de uma correlação linear, o gráfico indica por cores os níveis de cada correlação, variando a intensidade das cores de acordo com seu valor e seguindo o padrão que está na legenda.\n"
      ],
      "metadata": {
        "id": "veINCOWf6Efl"
      }
    },
    {
      "cell_type": "code",
      "source": [
        "import seaborn as sns\n"
      ],
      "metadata": {
        "id": "cNFTaj9Et1vo"
      },
      "execution_count": null,
      "outputs": []
    },
    {
      "cell_type": "code",
      "source": [
        "bikes = dataset[['season', 'holiday', 'workingday', 'weathersit', 'temp','atemp', 'hum', 'windspeed', 'casual', 'registered', 'cnt']]\n",
        "sns.heatmap(bikes.corr(), annot=True, cmap = \"plasma\").set_title('Correlação')\n",
        "plt.tight_layout()\n",
        "plt.show()"
      ],
      "metadata": {
        "colab": {
          "base_uri": "https://localhost:8080/",
          "height": 297
        },
        "id": "nIRnpIVjnpqS",
        "outputId": "ba4868de-2feb-49a3-f4d6-88b83aed1f1e"
      },
      "execution_count": null,
      "outputs": [
        {
          "output_type": "display_data",
          "data": {
            "text/plain": [
              "<Figure size 432x288 with 2 Axes>"
            ],
            "image/png": "[encoded data removed]"
          },
          "metadata": {
            "needs_background": "light"
          }
        }
      ]
    },
    {
      "cell_type": "markdown",
      "source": [
        "##**Distribuição Amostral**"
      ],
      "metadata": {
        "id": "V3IT5oCY55Bw"
      }
    },
    {
      "cell_type": "markdown",
      "source": [
        "Na distribuição amostral, utilizamos os dados do dataset da coluna de quantidade de aluguéis por hora, agrupados em amostras, e podemos ver que como diz o teorema dos grandes números, quanto maior for quantidade dea amostra mais a distribuição amostral se assemelhará a uma normal, como vemos nos gráficos que o último tem a maior quantidade amostra e ele que mais se assemelha a normal."
      ],
      "metadata": {
        "id": "o50hXyFTFk9f"
      }
    },
    {
      "cell_type": "code",
      "source": [
        "from numpy import mean\n",
        "from matplotlib import pyplot\n",
        "\n",
        "for j in range(5000, 17379, 5000):\n",
        "  means = [mean(dataset['cnt'][:i]) for i in range(j)]\n",
        "\n",
        "  pyplot.hist(means)\n",
        "  pyplot.show()"
      ],
      "metadata": {
        "colab": {
          "base_uri": "https://localhost:8080/",
          "height": 761
        },
        "id": "8vZqeq5E5-Sf",
        "outputId": "ff845f91-9f43-40a2-e9e5-919527dd12b0"
      },
      "execution_count": null,
      "outputs": [
        {
          "output_type": "display_data",
          "data": {
            "text/plain": [
              "<Figure size 432x288 with 1 Axes>"
            ],
            "image/png": "[encoded data removed]"
          },
          "metadata": {
            "needs_background": "light"
          }
        },
        {
          "output_type": "display_data",
          "data": {
            "text/plain": [
              "<Figure size 432x288 with 1 Axes>"
            ],
            "image/png": "[encoded data removed]"
          },
          "metadata": {
            "needs_background": "light"
          }
        },
        {
          "output_type": "display_data",
          "data": {
            "text/plain": [
              "<Figure size 432x288 with 1 Axes>"
            ],
            "image/png": "[encoded data removed]"
          },
          "metadata": {
            "needs_background": "light"
          }
        }
      ]
    }
  ]
}